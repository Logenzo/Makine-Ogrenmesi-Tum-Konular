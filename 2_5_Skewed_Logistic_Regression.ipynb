{
  "nbformat": 4,
  "nbformat_minor": 0,
  "metadata": {
    "colab": {
      "provenance": []
    },
    "kernelspec": {
      "name": "python3",
      "display_name": "Python 3"
    },
    "language_info": {
      "name": "python"
    }
  },
  "cells": [
    {
      "cell_type": "code",
      "execution_count": 1,
      "metadata": {
        "id": "RnaGK9h-TxWa"
      },
      "outputs": [],
      "source": [
        "import numpy as np \n",
        "import pandas as pd\n",
        "import matplotlib.pyplot as plt\n",
        "%matplotlib inline"
      ]
    },
    {
      "cell_type": "markdown",
      "source": [
        "***Sentetik sınıflandırma verileri oluşturmak için scikit-learn'in yerleşik make_classification yöntemini kullanın***"
      ],
      "metadata": {
        "id": "x7RvL5JSUH5H"
      }
    },
    {
      "cell_type": "code",
      "source": [
        "from sklearn.datasets import make_classification"
      ],
      "metadata": {
        "id": "UhCabcgjUFi9"
      },
      "execution_count": 2,
      "outputs": []
    },
    {
      "cell_type": "markdown",
      "source": [
        "***İki bilgilendirici özellik (Sıcaklık, Nem) ve bir yedek özellik 'Suç' kullandım***"
      ],
      "metadata": {
        "id": "ycL2S825UYWO"
      }
    },
    {
      "cell_type": "code",
      "source": [
        "X,y = make_classification(n_samples=35040, n_classes=2, n_features=3, n_informative=2, n_redundant=1,\n",
        "                          weights=[0.999, 0.001], class_sep=1.0)"
      ],
      "metadata": {
        "id": "OVgQDsvnUXos"
      },
      "execution_count": 3,
      "outputs": []
    },
    {
      "cell_type": "code",
      "source": [
        "df = pd.DataFrame(data = X, columns=['Temp', 'Humidity', 'Crime'])"
      ],
      "metadata": {
        "id": "jw70seRTU9tc"
      },
      "execution_count": 4,
      "outputs": []
    },
    {
      "cell_type": "code",
      "source": [
        "df['y'] = y"
      ],
      "metadata": {
        "id": "rqceHVrOVFh8"
      },
      "execution_count": 5,
      "outputs": []
    },
    {
      "cell_type": "code",
      "source": [
        "df['Temp'] = df['Temp']-min(df['Temp'])\n",
        "maxt = max(df['Temp'])\n",
        "df['Temp']=90*df['Temp']/maxt"
      ],
      "metadata": {
        "id": "gBFIOMCjVHU8"
      },
      "execution_count": 7,
      "outputs": []
    },
    {
      "cell_type": "code",
      "source": [
        "df['Humidity'] = df['Humidity']-min(df['Humidity'])\n",
        "maxh = max(df['Humidity'])\n",
        "df['Humidity'] = 100*df['Humidity']/maxh"
      ],
      "metadata": {
        "id": "8gOkIN2DVbEr"
      },
      "execution_count": 9,
      "outputs": []
    },
    {
      "cell_type": "code",
      "source": [
        "df['Crime'] = df['Crime']-min(df['Crime'])\n",
        "maxc = max(df['Crime'])\n",
        "df['Crime'] = 10*df['Crime']/maxc"
      ],
      "metadata": {
        "id": "QajCWkqIVzzL"
      },
      "execution_count": 10,
      "outputs": []
    },
    {
      "cell_type": "code",
      "source": [
        "df.hist('Temp')"
      ],
      "metadata": {
        "colab": {
          "base_uri": "https://localhost:8080/",
          "height": 298
        },
        "id": "9nnRIs8RWTlr",
        "outputId": "a58c6e8a-3884-4305-b30f-b8c4f4ff1dce"
      },
      "execution_count": 11,
      "outputs": [
        {
          "output_type": "execute_result",
          "data": {
            "text/plain": [
              "array([[<AxesSubplot:title={'center':'Temp'}>]], dtype=object)"
            ]
          },
          "metadata": {},
          "execution_count": 11
        },
        {
          "output_type": "display_data",
          "data": {
            "text/plain": [
              "<Figure size 432x288 with 1 Axes>"
            ],
            "image/png": "[encoded data removed]"
          },
          "metadata": {
            "needs_background": "light"
          }
        }
      ]
    },
    {
      "cell_type": "code",
      "source": [
        "df.hist('Humidity')"
      ],
      "metadata": {
        "colab": {
          "base_uri": "https://localhost:8080/",
          "height": 298
        },
        "id": "KAB__PiiWfxC",
        "outputId": "c17b90c5-0145-49ac-fb1b-4fa1f13806e9"
      },
      "execution_count": 12,
      "outputs": [
        {
          "output_type": "execute_result",
          "data": {
            "text/plain": [
              "array([[<AxesSubplot:title={'center':'Humidity'}>]], dtype=object)"
            ]
          },
          "metadata": {},
          "execution_count": 12
        },
        {
          "output_type": "display_data",
          "data": {
            "text/plain": [
              "<Figure size 432x288 with 1 Axes>"
            ],
            "image/png": "[encoded data removed]"
          },
          "metadata": {
            "needs_background": "light"
          }
        }
      ]
    },
    {
      "cell_type": "code",
      "source": [
        "df.hist('Crime')"
      ],
      "metadata": {
        "colab": {
          "base_uri": "https://localhost:8080/",
          "height": 298
        },
        "id": "vM-O_4jhWi_d",
        "outputId": "e0f822e7-4cf9-4bd6-ac42-e1558d70bf59"
      },
      "execution_count": 13,
      "outputs": [
        {
          "output_type": "execute_result",
          "data": {
            "text/plain": [
              "array([[<AxesSubplot:title={'center':'Crime'}>]], dtype=object)"
            ]
          },
          "metadata": {},
          "execution_count": 13
        },
        {
          "output_type": "display_data",
          "data": {
            "text/plain": [
              "<Figure size 432x288 with 1 Axes>"
            ],
            "image/png": "[encoded data removed]"
          },
          "metadata": {
            "needs_background": "light"
          }
        }
      ]
    },
    {
      "cell_type": "markdown",
      "source": [
        "***Pozitif örneklerin sayısını saymak için df['y']==1 ile Boole dizisi üzerinde bir toplam alın***"
      ],
      "metadata": {
        "id": "3fSERDTnWwL2"
      }
    },
    {
      "cell_type": "code",
      "source": [
        "sum(df['y']==1)"
      ],
      "metadata": {
        "colab": {
          "base_uri": "https://localhost:8080/"
        },
        "id": "OYEeAav9Ws9q",
        "outputId": "b0fd3ef9-c328-4fe5-a2d1-afb1942b9179"
      },
      "execution_count": 15,
      "outputs": [
        {
          "output_type": "execute_result",
          "data": {
            "text/plain": [
              "194"
            ]
          },
          "metadata": {},
          "execution_count": 15
        }
      ]
    },
    {
      "cell_type": "code",
      "source": [
        "df.head(10)"
      ],
      "metadata": {
        "colab": {
          "base_uri": "https://localhost:8080/",
          "height": 363
        },
        "id": "MX58EiOuW2Ai",
        "outputId": "7cd3554f-97a6-44e2-9218-5f38d5b38358"
      },
      "execution_count": 16,
      "outputs": [
        {
          "output_type": "execute_result",
          "data": {
            "text/plain": [
              "        Temp   Humidity     Crime  y\n",
              "0  47.889480  25.528496  6.725909  0\n",
              "1  40.033881  52.059180  2.837829  0\n",
              "2  35.154033  25.489128  5.466759  0\n",
              "3  36.248604  29.223258  5.137854  0\n",
              "4  29.000905  15.327053  6.046844  0\n",
              "5  48.566449  70.173322  1.562131  0\n",
              "6  39.723631  24.302892  6.059198  0\n",
              "7  43.432857  57.672352  2.517431  0\n",
              "8  34.131508  21.260541  5.860747  0\n",
              "9  33.107061  21.468470  5.734727  0"
            ],
            "text/html": [
              "\n",
              "  <div id=\"df-1d4ed236-41dd-454a-b57a-c42d2443fd5b\">\n",
              "    <div class=\"colab-df-container\">\n",
              "      <div>\n",
              "<style scoped>\n",
              "    .dataframe tbody tr th:only-of-type {\n",
              "        vertical-align: middle;\n",
              "    }\n",
              "\n",
              "    .dataframe tbody tr th {\n",
              "        vertical-align: top;\n",
              "    }\n",
              "\n",
              "    .dataframe thead th {\n",
              "        text-align: right;\n",
              "    }\n",
              "</style>\n",
              "<table border=\"1\" class=\"dataframe\">\n",
              "  <thead>\n",
              "    <tr style=\"text-align: right;\">\n",
              "      <th></th>\n",
              "      <th>Temp</th>\n",
              "      <th>Humidity</th>\n",
              "      <th>Crime</th>\n",
              "      <th>y</th>\n",
              "    </tr>\n",
              "  </thead>\n",
              "  <tbody>\n",
              "    <tr>\n",
              "      <th>0</th>\n",
              "      <td>47.889480</td>\n",
              "      <td>25.528496</td>\n",
              "      <td>6.725909</td>\n",
              "      <td>0</td>\n",
              "    </tr>\n",
              "    <tr>\n",
              "      <th>1</th>\n",
              "      <td>40.033881</td>\n",
              "      <td>52.059180</td>\n",
              "      <td>2.837829</td>\n",
              "      <td>0</td>\n",
              "    </tr>\n",
              "    <tr>\n",
              "      <th>2</th>\n",
              "      <td>35.154033</td>\n",
              "      <td>25.489128</td>\n",
              "      <td>5.466759</td>\n",
              "      <td>0</td>\n",
              "    </tr>\n",
              "    <tr>\n",
              "      <th>3</th>\n",
              "      <td>36.248604</td>\n",
              "      <td>29.223258</td>\n",
              "      <td>5.137854</td>\n",
              "      <td>0</td>\n",
              "    </tr>\n",
              "    <tr>\n",
              "      <th>4</th>\n",
              "      <td>29.000905</td>\n",
              "      <td>15.327053</td>\n",
              "      <td>6.046844</td>\n",
              "      <td>0</td>\n",
              "    </tr>\n",
              "    <tr>\n",
              "      <th>5</th>\n",
              "      <td>48.566449</td>\n",
              "      <td>70.173322</td>\n",
              "      <td>1.562131</td>\n",
              "      <td>0</td>\n",
              "    </tr>\n",
              "    <tr>\n",
              "      <th>6</th>\n",
              "      <td>39.723631</td>\n",
              "      <td>24.302892</td>\n",
              "      <td>6.059198</td>\n",
              "      <td>0</td>\n",
              "    </tr>\n",
              "    <tr>\n",
              "      <th>7</th>\n",
              "      <td>43.432857</td>\n",
              "      <td>57.672352</td>\n",
              "      <td>2.517431</td>\n",
              "      <td>0</td>\n",
              "    </tr>\n",
              "    <tr>\n",
              "      <th>8</th>\n",
              "      <td>34.131508</td>\n",
              "      <td>21.260541</td>\n",
              "      <td>5.860747</td>\n",
              "      <td>0</td>\n",
              "    </tr>\n",
              "    <tr>\n",
              "      <th>9</th>\n",
              "      <td>33.107061</td>\n",
              "      <td>21.468470</td>\n",
              "      <td>5.734727</td>\n",
              "      <td>0</td>\n",
              "    </tr>\n",
              "  </tbody>\n",
              "</table>\n",
              "</div>\n",
              "      <button class=\"colab-df-convert\" onclick=\"convertToInteractive('df-1d4ed236-41dd-454a-b57a-c42d2443fd5b')\"\n",
              "              title=\"Convert this dataframe to an interactive table.\"\n",
              "              style=\"display:none;\">\n",
              "        \n",
              "  <svg xmlns=\"http://www.w3.org/2000/svg\" height=\"24px\"viewBox=\"0 0 24 24\"\n",
              "       width=\"24px\">\n",
              "    <path d=\"M0 0h24v24H0V0z\" fill=\"none\"/>\n",
              "    <path d=\"M18.56 5.44l.94 2.06.94-2.06 2.06-.94-2.06-.94-.94-2.06-.94 2.06-2.06.94zm-11 1L8.5 8.5l.94-2.06 2.06-.94-2.06-.94L8.5 2.5l-.94 2.06-2.06.94zm10 10l.94 2.06.94-2.06 2.06-.94-2.06-.94-.94-2.06-.94 2.06-2.06.94z\"/><path d=\"M17.41 7.96l-1.37-1.37c-.4-.4-.92-.59-1.43-.59-.52 0-1.04.2-1.43.59L10.3 9.45l-7.72 7.72c-.78.78-.78 2.05 0 2.83L4 21.41c.39.39.9.59 1.41.59.51 0 1.02-.2 1.41-.59l7.78-7.78 2.81-2.81c.8-.78.8-2.07 0-2.86zM5.41 20L4 18.59l7.72-7.72 1.47 1.35L5.41 20z\"/>\n",
              "  </svg>\n",
              "      </button>\n",
              "      \n",
              "  <style>\n",
              "    .colab-df-container {\n",
              "      display:flex;\n",
              "      flex-wrap:wrap;\n",
              "      gap: 12px;\n",
              "    }\n",
              "\n",
              "    .colab-df-convert {\n",
              "      background-color: #E8F0FE;\n",
              "      border: none;\n",
              "      border-radius: 50%;\n",
              "      cursor: pointer;\n",
              "      display: none;\n",
              "      fill: #1967D2;\n",
              "      height: 32px;\n",
              "      padding: 0 0 0 0;\n",
              "      width: 32px;\n",
              "    }\n",
              "\n",
              "    .colab-df-convert:hover {\n",
              "      background-color: #E2EBFA;\n",
              "      box-shadow: 0px 1px 2px rgba(60, 64, 67, 0.3), 0px 1px 3px 1px rgba(60, 64, 67, 0.15);\n",
              "      fill: #174EA6;\n",
              "    }\n",
              "\n",
              "    [theme=dark] .colab-df-convert {\n",
              "      background-color: #3B4455;\n",
              "      fill: #D2E3FC;\n",
              "    }\n",
              "\n",
              "    [theme=dark] .colab-df-convert:hover {\n",
              "      background-color: #434B5C;\n",
              "      box-shadow: 0px 1px 3px 1px rgba(0, 0, 0, 0.15);\n",
              "      filter: drop-shadow(0px 1px 2px rgba(0, 0, 0, 0.3));\n",
              "      fill: #FFFFFF;\n",
              "    }\n",
              "  </style>\n",
              "\n",
              "      <script>\n",
              "        const buttonEl =\n",
              "          document.querySelector('#df-1d4ed236-41dd-454a-b57a-c42d2443fd5b button.colab-df-convert');\n",
              "        buttonEl.style.display =\n",
              "          google.colab.kernel.accessAllowed ? 'block' : 'none';\n",
              "\n",
              "        async function convertToInteractive(key) {\n",
              "          const element = document.querySelector('#df-1d4ed236-41dd-454a-b57a-c42d2443fd5b');\n",
              "          const dataTable =\n",
              "            await google.colab.kernel.invokeFunction('convertToInteractive',\n",
              "                                                     [key], {});\n",
              "          if (!dataTable) return;\n",
              "\n",
              "          const docLinkHtml = 'Like what you see? Visit the ' +\n",
              "            '<a target=\"_blank\" href=https://colab.research.google.com/notebooks/data_table.ipynb>data table notebook</a>'\n",
              "            + ' to learn more about interactive tables.';\n",
              "          element.innerHTML = '';\n",
              "          dataTable['output_type'] = 'display_data';\n",
              "          await google.colab.output.renderOutput(dataTable, element);\n",
              "          const docLink = document.createElement('div');\n",
              "          docLink.innerHTML = docLinkHtml;\n",
              "          element.appendChild(docLink);\n",
              "        }\n",
              "      </script>\n",
              "    </div>\n",
              "  </div>\n",
              "  "
            ]
          },
          "metadata": {},
          "execution_count": 16
        }
      ]
    },
    {
      "cell_type": "code",
      "source": [
        "df.describe()"
      ],
      "metadata": {
        "colab": {
          "base_uri": "https://localhost:8080/",
          "height": 300
        },
        "id": "Ns30Eo_VW-Wp",
        "outputId": "86d1fea7-e90b-44b5-8a16-7e40331ca8be"
      },
      "execution_count": 17,
      "outputs": [
        {
          "output_type": "execute_result",
          "data": {
            "text/plain": [
              "               Temp      Humidity         Crime             y\n",
              "count  35040.000000  35040.000000  35040.000000  35040.000000\n",
              "mean      39.629526     41.441082      4.041808      0.005537\n",
              "std        9.164619     17.790513      1.903835      0.074203\n",
              "min        0.000000      0.000000      0.000000      0.000000\n",
              "25%       33.477643     26.091068      2.246331      0.000000\n",
              "50%       39.563207     36.313068      3.856416      0.000000\n",
              "75%       45.866895     56.754292      5.838659      0.000000\n",
              "max       90.000000    100.000000     10.000000      1.000000"
            ],
            "text/html": [
              "\n",
              "  <div id=\"df-0fb3d4c6-79bb-4de6-8ea6-24d194ce99d3\">\n",
              "    <div class=\"colab-df-container\">\n",
              "      <div>\n",
              "<style scoped>\n",
              "    .dataframe tbody tr th:only-of-type {\n",
              "        vertical-align: middle;\n",
              "    }\n",
              "\n",
              "    .dataframe tbody tr th {\n",
              "        vertical-align: top;\n",
              "    }\n",
              "\n",
              "    .dataframe thead th {\n",
              "        text-align: right;\n",
              "    }\n",
              "</style>\n",
              "<table border=\"1\" class=\"dataframe\">\n",
              "  <thead>\n",
              "    <tr style=\"text-align: right;\">\n",
              "      <th></th>\n",
              "      <th>Temp</th>\n",
              "      <th>Humidity</th>\n",
              "      <th>Crime</th>\n",
              "      <th>y</th>\n",
              "    </tr>\n",
              "  </thead>\n",
              "  <tbody>\n",
              "    <tr>\n",
              "      <th>count</th>\n",
              "      <td>35040.000000</td>\n",
              "      <td>35040.000000</td>\n",
              "      <td>35040.000000</td>\n",
              "      <td>35040.000000</td>\n",
              "    </tr>\n",
              "    <tr>\n",
              "      <th>mean</th>\n",
              "      <td>39.629526</td>\n",
              "      <td>41.441082</td>\n",
              "      <td>4.041808</td>\n",
              "      <td>0.005537</td>\n",
              "    </tr>\n",
              "    <tr>\n",
              "      <th>std</th>\n",
              "      <td>9.164619</td>\n",
              "      <td>17.790513</td>\n",
              "      <td>1.903835</td>\n",
              "      <td>0.074203</td>\n",
              "    </tr>\n",
              "    <tr>\n",
              "      <th>min</th>\n",
              "      <td>0.000000</td>\n",
              "      <td>0.000000</td>\n",
              "      <td>0.000000</td>\n",
              "      <td>0.000000</td>\n",
              "    </tr>\n",
              "    <tr>\n",
              "      <th>25%</th>\n",
              "      <td>33.477643</td>\n",
              "      <td>26.091068</td>\n",
              "      <td>2.246331</td>\n",
              "      <td>0.000000</td>\n",
              "    </tr>\n",
              "    <tr>\n",
              "      <th>50%</th>\n",
              "      <td>39.563207</td>\n",
              "      <td>36.313068</td>\n",
              "      <td>3.856416</td>\n",
              "      <td>0.000000</td>\n",
              "    </tr>\n",
              "    <tr>\n",
              "      <th>75%</th>\n",
              "      <td>45.866895</td>\n",
              "      <td>56.754292</td>\n",
              "      <td>5.838659</td>\n",
              "      <td>0.000000</td>\n",
              "    </tr>\n",
              "    <tr>\n",
              "      <th>max</th>\n",
              "      <td>90.000000</td>\n",
              "      <td>100.000000</td>\n",
              "      <td>10.000000</td>\n",
              "      <td>1.000000</td>\n",
              "    </tr>\n",
              "  </tbody>\n",
              "</table>\n",
              "</div>\n",
              "      <button class=\"colab-df-convert\" onclick=\"convertToInteractive('df-0fb3d4c6-79bb-4de6-8ea6-24d194ce99d3')\"\n",
              "              title=\"Convert this dataframe to an interactive table.\"\n",
              "              style=\"display:none;\">\n",
              "        \n",
              "  <svg xmlns=\"http://www.w3.org/2000/svg\" height=\"24px\"viewBox=\"0 0 24 24\"\n",
              "       width=\"24px\">\n",
              "    <path d=\"M0 0h24v24H0V0z\" fill=\"none\"/>\n",
              "    <path d=\"M18.56 5.44l.94 2.06.94-2.06 2.06-.94-2.06-.94-.94-2.06-.94 2.06-2.06.94zm-11 1L8.5 8.5l.94-2.06 2.06-.94-2.06-.94L8.5 2.5l-.94 2.06-2.06.94zm10 10l.94 2.06.94-2.06 2.06-.94-2.06-.94-.94-2.06-.94 2.06-2.06.94z\"/><path d=\"M17.41 7.96l-1.37-1.37c-.4-.4-.92-.59-1.43-.59-.52 0-1.04.2-1.43.59L10.3 9.45l-7.72 7.72c-.78.78-.78 2.05 0 2.83L4 21.41c.39.39.9.59 1.41.59.51 0 1.02-.2 1.41-.59l7.78-7.78 2.81-2.81c.8-.78.8-2.07 0-2.86zM5.41 20L4 18.59l7.72-7.72 1.47 1.35L5.41 20z\"/>\n",
              "  </svg>\n",
              "      </button>\n",
              "      \n",
              "  <style>\n",
              "    .colab-df-container {\n",
              "      display:flex;\n",
              "      flex-wrap:wrap;\n",
              "      gap: 12px;\n",
              "    }\n",
              "\n",
              "    .colab-df-convert {\n",
              "      background-color: #E8F0FE;\n",
              "      border: none;\n",
              "      border-radius: 50%;\n",
              "      cursor: pointer;\n",
              "      display: none;\n",
              "      fill: #1967D2;\n",
              "      height: 32px;\n",
              "      padding: 0 0 0 0;\n",
              "      width: 32px;\n",
              "    }\n",
              "\n",
              "    .colab-df-convert:hover {\n",
              "      background-color: #E2EBFA;\n",
              "      box-shadow: 0px 1px 2px rgba(60, 64, 67, 0.3), 0px 1px 3px 1px rgba(60, 64, 67, 0.15);\n",
              "      fill: #174EA6;\n",
              "    }\n",
              "\n",
              "    [theme=dark] .colab-df-convert {\n",
              "      background-color: #3B4455;\n",
              "      fill: #D2E3FC;\n",
              "    }\n",
              "\n",
              "    [theme=dark] .colab-df-convert:hover {\n",
              "      background-color: #434B5C;\n",
              "      box-shadow: 0px 1px 3px 1px rgba(0, 0, 0, 0.15);\n",
              "      filter: drop-shadow(0px 1px 2px rgba(0, 0, 0, 0.3));\n",
              "      fill: #FFFFFF;\n",
              "    }\n",
              "  </style>\n",
              "\n",
              "      <script>\n",
              "        const buttonEl =\n",
              "          document.querySelector('#df-0fb3d4c6-79bb-4de6-8ea6-24d194ce99d3 button.colab-df-convert');\n",
              "        buttonEl.style.display =\n",
              "          google.colab.kernel.accessAllowed ? 'block' : 'none';\n",
              "\n",
              "        async function convertToInteractive(key) {\n",
              "          const element = document.querySelector('#df-0fb3d4c6-79bb-4de6-8ea6-24d194ce99d3');\n",
              "          const dataTable =\n",
              "            await google.colab.kernel.invokeFunction('convertToInteractive',\n",
              "                                                     [key], {});\n",
              "          if (!dataTable) return;\n",
              "\n",
              "          const docLinkHtml = 'Like what you see? Visit the ' +\n",
              "            '<a target=\"_blank\" href=https://colab.research.google.com/notebooks/data_table.ipynb>data table notebook</a>'\n",
              "            + ' to learn more about interactive tables.';\n",
              "          element.innerHTML = '';\n",
              "          dataTable['output_type'] = 'display_data';\n",
              "          await google.colab.output.renderOutput(dataTable, element);\n",
              "          const docLink = document.createElement('div');\n",
              "          docLink.innerHTML = docLinkHtml;\n",
              "          element.appendChild(docLink);\n",
              "        }\n",
              "      </script>\n",
              "    </div>\n",
              "  </div>\n",
              "  "
            ]
          },
          "metadata": {},
          "execution_count": 17
        }
      ]
    },
    {
      "cell_type": "markdown",
      "source": [
        "# **Lojistik Regresyon alt örnekleme**"
      ],
      "metadata": {
        "id": "8ilSLG2sXBIB"
      }
    },
    {
      "cell_type": "code",
      "source": [
        "from sklearn.model_selection import StratifiedKFold\n",
        "from sklearn.model_selection import train_test_split\n",
        "from sklearn.linear_model import LogisticRegressionCV\n",
        "from sklearn.metrics import classification_report"
      ],
      "metadata": {
        "id": "vRukcyAyXAP5"
      },
      "execution_count": 18,
      "outputs": []
    },
    {
      "cell_type": "markdown",
      "source": [
        "***Negatif sınıfı sınırlı sayıda örneklemek***"
      ],
      "metadata": {
        "id": "aRNP0ihQXqBt"
      }
    },
    {
      "cell_type": "code",
      "source": [
        "df0 = df[df['y']==0].sample(800)\n",
        "df1 = df[df['y']==1]\n",
        "df_balanced = pd.concat([df0,df1],axis=0)\n",
        "df_balanced.describe()"
      ],
      "metadata": {
        "colab": {
          "base_uri": "https://localhost:8080/",
          "height": 300
        },
        "id": "3q1TvEMSXpg6",
        "outputId": "cdfa46ae-a9e3-4185-eba0-aa59c00f4c58"
      },
      "execution_count": 19,
      "outputs": [
        {
          "output_type": "execute_result",
          "data": {
            "text/plain": [
              "             Temp    Humidity       Crime           y\n",
              "count  994.000000  994.000000  994.000000  994.000000\n",
              "mean    40.297359   41.832674    4.062196    0.195171\n",
              "std     10.237158   18.009996    1.892693    0.396532\n",
              "min     13.110243   10.562531    0.381814    0.000000\n",
              "25%     33.270992   26.437230    2.235978    0.000000\n",
              "50%     39.658680   37.803613    4.228934    0.000000\n",
              "75%     46.641758   56.260473    5.824460    0.000000\n",
              "max     90.000000   96.933510   10.000000    1.000000"
            ],
            "text/html": [
              "\n",
              "  <div id=\"df-8cfd7092-2d56-4b85-978f-603e744a0700\">\n",
              "    <div class=\"colab-df-container\">\n",
              "      <div>\n",
              "<style scoped>\n",
              "    .dataframe tbody tr th:only-of-type {\n",
              "        vertical-align: middle;\n",
              "    }\n",
              "\n",
              "    .dataframe tbody tr th {\n",
              "        vertical-align: top;\n",
              "    }\n",
              "\n",
              "    .dataframe thead th {\n",
              "        text-align: right;\n",
              "    }\n",
              "</style>\n",
              "<table border=\"1\" class=\"dataframe\">\n",
              "  <thead>\n",
              "    <tr style=\"text-align: right;\">\n",
              "      <th></th>\n",
              "      <th>Temp</th>\n",
              "      <th>Humidity</th>\n",
              "      <th>Crime</th>\n",
              "      <th>y</th>\n",
              "    </tr>\n",
              "  </thead>\n",
              "  <tbody>\n",
              "    <tr>\n",
              "      <th>count</th>\n",
              "      <td>994.000000</td>\n",
              "      <td>994.000000</td>\n",
              "      <td>994.000000</td>\n",
              "      <td>994.000000</td>\n",
              "    </tr>\n",
              "    <tr>\n",
              "      <th>mean</th>\n",
              "      <td>40.297359</td>\n",
              "      <td>41.832674</td>\n",
              "      <td>4.062196</td>\n",
              "      <td>0.195171</td>\n",
              "    </tr>\n",
              "    <tr>\n",
              "      <th>std</th>\n",
              "      <td>10.237158</td>\n",
              "      <td>18.009996</td>\n",
              "      <td>1.892693</td>\n",
              "      <td>0.396532</td>\n",
              "    </tr>\n",
              "    <tr>\n",
              "      <th>min</th>\n",
              "      <td>13.110243</td>\n",
              "      <td>10.562531</td>\n",
              "      <td>0.381814</td>\n",
              "      <td>0.000000</td>\n",
              "    </tr>\n",
              "    <tr>\n",
              "      <th>25%</th>\n",
              "      <td>33.270992</td>\n",
              "      <td>26.437230</td>\n",
              "      <td>2.235978</td>\n",
              "      <td>0.000000</td>\n",
              "    </tr>\n",
              "    <tr>\n",
              "      <th>50%</th>\n",
              "      <td>39.658680</td>\n",
              "      <td>37.803613</td>\n",
              "      <td>4.228934</td>\n",
              "      <td>0.000000</td>\n",
              "    </tr>\n",
              "    <tr>\n",
              "      <th>75%</th>\n",
              "      <td>46.641758</td>\n",
              "      <td>56.260473</td>\n",
              "      <td>5.824460</td>\n",
              "      <td>0.000000</td>\n",
              "    </tr>\n",
              "    <tr>\n",
              "      <th>max</th>\n",
              "      <td>90.000000</td>\n",
              "      <td>96.933510</td>\n",
              "      <td>10.000000</td>\n",
              "      <td>1.000000</td>\n",
              "    </tr>\n",
              "  </tbody>\n",
              "</table>\n",
              "</div>\n",
              "      <button class=\"colab-df-convert\" onclick=\"convertToInteractive('df-8cfd7092-2d56-4b85-978f-603e744a0700')\"\n",
              "              title=\"Convert this dataframe to an interactive table.\"\n",
              "              style=\"display:none;\">\n",
              "        \n",
              "  <svg xmlns=\"http://www.w3.org/2000/svg\" height=\"24px\"viewBox=\"0 0 24 24\"\n",
              "       width=\"24px\">\n",
              "    <path d=\"M0 0h24v24H0V0z\" fill=\"none\"/>\n",
              "    <path d=\"M18.56 5.44l.94 2.06.94-2.06 2.06-.94-2.06-.94-.94-2.06-.94 2.06-2.06.94zm-11 1L8.5 8.5l.94-2.06 2.06-.94-2.06-.94L8.5 2.5l-.94 2.06-2.06.94zm10 10l.94 2.06.94-2.06 2.06-.94-2.06-.94-.94-2.06-.94 2.06-2.06.94z\"/><path d=\"M17.41 7.96l-1.37-1.37c-.4-.4-.92-.59-1.43-.59-.52 0-1.04.2-1.43.59L10.3 9.45l-7.72 7.72c-.78.78-.78 2.05 0 2.83L4 21.41c.39.39.9.59 1.41.59.51 0 1.02-.2 1.41-.59l7.78-7.78 2.81-2.81c.8-.78.8-2.07 0-2.86zM5.41 20L4 18.59l7.72-7.72 1.47 1.35L5.41 20z\"/>\n",
              "  </svg>\n",
              "      </button>\n",
              "      \n",
              "  <style>\n",
              "    .colab-df-container {\n",
              "      display:flex;\n",
              "      flex-wrap:wrap;\n",
              "      gap: 12px;\n",
              "    }\n",
              "\n",
              "    .colab-df-convert {\n",
              "      background-color: #E8F0FE;\n",
              "      border: none;\n",
              "      border-radius: 50%;\n",
              "      cursor: pointer;\n",
              "      display: none;\n",
              "      fill: #1967D2;\n",
              "      height: 32px;\n",
              "      padding: 0 0 0 0;\n",
              "      width: 32px;\n",
              "    }\n",
              "\n",
              "    .colab-df-convert:hover {\n",
              "      background-color: #E2EBFA;\n",
              "      box-shadow: 0px 1px 2px rgba(60, 64, 67, 0.3), 0px 1px 3px 1px rgba(60, 64, 67, 0.15);\n",
              "      fill: #174EA6;\n",
              "    }\n",
              "\n",
              "    [theme=dark] .colab-df-convert {\n",
              "      background-color: #3B4455;\n",
              "      fill: #D2E3FC;\n",
              "    }\n",
              "\n",
              "    [theme=dark] .colab-df-convert:hover {\n",
              "      background-color: #434B5C;\n",
              "      box-shadow: 0px 1px 3px 1px rgba(0, 0, 0, 0.15);\n",
              "      filter: drop-shadow(0px 1px 2px rgba(0, 0, 0, 0.3));\n",
              "      fill: #FFFFFF;\n",
              "    }\n",
              "  </style>\n",
              "\n",
              "      <script>\n",
              "        const buttonEl =\n",
              "          document.querySelector('#df-8cfd7092-2d56-4b85-978f-603e744a0700 button.colab-df-convert');\n",
              "        buttonEl.style.display =\n",
              "          google.colab.kernel.accessAllowed ? 'block' : 'none';\n",
              "\n",
              "        async function convertToInteractive(key) {\n",
              "          const element = document.querySelector('#df-8cfd7092-2d56-4b85-978f-603e744a0700');\n",
              "          const dataTable =\n",
              "            await google.colab.kernel.invokeFunction('convertToInteractive',\n",
              "                                                     [key], {});\n",
              "          if (!dataTable) return;\n",
              "\n",
              "          const docLinkHtml = 'Like what you see? Visit the ' +\n",
              "            '<a target=\"_blank\" href=https://colab.research.google.com/notebooks/data_table.ipynb>data table notebook</a>'\n",
              "            + ' to learn more about interactive tables.';\n",
              "          element.innerHTML = '';\n",
              "          dataTable['output_type'] = 'display_data';\n",
              "          await google.colab.output.renderOutput(dataTable, element);\n",
              "          const docLink = document.createElement('div');\n",
              "          docLink.innerHTML = docLinkHtml;\n",
              "          element.appendChild(docLink);\n",
              "        }\n",
              "      </script>\n",
              "    </div>\n",
              "  </div>\n",
              "  "
            ]
          },
          "metadata": {},
          "execution_count": 19
        }
      ]
    },
    {
      "cell_type": "code",
      "source": [
        "df_balanced.hist('y')\n",
        "plt.title(\"Relative frequency of positive and negative classes\\n in the balanced (under-sampled) dataset\")"
      ],
      "metadata": {
        "colab": {
          "base_uri": "https://localhost:8080/",
          "height": 313
        },
        "id": "cCCWfq3gX-wJ",
        "outputId": "393b0c25-82e0-4ef0-abf9-73e2bd5dcf51"
      },
      "execution_count": 20,
      "outputs": [
        {
          "output_type": "execute_result",
          "data": {
            "text/plain": [
              "Text(0.5, 1.0, 'Relative frequency of positive and negative classes\\n in the balanced (under-sampled) dataset')"
            ]
          },
          "metadata": {},
          "execution_count": 20
        },
        {
          "output_type": "display_data",
          "data": {
            "text/plain": [
              "<Figure size 432x288 with 1 Axes>"
            ],
            "image/png": "[encoded data removed]"
          },
          "metadata": {
            "needs_background": "light"
          }
        }
      ]
    },
    {
      "cell_type": "code",
      "source": [
        "log_model_balanced = LogisticRegressionCV(cv=5, class_weight='balanced')"
      ],
      "metadata": {
        "id": "8ndIcyr6YcC6"
      },
      "execution_count": 21,
      "outputs": []
    },
    {
      "cell_type": "code",
      "source": [
        "X_train, X_test, y_train, y_test = train_test_split(df_balanced.drop('y', axis=1),\n",
        "                                                    df_balanced['y'], test_size=0.30)"
      ],
      "metadata": {
        "id": "Q3xyjMFnYkOB"
      },
      "execution_count": 22,
      "outputs": []
    },
    {
      "cell_type": "code",
      "source": [
        "from sklearn.preprocessing import MinMaxScaler"
      ],
      "metadata": {
        "id": "6WYIRvQlYvsp"
      },
      "execution_count": 23,
      "outputs": []
    },
    {
      "cell_type": "code",
      "source": [
        "scaler = MinMaxScaler()"
      ],
      "metadata": {
        "id": "x59NcNd3Yy44"
      },
      "execution_count": 24,
      "outputs": []
    },
    {
      "cell_type": "code",
      "source": [
        "X_train = scaler.fit_transform(X_train)"
      ],
      "metadata": {
        "id": "ZOdehgIkY0uA"
      },
      "execution_count": 25,
      "outputs": []
    },
    {
      "cell_type": "code",
      "source": [
        "log_model_balanced.fit(X_train, y_train)"
      ],
      "metadata": {
        "colab": {
          "base_uri": "https://localhost:8080/",
          "height": 75
        },
        "id": "ApnFQFFPZKvI",
        "outputId": "165b9e44-4d1c-4a2a-9ab6-3b0934cb1e57"
      },
      "execution_count": 26,
      "outputs": [
        {
          "output_type": "execute_result",
          "data": {
            "text/plain": [
              "LogisticRegressionCV(class_weight='balanced', cv=5)"
            ],
            "text/html": [
              "<style>#sk-container-id-1 {color: black;background-color: white;}#sk-container-id-1 pre{padding: 0;}#sk-container-id-1 div.sk-toggleable {background-color: white;}#sk-container-id-1 label.sk-toggleable__label {cursor: pointer;display: block;width: 100%;margin-bottom: 0;padding: 0.3em;box-sizing: border-box;text-align: center;}#sk-container-id-1 label.sk-toggleable__label-arrow:before {content: \"▸\";float: left;margin-right: 0.25em;color: #696969;}#sk-container-id-1 label.sk-toggleable__label-arrow:hover:before {color: black;}#sk-container-id-1 div.sk-estimator:hover label.sk-toggleable__label-arrow:before {color: black;}#sk-container-id-1 div.sk-toggleable__content {max-height: 0;max-width: 0;overflow: hidden;text-align: left;background-color: #f0f8ff;}#sk-container-id-1 div.sk-toggleable__content pre {margin: 0.2em;color: black;border-radius: 0.25em;background-color: #f0f8ff;}#sk-container-id-1 input.sk-toggleable__control:checked~div.sk-toggleable__content {max-height: 200px;max-width: 100%;overflow: auto;}#sk-container-id-1 input.sk-toggleable__control:checked~label.sk-toggleable__label-arrow:before {content: \"▾\";}#sk-container-id-1 div.sk-estimator input.sk-toggleable__control:checked~label.sk-toggleable__label {background-color: #d4ebff;}#sk-container-id-1 div.sk-label input.sk-toggleable__control:checked~label.sk-toggleable__label {background-color: #d4ebff;}#sk-container-id-1 input.sk-hidden--visually {border: 0;clip: rect(1px 1px 1px 1px);clip: rect(1px, 1px, 1px, 1px);height: 1px;margin: -1px;overflow: hidden;padding: 0;position: absolute;width: 1px;}#sk-container-id-1 div.sk-estimator {font-family: monospace;background-color: #f0f8ff;border: 1px dotted black;border-radius: 0.25em;box-sizing: border-box;margin-bottom: 0.5em;}#sk-container-id-1 div.sk-estimator:hover {background-color: #d4ebff;}#sk-container-id-1 div.sk-parallel-item::after {content: \"\";width: 100%;border-bottom: 1px solid gray;flex-grow: 1;}#sk-container-id-1 div.sk-label:hover label.sk-toggleable__label {background-color: #d4ebff;}#sk-container-id-1 div.sk-serial::before {content: \"\";position: absolute;border-left: 1px solid gray;box-sizing: border-box;top: 0;bottom: 0;left: 50%;z-index: 0;}#sk-container-id-1 div.sk-serial {display: flex;flex-direction: column;align-items: center;background-color: white;padding-right: 0.2em;padding-left: 0.2em;position: relative;}#sk-container-id-1 div.sk-item {position: relative;z-index: 1;}#sk-container-id-1 div.sk-parallel {display: flex;align-items: stretch;justify-content: center;background-color: white;position: relative;}#sk-container-id-1 div.sk-item::before, #sk-container-id-1 div.sk-parallel-item::before {content: \"\";position: absolute;border-left: 1px solid gray;box-sizing: border-box;top: 0;bottom: 0;left: 50%;z-index: -1;}#sk-container-id-1 div.sk-parallel-item {display: flex;flex-direction: column;z-index: 1;position: relative;background-color: white;}#sk-container-id-1 div.sk-parallel-item:first-child::after {align-self: flex-end;width: 50%;}#sk-container-id-1 div.sk-parallel-item:last-child::after {align-self: flex-start;width: 50%;}#sk-container-id-1 div.sk-parallel-item:only-child::after {width: 0;}#sk-container-id-1 div.sk-dashed-wrapped {border: 1px dashed gray;margin: 0 0.4em 0.5em 0.4em;box-sizing: border-box;padding-bottom: 0.4em;background-color: white;}#sk-container-id-1 div.sk-label label {font-family: monospace;font-weight: bold;display: inline-block;line-height: 1.2em;}#sk-container-id-1 div.sk-label-container {text-align: center;}#sk-container-id-1 div.sk-container {/* jupyter's `normalize.less` sets `[hidden] { display: none; }` but bootstrap.min.css set `[hidden] { display: none !important; }` so we also need the `!important` here to be able to override the default hidden behavior on the sphinx rendered scikit-learn.org. See: https://github.com/scikit-learn/scikit-learn/issues/21755 */display: inline-block !important;position: relative;}#sk-container-id-1 div.sk-text-repr-fallback {display: none;}</style><div id=\"sk-container-id-1\" class=\"sk-top-container\"><div class=\"sk-text-repr-fallback\"><pre>LogisticRegressionCV(class_weight=&#x27;balanced&#x27;, cv=5)</pre><b>In a Jupyter environment, please rerun this cell to show the HTML representation or trust the notebook. <br />On GitHub, the HTML representation is unable to render, please try loading this page with nbviewer.org.</b></div><div class=\"sk-container\" hidden><div class=\"sk-item\"><div class=\"sk-estimator sk-toggleable\"><input class=\"sk-toggleable__control sk-hidden--visually\" id=\"sk-estimator-id-1\" type=\"checkbox\" checked><label for=\"sk-estimator-id-1\" class=\"sk-toggleable__label sk-toggleable__label-arrow\">LogisticRegressionCV</label><div class=\"sk-toggleable__content\"><pre>LogisticRegressionCV(class_weight=&#x27;balanced&#x27;, cv=5)</pre></div></div></div></div></div>"
            ]
          },
          "metadata": {},
          "execution_count": 26
        }
      ]
    },
    {
      "cell_type": "code",
      "source": [
        "print(classification_report(y_test, log_model_balanced.predict(X_test)))"
      ],
      "metadata": {
        "colab": {
          "base_uri": "https://localhost:8080/"
        },
        "id": "PbCZ_sulZNvY",
        "outputId": "bb6cdf63-1128-49ac-d9c8-52d3ec1ac009"
      },
      "execution_count": 29,
      "outputs": [
        {
          "output_type": "stream",
          "name": "stdout",
          "text": [
            "              precision    recall  f1-score   support\n",
            "\n",
            "           0       0.00      0.00      0.00       244\n",
            "           1       0.18      1.00      0.31        55\n",
            "\n",
            "    accuracy                           0.18       299\n",
            "   macro avg       0.09      0.50      0.16       299\n",
            "weighted avg       0.03      0.18      0.06       299\n",
            "\n"
          ]
        },
        {
          "output_type": "stream",
          "name": "stderr",
          "text": [
            "/usr/local/lib/python3.8/dist-packages/sklearn/base.py:413: UserWarning: X has feature names, but LogisticRegressionCV was fitted without feature names\n",
            "  warnings.warn(\n",
            "/usr/local/lib/python3.8/dist-packages/sklearn/metrics/_classification.py:1344: UndefinedMetricWarning: Precision and F-score are ill-defined and being set to 0.0 in labels with no predicted samples. Use `zero_division` parameter to control this behavior.\n",
            "  _warn_prf(average, modifier, msg_start, len(result))\n",
            "/usr/local/lib/python3.8/dist-packages/sklearn/metrics/_classification.py:1344: UndefinedMetricWarning: Precision and F-score are ill-defined and being set to 0.0 in labels with no predicted samples. Use `zero_division` parameter to control this behavior.\n",
            "  _warn_prf(average, modifier, msg_start, len(result))\n",
            "/usr/local/lib/python3.8/dist-packages/sklearn/metrics/_classification.py:1344: UndefinedMetricWarning: Precision and F-score are ill-defined and being set to 0.0 in labels with no predicted samples. Use `zero_division` parameter to control this behavior.\n",
            "  _warn_prf(average, modifier, msg_start, len(result))\n"
          ]
        }
      ]
    },
    {
      "cell_type": "markdown",
      "source": [
        "***Az örnekleme derecesinin F1-skorunu, kesinliği ve geri çağırmayı nasıl etkilediğine dair bir deney yaptım***"
      ],
      "metadata": {
        "id": "TjswAuDSZhJS"
      }
    },
    {
      "cell_type": "code",
      "source": [
        "from sklearn.metrics import f1_score\n",
        "from sklearn.metrics import precision_score\n",
        "from sklearn.metrics import recall_score"
      ],
      "metadata": {
        "id": "p_UBrK6kZYFQ"
      },
      "execution_count": 31,
      "outputs": []
    },
    {
      "cell_type": "code",
      "source": [
        "n_neg = [i for i in range(200, 4200, 200)]\n",
        "\n",
        "df1 = df[df['y']==1]\n",
        "F1_scores = []\n",
        "precision_scores = []\n",
        "recall_scores = []\n",
        "\n",
        "for num in n_neg:\n",
        "  # Az örneklenmiş veri setleri oluşturma\n",
        "  df0 = df[df['y']==0].sample(num)\n",
        "  df_balanced = pd.concat([df0, df1], axis=0)\n",
        "  # 'class_weight=balanced' ve 5 katlı çapraz doğrulama ile model oluşturun\n",
        "  log_models = LogisticRegressionCV(cv=5, class_weight='balanced')\n",
        "  # Test/antrenman bölünmeleri oluşturun\n",
        "  x_train, X_test, y_train, y_test = train_test_split(df_balanced.drop('y', axis=1),\n",
        "                                                      df_balanced['y'], test_size=0.30)\n",
        "  # Eğitim verilerini min-maks ölçeklendirir\n",
        "  X_train = scaler.fit_transform(X_train)\n",
        "\n",
        "  # Lojistik regresyon modelini uydurun\n",
        "  log_models.fit(X_train, y_train)\n",
        "\n",
        "  # Çeşitli puanları hesaplayın\n",
        "  F1_scores.append(f1_score(y_test,log_models.predict(X_test)))\n",
        "  precision_scores.append(precision_score(y_test,log_models.predict(X_test)))\n",
        "  recall_scores.append(recall_score(y_test,log_models.predict(X_test)))"
      ],
      "metadata": {
        "id": "7jy9JfICcbCH"
      },
      "execution_count": null,
      "outputs": []
    },
    {
      "cell_type": "code",
      "source": [
        "plt.scatter(n_neg.F1_scores,color='green',edgecolor='black',alpha=0.6,s=100)\n",
        "plt.title(\"F1-score as function of negative samples\")\n",
        "plt.grid(True)\n",
        "plt.ylabel(\"F1-score\")\n",
        "plt.xlabel(\"Number of negative samples\")"
      ],
      "metadata": {
        "id": "C_1Cag11c1ef"
      },
      "execution_count": null,
      "outputs": []
    },
    {
      "cell_type": "markdown",
      "source": [
        "       F1-score as function of negative samples\n",
        "       ![fff.png](data:image/png;base64,iVBORw0KGgoAAAANSUhEUgAAAYUAAAEWCAYAAACJ0YulAAAABHNCSVQICAgIfAhkiAAAAAlwSFlzAAALEgAACxIB0t1+/AAAIABJREFUeJzt3XucXWV97/HPL2HYSZkLZpgmmkGJglHIQWvSYKrGmWIuMirWQ2suYr3QBFtES23B2qaY2la05mUteAiihypNRlpQcxiOE6AZ5dQgAY06IUYjqEwgMg4wF0w2SeZ3/ljP7KwMe+/ZM3vWrD2T7/v12q9Zl2ev9dtr9l6/9ay1nmeZuyMiIgIwLe0ARESkcigpiIhIjpKCiIjkKCmIiEiOkoKIiOQoKYiISI6SglQEM3udmf3UzAbM7O0TuN43mNm+iVpfbL3zzWy3mfWb2ZUTvf7RMLM9ZtaUdhxJMLOfm9mb0o6jkigpTIDwxTsUdnhDrxeFeTeZ2T4zGzSz96Qcapo2Ate7e7W7fz2plZiZm9nZQ+Pufp+7z09qfUX8FbDD3Wvc/XMprD8vM7vFzD4Rn+bu57l7R0ohyQRTUpg4bw07vKHX42H6D4A/Bb6XYmwAmNkpKa7+JcCeFNc/0U62zyuThbvrlfAL+DnwphHK/D/gPSOUmQHcCvQAzwC7gNlh3izgfwOPA08DX4+970+A/cBTwDbgRbF5DvwZ8FPg0TDtFcDdofw+4I+KxPReYC/QDzwCrI/NOwO4M8T6FHAfMC3PMn4GDAKHgAEgM3ybAdcCt4bhs0Lcfwz8Evg18LFY2enAX4fl9gMPAWcC3w7vezas551AE9AVe+8rgY4Q8x7gbbF5twA3AG1hud8FXlZk27wtLOOZsMxXhun/BRwDDoc4Xp7nvR3A3wP/Hda1HTgjNv+1wHfCsn8ANMXmzQuftR+4J8R8a2z+fwAHgd5Q7rwwfR1wBHguxPV/4t9f4EXhfzQrtqzfCdu/Koy/L3wfngbagZeM4btc7DvVBHQR1bSeBJ4A3g5cBPyE6Hv218O+N/8JfDUs73vAq/L9NokOkq8h+t70ALcNfdZi8U61V+oBnAwvxi8prAf+D/BbRDu+hUBtmNcWvvgvAKqAN4bpvx9+tK8h2tn+K/Dt2DKdKAHMAmYCpwGPhR/mKbEf/bkFYmoBXgYY8EbgN8Brwrx/Am4M8VQBbwCslG2UZ/xanp8UvhBifhWQ5fhO9y+BHwHzQ1yvAupjn/fs2HKbCEkhxLifKKGcGrZdPzA/zL8l7BQWh23z70Brgc/zcqLksyws96/Csk8N8zuAy4r8rzuIdk4vD5+xA/hkmDc3xHER0Y5sWRhvCPN3Av8cPsPrgT5OTArvA2rC9+GzwO7YvFuATxT63xAltD+Jzfs0cGMYvjh8xleG7fM3wHfG8F0u9p1qAo4CG8J2/ROgG9gSPtN5RIlrXux7cwS4JJT/CPAox5NY/LN9CLgfaAzbZjOwdaR4p9or9QBOhlf44g0QHWE8Q+woPlamlKTwPqKjw/OHTX8h0ZH2C/K854vAp2Lj1eFHclYYd+D3Y/PfCdw3bBmbgb8r8bN+HfhQGN4IfIPYTniEbTTapNAYm/8AsCoM7wMuLrCeYknhDURH0NNi87cC14bhW4CbY/MuAn5cYD1/C9wWG58GHCAc0VNaUvib2PifAt8Mw1cDXxlWvp2o5vRiop3mb8Xm3UosKQx73+lhm9TFPmOxpHAZ8F9h2IgOIJaG8f8LvH/YZ/4NeWoLFPgul/CdaiLa6U8P4zUh/gti5R8C3h773tw/LKYngDfk+Wx7gQuH/a6OECW4kuOd7C9dU5g4b3f308OrpLtrhl2YfjHwFaIff6uZPW5mnzKzKqJTI0+5+9N5FvMi4BdDI+4+QHRUOTdW5rHY8EuAC8zsmaEXsBaYUyDGN5vZ/Wb2VCh7EdFpI4iOIvcD283sETO7ppTPPQoHY8O/IUp4EG2Pn41heS8CHnP3wdi0X3Ditiq0znzLim/3QaLtPLdA+XwKreslwB8O+x+9nmgn9iKi78JvYu/N/X/NbLqZfdLMfmZmfUQ7RTj+PxvJ7cASM3shsJToYOS+WFz/EovpKaLEke8zF/ouj/SdAuhx92Nh+FD4+6vY/EOc+H/Jff7wf+gi2k7DvQT4Wiz+vUSn+WYXi3eqUVKoYH7ihelfuvsRd/+4u58L/B7wFuDdRF/6WWZ2ep7FPE70ZQfAzE4D6omOWnOrig0/BnwrlsBOD+v/wPAFm1mGaCfxz0TnV08H7iLaEeDu/e7+F+7+UqLz61eZ2YUlfvxniarqQ/ImpQIeIzr9MFqPA2eaWfx38WJO3FajWVZ8uxtRshrLsoZ7jKimEP8fnebunyQ6Cp5lZvFtd2ZseA3RaZ43AXVEtS4I/zNO/C48Tzjw2E5Uo1xDdPps6D2PEZ3/j8c1092/k2c5eb/LI32nxij3+cP/tpHo/zPcY8Cbh8U/w90PFPntTTlKCikzs1PNbAbRl77KzGYM2ynFyzab2f8ws+lE54mPAIPu/gRR1f3zZvYCM6sys6XhbVuB95rZq8MP7h+B77r7zwuEdCfwcjO7NCynysx+18xemafsqUTnXruBo2b2ZmB5LN63mNnZYYfYS3TUNZhnOfnsBlaF9S8iOidcqpuBvzezcyxyvpnVh3m/Al5a4H3fJToi/6uw3ibgrUDrKNY95DagxcwuDEeUf0F03eN5O8gxuBV4q5mtCEf+M8ysycwa3f0XwIPAteG7tSR8hiE1IY4eoqT7j8OWXWz7DNlCtEO8JAwPuRH4qJmdB2BmdWb2h/kWUOi7zAjfqTFaaGbvCHfXfZjo89+fp9yNwD+Y2UtCjA1mdvEI8U45Sgrp205U3f094KYwvLRA2TlEd1L0EVVtv0VUrQW4lOiL+mOiuzI+DODu9xCd376d6CjyZcCqQsG4ez/Rj3AV0dHUQeA6oh9qvrJXEu0AnyY6ctwWK3IO0d0vA0QXPz/v7jsKrXuYvw2xPg18nBN3PiPZFGLaTrStvkh0sRaic8z/Fk4R/NGwz/Mc0Q70zUQX1z8PvNvdfzyKdQ8tax/wLqIL+78Oy31rWEdZ3P0xoqP9vybaeT5GdHF96Pe8FlhCtOP/BNENCNkw78tEp7UOAA/z/J3jF4Fzw/Yp1F5kG9H/9qC7/yAW19eIviut4dRUJ9G2zCfvd7mE79RYfIOoZvM00e/kHe5+JE+5fwnr2m5m/UTb5oJi8ZYZV0Wy4zU/EZmKzOyrRBfE/y7tWCaamV1LdGPBu9KOZbJQTUFkigmn+15mZtPMbCVRrSKxVuIytaTZglVEkjEHuIPohoIu4APu/v10Q5LJQqePREQkR6ePREQkZ9KdPjrjjDP8rLPOSjuMvJ599llOO+20tMMoqNLjg8qPUfGVR/GVp5z4HnrooV+7e8OIBZNsLg2sJOpyYD9wTZ75f0l0P/puotvXjhHrbCvfa+HChV6pduzYkXYIRVV6fO6VH6PiK4/iK0858QEPeprdXIRGHjcQ3ad8LrDazM4dlpA+7e6vdvdXAx8lakn7VFIxiYhIcUleU1gM7Hf3RzxqsNNKdGtcIauJWt+KiEhKkkwKczmxo7UuCnQGFvppWUnU6lZERFKS2C2pZnYJsNLdLwvjlxJ1b3tFnrLvBN7l7m8dPi/MX0f0ABBmz569sLV1LF3RJG9gYIDq6kKdZqav0uODyo9R8ZVH8ZWnnPiam5sfcvdFIxYs5cLDWF5Efa+0x8Y/Cny0QNmvAWtKWa4uNI9dpcfnXvkxKr7yKL7yTOoLzUSPqzvHzOaZ2alEHaw9r2MrM6sjerrSNxKMRURESpBYOwV3P2pmVxA9mGI68CV332Nml4f5N4aifwBsd/dnk4pFRERKk2jjNXe/i+gBGfFpNw4bv4XoEYAiIpIydXMhIiI5SgoiIpKjpCAiIjmTrkO80eru7qb97nbaOtro7e+lrqaOlqYWVixbQUPDyH1DiYicTKZ0TaGzs5P1V69n696tVC2tonFVI1VLq9i6dyvrr15PZ2dn2iGKiFSUKZsUuru72bBpA5klGRoXNzKzbiY2zZhZN5PGxY1klmTYsGkD3d3daYcqIlIxpmxSaL+7nezcLLVzavPOr51TS3Zulu33bp/gyEREKteUTQptHW3Uz68vWqZ+fj1tO9omKCIRkco3ZZNCb38vM2pmFC2Tqc7Q2987QRGJiFS+KZsU6mrqONx/uGiZ7ECWupq6CYpIRKTyTdmk0NLUQs++nqJlevb10NLcMkERiYhUvimbFFYsW0HmQIa+g3155/cd7CNzIMPyC5dPcGQiIpVryiaFhoYGNl61kezOLF0PdHGo9xCDxwY51HuIrge6yO7MsvGqjWrAJiISM6VbNC9YsIDN121m+73badvRRk9/D3U1daxpXsPyK5crIYiIDDOlkwJENYa1q9aydtXatEMREal4U/b0kYiIjJ6SgoiI5CgpiIhIjpKCiIjkKCmIiEiOkoKIiOQoKYiISI6SgoiI5CgpiIhITqJJwcxWmtk+M9tvZtcUKNNkZrvNbI+ZfSvJeEREpLjEurkws+nADcAyoAvYZWbb3P3hWJnTgc8DK939l2b220nFIyIiI0uy76PFwH53fwTAzFqBi4GHY2XWAHe4+y8B3P3JBOMZk+7ubtrvbqeto43e/l7qaupoaWphxbIV6lBPRKYcc/dkFmx2CVEN4LIwfilwgbtfESvzWaAKOA+oAf7F3b+cZ1nrgHUAs2fPXtja2ppIzMMdPnyYA786gFc5p8w4BZtu+DHn6OGj2BFj7uy5zJhx/JGfAwMDVFdXT0hsY1Hp8UHlx6j4yqP4ylNOfM3NzQ+5+6KRyqXdS+opwELgQmAmsNPM7nf3n8QLuftNwE0AixYt8qampsQD6+7uZv3V68ksyVA7q/b4jGlAVfSQnuxtWTZftzlXY+jo6GAiYhurSo8PKj9GxVcexVeeiYgvyQvNB4AzY+ONYVpcF9Du7s+6+6+BbwOvSjCmkrXf3U52bpbaObV559fOqSU7N8v2e7dPcGQiIslJMinsAs4xs3lmdiqwCtg2rMw3gNeb2Slm9lvABcDeBGMqWVtHG/Xz64uWqZ9fT9uOtgmKSEQkeYmdPnL3o2Z2BdAOTAe+5O57zOzyMP9Gd99rZt8EfggMAje7e2dSMY1Gb38vjTWNRctkqjP09PdMUEQiIslL9JqCu98F3DVs2o3Dxj8NfDrJOMairqaOw/2HmVk3s2CZ7ECWupq6CYxKRCRZatFcQEtTCz37itcCevb10NLcMkERiYgkT0mhgBXLVpA5kKHvYF/e+X0H+8gcyLD8wuUTHJmISHKUFApoaGhg41Ubye7M0vVAF4d6DzF4bJBDvYfoeqCL7M4sG6/aqAZsIjKlpN1OoaItWLCAzddtZvu922nb0UZPfw91NXWsaV7D8iuXKyGIyJSjpDCChoYG1q5ay9pVa9MORUQkcTp9JCIiOUoKIiKSo6QgIiI5SgoiIpKjpCAiIjlKCiIikqOkICIiOUoKIiKSo6QgIiI5SgoiIpKjpCAiIjlKCiIikqOkICIiOUoKIiKSo6QgIiI5SgoiIpKjpCAiIjlKCiIikpNoUjCzlWa2z8z2m9k1eeY3mVmvme0Orw1JxiMiIsUl9oxmM5sO3AAsA7qAXWa2zd0fHlb0Pnd/S1JxiIhI6ZKsKSwG9rv7I+7+HNAKXJzg+kREpEzm7sks2OwSYKW7XxbGLwUucPcrYmWagDuIahIHgI+4+548y1oHrAOYPXv2wtbW1kRiLtfAwADV1dVph1FQpccHlR+j4iuP4itPOfE1Nzc/5O6LRizo7om8gEuAm2PjlwLXDytTC1SH4YuAn4603IULF3ql2rFjR9ohFFXp8blXfoyKrzyKrzzlxAc86CXsu5M8fXQAODM23himxRNSn7sPhOG7gCozOyPBmEREpIgkk8Iu4Bwzm2dmpwKrgG3xAmY2x8wsDC8O8fQkGJOIiBSR2N1H7n7UzK4A2oHpwJfcfY+ZXR7m30h0iukDZnYUOASsCtUcERFJQWJJAXKnhO4aNu3G2PD1wPVJxiAiIqVTi2YREclRUhARkRwlBRERyVFSEBGRHCUFERHJUVIQEZEcJQUREclRUhARkRwlBRERyVFSEBGRHCUFERHJSbTvI4Hu7m7a726nraON3v5e6mrqaGlqYcWyFTQ0NKQdnojICVRTSFBnZyfrr17P1r1bqVpaReOqRqqWVrF171bWX72ezs7OtEMUETmBkkJCuru72bBpA5klGRoXNzKzbiY2zZhZN5PGxY1klmTYsGkD3d3daYcqIpKjpJCQ9rvbyc7NUjunNu/82jm1ZOdm2X7v9gmOTESksJKTgpnNNLP5SQYzlbR1tFE/v75omfr59bTtaJugiERERlZSUjCztwK7gW+G8Veb2bbi7zq59fb3MqNmRtEymeoMvf29ExSRiMjISq0pXAssBp4BcPfdwLyEYpoS6mrqONx/uGiZ7ECWupq6CYpIRGRkpSaFI+4+/JBWz1IuoqWphZ59PUXL9OzroaW5ZYIiEhEZWalJYY+ZrQGmm9k5ZvavwHcSjGvSW7FsBZkDGfoO9uWd33ewj8yBDMsvXD7BkYmIFFZqUvggcB6QBbYAvcCHkwpqKmhoaGDjVRvJ7szS9UAXh3oPMXhskEO9h+h6oIvsziwbr9qoBmwiUlFGbNFsZtOBje7+EeBjyYc0dSxYsIDN121m+73badvRRk9/D3U1daxpXsPyK5crIYhIxRkxKbj7MTN7/UQEMxU1NDSwdtVa1q5am3YoIiIjKrXvo++HW1D/A3h2aKK735FIVCIikopSrynMAHqA3wfeGl5vGelNZrbSzPaZ2X4zu6ZIud81s6NmdkmJ8YiISAJKqim4+3tHu+BwLeIGYBnQBewys23u/nCectcB6u9BRCRlpbZobjSzr5nZk+F1u5k1jvC2xcB+d3/E3Z8DWoGL85T7IHA78OSoIhcRkXFn7iO3QTOzu4luRf1KmPQuYK27LyvynkuAle5+WRi/FLjA3a+IlZkbltsMfAm4093/M8+y1gHrAGbPnr2wtbW1tE83wQYGBqiurk47jIIqPT6o/BgVX3kUX3nKia+5ufkhd180YkF3H/EF7C5l2rD5lwA3x8YvBa4fVuY/gNeG4VuAS0aKZeHChV6pduzYkXYIRVV6fO6VH6PiK4/iK0858QEPegn7+1LvPuoxs3cBW8P4aqILz8UcAM6MjTeGaXGLgFYzAzgDuMjMjrr710uMS0RExlGpdx+9D/gj4CDwBFEtYKSLz7uAc8xsnpmdCqwCTuhZ1d3nuftZ7n4W8J/AnyohiIikp9S7j34BvG00C3b3o2Z2BdAOTAe+5O57zOzyMP/G0QYrIiLJKikpmNm/AR9y92fC+AuAz7j7+4q9z93vAu4aNi1vMnD395QSi4iIJKfUawrnDyUEAHd/2sx+J6GYJKa7u5v2u9tp62ijt7+Xupo6WppaWLFshfpOEpFxV+o1hWmhdgCAmc2i9IQiY9TZ2cn6q9ezde9WqpZW0biqkaqlVWzdu5X1V6+ns7Mz7RBFZIopNSl8BthpZn9vZp8gepbCp5ILS7q7u9mwaQOZJRkaFzcys24mNs2YWTeTxsWNZJZk2LBpA93d3WmHKiJTSElJwd2/DLwD+BXRHUjvcPevFH+XlKP97nayc7PUzqnNO792Ti3ZuVm236veQURk/JTazcXLgJ+5+/VAJ/AmMzs90chOcm0dbdTPry9apn5+PW072iYoIhE5GZR6+uh24JiZnQ1sJmqUtiWxqITe/l5m1MwoWiZTnaG3f/ijs0VExq7UpDDo7keJTiFd7+5/CbwwubCkrqaOw/2Hi5bJDmSpq6mboIhE5GRQalI4YmargXcDd4ZpVcmEJAAtTS307Cvek0jPvh5amlsmKCIRORmUmhTeCywB/sHdHzWzeRzvMVUSsGLZCjIHMvQd7Ms7v+9gH5kDGZZfuHyCIxORqazUu48edvcr3X2rmb3G3R919+uSDu5k1tDQwMarNpLdmaXrgS4O9R5i8Nggh3oP0fVAF9mdWTZetVEN2ERkXI2lAdrNwGvGOxB5vgULFrD5us1sv3c7bTva6Onvoa6mjjXNa1h+5XIlBBEZd2NJCjbuUUhBDQ0NrF21lrWr1qYdioicBEq9phD38XGPQkREKsKok8LQ8w7M7BXjH46IiKRpLDWFIepfQURkiil6TcHMPldoFqBuLkREppiRLjS/F/gLIJtn3urxD0dERNI0UlLYBXS6+3eGzzCzaxOJSEREUjNSUrgEyNsBj7vPG/9wREQkTSNdaK52999MSCQiIpK6kZLC14cGzOz2hGMREZGUjZQU4q2XX5pkICIikr6RkoIXGBYRkSlopKTwKjPrM7N+4Pww3Gdm/WaWv0/nGDNbaWb7zGy/mV2TZ/7FZvZDM9ttZg+a2evH+kFERKR8Re8+cvfpY12wmU0HbgCWAV3ALjPb5u4Px4rdC2xzdzez84HbAHWfISKSknK6uRjJYmC/uz/i7s8BrcDF8QLuPuDuQ6elTkOnqEREUmXH98njvGCzS4CV7n5ZGL8UuMDdrxhW7g+AfwJ+G2hx9515lrUOWAcwe/bsha2trYnEXK6BgQGqq6vTDqOgSo8PKj9GxVcexVeecuJrbm5+yN0XjVjQ3RN5ETV8uzk2filwfZHyS4F7RlruwoULvVLt2LEj7RCKqvT43Cs/RsVXHsVXnnLiAx70EvbdSZ4+OgCcGRtvDNPycvdvAy81szMSjElERIpIMinsAs4xs3lmdiqwCtgWL2BmZ5uZheHXABmgJ8GYRESkiMSSgrsfBa4A2oG9wG3uvsfMLjezy0Ox/wl0mtluojuV3hmqOTJOuru7uXXLraxet5r9j+5n9brV3LrlVrq7u9MOTUQq0Fie0Vwyd78LuGvYtBtjw9cB1yUZw8mss7OTDZs2kJ2bpX5pPVU1VVQtrWLr3q3ccc8dbLxqIwsWLEg7TBGpIEmePpIUdXd3s2HTBjJLMjQubmRm3UwMY2bdTBoXN5JZkmHDpg2qMYjICZQUpqj2u9vJzs1SO6c27/zaObVk52bZfq+eqioixykpTFFtHW3Uz68vWqZ+fj1tO9omKCIRmQyUFKao3v5eZtTMKFomU52ht793giISkclASWGKqqup43B/3ofm5WQHstTV1E1QRCIyGSR695Gkp6Wpha17t9K4uLFgmZ59PaxpXjPisrq7u2m/u522jjZ6+3upq6mjpamFFctW0NDQMJ5hi0jKVFOYolYsW0HmQIa+g/l7OO872EfmQIblFy4vupzOzk7WX72erXu3UrW0isZVjbnbWtdfvZ7Ozs4kwheRlCgpTFENDQ1svGoj2Z1Zuh7o4lDvIdydQ72H6Hqgi+zOLBuv2lj0SD/vba3TdFuryFSmpDCFLViwgM3XbWbNeWs4et9Rjjx9hKP3HWXNeWvYfN3mERuu6bZWkZOPksIU19DQwNpVa9myeQtnzzubLZu3sHbV2pKuBei2VpGTj5KCFKTbWkVOPkoKUpBuaxU5+SgpSEEtTS307Cvek3nPvh5amlsmKCIRSZqSghQ0Xre1isjkocZrUtDQba0bNm2ga24X9fPryVRnyA5k6dnXQ+ZAZsTbWkGN30QmEyUFKWrottbt926nbUcbPf091NXUsaZ5DcuvXD7iTn34Mx0aaxo53H9Yz3QQqVBKCjKiodta165aO6r3xRu/Ncw5njyGGr/1Hexjw6YNbL5us2oMIhVC1xQkMWr8JjL5KClIYtT4TWTyUVKQxKjxm8jko6QgiVHjN5HJR0lBEqPGbyKTj5KCJEaN30Qmn0STgpmtNLN9ZrbfzK7JM3+tmf3QzH5kZt8xs1clGY9MrHzPdBg8NjiqZzqIyMRKrJ2CmU0HbgCWAV3ALjPb5u4Px4o9CrzR3Z82szcDNwEXJBWTTLxyG7+JyMRKsvHaYmC/uz8CYGatwMVALim4+3di5e8HCj9QWCatsTZ+qxTxbjouXHIhm7dsVjcdMmWZuyezYLNLgJXuflkYvxS4wN2vKFD+I8ArhsoPm7cOWAcwe/bsha2trYnEXK6BgQGqq6vTDqOgSo8P8sd49OhR+vr66O3v5djgMaZPm05dTR21tbWcckqyjfIPHz7MgV8dwKucU2acQs30GvqP9XP08FHsiDF39lxmzCh+2+1EqvT/seIrTznxNTc3P+Tui0YqVxHdXJhZM/B+4PX55rv7TUSnlli0aJE3NTVNXHCj0NHRQaXGBpUfHzw/xhP6Tppfz4zTZ3C4/zA93z/eIV9SfSd1d3ez/ur1ZJZkqJ0Vtcp+3eDr2Fm1E6qiC+XZ27IV1U1Hpf+PFV95JiK+JC80HwDOjI03hmknMLPzgZuBi929+P2LclKJ953UuLiRmXUzsWmW6zspsyTDhk0b6O7uTmT96qZDTkZJJoVdwDlmNs/MTgVWAdviBczsxcAdwKXu/pMEY5FJKO2dsrrpkJNRYknB3Y8CVwDtwF7gNnffY2aXm9nlodgGoB74vJntNrMHk4pHJp+0d8rqpkNORoleU3D3u4C7hk27MTZ8GfC8C8siEO2UG2uK35CWqc7Q05/MWcehbjpm1s0sWEbddMhUUxEXmkXyGa+d8lif/NbS1MLWvVtpXFw4MfXs62FN85qRP4zIJKFuLqRijUffSZ2dnay/ej1b926lamkVjasaqVpaxda9W1l/9Xo6OzsLvlfddMjJSElBKla5O+Vy717K102Hu4+6m47u7m5u3XIrq9et5qLVF7F63Wpu3XJrYndNiZRDSUEqVrl9J43H3UtD3XSsOW8NR+87ypGnj3D0vqOsOW8Nm6/bPGIbiXJqKuNFSUlGQ0lBKtrwnfLjtz1e8k55vO5eGuqmY8vmLZw972y2bN7C2lVrS6ohpNnOAiojKcnkogvNUvHG2ndS2ncvDdVUGubkTx61c2rpmtvF9nu3J9IvVDwpxWMYSkp9B/vYsGlDRbXIlvSppiBTVtpPfku7nUXajf9kclJSkCkr7Se/pd34Le2kJJOTkoJMWWnfUpp2TSXtpCSTk5IZSzlNAAAOR0lEQVSCTFlpP/ltvGoqY717KO2kJJOTkoJMaeXcvVSu8aiplHP3UNqnz2Ry0t1HMuWl9eS3oZrKhk0b6JrbRf38ejLVGbIDWXr2HX8eRKGaSrl3D61YtoI77rmDvoN9eS8255LSlcm2yC73yXVj7aZExkY1BZEElVNTKffuofE6fVZO47fhNZ2qWVWjaiehdhYTTzUFkYSNtabS1tFG/dLS7h4qtOyhpLT93u207Wijp7+Hupo61jSvYfmVy0dMCCc8+W5pPY01jRzuP8zWvVu54547ij75Ll9Nxwat5JqO2lmkQzUFkQo1XncPxVtkt21pm7AW2eXWdNTOIh1KCiIVKu27h8rdKZfbTkLtLNKhpCBSodK+e6jcnXK5NR21s0iHkoJIhUq78V25O+Vyazpp15ROVkoKIhUq7cZ35e6Uy63ppF1TOlkpKYhUsDQb35W7Uy63ppN2TelkpVtSRSpcWo3vym38lq/xnldHT64rpfFeuY3/xkvajefKbfw3WqopiEhe43H6qtwn16VZU4L0G8+V2/hvLFRTEJGCym38BifWdDo6OrjsvZeNKoa0akrj1XhurDWNchv/jZWSgogUldZOebyMdac8Hk/OK6dFeFpP7kv09JGZrTSzfWa238yuyTP/FWa208yyZvaRJGMRkZNPOad/ym2nUW6L8LQa7yWWFMxsOnAD8GbgXGC1mZ07rNhTwJXAPycVh4icnMrdKZfbTqPcFuFpNd5LsqawGNjv7o+4+3NAK3BxvIC7P+nuu4AjCcYhIiehcnfK5bbTKPdIP63Ge+bu47rA3ILNLgFWuvtlYfxS4AJ3vyJP2WuBAXfPW2Mws3XAOoDZs2cvbG1tTSTmcg0MDFBdXZ12GAVVenxQ+TEqvvJMZHyP/uJRrMaYNr3wse/gsUF8wJn34nnPi++pp57iqcNPcepppxZ8/3PPPsesmbOY9YJZz5u3/9H9VM2qwrCC73d3jjx9hLPnnf28efnWfxqn8SzPlrT+4Zqbmx9y90UjlZsUF5rd/SbgJoBFixZ5U1NTugEV0NHRQaXGBpUfH1R+jIqvPBMZ36dWf4rGVY3YtMI75UEf5PFvPk7blrbnxdfd3c36q9eTWZIp2E4juzNb8O6fzVs2U7W0ipl1Mwuu/1DvIY7efzTvHVn51v+6wdfx39P+u6T1j1WSp48OAGfGxhvDNBGRxJV7+qXcdhrltgjPt353T7ybkySTwi7gHDObZ2anAquAbQmuT0QkZzz6Tiqn8dx4dNNRbuO/sUjs9JG7HzWzK4B2YDrwJXffY2aXh/k3mtkc4EGgFhg0sw8D57p7/q0oIlKi8XpG9VjbaYxXNx3lNv4brUSvKbj7XcBdw6bdGBs+SHRaSURkXFVC30nj0SJ8ok2KC80iImNRCTvlydYiXElBRKa0ybZTTpt6SRURkRwlBRERyVFSEBGRHCUFERHJUVIQEZEcJQUREclRUhARkRwlBRERyVFSEBGRHCUFERHJUVIQEZGcxB7HmRQz6wZ+kXYcBZwB/DrtIIqo9Pig8mNUfOVRfOUpJ76XuPuIPQBOuqRQyczswVKegZqWSo8PKj9GxVcexVeeiYhPp49ERCRHSUFERHKUFMbXTWkHMIJKjw8qP0bFVx7FV57E49M1BRERyVFNQUREcpQUREQkR0lhlMzs52b2IzPbbWYPhmmzzOxuM/tp+PuCWPmPmtl+M9tnZisSiOdLZvakmXXGpo06HjNbGD7XfjP7nJlZgvFda2YHwjbcbWYXpRjfmWa2w8weNrM9ZvahML0itmGR+CpiG5rZDDN7wMx+EOL7eJheKduvUHwVsf3Ccqeb2ffN7M4wnu62c3e9RvECfg6cMWzap4BrwvA1wHVh+FzgB0AGmAf8DJg+zvEsBV4DdJYTD/AA8FrAgP8LvDnB+K4FPpKnbBrxvRB4TRiuAX4S4qiIbVgkvorYhmFZ1WG4CvhuWEelbL9C8VXE9gvLvQrYAtwZxlPddqopjI+LgX8Lw/8GvD02vdXds+7+KLAfWDyeK3b3bwNPlROPmb0QqHX3+z36hn059p4k4iskjfiecPfvheF+YC8wlwrZhkXiK2Si43N3HwijVeHlVM72KxRfIRMan5k1Ai3AzcNiSG3bKSmMngP3mNlDZrYuTJvt7k+E4YPA7DA8F3gs9t4uiv+gx8to45kbhodPT9IHzeyH4fTSUPU41fjM7Czgd4iOJituGw6LDypkG4bTH7uBJ4G73b2itl+B+KAytt9ngb8CBmPTUt12Sgqj93p3fzXwZuDPzGxpfGbI1BVzn2+lxRP8L+ClwKuBJ4DPpBsOmFk1cDvwYXfvi8+rhG2YJ76K2Ybufiz8JhqJjlwXDJuf6vYrEF/q28/M3gI86e4PFSqTxrZTUhgldz8Q/j4JfI3odNCvQhWO8PfJUPwAcGbs7Y1hWtJGG8+BMDwhcbr7r8IPdRD4AsdPqaUSn5lVEe1w/93d7wiTK2Yb5ouv0rZhiOkZYAewkgrafvniq5Dt9zrgbWb2c6AV+H0zu5WUt52SwiiY2WlmVjM0DCwHOoFtwB+HYn8MfCMMbwNWmVnGzOYB5xBdEEraqOIJVdU+M3ttuGvh3bH3jLuhL3zwB0TbMJX4wvK+COx1902xWRWxDQvFVynb0MwazOz0MDwTWAb8mMrZfnnjq4Tt5+4fdfdGdz8LWAX8l7u/i7S33VivUJ+ML6Lq5g/Caw/wsTC9HrgX+ClwDzAr9p6PEd0lsI9xulthWExbiaq/R4jOJb5/LPEAi4h+GD8Drie0dk8ovq8APwJ+GL7oL0wxvtcTVc9/COwOr4sqZRsWia8itiFwPvD9EEcnsGGsv4kJjq8itl9s2U0cv/so1W2nbi5ERCRHp49ERCRHSUFERHKUFEREJEdJQUREcpQUREQkR0lBRsXM3Mw+Exv/iJldO07LvsXMLhmPZY2wnj80s71mtiPpdeVZ91lmtiY2vsjMPjfRcZTLzAZGLiWTkZKCjFYWeIeZnZF2IHFmdsooir8f+BN3b04qniLOAnJJwd0fdPcrU4hDJC8lBRmto0TPif3z4TOGH+kPHU2aWZOZfcvMvmFmj5jZJ81srUX93P/IzF4WW8ybzOxBM/tJ6BtmqEOzT5vZrtCB2frYcu8zs23Aw3niWR2W32lm14VpG4gahH3RzD49rHyTmXWY2X+a2Y/N7N9DC9Gh/uq/ZVFHiO2xbgh+N8S0O8TYGaafFWL7Xnj9XljNJ4E3hPJ/HtZ5p5lNs+hZHafH4vmpmc0OrXJvD59/l5m9Ls9nPS9sz90hnnPC9K+HmPfY8Q4cMbOBEO8eM7vHzBaHz/6Imb0tlHlP+J91hFj+Lt8Xwsz+Mva/GXpewWlm1mbRcww6zeyd+d4rFWi8WuTpdXK8gAGglui5EnXAR4Brw7xbgEviZcPfJuAZomcDZIj6Zfl4mPch4LOx93+T6GDlHKIW0DOAdcDfhDIZ4EGi/uSbgGeBeXnifBHwS6ABOAX4L+DtYV4HsCjPe5qAXqK+Y6YBO4kSSBXwHaAhlHsn8KUw3AksCcOfJDw3AvgtYEYYPgd4MLaOO4etc6gl678A7w3DFwD3hOEtRB0xAryYqMuL4bH/K7A2DJ8KzAzDs8LfmSHW+jDuhBaxRH14bQ+f81XA7jD9PUSt0etj71807H+7nOggwcI2u5PoGRr/E/hCLL66tL+7epX2Gk2VWwQAd+8zsy8DVwKHSnzbLg/dAZvZz4h2QhB1NRA/jXObR52U/dTMHgFeQbTjOT9WC6kj2tE+R9T3y6N51ve7QIe7d4d1/jvRzurrI8T5gLt3hffsJjrd8wywALg7VBymA0+Eo/oad98Z3rsFeEsYrgKuN7NXA8eAl4+wXoCvAhuA/03UF85Xw/Q3Aefa8Ydp1ZpZtR9/TgBECexjFvXPf4e7/zRMv9LM/iAMn0m03XqItt03w/QfAVl3P2JmPwqfecjd7t4TtscdREnywdj85eH1/TBeHdZxH/CZUEO7093vK+HzSwVQUpCx+izwPaId2JCjhFOSZjaN6Ih1SDY2PBgbH+TE7+Hwflec6Cj0g+7eHp9hZk1ENYXxFI/zWIjNgD3uvmTY+k+nsD8HfkV05D0NOFzCuncCZ5tZA9FDUj4Rpk8DXuvuBZfh7lvM7LtED2y5K5xiGyRKKEvc/Tdm1kFU8wI44uEQntj/w90Hh12fyff/iDPgn9x98/CYzOw1RP00fcLM7nX3jUU+u1QIXVOQMXH3p4DbiC7aDvk5sDAMv43oaHm0/jCcX38ZUQeE+4B24AMWdSGNmb3col5qi3kAeKOZnWFm04HVwLfGEA8hhgYzWxLWX2Vm53nUFXO/mV0Qyq2KvacOeCLUei4lql0A9BM9VvN5wk76a8AmolNEPWHWduCDQ+VC7eMEZvZS4BF3/xxRD5nnhxieDgnhFUSPaxytZRY9M3gmUaL672Hz24H3WfS8B8xsrpn9tpm9CPiNu98KfJrokawyCaimIOX4DHBFbPwLwDfM7AdEpybGchT/S6Idei1wubsfNrObiU5pfC9c+O1mhMcNuvsTZnYNUf/5BrS5+5i6E3b358Kpq8+ZWR3R7+azRD3lvh/4gpkNEiWd3vC2zwO3m9m7OXFb/BA4FrbRLRw/7TLkq8AuovP5Q64EbjCzH4Z1fxu4fNj7/gi41MyOED2t6x/DOi83s71Eie3+MXz8B4ie5dAI3Oru8VNHuPt2M3slsDOc3hoA3gWcDXw6bJcjwAfGsG5JgXpJFSlD/Nx+SEIvdPcPpRzWuDCz9xBdWL5ipLIydaimIFKeFjP7KNFv6ReceIQvMumopiAiIjm60CwiIjlKCiIikqOkICIiOUoKIiKSo6QgIiI5/x+BRJqax0PTlwAAAABJRU5ErkJggg==)"
      ],
      "metadata": {
        "id": "Gywxr6YJdRAn"
      }
    },
    {
      "cell_type": "code",
      "source": [
        "plt.scatter(n_neg.precision_scores,color='orange',edgecolor='black',alpha=0.6,s=100)\n",
        "plt.title(\"Precision score as function of negative samples\")\n",
        "plt.grid(True)\n",
        "plt.ylabel(\"Precision score\")\n",
        "plt.xlabel(\"Number of negative samples\")"
      ],
      "metadata": {
        "id": "AJ1FSMBjdaa0"
      },
      "execution_count": null,
      "outputs": []
    },
    {
      "cell_type": "markdown",
      "source": [
        "      Precision score as function of negative samples\n",
        "      ![f.png](data:image/png;base64,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)"
      ],
      "metadata": {
        "id": "7xCVQkWfdtZ3"
      }
    },
    {
      "cell_type": "code",
      "source": [
        "plt.scatter(n_neg,recall_scores,color='blue',edgecolor='black',alpha=0.6,s=100)\n",
        "plt.title(\"Recall score as function of negative samples\")\n",
        "plt.grid(True)\n",
        "plt.ylabel(\"Recall score\")\n",
        "plt.xlabel(\"Number of negative samples\")"
      ],
      "metadata": {
        "id": "K9qkiFLLd3qP"
      },
      "execution_count": null,
      "outputs": []
    },
    {
      "cell_type": "markdown",
      "source": [
        "      Recall score as function of negative samples\n",
        "      ![fq.png](data:image/png;base64,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)"
      ],
      "metadata": {
        "id": "AN8WvaCId4GC"
      }
    },
    {
      "cell_type": "markdown",
      "source": [
        "***Dolayısıyla, daha fazla negatif örnekle hassasiyet hızla düşer ve F1 puanı da düşer. Geri çağırma, negatif örneklerin pozitif örneklerle karıştırılmasından büyük ölçüde etkilenmez.***"
      ],
      "metadata": {
        "id": "Y7kBo_RmeE2C"
      }
    }
  ]
}