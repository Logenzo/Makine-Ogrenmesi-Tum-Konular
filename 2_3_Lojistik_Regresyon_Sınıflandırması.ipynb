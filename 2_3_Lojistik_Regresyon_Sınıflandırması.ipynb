{
  "nbformat": 4,
  "nbformat_minor": 0,
  "metadata": {
    "colab": {
      "provenance": []
    },
    "kernelspec": {
      "name": "python3",
      "display_name": "Python 3"
    },
    "language_info": {
      "name": "python"
    }
  },
  "cells": [
    {
      "cell_type": "markdown",
      "source": [
        "# **Kaggle Titanic veri seti ile Lojistik Regresyon**\n",
        "\n",
        "***Paketleri ve veri setini içe aktarma***"
      ],
      "metadata": {
        "id": "M1ZJIPT_BFy5"
      }
    },
    {
      "cell_type": "code",
      "execution_count": 1,
      "metadata": {
        "colab": {
          "base_uri": "https://localhost:8080/",
          "height": 389
        },
        "id": "azR-HZq2A1b8",
        "outputId": "d04b81b6-a14e-4c3f-b9ce-031526ffe177"
      },
      "outputs": [
        {
          "output_type": "execute_result",
          "data": {
            "text/plain": [
              "   PassengerId  Survived  Pclass  \\\n",
              "0            1         0       3   \n",
              "1            2         1       1   \n",
              "2            3         1       3   \n",
              "3            4         1       1   \n",
              "4            5         0       3   \n",
              "\n",
              "                                                Name     Sex   Age  SibSp  \\\n",
              "0                            Braund, Mr. Owen Harris    male  22.0      1   \n",
              "1  Cumings, Mrs. John Bradley (Florence Briggs Th...  female  38.0      1   \n",
              "2                             Heikkinen, Miss. Laina  female  26.0      0   \n",
              "3       Futrelle, Mrs. Jacques Heath (Lily May Peel)  female  35.0      1   \n",
              "4                           Allen, Mr. William Henry    male  35.0      0   \n",
              "\n",
              "   Parch            Ticket     Fare Cabin Embarked  \n",
              "0      0         A/5 21171   7.2500   NaN        S  \n",
              "1      0          PC 17599  71.2833   C85        C  \n",
              "2      0  STON/O2. 3101282   7.9250   NaN        S  \n",
              "3      0            113803  53.1000  C123        S  \n",
              "4      0            373450   8.0500   NaN        S  "
            ],
            "text/html": [
              "\n",
              "  <div id=\"df-387713c1-1f75-432b-ad86-c51b2e86f7f9\">\n",
              "    <div class=\"colab-df-container\">\n",
              "      <div>\n",
              "<style scoped>\n",
              "    .dataframe tbody tr th:only-of-type {\n",
              "        vertical-align: middle;\n",
              "    }\n",
              "\n",
              "    .dataframe tbody tr th {\n",
              "        vertical-align: top;\n",
              "    }\n",
              "\n",
              "    .dataframe thead th {\n",
              "        text-align: right;\n",
              "    }\n",
              "</style>\n",
              "<table border=\"1\" class=\"dataframe\">\n",
              "  <thead>\n",
              "    <tr style=\"text-align: right;\">\n",
              "      <th></th>\n",
              "      <th>PassengerId</th>\n",
              "      <th>Survived</th>\n",
              "      <th>Pclass</th>\n",
              "      <th>Name</th>\n",
              "      <th>Sex</th>\n",
              "      <th>Age</th>\n",
              "      <th>SibSp</th>\n",
              "      <th>Parch</th>\n",
              "      <th>Ticket</th>\n",
              "      <th>Fare</th>\n",
              "      <th>Cabin</th>\n",
              "      <th>Embarked</th>\n",
              "    </tr>\n",
              "  </thead>\n",
              "  <tbody>\n",
              "    <tr>\n",
              "      <th>0</th>\n",
              "      <td>1</td>\n",
              "      <td>0</td>\n",
              "      <td>3</td>\n",
              "      <td>Braund, Mr. Owen Harris</td>\n",
              "      <td>male</td>\n",
              "      <td>22.0</td>\n",
              "      <td>1</td>\n",
              "      <td>0</td>\n",
              "      <td>A/5 21171</td>\n",
              "      <td>7.2500</td>\n",
              "      <td>NaN</td>\n",
              "      <td>S</td>\n",
              "    </tr>\n",
              "    <tr>\n",
              "      <th>1</th>\n",
              "      <td>2</td>\n",
              "      <td>1</td>\n",
              "      <td>1</td>\n",
              "      <td>Cumings, Mrs. John Bradley (Florence Briggs Th...</td>\n",
              "      <td>female</td>\n",
              "      <td>38.0</td>\n",
              "      <td>1</td>\n",
              "      <td>0</td>\n",
              "      <td>PC 17599</td>\n",
              "      <td>71.2833</td>\n",
              "      <td>C85</td>\n",
              "      <td>C</td>\n",
              "    </tr>\n",
              "    <tr>\n",
              "      <th>2</th>\n",
              "      <td>3</td>\n",
              "      <td>1</td>\n",
              "      <td>3</td>\n",
              "      <td>Heikkinen, Miss. Laina</td>\n",
              "      <td>female</td>\n",
              "      <td>26.0</td>\n",
              "      <td>0</td>\n",
              "      <td>0</td>\n",
              "      <td>STON/O2. 3101282</td>\n",
              "      <td>7.9250</td>\n",
              "      <td>NaN</td>\n",
              "      <td>S</td>\n",
              "    </tr>\n",
              "    <tr>\n",
              "      <th>3</th>\n",
              "      <td>4</td>\n",
              "      <td>1</td>\n",
              "      <td>1</td>\n",
              "      <td>Futrelle, Mrs. Jacques Heath (Lily May Peel)</td>\n",
              "      <td>female</td>\n",
              "      <td>35.0</td>\n",
              "      <td>1</td>\n",
              "      <td>0</td>\n",
              "      <td>113803</td>\n",
              "      <td>53.1000</td>\n",
              "      <td>C123</td>\n",
              "      <td>S</td>\n",
              "    </tr>\n",
              "    <tr>\n",
              "      <th>4</th>\n",
              "      <td>5</td>\n",
              "      <td>0</td>\n",
              "      <td>3</td>\n",
              "      <td>Allen, Mr. William Henry</td>\n",
              "      <td>male</td>\n",
              "      <td>35.0</td>\n",
              "      <td>0</td>\n",
              "      <td>0</td>\n",
              "      <td>373450</td>\n",
              "      <td>8.0500</td>\n",
              "      <td>NaN</td>\n",
              "      <td>S</td>\n",
              "    </tr>\n",
              "  </tbody>\n",
              "</table>\n",
              "</div>\n",
              "      <button class=\"colab-df-convert\" onclick=\"convertToInteractive('df-387713c1-1f75-432b-ad86-c51b2e86f7f9')\"\n",
              "              title=\"Convert this dataframe to an interactive table.\"\n",
              "              style=\"display:none;\">\n",
              "        \n",
              "  <svg xmlns=\"http://www.w3.org/2000/svg\" height=\"24px\"viewBox=\"0 0 24 24\"\n",
              "       width=\"24px\">\n",
              "    <path d=\"M0 0h24v24H0V0z\" fill=\"none\"/>\n",
              "    <path d=\"M18.56 5.44l.94 2.06.94-2.06 2.06-.94-2.06-.94-.94-2.06-.94 2.06-2.06.94zm-11 1L8.5 8.5l.94-2.06 2.06-.94-2.06-.94L8.5 2.5l-.94 2.06-2.06.94zm10 10l.94 2.06.94-2.06 2.06-.94-2.06-.94-.94-2.06-.94 2.06-2.06.94z\"/><path d=\"M17.41 7.96l-1.37-1.37c-.4-.4-.92-.59-1.43-.59-.52 0-1.04.2-1.43.59L10.3 9.45l-7.72 7.72c-.78.78-.78 2.05 0 2.83L4 21.41c.39.39.9.59 1.41.59.51 0 1.02-.2 1.41-.59l7.78-7.78 2.81-2.81c.8-.78.8-2.07 0-2.86zM5.41 20L4 18.59l7.72-7.72 1.47 1.35L5.41 20z\"/>\n",
              "  </svg>\n",
              "      </button>\n",
              "      \n",
              "  <style>\n",
              "    .colab-df-container {\n",
              "      display:flex;\n",
              "      flex-wrap:wrap;\n",
              "      gap: 12px;\n",
              "    }\n",
              "\n",
              "    .colab-df-convert {\n",
              "      background-color: #E8F0FE;\n",
              "      border: none;\n",
              "      border-radius: 50%;\n",
              "      cursor: pointer;\n",
              "      display: none;\n",
              "      fill: #1967D2;\n",
              "      height: 32px;\n",
              "      padding: 0 0 0 0;\n",
              "      width: 32px;\n",
              "    }\n",
              "\n",
              "    .colab-df-convert:hover {\n",
              "      background-color: #E2EBFA;\n",
              "      box-shadow: 0px 1px 2px rgba(60, 64, 67, 0.3), 0px 1px 3px 1px rgba(60, 64, 67, 0.15);\n",
              "      fill: #174EA6;\n",
              "    }\n",
              "\n",
              "    [theme=dark] .colab-df-convert {\n",
              "      background-color: #3B4455;\n",
              "      fill: #D2E3FC;\n",
              "    }\n",
              "\n",
              "    [theme=dark] .colab-df-convert:hover {\n",
              "      background-color: #434B5C;\n",
              "      box-shadow: 0px 1px 3px 1px rgba(0, 0, 0, 0.15);\n",
              "      filter: drop-shadow(0px 1px 2px rgba(0, 0, 0, 0.3));\n",
              "      fill: #FFFFFF;\n",
              "    }\n",
              "  </style>\n",
              "\n",
              "      <script>\n",
              "        const buttonEl =\n",
              "          document.querySelector('#df-387713c1-1f75-432b-ad86-c51b2e86f7f9 button.colab-df-convert');\n",
              "        buttonEl.style.display =\n",
              "          google.colab.kernel.accessAllowed ? 'block' : 'none';\n",
              "\n",
              "        async function convertToInteractive(key) {\n",
              "          const element = document.querySelector('#df-387713c1-1f75-432b-ad86-c51b2e86f7f9');\n",
              "          const dataTable =\n",
              "            await google.colab.kernel.invokeFunction('convertToInteractive',\n",
              "                                                     [key], {});\n",
              "          if (!dataTable) return;\n",
              "\n",
              "          const docLinkHtml = 'Like what you see? Visit the ' +\n",
              "            '<a target=\"_blank\" href=https://colab.research.google.com/notebooks/data_table.ipynb>data table notebook</a>'\n",
              "            + ' to learn more about interactive tables.';\n",
              "          element.innerHTML = '';\n",
              "          dataTable['output_type'] = 'display_data';\n",
              "          await google.colab.output.renderOutput(dataTable, element);\n",
              "          const docLink = document.createElement('div');\n",
              "          docLink.innerHTML = docLinkHtml;\n",
              "          element.appendChild(docLink);\n",
              "        }\n",
              "      </script>\n",
              "    </div>\n",
              "  </div>\n",
              "  "
            ]
          },
          "metadata": {},
          "execution_count": 1
        }
      ],
      "source": [
        "import pandas as pd\n",
        "import numpy as np\n",
        "import matplotlib.pyplot as plt\n",
        "import seaborn as sns\n",
        "%matplotlib inline\n",
        "\n",
        "train = pd.read_csv('titanic_train.csv') \n",
        "train.head()"
      ]
    },
    {
      "cell_type": "markdown",
      "source": [
        "***Kayıp değerler de dahil olmak üzere veri seti hakkında temel bilgileri kontrol edin***"
      ],
      "metadata": {
        "id": "xusSUpDgCAsx"
      }
    },
    {
      "cell_type": "code",
      "source": [
        "t = train.info()"
      ],
      "metadata": {
        "colab": {
          "base_uri": "https://localhost:8080/"
        },
        "id": "8y1IhHq-CCEx",
        "outputId": "5c454d51-9dc9-4c40-f2f6-1c1847b6e6fe"
      },
      "execution_count": 2,
      "outputs": [
        {
          "output_type": "stream",
          "name": "stdout",
          "text": [
            "<class 'pandas.core.frame.DataFrame'>\n",
            "RangeIndex: 891 entries, 0 to 890\n",
            "Data columns (total 12 columns):\n",
            " #   Column       Non-Null Count  Dtype  \n",
            "---  ------       --------------  -----  \n",
            " 0   PassengerId  891 non-null    int64  \n",
            " 1   Survived     891 non-null    int64  \n",
            " 2   Pclass       891 non-null    int64  \n",
            " 3   Name         891 non-null    object \n",
            " 4   Sex          891 non-null    object \n",
            " 5   Age          714 non-null    float64\n",
            " 6   SibSp        891 non-null    int64  \n",
            " 7   Parch        891 non-null    int64  \n",
            " 8   Ticket       891 non-null    object \n",
            " 9   Fare         891 non-null    float64\n",
            " 10  Cabin        204 non-null    object \n",
            " 11  Embarked     889 non-null    object \n",
            "dtypes: float64(2), int64(5), object(5)\n",
            "memory usage: 83.7+ KB\n"
          ]
        }
      ]
    },
    {
      "cell_type": "code",
      "source": [
        "d = train.describe()\n",
        "d"
      ],
      "metadata": {
        "colab": {
          "base_uri": "https://localhost:8080/",
          "height": 300
        },
        "id": "HkYOkM2YCDjY",
        "outputId": "c4bacc9d-20e5-4b74-c1ed-5b670f055f9a"
      },
      "execution_count": 3,
      "outputs": [
        {
          "output_type": "execute_result",
          "data": {
            "text/plain": [
              "       PassengerId    Survived      Pclass         Age       SibSp  \\\n",
              "count   891.000000  891.000000  891.000000  714.000000  891.000000   \n",
              "mean    446.000000    0.383838    2.308642   29.699118    0.523008   \n",
              "std     257.353842    0.486592    0.836071   14.526497    1.102743   \n",
              "min       1.000000    0.000000    1.000000    0.420000    0.000000   \n",
              "25%     223.500000    0.000000    2.000000   20.125000    0.000000   \n",
              "50%     446.000000    0.000000    3.000000   28.000000    0.000000   \n",
              "75%     668.500000    1.000000    3.000000   38.000000    1.000000   \n",
              "max     891.000000    1.000000    3.000000   80.000000    8.000000   \n",
              "\n",
              "            Parch        Fare  \n",
              "count  891.000000  891.000000  \n",
              "mean     0.381594   32.204208  \n",
              "std      0.806057   49.693429  \n",
              "min      0.000000    0.000000  \n",
              "25%      0.000000    7.910400  \n",
              "50%      0.000000   14.454200  \n",
              "75%      0.000000   31.000000  \n",
              "max      6.000000  512.329200  "
            ],
            "text/html": [
              "\n",
              "  <div id=\"df-6594b8d2-e67e-438c-b239-574e4213785d\">\n",
              "    <div class=\"colab-df-container\">\n",
              "      <div>\n",
              "<style scoped>\n",
              "    .dataframe tbody tr th:only-of-type {\n",
              "        vertical-align: middle;\n",
              "    }\n",
              "\n",
              "    .dataframe tbody tr th {\n",
              "        vertical-align: top;\n",
              "    }\n",
              "\n",
              "    .dataframe thead th {\n",
              "        text-align: right;\n",
              "    }\n",
              "</style>\n",
              "<table border=\"1\" class=\"dataframe\">\n",
              "  <thead>\n",
              "    <tr style=\"text-align: right;\">\n",
              "      <th></th>\n",
              "      <th>PassengerId</th>\n",
              "      <th>Survived</th>\n",
              "      <th>Pclass</th>\n",
              "      <th>Age</th>\n",
              "      <th>SibSp</th>\n",
              "      <th>Parch</th>\n",
              "      <th>Fare</th>\n",
              "    </tr>\n",
              "  </thead>\n",
              "  <tbody>\n",
              "    <tr>\n",
              "      <th>count</th>\n",
              "      <td>891.000000</td>\n",
              "      <td>891.000000</td>\n",
              "      <td>891.000000</td>\n",
              "      <td>714.000000</td>\n",
              "      <td>891.000000</td>\n",
              "      <td>891.000000</td>\n",
              "      <td>891.000000</td>\n",
              "    </tr>\n",
              "    <tr>\n",
              "      <th>mean</th>\n",
              "      <td>446.000000</td>\n",
              "      <td>0.383838</td>\n",
              "      <td>2.308642</td>\n",
              "      <td>29.699118</td>\n",
              "      <td>0.523008</td>\n",
              "      <td>0.381594</td>\n",
              "      <td>32.204208</td>\n",
              "    </tr>\n",
              "    <tr>\n",
              "      <th>std</th>\n",
              "      <td>257.353842</td>\n",
              "      <td>0.486592</td>\n",
              "      <td>0.836071</td>\n",
              "      <td>14.526497</td>\n",
              "      <td>1.102743</td>\n",
              "      <td>0.806057</td>\n",
              "      <td>49.693429</td>\n",
              "    </tr>\n",
              "    <tr>\n",
              "      <th>min</th>\n",
              "      <td>1.000000</td>\n",
              "      <td>0.000000</td>\n",
              "      <td>1.000000</td>\n",
              "      <td>0.420000</td>\n",
              "      <td>0.000000</td>\n",
              "      <td>0.000000</td>\n",
              "      <td>0.000000</td>\n",
              "    </tr>\n",
              "    <tr>\n",
              "      <th>25%</th>\n",
              "      <td>223.500000</td>\n",
              "      <td>0.000000</td>\n",
              "      <td>2.000000</td>\n",
              "      <td>20.125000</td>\n",
              "      <td>0.000000</td>\n",
              "      <td>0.000000</td>\n",
              "      <td>7.910400</td>\n",
              "    </tr>\n",
              "    <tr>\n",
              "      <th>50%</th>\n",
              "      <td>446.000000</td>\n",
              "      <td>0.000000</td>\n",
              "      <td>3.000000</td>\n",
              "      <td>28.000000</td>\n",
              "      <td>0.000000</td>\n",
              "      <td>0.000000</td>\n",
              "      <td>14.454200</td>\n",
              "    </tr>\n",
              "    <tr>\n",
              "      <th>75%</th>\n",
              "      <td>668.500000</td>\n",
              "      <td>1.000000</td>\n",
              "      <td>3.000000</td>\n",
              "      <td>38.000000</td>\n",
              "      <td>1.000000</td>\n",
              "      <td>0.000000</td>\n",
              "      <td>31.000000</td>\n",
              "    </tr>\n",
              "    <tr>\n",
              "      <th>max</th>\n",
              "      <td>891.000000</td>\n",
              "      <td>1.000000</td>\n",
              "      <td>3.000000</td>\n",
              "      <td>80.000000</td>\n",
              "      <td>8.000000</td>\n",
              "      <td>6.000000</td>\n",
              "      <td>512.329200</td>\n",
              "    </tr>\n",
              "  </tbody>\n",
              "</table>\n",
              "</div>\n",
              "      <button class=\"colab-df-convert\" onclick=\"convertToInteractive('df-6594b8d2-e67e-438c-b239-574e4213785d')\"\n",
              "              title=\"Convert this dataframe to an interactive table.\"\n",
              "              style=\"display:none;\">\n",
              "        \n",
              "  <svg xmlns=\"http://www.w3.org/2000/svg\" height=\"24px\"viewBox=\"0 0 24 24\"\n",
              "       width=\"24px\">\n",
              "    <path d=\"M0 0h24v24H0V0z\" fill=\"none\"/>\n",
              "    <path d=\"M18.56 5.44l.94 2.06.94-2.06 2.06-.94-2.06-.94-.94-2.06-.94 2.06-2.06.94zm-11 1L8.5 8.5l.94-2.06 2.06-.94-2.06-.94L8.5 2.5l-.94 2.06-2.06.94zm10 10l.94 2.06.94-2.06 2.06-.94-2.06-.94-.94-2.06-.94 2.06-2.06.94z\"/><path d=\"M17.41 7.96l-1.37-1.37c-.4-.4-.92-.59-1.43-.59-.52 0-1.04.2-1.43.59L10.3 9.45l-7.72 7.72c-.78.78-.78 2.05 0 2.83L4 21.41c.39.39.9.59 1.41.59.51 0 1.02-.2 1.41-.59l7.78-7.78 2.81-2.81c.8-.78.8-2.07 0-2.86zM5.41 20L4 18.59l7.72-7.72 1.47 1.35L5.41 20z\"/>\n",
              "  </svg>\n",
              "      </button>\n",
              "      \n",
              "  <style>\n",
              "    .colab-df-container {\n",
              "      display:flex;\n",
              "      flex-wrap:wrap;\n",
              "      gap: 12px;\n",
              "    }\n",
              "\n",
              "    .colab-df-convert {\n",
              "      background-color: #E8F0FE;\n",
              "      border: none;\n",
              "      border-radius: 50%;\n",
              "      cursor: pointer;\n",
              "      display: none;\n",
              "      fill: #1967D2;\n",
              "      height: 32px;\n",
              "      padding: 0 0 0 0;\n",
              "      width: 32px;\n",
              "    }\n",
              "\n",
              "    .colab-df-convert:hover {\n",
              "      background-color: #E2EBFA;\n",
              "      box-shadow: 0px 1px 2px rgba(60, 64, 67, 0.3), 0px 1px 3px 1px rgba(60, 64, 67, 0.15);\n",
              "      fill: #174EA6;\n",
              "    }\n",
              "\n",
              "    [theme=dark] .colab-df-convert {\n",
              "      background-color: #3B4455;\n",
              "      fill: #D2E3FC;\n",
              "    }\n",
              "\n",
              "    [theme=dark] .colab-df-convert:hover {\n",
              "      background-color: #434B5C;\n",
              "      box-shadow: 0px 1px 3px 1px rgba(0, 0, 0, 0.15);\n",
              "      filter: drop-shadow(0px 1px 2px rgba(0, 0, 0, 0.3));\n",
              "      fill: #FFFFFF;\n",
              "    }\n",
              "  </style>\n",
              "\n",
              "      <script>\n",
              "        const buttonEl =\n",
              "          document.querySelector('#df-6594b8d2-e67e-438c-b239-574e4213785d button.colab-df-convert');\n",
              "        buttonEl.style.display =\n",
              "          google.colab.kernel.accessAllowed ? 'block' : 'none';\n",
              "\n",
              "        async function convertToInteractive(key) {\n",
              "          const element = document.querySelector('#df-6594b8d2-e67e-438c-b239-574e4213785d');\n",
              "          const dataTable =\n",
              "            await google.colab.kernel.invokeFunction('convertToInteractive',\n",
              "                                                     [key], {});\n",
              "          if (!dataTable) return;\n",
              "\n",
              "          const docLinkHtml = 'Like what you see? Visit the ' +\n",
              "            '<a target=\"_blank\" href=https://colab.research.google.com/notebooks/data_table.ipynb>data table notebook</a>'\n",
              "            + ' to learn more about interactive tables.';\n",
              "          element.innerHTML = '';\n",
              "          dataTable['output_type'] = 'display_data';\n",
              "          await google.colab.output.renderOutput(dataTable, element);\n",
              "          const docLink = document.createElement('div');\n",
              "          docLink.innerHTML = docLinkHtml;\n",
              "          element.appendChild(docLink);\n",
              "        }\n",
              "      </script>\n",
              "    </div>\n",
              "  </div>\n",
              "  "
            ]
          },
          "metadata": {},
          "execution_count": 3
        }
      ]
    },
    {
      "cell_type": "markdown",
      "source": [
        "# **Keşifsel Analiz ve Grafikler**\n",
        "\n",
        "***Sayısal girişlerin sayısını kontrol etmek için bir çubuk diyagramı çizin***\n",
        "\n",
        "*Çubuk diyagramdan, 'Yaş' için sayım sayısı diğer sayımlardan daha az olduğu için bazı yaş girişlerinin eksik olduğunu göstermektedir. Eksik girdileri doldurmak için verilerde bazı impute/dönüştürme işlemleri yapabiliriz.*"
      ],
      "metadata": {
        "id": "JTZBN6xfCq2V"
      }
    },
    {
      "cell_type": "code",
      "source": [
        "dT=d.T\n",
        "dT.plot.bar(y='count')\n",
        "plt.title(\"Bar plot of the count of numeric features\", fontsize=17)"
      ],
      "metadata": {
        "colab": {
          "base_uri": "https://localhost:8080/",
          "height": 353
        },
        "id": "84aPkx4TCo4B",
        "outputId": "0c5d285c-e10d-4024-ca6c-be4b9e12d697"
      },
      "execution_count": 4,
      "outputs": [
        {
          "output_type": "execute_result",
          "data": {
            "text/plain": [
              "Text(0.5, 1.0, 'Bar plot of the count of numeric features')"
            ]
          },
          "metadata": {},
          "execution_count": 4
        },
        {
          "output_type": "display_data",
          "data": {
            "text/plain": [
              "<Figure size 432x288 with 1 Axes>"
            ],
            "image/png": "[encoded data removed]"
          },
          "metadata": {
            "needs_background": "light"
          }
        }
      ]
    },
    {
      "cell_type": "markdown",
      "source": [
        "***Hayatta kalan ve kalmayanların göreceli büyüklüğünü kontrol edin***"
      ],
      "metadata": {
        "id": "_Mm9sXR3DA2N"
      }
    },
    {
      "cell_type": "code",
      "source": [
        "sns.set_style('whitegrid')\n",
        "sns.countplot(x='Survived', data = train, palette='RdBu_r')"
      ],
      "metadata": {
        "colab": {
          "base_uri": "https://localhost:8080/",
          "height": 296
        },
        "id": "loxNdmkAC9tf",
        "outputId": "5c62d11c-95c3-43f0-bb36-a58ff62b8b40"
      },
      "execution_count": 5,
      "outputs": [
        {
          "output_type": "execute_result",
          "data": {
            "text/plain": [
              "<AxesSubplot:xlabel='Survived', ylabel='count'>"
            ]
          },
          "metadata": {},
          "execution_count": 5
        },
        {
          "output_type": "display_data",
          "data": {
            "text/plain": [
              "<Figure size 432x288 with 1 Axes>"
            ],
            "image/png": "[encoded data removed]"
          },
          "metadata": {}
        }
      ]
    },
    {
      "cell_type": "markdown",
      "source": [
        "***Cinsiyete bağlı olarak hayatta kalma için bir model var mı?***\n",
        "\n",
        "*Görünüşe göre erkeklerden daha çok kadın hayatta kalmış!*"
      ],
      "metadata": {
        "id": "u9efUNy4DSRj"
      }
    },
    {
      "cell_type": "code",
      "source": [
        "sns.set_style('whitegrid')\n",
        "sns.countplot(x='Survived', hue='Sex', data = train, palette='RdBu_r')"
      ],
      "metadata": {
        "colab": {
          "base_uri": "https://localhost:8080/",
          "height": 296
        },
        "id": "1hJ3EZGLDQIP",
        "outputId": "c4dbee01-28a3-43fa-adec-5b7dff1764e1"
      },
      "execution_count": 6,
      "outputs": [
        {
          "output_type": "execute_result",
          "data": {
            "text/plain": [
              "<AxesSubplot:xlabel='Survived', ylabel='count'>"
            ]
          },
          "metadata": {},
          "execution_count": 6
        },
        {
          "output_type": "display_data",
          "data": {
            "text/plain": [
              "<Figure size 432x288 with 1 Axes>"
            ],
            "image/png": "[encoded data removed]"
          },
          "metadata": {}
        }
      ]
    },
    {
      "cell_type": "markdown",
      "source": [
        "***Yolcu sınıfıyla ilgili herhangi bir modele ne dersiniz?***\n",
        "\n",
        "*Görünüşe göre orantısız sayıda 3. sınıf yolcu ölmüş!*"
      ],
      "metadata": {
        "id": "ZyxWdH-XDneq"
      }
    },
    {
      "cell_type": "code",
      "source": [
        "sns.set_style('whitegrid')\n",
        "sns.countplot(x ='Survived', hue = 'Pclass', data = train, palette ='rainbow')"
      ],
      "metadata": {
        "colab": {
          "base_uri": "https://localhost:8080/",
          "height": 296
        },
        "id": "9SLg4RE0DiF3",
        "outputId": "4c20cd7c-1ecc-42c5-bd78-f830eba1e43f"
      },
      "execution_count": 7,
      "outputs": [
        {
          "output_type": "execute_result",
          "data": {
            "text/plain": [
              "<AxesSubplot:xlabel='Survived', ylabel='count'>"
            ]
          },
          "metadata": {},
          "execution_count": 7
        },
        {
          "output_type": "display_data",
          "data": {
            "text/plain": [
              "<Figure size 432x288 with 1 Axes>"
            ],
            "image/png": "[encoded data removed]"
          },
          "metadata": {}
        }
      ]
    },
    {
      "cell_type": "markdown",
      "source": [
        "***Aşağıdaki kod, her sınıfa göre hayatta kalan yolcu sayısının oranını çıkarır ve çizer***"
      ],
      "metadata": {
        "id": "GkIYnUr9EG-t"
      }
    },
    {
      "cell_type": "code",
      "source": [
        "f_class_survived = train.groupby('Pclass')['Survived'].mean()\n",
        "f_class_survived = pd.DataFrame(f_class_survived)\n",
        "f_class_survived\n",
        "f_class_survived.plot.bar(y='Survived')\n",
        "plt.title(\"Fraction of passengers survived by class\",fontsize=17)"
      ],
      "metadata": {
        "colab": {
          "base_uri": "https://localhost:8080/",
          "height": 313
        },
        "id": "y9s7jZunECB4",
        "outputId": "73f64187-7dc5-424b-f492-02b5a6ac454f"
      },
      "execution_count": 8,
      "outputs": [
        {
          "output_type": "execute_result",
          "data": {
            "text/plain": [
              "Text(0.5, 1.0, 'Fraction of passengers survived by class')"
            ]
          },
          "metadata": {},
          "execution_count": 8
        },
        {
          "output_type": "display_data",
          "data": {
            "text/plain": [
              "<Figure size 432x288 with 1 Axes>"
            ],
            "image/png": "[encoded data removed]"
          },
          "metadata": {}
        }
      ]
    },
    {
      "cell_type": "markdown",
      "source": [
        "***Peki ya kardeş ve eş sahibi olmakla ilgili herhangi bir model?***\n",
        "\n",
        "*Daha fazla sayıda kardeş veya eş olması durumunda hayatta kalma şansının arttığına dair zayıf bir eğilim var gibi görünmektedir.*"
      ],
      "metadata": {
        "id": "OKmuIEobEzZN"
      }
    },
    {
      "cell_type": "code",
      "source": [
        "sns.set_style('whitegrid')\n",
        "sns.countplot(x='Survived', hue = 'SibSp', data = train, palette = 'rainbow')"
      ],
      "metadata": {
        "colab": {
          "base_uri": "https://localhost:8080/",
          "height": 296
        },
        "id": "KwW-KjSwEwbn",
        "outputId": "f320fad2-1f37-4621-8398-215968f8442f"
      },
      "execution_count": 9,
      "outputs": [
        {
          "output_type": "execute_result",
          "data": {
            "text/plain": [
              "<AxesSubplot:xlabel='Survived', ylabel='count'>"
            ]
          },
          "metadata": {},
          "execution_count": 9
        },
        {
          "output_type": "display_data",
          "data": {
            "text/plain": [
              "<Figure size 432x288 with 1 Axes>"
            ],
            "image/png": "[encoded data removed]"
          },
          "metadata": {}
        }
      ]
    },
    {
      "cell_type": "markdown",
      "source": [
        "***Genel yaş dağılımı nasıl görünüyor?***"
      ],
      "metadata": {
        "id": "_UAQITWLFIdO"
      }
    },
    {
      "cell_type": "code",
      "source": [
        "plt.xlabel(\"Age of the passengers\", fontsize=18)\n",
        "plt.ylabel(\"Count\", fontsize=18)\n",
        "plt.title(\"Age histogram of the passengers\", fontsize=22)\n",
        "train['Age'].hist(bins=30, color='darkred', alpha=0.7, figsize=(10,6))"
      ],
      "metadata": {
        "colab": {
          "base_uri": "https://localhost:8080/",
          "height": 435
        },
        "id": "i9YSG2NOFCXO",
        "outputId": "aa6bc46e-c204-4969-d98c-63fd2baa08ba"
      },
      "execution_count": 10,
      "outputs": [
        {
          "output_type": "execute_result",
          "data": {
            "text/plain": [
              "<AxesSubplot:title={'center':'Age histogram of the passengers'}, xlabel='Age of the passengers', ylabel='Count'>"
            ]
          },
          "metadata": {},
          "execution_count": 10
        },
        {
          "output_type": "display_data",
          "data": {
            "text/plain": [
              "<Figure size 720x432 with 1 Axes>"
            ],
            "image/png": "[encoded data removed]"
          },
          "metadata": {}
        }
      ]
    },
    {
      "cell_type": "markdown",
      "source": [
        "***Yolcu sınıfı genelinde yaş dağılımı nasıl görünüyor?***\n",
        "\n",
        "*Ortalama yaşın üç sınıf için farklı olduğu ve genellikle 1. sınıftan 3. sınıfa doğru azaldığı görülmektedir.*"
      ],
      "metadata": {
        "id": "2mB8VUMGFr9R"
      }
    },
    {
      "cell_type": "code",
      "source": [
        "plt.figure(figsize=(12, 10))\n",
        "plt.xlabel(\"Passenger Class\", fontsize=18)\n",
        "plt.ylabel(\"Age\", fontsize=18)\n",
        "sns.boxplot(x=\"Pclass\", y='Age', data = train, palette='winter')"
      ],
      "metadata": {
        "colab": {
          "base_uri": "https://localhost:8080/",
          "height": 631
        },
        "id": "qIjkR2OnFmEH",
        "outputId": "9b292d18-e4d2-46a2-8271-2a1bda28be29"
      },
      "execution_count": 11,
      "outputs": [
        {
          "output_type": "execute_result",
          "data": {
            "text/plain": [
              "<AxesSubplot:xlabel='Pclass', ylabel='Age'>"
            ]
          },
          "metadata": {},
          "execution_count": 11
        },
        {
          "output_type": "display_data",
          "data": {
            "text/plain": [
              "<Figure size 864x720 with 1 Axes>"
            ],
            "image/png": "[encoded data removed]"
          },
          "metadata": {}
        }
      ]
    },
    {
      "cell_type": "markdown",
      "source": [
        "***Veri düzenleme (impute ve drop)***\n",
        "\n",
        "  ▶ Yaş tahmini (ortalama alarak)\n",
        "\n",
        "  ▶ Gereksiz özellikleri bırakın\n",
        "\n",
        "  ▶ Kategorik özellikleri kukla değişkenlere dönüştürme\n",
        "\n",
        "\n",
        "***Yaş özelliğini impute etmek (eksik değerleri doldurmak) için bir fonksiyon tanımlayın***"
      ],
      "metadata": {
        "id": "MtNVL3Fwdlbb"
      }
    },
    {
      "cell_type": "code",
      "source": [
        "a=list(f_class_Age['Age'])\n",
        "\n",
        "def impute_age(cols):\n",
        "    Age = cols[0]\n",
        "    Pclass = cols[1]\n",
        "    \n",
        "    if pd.isnull(Age):\n",
        "\n",
        "        if Pclass == 1:\n",
        "            return a[0]\n",
        "\n",
        "        elif Pclass == 2:\n",
        "            return a[1]\n",
        "\n",
        "        else:\n",
        "            return a[2]\n",
        "\n",
        "    else:\n",
        "        return Age"
      ],
      "metadata": {
        "id": "qmLmGJFveYYL"
      },
      "execution_count": null,
      "outputs": []
    },
    {
      "cell_type": "markdown",
      "source": [
        "*Yukarıda tanımlanan işlevi uygulayın ve sayısal özelliklerin sayısını çizin*"
      ],
      "metadata": {
        "id": "wCdV5SwgfkRG"
      }
    },
    {
      "cell_type": "code",
      "source": [
        "train['Age'] = train[['Age', 'Pclass']].apply(impute_age,axis=1)\n",
        "d=train.describe()\n",
        "dT=d.T\n",
        "dT.plot.bar(y='count')\n",
        "plt.title(\"Bar plot of the count  of numeric features\", fontsize=17)"
      ],
      "metadata": {
        "id": "p4SnQjs2g19T"
      },
      "execution_count": null,
      "outputs": []
    },
    {
      "cell_type": "markdown",
      "source": [
        "![XX.png](data:image/png;base64,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)"
      ],
      "metadata": {
        "id": "wbWfmv-tg3Ft"
      }
    },
    {
      "cell_type": "markdown",
      "source": [
        "***'Kabin' özelliğini ve diğer tüm null değerleri bırakın***\n"
      ],
      "metadata": {
        "id": "jGocGAZdg8PR"
      }
    },
    {
      "cell_type": "code",
      "source": [
        "train.drop('Cabin', axis=1, inplace=True)\n",
        "train.dropna(inplace=True)\n",
        "train.head()"
      ],
      "metadata": {
        "colab": {
          "base_uri": "https://localhost:8080/",
          "height": 320
        },
        "id": "U7sPW8T-hANJ",
        "outputId": "0fe7be6e-efb1-4d56-b35a-e13e6e26fb20"
      },
      "execution_count": 15,
      "outputs": [
        {
          "output_type": "execute_result",
          "data": {
            "text/plain": [
              "   PassengerId  Survived  Pclass  \\\n",
              "0            1         0       3   \n",
              "1            2         1       1   \n",
              "2            3         1       3   \n",
              "3            4         1       1   \n",
              "4            5         0       3   \n",
              "\n",
              "                                                Name     Sex   Age  SibSp  \\\n",
              "0                            Braund, Mr. Owen Harris    male  22.0      1   \n",
              "1  Cumings, Mrs. John Bradley (Florence Briggs Th...  female  38.0      1   \n",
              "2                             Heikkinen, Miss. Laina  female  26.0      0   \n",
              "3       Futrelle, Mrs. Jacques Heath (Lily May Peel)  female  35.0      1   \n",
              "4                           Allen, Mr. William Henry    male  35.0      0   \n",
              "\n",
              "   Parch            Ticket     Fare Embarked  \n",
              "0      0         A/5 21171   7.2500        S  \n",
              "1      0          PC 17599  71.2833        C  \n",
              "2      0  STON/O2. 3101282   7.9250        S  \n",
              "3      0            113803  53.1000        S  \n",
              "4      0            373450   8.0500        S  "
            ],
            "text/html": [
              "\n",
              "  <div id=\"df-f054a9c7-c3eb-4b4a-b1be-f45ce58cf9df\">\n",
              "    <div class=\"colab-df-container\">\n",
              "      <div>\n",
              "<style scoped>\n",
              "    .dataframe tbody tr th:only-of-type {\n",
              "        vertical-align: middle;\n",
              "    }\n",
              "\n",
              "    .dataframe tbody tr th {\n",
              "        vertical-align: top;\n",
              "    }\n",
              "\n",
              "    .dataframe thead th {\n",
              "        text-align: right;\n",
              "    }\n",
              "</style>\n",
              "<table border=\"1\" class=\"dataframe\">\n",
              "  <thead>\n",
              "    <tr style=\"text-align: right;\">\n",
              "      <th></th>\n",
              "      <th>PassengerId</th>\n",
              "      <th>Survived</th>\n",
              "      <th>Pclass</th>\n",
              "      <th>Name</th>\n",
              "      <th>Sex</th>\n",
              "      <th>Age</th>\n",
              "      <th>SibSp</th>\n",
              "      <th>Parch</th>\n",
              "      <th>Ticket</th>\n",
              "      <th>Fare</th>\n",
              "      <th>Embarked</th>\n",
              "    </tr>\n",
              "  </thead>\n",
              "  <tbody>\n",
              "    <tr>\n",
              "      <th>0</th>\n",
              "      <td>1</td>\n",
              "      <td>0</td>\n",
              "      <td>3</td>\n",
              "      <td>Braund, Mr. Owen Harris</td>\n",
              "      <td>male</td>\n",
              "      <td>22.0</td>\n",
              "      <td>1</td>\n",
              "      <td>0</td>\n",
              "      <td>A/5 21171</td>\n",
              "      <td>7.2500</td>\n",
              "      <td>S</td>\n",
              "    </tr>\n",
              "    <tr>\n",
              "      <th>1</th>\n",
              "      <td>2</td>\n",
              "      <td>1</td>\n",
              "      <td>1</td>\n",
              "      <td>Cumings, Mrs. John Bradley (Florence Briggs Th...</td>\n",
              "      <td>female</td>\n",
              "      <td>38.0</td>\n",
              "      <td>1</td>\n",
              "      <td>0</td>\n",
              "      <td>PC 17599</td>\n",
              "      <td>71.2833</td>\n",
              "      <td>C</td>\n",
              "    </tr>\n",
              "    <tr>\n",
              "      <th>2</th>\n",
              "      <td>3</td>\n",
              "      <td>1</td>\n",
              "      <td>3</td>\n",
              "      <td>Heikkinen, Miss. Laina</td>\n",
              "      <td>female</td>\n",
              "      <td>26.0</td>\n",
              "      <td>0</td>\n",
              "      <td>0</td>\n",
              "      <td>STON/O2. 3101282</td>\n",
              "      <td>7.9250</td>\n",
              "      <td>S</td>\n",
              "    </tr>\n",
              "    <tr>\n",
              "      <th>3</th>\n",
              "      <td>4</td>\n",
              "      <td>1</td>\n",
              "      <td>1</td>\n",
              "      <td>Futrelle, Mrs. Jacques Heath (Lily May Peel)</td>\n",
              "      <td>female</td>\n",
              "      <td>35.0</td>\n",
              "      <td>1</td>\n",
              "      <td>0</td>\n",
              "      <td>113803</td>\n",
              "      <td>53.1000</td>\n",
              "      <td>S</td>\n",
              "    </tr>\n",
              "    <tr>\n",
              "      <th>4</th>\n",
              "      <td>5</td>\n",
              "      <td>0</td>\n",
              "      <td>3</td>\n",
              "      <td>Allen, Mr. William Henry</td>\n",
              "      <td>male</td>\n",
              "      <td>35.0</td>\n",
              "      <td>0</td>\n",
              "      <td>0</td>\n",
              "      <td>373450</td>\n",
              "      <td>8.0500</td>\n",
              "      <td>S</td>\n",
              "    </tr>\n",
              "  </tbody>\n",
              "</table>\n",
              "</div>\n",
              "      <button class=\"colab-df-convert\" onclick=\"convertToInteractive('df-f054a9c7-c3eb-4b4a-b1be-f45ce58cf9df')\"\n",
              "              title=\"Convert this dataframe to an interactive table.\"\n",
              "              style=\"display:none;\">\n",
              "        \n",
              "  <svg xmlns=\"http://www.w3.org/2000/svg\" height=\"24px\"viewBox=\"0 0 24 24\"\n",
              "       width=\"24px\">\n",
              "    <path d=\"M0 0h24v24H0V0z\" fill=\"none\"/>\n",
              "    <path d=\"M18.56 5.44l.94 2.06.94-2.06 2.06-.94-2.06-.94-.94-2.06-.94 2.06-2.06.94zm-11 1L8.5 8.5l.94-2.06 2.06-.94-2.06-.94L8.5 2.5l-.94 2.06-2.06.94zm10 10l.94 2.06.94-2.06 2.06-.94-2.06-.94-.94-2.06-.94 2.06-2.06.94z\"/><path d=\"M17.41 7.96l-1.37-1.37c-.4-.4-.92-.59-1.43-.59-.52 0-1.04.2-1.43.59L10.3 9.45l-7.72 7.72c-.78.78-.78 2.05 0 2.83L4 21.41c.39.39.9.59 1.41.59.51 0 1.02-.2 1.41-.59l7.78-7.78 2.81-2.81c.8-.78.8-2.07 0-2.86zM5.41 20L4 18.59l7.72-7.72 1.47 1.35L5.41 20z\"/>\n",
              "  </svg>\n",
              "      </button>\n",
              "      \n",
              "  <style>\n",
              "    .colab-df-container {\n",
              "      display:flex;\n",
              "      flex-wrap:wrap;\n",
              "      gap: 12px;\n",
              "    }\n",
              "\n",
              "    .colab-df-convert {\n",
              "      background-color: #E8F0FE;\n",
              "      border: none;\n",
              "      border-radius: 50%;\n",
              "      cursor: pointer;\n",
              "      display: none;\n",
              "      fill: #1967D2;\n",
              "      height: 32px;\n",
              "      padding: 0 0 0 0;\n",
              "      width: 32px;\n",
              "    }\n",
              "\n",
              "    .colab-df-convert:hover {\n",
              "      background-color: #E2EBFA;\n",
              "      box-shadow: 0px 1px 2px rgba(60, 64, 67, 0.3), 0px 1px 3px 1px rgba(60, 64, 67, 0.15);\n",
              "      fill: #174EA6;\n",
              "    }\n",
              "\n",
              "    [theme=dark] .colab-df-convert {\n",
              "      background-color: #3B4455;\n",
              "      fill: #D2E3FC;\n",
              "    }\n",
              "\n",
              "    [theme=dark] .colab-df-convert:hover {\n",
              "      background-color: #434B5C;\n",
              "      box-shadow: 0px 1px 3px 1px rgba(0, 0, 0, 0.15);\n",
              "      filter: drop-shadow(0px 1px 2px rgba(0, 0, 0, 0.3));\n",
              "      fill: #FFFFFF;\n",
              "    }\n",
              "  </style>\n",
              "\n",
              "      <script>\n",
              "        const buttonEl =\n",
              "          document.querySelector('#df-f054a9c7-c3eb-4b4a-b1be-f45ce58cf9df button.colab-df-convert');\n",
              "        buttonEl.style.display =\n",
              "          google.colab.kernel.accessAllowed ? 'block' : 'none';\n",
              "\n",
              "        async function convertToInteractive(key) {\n",
              "          const element = document.querySelector('#df-f054a9c7-c3eb-4b4a-b1be-f45ce58cf9df');\n",
              "          const dataTable =\n",
              "            await google.colab.kernel.invokeFunction('convertToInteractive',\n",
              "                                                     [key], {});\n",
              "          if (!dataTable) return;\n",
              "\n",
              "          const docLinkHtml = 'Like what you see? Visit the ' +\n",
              "            '<a target=\"_blank\" href=https://colab.research.google.com/notebooks/data_table.ipynb>data table notebook</a>'\n",
              "            + ' to learn more about interactive tables.';\n",
              "          element.innerHTML = '';\n",
              "          dataTable['output_type'] = 'display_data';\n",
              "          await google.colab.output.renderOutput(dataTable, element);\n",
              "          const docLink = document.createElement('div');\n",
              "          docLink.innerHTML = docLinkHtml;\n",
              "          element.appendChild(docLink);\n",
              "        }\n",
              "      </script>\n",
              "    </div>\n",
              "  </div>\n",
              "  "
            ]
          },
          "metadata": {},
          "execution_count": 15
        }
      ]
    },
    {
      "cell_type": "markdown",
      "source": [
        "***'PassengerId', 'Name', 'Ticket' gibi diğer gereksiz özellikleri bırakın***"
      ],
      "metadata": {
        "id": "vMdmUleGhMzg"
      }
    },
    {
      "cell_type": "code",
      "source": [
        "train.drop(['PassengerId', 'Name', 'Ticket'], axis=1,inplace=True)\n",
        "train.head()"
      ],
      "metadata": {
        "colab": {
          "base_uri": "https://localhost:8080/",
          "height": 206
        },
        "id": "Jm4k50gThH6T",
        "outputId": "24a25f20-0027-40b9-9edc-081f0029c71b"
      },
      "execution_count": 16,
      "outputs": [
        {
          "output_type": "execute_result",
          "data": {
            "text/plain": [
              "   Survived  Pclass     Sex   Age  SibSp  Parch     Fare Embarked\n",
              "0         0       3    male  22.0      1      0   7.2500        S\n",
              "1         1       1  female  38.0      1      0  71.2833        C\n",
              "2         1       3  female  26.0      0      0   7.9250        S\n",
              "3         1       1  female  35.0      1      0  53.1000        S\n",
              "4         0       3    male  35.0      0      0   8.0500        S"
            ],
            "text/html": [
              "\n",
              "  <div id=\"df-bc9cedf6-f40d-4711-b921-80a2a66e0abd\">\n",
              "    <div class=\"colab-df-container\">\n",
              "      <div>\n",
              "<style scoped>\n",
              "    .dataframe tbody tr th:only-of-type {\n",
              "        vertical-align: middle;\n",
              "    }\n",
              "\n",
              "    .dataframe tbody tr th {\n",
              "        vertical-align: top;\n",
              "    }\n",
              "\n",
              "    .dataframe thead th {\n",
              "        text-align: right;\n",
              "    }\n",
              "</style>\n",
              "<table border=\"1\" class=\"dataframe\">\n",
              "  <thead>\n",
              "    <tr style=\"text-align: right;\">\n",
              "      <th></th>\n",
              "      <th>Survived</th>\n",
              "      <th>Pclass</th>\n",
              "      <th>Sex</th>\n",
              "      <th>Age</th>\n",
              "      <th>SibSp</th>\n",
              "      <th>Parch</th>\n",
              "      <th>Fare</th>\n",
              "      <th>Embarked</th>\n",
              "    </tr>\n",
              "  </thead>\n",
              "  <tbody>\n",
              "    <tr>\n",
              "      <th>0</th>\n",
              "      <td>0</td>\n",
              "      <td>3</td>\n",
              "      <td>male</td>\n",
              "      <td>22.0</td>\n",
              "      <td>1</td>\n",
              "      <td>0</td>\n",
              "      <td>7.2500</td>\n",
              "      <td>S</td>\n",
              "    </tr>\n",
              "    <tr>\n",
              "      <th>1</th>\n",
              "      <td>1</td>\n",
              "      <td>1</td>\n",
              "      <td>female</td>\n",
              "      <td>38.0</td>\n",
              "      <td>1</td>\n",
              "      <td>0</td>\n",
              "      <td>71.2833</td>\n",
              "      <td>C</td>\n",
              "    </tr>\n",
              "    <tr>\n",
              "      <th>2</th>\n",
              "      <td>1</td>\n",
              "      <td>3</td>\n",
              "      <td>female</td>\n",
              "      <td>26.0</td>\n",
              "      <td>0</td>\n",
              "      <td>0</td>\n",
              "      <td>7.9250</td>\n",
              "      <td>S</td>\n",
              "    </tr>\n",
              "    <tr>\n",
              "      <th>3</th>\n",
              "      <td>1</td>\n",
              "      <td>1</td>\n",
              "      <td>female</td>\n",
              "      <td>35.0</td>\n",
              "      <td>1</td>\n",
              "      <td>0</td>\n",
              "      <td>53.1000</td>\n",
              "      <td>S</td>\n",
              "    </tr>\n",
              "    <tr>\n",
              "      <th>4</th>\n",
              "      <td>0</td>\n",
              "      <td>3</td>\n",
              "      <td>male</td>\n",
              "      <td>35.0</td>\n",
              "      <td>0</td>\n",
              "      <td>0</td>\n",
              "      <td>8.0500</td>\n",
              "      <td>S</td>\n",
              "    </tr>\n",
              "  </tbody>\n",
              "</table>\n",
              "</div>\n",
              "      <button class=\"colab-df-convert\" onclick=\"convertToInteractive('df-bc9cedf6-f40d-4711-b921-80a2a66e0abd')\"\n",
              "              title=\"Convert this dataframe to an interactive table.\"\n",
              "              style=\"display:none;\">\n",
              "        \n",
              "  <svg xmlns=\"http://www.w3.org/2000/svg\" height=\"24px\"viewBox=\"0 0 24 24\"\n",
              "       width=\"24px\">\n",
              "    <path d=\"M0 0h24v24H0V0z\" fill=\"none\"/>\n",
              "    <path d=\"M18.56 5.44l.94 2.06.94-2.06 2.06-.94-2.06-.94-.94-2.06-.94 2.06-2.06.94zm-11 1L8.5 8.5l.94-2.06 2.06-.94-2.06-.94L8.5 2.5l-.94 2.06-2.06.94zm10 10l.94 2.06.94-2.06 2.06-.94-2.06-.94-.94-2.06-.94 2.06-2.06.94z\"/><path d=\"M17.41 7.96l-1.37-1.37c-.4-.4-.92-.59-1.43-.59-.52 0-1.04.2-1.43.59L10.3 9.45l-7.72 7.72c-.78.78-.78 2.05 0 2.83L4 21.41c.39.39.9.59 1.41.59.51 0 1.02-.2 1.41-.59l7.78-7.78 2.81-2.81c.8-.78.8-2.07 0-2.86zM5.41 20L4 18.59l7.72-7.72 1.47 1.35L5.41 20z\"/>\n",
              "  </svg>\n",
              "      </button>\n",
              "      \n",
              "  <style>\n",
              "    .colab-df-container {\n",
              "      display:flex;\n",
              "      flex-wrap:wrap;\n",
              "      gap: 12px;\n",
              "    }\n",
              "\n",
              "    .colab-df-convert {\n",
              "      background-color: #E8F0FE;\n",
              "      border: none;\n",
              "      border-radius: 50%;\n",
              "      cursor: pointer;\n",
              "      display: none;\n",
              "      fill: #1967D2;\n",
              "      height: 32px;\n",
              "      padding: 0 0 0 0;\n",
              "      width: 32px;\n",
              "    }\n",
              "\n",
              "    .colab-df-convert:hover {\n",
              "      background-color: #E2EBFA;\n",
              "      box-shadow: 0px 1px 2px rgba(60, 64, 67, 0.3), 0px 1px 3px 1px rgba(60, 64, 67, 0.15);\n",
              "      fill: #174EA6;\n",
              "    }\n",
              "\n",
              "    [theme=dark] .colab-df-convert {\n",
              "      background-color: #3B4455;\n",
              "      fill: #D2E3FC;\n",
              "    }\n",
              "\n",
              "    [theme=dark] .colab-df-convert:hover {\n",
              "      background-color: #434B5C;\n",
              "      box-shadow: 0px 1px 3px 1px rgba(0, 0, 0, 0.15);\n",
              "      filter: drop-shadow(0px 1px 2px rgba(0, 0, 0, 0.3));\n",
              "      fill: #FFFFFF;\n",
              "    }\n",
              "  </style>\n",
              "\n",
              "      <script>\n",
              "        const buttonEl =\n",
              "          document.querySelector('#df-bc9cedf6-f40d-4711-b921-80a2a66e0abd button.colab-df-convert');\n",
              "        buttonEl.style.display =\n",
              "          google.colab.kernel.accessAllowed ? 'block' : 'none';\n",
              "\n",
              "        async function convertToInteractive(key) {\n",
              "          const element = document.querySelector('#df-bc9cedf6-f40d-4711-b921-80a2a66e0abd');\n",
              "          const dataTable =\n",
              "            await google.colab.kernel.invokeFunction('convertToInteractive',\n",
              "                                                     [key], {});\n",
              "          if (!dataTable) return;\n",
              "\n",
              "          const docLinkHtml = 'Like what you see? Visit the ' +\n",
              "            '<a target=\"_blank\" href=https://colab.research.google.com/notebooks/data_table.ipynb>data table notebook</a>'\n",
              "            + ' to learn more about interactive tables.';\n",
              "          element.innerHTML = '';\n",
              "          dataTable['output_type'] = 'display_data';\n",
              "          await google.colab.output.renderOutput(dataTable, element);\n",
              "          const docLink = document.createElement('div');\n",
              "          docLink.innerHTML = docLinkHtml;\n",
              "          element.appendChild(docLink);\n",
              "        }\n",
              "      </script>\n",
              "    </div>\n",
              "  </div>\n",
              "  "
            ]
          },
          "metadata": {},
          "execution_count": 16
        }
      ]
    },
    {
      "cell_type": "markdown",
      "source": [
        "***'Cinsiyet' ve 'Gemiye bindi' gibi kategorik özellikleri kukla değişkenlere dönüştürün***\n",
        "\n",
        "*pandas 'get_dummies()' işlevini kullanın*"
      ],
      "metadata": {
        "id": "UVaCWAj-hav8"
      }
    },
    {
      "cell_type": "code",
      "source": [
        "sex = pd.get_dummies(train['Sex'],drop_first=True)\n",
        "embark = pd.get_dummies(train['Embarked'],drop_first=True)"
      ],
      "metadata": {
        "id": "uNN7APQShZUz"
      },
      "execution_count": 17,
      "outputs": []
    },
    {
      "cell_type": "markdown",
      "source": [
        "*Şimdi 'Sex' ve 'Embarked' sütunlarını bırakın ve yeni kukla değişkenleri birleştirin*"
      ],
      "metadata": {
        "id": "EGFirFQyh8Xy"
      }
    },
    {
      "cell_type": "code",
      "source": [
        "train.drop(['Sex', 'Embarked'], axis=1, inplace=True)\n",
        "train = pd.concat([train,sex,embark], axis=1)\n",
        "train.head()"
      ],
      "metadata": {
        "colab": {
          "base_uri": "https://localhost:8080/",
          "height": 206
        },
        "id": "H3ZcECMihx9F",
        "outputId": "1ec837a1-a388-4676-c4d4-913b63a5e1a5"
      },
      "execution_count": 18,
      "outputs": [
        {
          "output_type": "execute_result",
          "data": {
            "text/plain": [
              "   Survived  Pclass   Age  SibSp  Parch     Fare  male  Q  S\n",
              "0         0       3  22.0      1      0   7.2500     1  0  1\n",
              "1         1       1  38.0      1      0  71.2833     0  0  0\n",
              "2         1       3  26.0      0      0   7.9250     0  0  1\n",
              "3         1       1  35.0      1      0  53.1000     0  0  1\n",
              "4         0       3  35.0      0      0   8.0500     1  0  1"
            ],
            "text/html": [
              "\n",
              "  <div id=\"df-34164da5-e0cf-49b5-a489-d45957b7d4c6\">\n",
              "    <div class=\"colab-df-container\">\n",
              "      <div>\n",
              "<style scoped>\n",
              "    .dataframe tbody tr th:only-of-type {\n",
              "        vertical-align: middle;\n",
              "    }\n",
              "\n",
              "    .dataframe tbody tr th {\n",
              "        vertical-align: top;\n",
              "    }\n",
              "\n",
              "    .dataframe thead th {\n",
              "        text-align: right;\n",
              "    }\n",
              "</style>\n",
              "<table border=\"1\" class=\"dataframe\">\n",
              "  <thead>\n",
              "    <tr style=\"text-align: right;\">\n",
              "      <th></th>\n",
              "      <th>Survived</th>\n",
              "      <th>Pclass</th>\n",
              "      <th>Age</th>\n",
              "      <th>SibSp</th>\n",
              "      <th>Parch</th>\n",
              "      <th>Fare</th>\n",
              "      <th>male</th>\n",
              "      <th>Q</th>\n",
              "      <th>S</th>\n",
              "    </tr>\n",
              "  </thead>\n",
              "  <tbody>\n",
              "    <tr>\n",
              "      <th>0</th>\n",
              "      <td>0</td>\n",
              "      <td>3</td>\n",
              "      <td>22.0</td>\n",
              "      <td>1</td>\n",
              "      <td>0</td>\n",
              "      <td>7.2500</td>\n",
              "      <td>1</td>\n",
              "      <td>0</td>\n",
              "      <td>1</td>\n",
              "    </tr>\n",
              "    <tr>\n",
              "      <th>1</th>\n",
              "      <td>1</td>\n",
              "      <td>1</td>\n",
              "      <td>38.0</td>\n",
              "      <td>1</td>\n",
              "      <td>0</td>\n",
              "      <td>71.2833</td>\n",
              "      <td>0</td>\n",
              "      <td>0</td>\n",
              "      <td>0</td>\n",
              "    </tr>\n",
              "    <tr>\n",
              "      <th>2</th>\n",
              "      <td>1</td>\n",
              "      <td>3</td>\n",
              "      <td>26.0</td>\n",
              "      <td>0</td>\n",
              "      <td>0</td>\n",
              "      <td>7.9250</td>\n",
              "      <td>0</td>\n",
              "      <td>0</td>\n",
              "      <td>1</td>\n",
              "    </tr>\n",
              "    <tr>\n",
              "      <th>3</th>\n",
              "      <td>1</td>\n",
              "      <td>1</td>\n",
              "      <td>35.0</td>\n",
              "      <td>1</td>\n",
              "      <td>0</td>\n",
              "      <td>53.1000</td>\n",
              "      <td>0</td>\n",
              "      <td>0</td>\n",
              "      <td>1</td>\n",
              "    </tr>\n",
              "    <tr>\n",
              "      <th>4</th>\n",
              "      <td>0</td>\n",
              "      <td>3</td>\n",
              "      <td>35.0</td>\n",
              "      <td>0</td>\n",
              "      <td>0</td>\n",
              "      <td>8.0500</td>\n",
              "      <td>1</td>\n",
              "      <td>0</td>\n",
              "      <td>1</td>\n",
              "    </tr>\n",
              "  </tbody>\n",
              "</table>\n",
              "</div>\n",
              "      <button class=\"colab-df-convert\" onclick=\"convertToInteractive('df-34164da5-e0cf-49b5-a489-d45957b7d4c6')\"\n",
              "              title=\"Convert this dataframe to an interactive table.\"\n",
              "              style=\"display:none;\">\n",
              "        \n",
              "  <svg xmlns=\"http://www.w3.org/2000/svg\" height=\"24px\"viewBox=\"0 0 24 24\"\n",
              "       width=\"24px\">\n",
              "    <path d=\"M0 0h24v24H0V0z\" fill=\"none\"/>\n",
              "    <path d=\"M18.56 5.44l.94 2.06.94-2.06 2.06-.94-2.06-.94-.94-2.06-.94 2.06-2.06.94zm-11 1L8.5 8.5l.94-2.06 2.06-.94-2.06-.94L8.5 2.5l-.94 2.06-2.06.94zm10 10l.94 2.06.94-2.06 2.06-.94-2.06-.94-.94-2.06-.94 2.06-2.06.94z\"/><path d=\"M17.41 7.96l-1.37-1.37c-.4-.4-.92-.59-1.43-.59-.52 0-1.04.2-1.43.59L10.3 9.45l-7.72 7.72c-.78.78-.78 2.05 0 2.83L4 21.41c.39.39.9.59 1.41.59.51 0 1.02-.2 1.41-.59l7.78-7.78 2.81-2.81c.8-.78.8-2.07 0-2.86zM5.41 20L4 18.59l7.72-7.72 1.47 1.35L5.41 20z\"/>\n",
              "  </svg>\n",
              "      </button>\n",
              "      \n",
              "  <style>\n",
              "    .colab-df-container {\n",
              "      display:flex;\n",
              "      flex-wrap:wrap;\n",
              "      gap: 12px;\n",
              "    }\n",
              "\n",
              "    .colab-df-convert {\n",
              "      background-color: #E8F0FE;\n",
              "      border: none;\n",
              "      border-radius: 50%;\n",
              "      cursor: pointer;\n",
              "      display: none;\n",
              "      fill: #1967D2;\n",
              "      height: 32px;\n",
              "      padding: 0 0 0 0;\n",
              "      width: 32px;\n",
              "    }\n",
              "\n",
              "    .colab-df-convert:hover {\n",
              "      background-color: #E2EBFA;\n",
              "      box-shadow: 0px 1px 2px rgba(60, 64, 67, 0.3), 0px 1px 3px 1px rgba(60, 64, 67, 0.15);\n",
              "      fill: #174EA6;\n",
              "    }\n",
              "\n",
              "    [theme=dark] .colab-df-convert {\n",
              "      background-color: #3B4455;\n",
              "      fill: #D2E3FC;\n",
              "    }\n",
              "\n",
              "    [theme=dark] .colab-df-convert:hover {\n",
              "      background-color: #434B5C;\n",
              "      box-shadow: 0px 1px 3px 1px rgba(0, 0, 0, 0.15);\n",
              "      filter: drop-shadow(0px 1px 2px rgba(0, 0, 0, 0.3));\n",
              "      fill: #FFFFFF;\n",
              "    }\n",
              "  </style>\n",
              "\n",
              "      <script>\n",
              "        const buttonEl =\n",
              "          document.querySelector('#df-34164da5-e0cf-49b5-a489-d45957b7d4c6 button.colab-df-convert');\n",
              "        buttonEl.style.display =\n",
              "          google.colab.kernel.accessAllowed ? 'block' : 'none';\n",
              "\n",
              "        async function convertToInteractive(key) {\n",
              "          const element = document.querySelector('#df-34164da5-e0cf-49b5-a489-d45957b7d4c6');\n",
              "          const dataTable =\n",
              "            await google.colab.kernel.invokeFunction('convertToInteractive',\n",
              "                                                     [key], {});\n",
              "          if (!dataTable) return;\n",
              "\n",
              "          const docLinkHtml = 'Like what you see? Visit the ' +\n",
              "            '<a target=\"_blank\" href=https://colab.research.google.com/notebooks/data_table.ipynb>data table notebook</a>'\n",
              "            + ' to learn more about interactive tables.';\n",
              "          element.innerHTML = '';\n",
              "          dataTable['output_type'] = 'display_data';\n",
              "          await google.colab.output.renderOutput(dataTable, element);\n",
              "          const docLink = document.createElement('div');\n",
              "          docLink.innerHTML = docLinkHtml;\n",
              "          element.appendChild(docLink);\n",
              "        }\n",
              "      </script>\n",
              "    </div>\n",
              "  </div>\n",
              "  "
            ]
          },
          "metadata": {},
          "execution_count": 18
        }
      ]
    },
    {
      "cell_type": "markdown",
      "source": [
        "***Logistic Regression model fit and prediction***\n",
        "\n",
        "*Verilerimizi bir eğitim seti ve test setine ayırarak başlayalım (tüm bu verileri eğitim için kullanmak istemeniz durumunda üzerinde oynayabileceğiniz başka bir test.csv dosyası vardır).*"
      ],
      "metadata": {
        "id": "gDbR-w4ui7vJ"
      }
    },
    {
      "cell_type": "code",
      "source": [
        "from sklearn.model_selection import train_test_split\n",
        "X_train, X_test, y_train, y_test = train_test_split(train.drop('Survived', axis=1),\n",
        "                                                    train['Survived'], test_size=0.30,\n",
        "                                                    random_state=111)"
      ],
      "metadata": {
        "id": "XbrU29sDi5z7"
      },
      "execution_count": 19,
      "outputs": []
    },
    {
      "cell_type": "markdown",
      "source": [
        "***Düzenli hale getirme (ceza) parametresinin bir sonucu olarak F1-skoru***"
      ],
      "metadata": {
        "id": "glxEPUkejeEw"
      }
    },
    {
      "cell_type": "code",
      "source": [
        "pip install sklearn"
      ],
      "metadata": {
        "colab": {
          "base_uri": "https://localhost:8080/"
        },
        "id": "BbaZyfX3lmFk",
        "outputId": "7998bef2-d69c-4ba5-ba3d-402c5faa15a4"
      },
      "execution_count": 21,
      "outputs": [
        {
          "output_type": "stream",
          "name": "stdout",
          "text": [
            "Looking in indexes: https://pypi.org/simple, https://us-python.pkg.dev/colab-wheels/public/simple/\n",
            "Collecting sklearn\n",
            "  Downloading sklearn-0.0.post1.tar.gz (3.6 kB)\n",
            "  Preparing metadata (setup.py) ... \u001b[?25l\u001b[?25hdone\n",
            "Building wheels for collected packages: sklearn\n",
            "  Building wheel for sklearn (setup.py) ... \u001b[?25l\u001b[?25hdone\n",
            "  Created wheel for sklearn: filename=sklearn-0.0.post1-py3-none-any.whl size=2344 sha256=f5f2ff11f8ff120a935b09d4c1420c9b598e0b27acb7b45efffa1e6a37805f9c\n",
            "  Stored in directory: /root/.cache/pip/wheels/14/25/f7/1cc0956978ae479e75140219088deb7a36f60459df242b1a72\n",
            "Successfully built sklearn\n",
            "Installing collected packages: sklearn\n",
            "Successfully installed sklearn-0.0.post1\n"
          ]
        }
      ]
    },
    {
      "cell_type": "code",
      "source": [
        "from sklearn.liner_model import LogisticRegression\n",
        "from sklearn.metrics import classification_report\n",
        "nsimu=201\n",
        "penalty=[0]*nsimu\n",
        "logmodel=[0]*nsimu\n",
        "predictions=[0]*nsimu\n",
        "class_report=[0]*nsimu\n",
        "f1=[0]*nsimu\n",
        "for i in range(1,nsimu):\n",
        "  logmodel[i] = (LogisticRegression(C=i/1000, tol=1e-4, max_iter=100, n_jobs=4))\n",
        "  logmodel[i].fit(X_train, y_train)\n",
        "  predictions[i] = logmodel[i].predict(X_test)\n",
        "  class_report[i] = classification_report(y_test, predictions[i])\n",
        "  l = class_report[i].split()\n",
        "  f1[i] = l[len(1)-2]\n",
        "  penalty[i] = 1000/i\n",
        "\n",
        "plt.scatter(penalty[1:len(penalty)-2], f1[1:len(f1)-2])\n",
        "plt.title(\"F1-score vs. regularization\", fontsize=20)\n",
        "plt.xlabel(\"Penalty parameter\", fontsize=17)\n",
        "plt.ylabel(\"F1-socre on test data\", fontsize=17)\n",
        "plt.show()\n"
      ],
      "metadata": {
        "id": "bytAG24wlh1c"
      },
      "execution_count": null,
      "outputs": []
    },
    {
      "cell_type": "markdown",
      "source": [
        "              F1-score vs. regularization parameter\n",
        "\n",
        "\n",
        "![xaxa.png](data:image/png;base64,iVBORw0KGgoAAAANSUhEUgAAAYoAAAEfCAYAAABf1YHgAAAABHNCSVQICAgIfAhkiAAAAAlwSFlzAAALEgAACxIB0t1+/AAAIABJREFUeJzs3Xl8TGf7+PHPZBcRkQpiXydFhCzW2iuWKLUHtbR81VptLUVbrSWNvSqopUqfUq3aWlFLrbU1SCqIJR5qFxGE7Js5vz/8Mo+RyWRCMonM9X69+qo55z5zrnsyc66z3Nc5KkVRFIQQQohsWBR0AEIIIQo3SRRCCCEMkkQhhBDCIEkUQgghDJJEIYQQwiBJFEIIIQwq0oliy5YtuLm55fjf3r179S6v0Wjo3bs3o0aNMnHk4lVz/Phx3Nzc+Oqrr/L8vdu2bYuPj0+ev+/z7t27x+bNmwtk3cJ4R44c4cyZMyZdp5VJ11ZAGjVqRKNGjbKdX61aNb3TAwICOHPmDG+++WZ+hSZEjgYNGkRaWlq+ruPBgwd07NiRJk2a0LNnT5OuWxhv/fr1TJ8+naVLl5p0vWaTKD744AOj26ekpDB16lS2bduWj1EJYZx3330339eRnJxMYmJigaxbGO/BgwcFst4iferpRRw7dozOnTuzbds2mjdvXtDhCCFEgZNE8Zxt27aRmJhIYGAg06dPf6H3yMjIYMmSJXTp0oUGDRrQqFEjhg4dyt9//52l7cOHDwkMDKRt27Z4eHjQoUMHFi5cmGXv7t69e3zxxRe0atUKd3d3WrVqxRdffMG9e/d02k2ePBk3NzfOnDmDn58f9erVo2/fvmTeqeX69etMmDCBZs2a4e7uTqdOnVixYgXp6ekG+3Tu3Dnc3NwYN26c3vmdOnWiYcOG2tMUR44cYfDgwTRt2hQPDw+6dOnCihUrXvg0RuY1gPXr1zNu3Dg8PDxo3rw5YWFhAKSlpbFixQptn5s2bcr48eO5efNmlvdKTExk3rx52s+8R48e7N+/n88++ww3Nzdtu8xrXD/88EOW9xg4cCBubm7ExcUZjPvSpUtMnDhR+3fz8vKib9++7N69W6edob/b89cJcrrmtnjxYm3b27dv8+WXX9KuXTvq1auHp6cnPXr04Oeff9bpZ+bp1X379uHm5saWLVsA/dco0tLSWL58OX5+fri7u9O4cWNGjhzJ2bNn9f7NtmzZwqZNm+jSpQv16tWjZcuWzJkzh+TkZIOf3bOfy4MHD5g4cSI+Pj40atSIUaNG8d///jdLe2P6C7B48WLc3Nz4+++/6d27N+7u7nTo0EH7uwsLC2PMmDE0b94cd3d3GjZsyHvvvUdISEiW+OrUqUNsbCyff/45TZo0wdPTk6FDh3Ljxg3S0tKYN28ezZs3x8vLi4EDB3Lx4sUscRvzuxw4cCBLliwBYPTo0TrfVYCdO3fSt29fPD098fLyYvDgwVnizel3lB2zOPWUG7169eLzzz/HwcGBW7duvdB7zJw5k19++YVGjRrRsmVL4uPj2bFjB0OHDmXNmjU0btwYgJiYGPz9/bl9+zaNGzemQ4cOnD9/nuXLl3P69GlWrVqFlZUVN27coF+/fty/f59mzZrRqVMnIiMj2bBhA/v37+fnn3+mUqVKOjGMHDmSevXq8cYbb2Bvb49KpeLcuXMMHjyYlJQU2rdvT/ny5QkNDeXrr7/m5MmTrFixAktLS719qlu3LjVq1ODAgQOkpKRgZ2ennXfhwgX+/fdf+vTpg42NDaGhoYwYMYJSpUrh5+eHra0tx44d4+uvv+b69esEBga+0OcKsHTpUuzt7RkwYACXL1+mbt26pKenM2zYMEJCQvDw8GDAgAE8ePCAnTt3cuTIEdauXYtarQaebuTee+89Tp8+jaenJx06dODcuXOMGjWK8uXLv3Bc+pw5c4aBAwdiY2ND+/btcXZ25vr16+zbt4+xY8eyfPly2rRpo7OMvr/b88aMGZNlWkZGBmvWrCEtLY369esDcOvWLXr16kVycjK+vr64uroSHR3N7t27mTZtGk+ePGHAgAHUrl2bQYMG8eOPP1KtWjU6d+5M7dq19fYpNTWV9957j7CwMNRqtfZ7uXfvXg4fPsw333xDu3btdJZZt24dly5don379rRo0YI9e/awevVq7t27x4IFC4z6LIcNG0ZMTAw9e/bk7t277NmzhxMnTrBu3Tpef/31XPX3WRMmTKB69eoMHDiQxMREihcvzt69exk7dizOzs60a9eO4sWL89///pdDhw5x4sQJNm3apPP5KIrCoEGD0Gg0dO/enUuXLnHkyBGGDx9OlSpVuHTpEh07diQmJoZdu3bx/vvvs3v3booVKwZg9O+ye/fuAJw4cQI/Pz+qV6+ujWHRokV8++23VKhQge7du6NSqdi1axfvvfces2fP5u2339bpt77fkUFKEbZ582ZFrVYrAwYMUIKCgvT+d/PmzWyXv3nzpqJWq5WRI0cavc74+Hjl9ddfV9555x2d6WfOnFHUarXywQcfaKdNnDhRUavVypo1a3TaTp06VVGr1cru3bsVRVGUQYMGKWq1Wvn111912v3000+KWq1WBg0apJ02adIkRa1WK2PGjNFpq9FolLfeekupV6+ecvbsWZ15gYGBilqtVtatW2ewb8uWLVPUarWyc+dOnenz5s1T1Gq1cvz4cUVRFOWDDz5Q1Gq1cuPGDW2btLQ05e2331Zq166txMfHG1yPPiEhIYparVbq16+v3Lt3T2fed999p6jVamXu3Lk608+cOaPUrVtX6dmzp3ba999/r6jVamXGjBmKRqPRTp89e7aiVqsVtVqtnZb5/Xn+76MoijJgwABFrVYrjx8/1okvICBA22bIkCFKnTp1lMuXL+ss+8cffyhqtVoZN26cdlp2fzdFUZQ2bdoo3t7ehj4eZdq0aYparVYWLVqknZb5PTp69KhO29OnTytqtVrx9/fXTsvuu/78upcsWaKo1Wpl8uTJSnp6unZ6RESE4uHhofj4+Gj/vpmfSe3atZV//vlH2zYuLk5p0qSJUqdOHSUhIcFgvzI/lzZt2igPHjzQTt+1a5f2t/0i/Q0KClLUarXSo0cP5cmTJzrtO3TooDRq1EiJiYnRmb5y5UpFrVYrCxYsyBJf7969ldTUVO10f39/Ra1WK23bttX5vk+ePFlRq9XKwYMHFUXJ/e8yM+49e/bo9M/NzU0ZMGCAkpSUpJ3+8OFDxdfXV6lfv772szP0OzLELE49nThxgiVLluj97/bt23m6Lo1Gg6IoREVFERMTo51er1499u7dq92DSktLY8+ePVStWjXLBcPhw4czYsQIXFxciIqKIiQkBB8fH3r37q3Trn///tSrV4+QkJAsRz/t27fXeX369GkuXbpEr169cHd315n34YcfYm1trT3dkJ0uXbqgUqnYsWOHzvSdO3fi6upKw4YNtZ8BoHMqwtramu+++47jx4/j4OBgcD2GeHl54eLiojNt06ZNODo68vHHH+tMr1evHh07duTs2bPa0xRbt27F3t6ejz76SGdvfcyYMZQsWfKF49Ln3XffZd68edSoUUNneuYRpb4Lk8//3YyxYcMG1q9fT5s2bXQGbXTt2pXAwECaNWum097DwwM7O7sXujC6detWihUrxmeffYaV1f9OSNStW5f+/fsTFxfHn3/+qbNMw4YN8fT01L4uUaIEnp6eZGRkcPfuXaPWO3LkSJydnbWvO3TogLe3NydOnCA6OvqF++vr64uFxf82gxqNhvHjxzN37lxKly6t09bQ361fv37Y2NhoX2f219/fX+f77uHhAaDd7uTF73LTpk0oisInn3yiPUoBKFWqFMOGDSM5OZmdO3fqLKPvd2SIWZx6GjNmTK5GPb0MR0dH/Pz8+OOPP2jTpg2enp60bNmSNm3aULNmTW27GzdukJSURIMGDbK8R4UKFbQbvf379wNkO5bdy8uLs2fPcvHiRSpWrKid/uy/4enhbeZ6nz2Hnal48eJERkaiKIre0x2ZcXl7e/PXX39pD9NPnz7NrVu3GDZsmHa53r17s3fvXj7++GMWLVpEixYtaNmyJU2aNNH5Mb2I5/uVmJjI1atXcXFxYdmyZVna379/H3h6eqxy5cpcunSJunXrUqJEiSz9d3Nz48SJEy8V37NatGgBPD3FePHiRW7cuMHVq1e154OfPHmSZZnn+5eT0NBQZs6cSdWqVZk3b57O387HxwcfHx8ePXrEhQsXtOsPDw8nNTVV7/oNSUhI4ObNm3h5eelN9t7e3qxevTrLOfiqVatmaZv5+ed0bSxT5k7Iszw8PAgLC+PixYuULVv2hfr7/OdtYWGBr68v8HRj/t///pcbN25w+fJljh8/DvxvR+hZlStX1nltb2+v9/1tbW0BtNfq8uJ3mfkef/75JwcPHtSZl5mIL1y4oDM9t98zs0gU+UHfH7Vdu3bUrl2bOXPm4O7uzpYtWzhx4gQnTpxg/vz5uLu7ExAQQO3atXn8+DFAjnvXCQkJAFk2bJnKlCkDPB3S+6xnryEA2ouuhw8f5vDhw9muLzEx0WBMXbt2JTQ0lAMHDvDWW2/xxx9/AE+PNjK1atWKH3/8ke+//55jx46xdu1a1q5di5OTE2PGjGHgwIHZvn9OMn9omTI/n5iYGO2FPn0eP37Mo0ePALLdk8r8LPPKnTt3CAgIYP/+/SiKgoWFBVWrVsXb25vz58/rXeb5v1tO7z927Fisra1ZunRplu/I48ePmTVrFtu3byc9PR2VSkWFChVo0qRJtus3JPNCb26/i/p2DjI3eoqRj8MpW7ZslmmZe/zx8fHAi/VX3+cdGRlJQECAdqfB2tqaGjVq4O7uzrVr1/TGnJkYnpfTjlFe/C4z+79y5cpsl8/c3mR6/neUE0kUL0jfRqlChQrUrl0ba2trhgwZwpAhQ7hz5w5Hjx5l165d2gtc+/bto3jx4gB6x64DJCUlYW9vr22XeXj9vMwvmpOTk8F4M7/IX331Fb169TKuk3p07NiRgIAAdu7cSefOndm1axdqtTrLCIzMIsekpCRCQ0M5ePAgW7duJSAggMqVK9OqVasXjuFZmf3y8fHhp59+Mtg2M6lk/v95z/8tDG3MchqxoygKw4cP5/LlywwfPpx27dpRq1Yt7OzsuH//Phs3bjS4fE6Sk5MZPXo0Dx8+JCgoSOdoNdPEiRP566+/6Nu3L2+//TZqtVq7sQkODs71OvPqu/giUlJSdE6rwP82kKVKlQLypr8JCQkMGTKE+Ph4Jk2aRLNmzahevTo2NjacPn2a7du352Gv8uZ3aW9vj6WlJadPn8ba2jovw9Myi2sU+SEyMjLLfz169ODmzZt8/fXXHDhwAIDy5cvTu3dvvv/+e5o0aUJ0dDS3bt2iWrVqWFtb6y3Fj46OxtPTk6lTp2pHV/zzzz964zh58iQqlUrvhuJZmRvyiIiILPPS09OZPXs2a9euzbHfJUuWpFWrVhw7doyQkBCio6N1jiYA/vOf//DNN98AT7/ELVu25IsvvuDLL78EyHEoXm6UKFGC8uXLc/ny5Sx7sgC//fYbixcv5tatWzg4OFC1alUuXryYZZjukydPsnw2mT+6pKQknemKougddvusyMhILl26hK+vLx9//DH16tXT7r1euXJF+z4vasqUKZw/f57hw4frva4RFxfHX3/9hbu7O9OnT9c5XXTr1i1SU1N11p/daY1nOTg4ULFiRa5du8bDhw+zzD958iRAjt/FF/H80FuAU6dOYWVlRd26dXPd3+yEhIRw//593nnnHYYMGcLrr7+uPSrIi7/b83L7u9T3d3Jzc+PJkydZTi8BhIeHM3/+fEJDQ18qTkkUeczOzo7vvvuORYsW6WyM0tLSiImJwcbGBhcXF2xtbenQoQNXrlzh119/1XmP5cuXA9C0aVPKly9P48aNiYiIYP369TrtNm7cyD///EPjxo0pV66cwbgaNmxIxYoV2bRpE6dOndKZt3LlStasWaM915mTrl27kpSUxOzZs1GpVFkSxZEjR1i+fDnh4eE60zMv4OX1MNTu3bvz6NEj5s+fr3P++PLly8yYMYM1a9Zo93J79OhBQkJCllOHK1as0Bl8AGiHHx4+fFjn/Pb69eu1p7Gyk7lxeX6D+ujRI+bOnQs8HdL6IpYtW8bOnTtp06YNH374od421tbWWFhYEBcXp/M9TElJYebMmYDu9YHMC9M5XTPo3r07KSkpBAYG6sR/7tw51q1bh6OjI23btn2hfhmyePFinSPBXbt2cfz4cd58802cnJxy3d/sZJ6Sef6C9Z07d7RnEV7076ZPbn+XmX+nZ/uYOWw2MDBQ5zNKSEhg2rRpfPfdd7m+HvU8OfWUx1xcXBg8eDBr1qzhrbfeolWrVlhYWHD48GGuXLnCqFGjtHs6n3zyCWFhYUydOpU///yTWrVqcfbsWU6ePEm7du3w8/MDYMaMGbzzzjtMnz6dPXv24ObmxqVLlzh69ChlypTR/hAMsbS0ZM6cOQwbNowBAwbw5ptvUqlSJSIiIggJCaFixYrZFtM9r3Xr1jg6OnLx4kUaNWqEq6urzvwPPviA48ePM2jQIDp27EjZsmW5fPkyBw4coEaNGnTt2lXbdsuWLdy+fZvu3bvn+gJbpvfff19bLxEWFkajRo2Ii4tj165dJCcnM3/+fO1n/u6777Jr1y5WrlxJWFgYHh4enD9/ntDQUBwdHXV+aHXq1KFu3bqcOnWK/v3707BhQyIjIwkJCaF+/fqcPn0625iqVq2Kh4cHJ0+epH///nh5eREbG8vevXtJS0ujWLFixMbG5rqvoaGhLFq0CGtra+rXr8/KlSuzbAArVKhAjx498PX1Zffu3fTu3Zs33niDpKQkDhw4wP379ylZsiTx8fFoNBosLCwoVaoUNjY2HD9+nFmzZuHr66t3AMWwYcM4cuQIwcHBREZG0qRJEx48eMDevXtRFIWFCxe+1Ki27Fy9epVu3brRunVroqOj2bt3L2XLlmXy5MkAFCtWLFf9zY63tzcVKlTg999/JzY2ltdff52oqCj27duHra0tKpUqx52E3Mjt7zLzWs2yZcu4cOECY8aMoUmTJgwcOJC1a9fSuXNnWrVqhY2NDXv37iUqKoq+fftqR2y9KDmiyAcTJ05k2rRpODg4sHXrVn799VeKFy/O7NmzdfYAy5Yty8aNG/H39ycyMpIff/yRO3fuMHLkSBYuXKhtV7VqVTZv3kyfPn24fPky69at49q1awwcOJDffvsty4iL7Pj4+LBx40Y6duxIaGiodn0DBw5kw4YNRl/MtbGxoWPHjgBZjibg6WiUdevW8cYbbxASEsKaNWuIjIxk0KBB/PTTTzoX/rZu3frSw5Tt7Oz48ccf+eCDD0hNTWX9+vX89ddfeHl58eOPP/LWW29p29ra2vLDDz/Qv39/bty4wbp160hISGDlypVUrVo1y8XNFStW0L17d65du8a6detITk7mP//5j7aoLTsWFhZ8++239OjRg1u3brF27VpCQ0Np2bIlmzdv5o033uDatWvcuHEjV329ceMGiqKQnp7ON998w8KFC7MM+d66dSvwdA9z8ODBxMfHs27dOg4fPky9evX4+eef6datGykpKdqRPDY2NnzxxReULFmS9evXZ6noff7zGzt2LOnp6fz888+EhITQpk0bNmzYkKXYLq8sWLCAOnXqsHnzZsLCwujWrRsbN27UOTrNTX+zY29vz5o1a2jfvr32KOn8+fN07dqVbdu28frrrxMaGprttcUXkZvfpZ+fH506deLmzZusX79e+7v5/PPPmTt3Lq6urmzbto2tW7dSunRpAgMDtad8X4ZKycsTbkIUcrdu3cLZ2VnvKJU2bdpQrFixLHUiouBMnjyZrVu38ttvv2VbLS7ynxxRCLMyc+ZMvL29s1yM3rFjB3fu3HnpQ3QhiiK5RiHMir+/P3/99Re9evWiffv2ODk5ceXKFQ4ePEi5cuX03kdJCHMniUKYlbZt2/LDDz+wevVqDhw4wOPHj3FxcaFfv36MGjWK1157raBDFKLQkWsUQgghDCqSRxR5WdAlhBDmxNvbO8u0IpkoQH9ncxIWFvZCy73KpM/mQfpsHl62z9ntZMuoJyGEEAZJohBCCGGQJAohhBAGSaIQQghhkCQKIYQQBkmiEEIIYZAkCiGEEAZJohBCCGGQJAohhBAGSaIQQghhkCQKIYQQBpn0Xk8ajYZp06YRGRmJjY0NAQEBVKlSRTt/27ZtrFmzBgsLC3r27En//v2Bpw8Pz3wOb8WKFZk1a5YpwxZCCLNm0kSR+WD5DRs2EB4ezuzZs1m2bJl2/ty5c9m+fTv29vZ07tyZzp07Y2dnh6IorF271pShCiGE+P9MmijCwsJo0aIFAA0aNCAiIkJnvpubG/Hx8VhZWaEoCiqViosXL5KcnMyQIUPIyMhg3LhxNGjQwKh1vWiM5kb6bB6kz+YhP/ps0kSRkJCgPYUEYGlpSUZGBlZWT8OoVasWPXv2pFixYvj6+uLo6IidnR1Dhw6ld+/eXLt2jWHDhrFr1y7tMtmR24wbR/psHqTP5qFI3GbcwcGBxMRE7WuNRqPd4F+8eJGDBw+yb98+9u/fz8OHD9m5cyfVqlWja9euqFQqqlWrhpOTEzExMaYMWwghzJpJE4WXlxeHDh0CIDw8HLVarZ1XokQJ7OzssLW1xdLSEmdnZ+Li4ti0aROzZ88GIDo6moSEBFxcXEwZthBCmDWTnnry9fXl6NGj9O3bF0VRCAwMJDg4mKSkJPz9/fH396d///5YW1tTuXJlunfvDsCUKVPo168fKpWKwMDAHE87CSGEyDsm3eJaWFgwY8YMnWk1atTQ/rtfv37069cvy3ILFizI99gA/j7/mLmbgklK09CvXS36d6pjkvUKIURhJgV3QOT1GLqM/53d4fEkpWkA+Hnvf+ky/nfC/3u3gKMTQoiCJYkCmBB0LNt5U5cfN2EkQghR+Jh9otj21+Uc26zfed4EkQghROFk9oni9yNXcmwTfOyqCSIRQojCyewTxdvNa+TYpkuzaiaIRAghCiezTxRdW9XMsY2MfhJCmDOzTxQA88c2y3bezBGNTRiJEEIUPpIoALcqLgQveBuH56pKKrjYo1LkIxJCmDcpcQa27LnIml2RWabfjkni8xV/A7D60za4vOZo6tCEEKLA5cnu8rlz5/LibQqMviTxvCGBB0wQiRBCFD5GHVHExsYyd+5cjh8/Tnp6OoqiAKAoCklJSaSkpHDhwoV8DTS/fLLooNFtT1+6R311mfwLRgghCiGjjihmz55NcHAwbm5uFCtWjNKlS+Pj44OFhQWpqakEBATkd5z55sKNx0a33X38ej5GIoQQhZNRieLIkSOMGTOGZcuW4e/vj6urK9988w07d+6kZs2aXL6cc3VzYVW7ckmj23ZoXCXnRkIIUcQYlSgeP36Ml5cXADVr1tRek3BwcGDIkCHs378//yLMZ3M/bG10WzntJIQwR0YlipIlS2qfTFe5cmViYmKIi4sDoEKFCkRHR+dfhCbwXke3HNus/rSNCSIRQojCx6hE4ePjw5o1a4iLi6Ny5coUL16cXbt2AXDy5EkcHV/tYaM9fF8neMHblC+lO72Ciz0Bw5sSvOBtGRorhDBbRiWK0aNHc/HiRUaNGoWlpSXvvPMO06dPp3PnzixZsoSOHTvmd5wm8X6ninwxpBFVyjlQ2smKN30q41bVuaDDEkKIAmXU8Fi1Ws3OnTuJjHxab/Dxxx9TvHhxQkND8fPzY/jw4fkapCncjXnEtPW3gFvaaT/uvMiPOy/yhldZJvZthKWlVGkLIcyPUVu+kydPYmdnR7Nm/7sn0vvvv8/KlSsZOHAgu3fvzrcATWXY7L+ynXf0n2hWB7/aRYVCCPGijEoUgwYN4soV/c9tOH/+PFOmTMnToEzt5LmoHNvsO/4vKWkZJohGCCEKl2xPPX3yySfcvfv0edGKojBt2jQcHByytLt27RqlS5fOvwhNYMff13Jsk5gGsXGpuJaW22MJIcxLtkcU7dq1IzU1ldTUVFQqFenp6drXmf+lp6dTp04dvvrqK1PGnOf8mlbNsU1xGyjlaJv/wQghRCGT7e5x+/btad++PQBt27Zl3rx5vP766yYLzJQa1nXNsc2bjatjZyNHE0II82PUNYr9+/cbTBIZGa/+ufvvJrfKdt4bXmUZ0qWuCaMRQojCw6hdZEVR+P333zl+/DhpaWna6RqNhuTkZMLDwwkJCcm3IE2hnIsT0/pXRGNXnv/sOE/sowQsrVVYWlpSo2wp0p9oZHisEMIsGZUolixZwtKlSylRogQZGRlYW1tjZWXFw4cPsbCwwN/fP7/jNJmq5Ypz/W7C0xcpCpAh9RRCCLNm1Bbv999/5+233+bEiRMMHjyYtm3bcuzYMTZu3IijoyM1a9bM7zhNxtADiqSeQghhjoxKFHfv3qVLly6oVCrq1KnDqVOnAKhXrx4jRoxg06ZN+RqkqfwblZxjG6mnEEKYG6MShZ2dHZaWlsDTu8feunVLe62ibt263Lx5M/8iNKGwK4k5tsmspxBCCHNhVKKoXbs2f/75JwBVq1ZFpVIRGhoKwK1bt7RJ5FXnXaN4jm2knkIIYW6Mupj93nvvMXr0aOLj45k/fz7t2rVj8uTJvPnmm+zcuZOGDRvmd5wmUd21WI5tpJ5CCGFujDqiaNu2LStWrKBu3ae1BNOnT0etVrN161bc3Nz4/PPP8zVIUzL0gCKppxBCmCOjd41btmxJy5YtgadPvFu1alW+BVWQXF5zJHjB25y+dI///HGeR4lJdGpSgy4ta8iRhBDCLGW75bt69Wqu3qhatWovHUxhUl9dhq/VZbgZHc/J89HExCZTqWyJgg5LCCFMLttE0alTJ1QqldFvdOHChRzbaDQapk2bRmRkJDY2NgQEBFClShXt/G3btrFmzRosLCzo2bMn/fv3z3GZ/JKQkMLgmXtIy9AAsGb7OWysLPjPVF8cHOzyff1CCFFYZJsoZs2apf3348ePmT9/Po0bN6Zz5864uLgQGxvL3r17OXToEJ9++qlRK9u7dy9paWlUOToeAAAgAElEQVRs2LCB8PBwZs+ezbJly7Tz586dy/bt27G3t6dz58507txZe9uQ7JbJL88miUxpGRoGz9zD5jld8n39QghRWGSbKLp3767999ixY+nSpYtO8gDo2rUrM2fOZPfu3fTp0yfHlYWFhdGiRQsAGjRoQEREhM58Nzc34uPjsbKyQlEUVCpVjsvkh5vR8VmSRKa0DA03o+PlNJQQwmwYdXX20KFDLF26VO+8tm3bMnr0aKNWlpCQoPPwI0tLSzIyMrCyehpGrVq16NmzJ8WKFcPX1xdHR8ccl8lOWFiYUTHpW+7o+TiDbbb+GcobdRxf6P0Loxf9rF5l0mfzIH3OG0YlCkdHRyIjI3njjTeyzDt16hTOzs5GrczBwYHExP9VP2s0Gu0G/+LFixw8eJB9+/Zhb2/PxIkT2blzp8FlDPH29jYqpmeFhYXh7e1NmYrx7Anfn2277u19iswRRWafzYn02TxIn19seX2MqqPo0qULQUFB/PDDD9y8eZOEhASuXbvGt99+y4oVK4w67QTg5eXFoUOHAAgPD0etVmvnlShRAjs7O2xtbbG0tMTZ2Zm4uDiDy+SXSmVLYGOl/6OxsbIoMklCCCGMYdQRxUcffURUVBSzZ89mzpw5OvP69+/PiBEjjFqZr68vR48epW/fviiKQmBgIMHBwSQlJeHv74+/vz/9+/fH2tqaypUr0717d6ysrLIsYwr/meqb5YJ25qgnIYQwJ0YlCmtra77++mvGjBnDyZMnefToEc7OzjRt2pSKFSsavTILCwtmzJihM61GjRraf/fr149+/fplWe75ZUzBwcGOzXO6aOsoGtYpK0cSQgizlKtS4+rVq1O9evX8iqVQqlS2hCQIIYRZk0e1CSGEMEgShRBCCIMkUQghhDBIEoUQQgiDjEoUgwYN4sqVK3rnXbx4kS5d5N5HQghRVGU76ik0NBRFUQA4ceIEJ0+e5OHDh1naHThwoMg8M1sIIURW2SaKDRs2EBwcjEqlQqVSMX369CxtMhOJn59f/kUohBCiQGWbKD777DO6du2Koii8//77TJkyJUsNhaWlJY6OjtSpUyffAy0oKWkZxMalUsrRVp5wJ4QwS9lu+ZycnLS39541axatW7emVKlSJgusoD15omF18DlCIqKIeZSMi1Mxmri7MqRLXSwtZQyAEMJ8GLWL3L17d+Li4oiKisLV1ZW0tDS+//577ty5g5+fH02bNs3vOE1udfA5th3+V/v6Xmyy9vWwbvUKKiwhhDA5o3aNT506RZs2bfjpp58AmDlzJosWLWL37t0MHTqUPXv25GuQppaSlkFIRJTeeSERUaSkZZg4IiGEKDhGJYqgoCBq1aqFv78/SUlJBAcH07dvX06cOEGvXr1YsWJFfsdpUrFxqcQ8StY77/6jZGLjUk0ckRBCFByjEsWZM2cYOXIklSpV4ujRo6SmptK1a1cAOnXqxOXLl/M1SFMr5WiLi1MxvfNKOxWjlKOtiSMSQoiCY/RVWVvbpxvHw4cPY29vT/369QFISkrCzs4uf6IrIHY2VjRxd9U7r4m7q4x+EkKYFaO2eDVr1mTjxo3Y2dmxe/du3njjDSwtLYmNjWXVqlXUrVs3v+M0uSFdnvYpJCKK+4+SKf3MqCchhDAnRiWKDz/8kNGjR7Njxw7s7Oy0T7Tz8/MjPT2d77//Pl+DLAiWlhYM61aPPu3UXLoZS8nitlQuV0KGxgohzI5RiaJZs2Zs27aNs2fP4unpiavr09MykyZNolGjRpQvXz5fgywIT55oWLUtgn0nb5Kc+nSUUzFbS95sWJn/6+ouCUMIYTaMPtleqVIlKlWqREZGBjExMZQqVYpu3brlZ2wFanXwObYfuaozLTn1CduPXMVCpZJaCiGE2TB6t/jixYsMGzYMLy8vWrVqRWRkJFOmTClyQ2PhaR3F39nUUQD8ffaO1FIIIcyGUYkiIiKCvn37cvPmTfr376+9GWDJkiX55ptv2LhxY74GaWqxcancj9VfRwFw/1GK1FIIIcyGUYli/vz5eHh48McffzBhwgRtopg8eTK9evXSVmwXFaUcbSldSn8dBUBpJzuppRBCmA2jEsXp06cZPHgwlpaWqFQqnXl+fn5cv349X4IrKHY2VjTNpo4CoGm98lJLIYQwG0Zt7aysrMjI0H9OPj4+Hmtr6zwNqjAY0qUuGkXRO+pJaimEEObEqETRuHFjli1bRtOmTSlevDgAKpWKjIwM1q5di4+PT74GWRAsLS0Y3t2DwZ3rcPdBIqCi3Gv2ciQhhDA7Rm31xo8fj7+/P76+vjRs2BCVSsXy5cu5fPkyd+/e5ZdffsnvOAuMnY0V5V4rLhevhRBmy6hEUa1aNTZv3szixYs5duwYlpaWnDx5kkaNGhEUFETNmjXzO84CIQ8vEkKIXBbczZ07V++8u3fvUq5cuTwLqrCQhxcJIYSRo55q167NmTNn9M4LDQ2lU6dOeRpUYSAPLxJCiKeyPaL4/vvvSU5+WnSmKAobN27k0KFDWdqdOnUKGxub/IuwgBjz8CLX0nJhWwhR9GW7pUtJSWHJkiXA0xFO2VVfFytWjDFjxuRPdAUo8+FF9/RUaMvDi4QQ5iTbRDF69GiGDRuGoijUr1+fdevW4eHhodPGwsICK6uiuVed+fCiZ69RZJKHFwkhzInBrV3mKaV9+/ZRpkyZIllYZ4g8vEgIIYwc9VShQoX8jqNQynx40dstaxDx7wPcq79GGWf7gg5LCCFMSs6fGJCWlsHExYe5djcOjQYsLKBqOUfmfdACGzn1JIQwEybd2mk0GqZNm0ZkZCQ2NjYEBARQpUoVAGJiYhg3bpy27YULFxg/fjz9+vWje/fuODg4AFCxYkVmzZplkngnLj7Mv3finokf/r0Tx8TFh1k0vo1JYhBCiIJm0kSxd+9e0tLS2LBhA+Hh4cyePZtly5YB4OLiwtq1a4GnQ24XLlxInz59SE1NRVEU7TxTeZyQyrW7cXrnXbsbx+OEVEo6yMgnIUTRp1IyHy5hArNmzcLDw4POnTsD0KJFCw4fPqzTRlEUevbsyfz586levTqnT5/mk08+oUKFCmRkZDBu3DgaNGhgcD1hYWEvHeu/d1P4cf/9bOcPalua6uXsXno9QghRmHh7e2eZZvQRxcGDB9m/fz9JSUnoyy0LFizI8T0SEhK0p5AALC0tycjI0Bliu3//fmrVqkX16tUBsLOzY+jQofTu3Ztr164xbNgwdu3aleOwXH2dzUlYWJh2uZoJqaw7uAuNJms7Cwto38qnSBxRPNtncyF9Ng/S5xdbXh+jEsWqVauYP38+tra2ODs7Z3l40fOvs+Pg4EBiYqL2tUajybLB37ZtG4MGDdK+rlatGlWqVEGlUlGtWjWcnJyIiYnB1TX7BwvlhZIOtlQt56hzjSJT1XKORSJJCCGEMYxKFOvXr6dz587MmjXrpW7X4eXlxYEDB/Dz8yM8PBy1Wp2lTUREBF5eXtrXmzZt4tKlS0ybNo3o6GgSEhJwcXF54RhyY94HLbId9SSEEObCqERx//59+vTp89L3dPL19eXo0aP07dsXRVEIDAwkODiYpKQk/P39efjwIQ4ODjpHKL169WLKlCn069cPlUpFYGCgyarBbWysWDS+zdML21FxVHWVIwkhhPkxaotbs2ZNrl+/TuPGjV9qZRYWFsyYMUNnWo0aNbT/dnZ25vfff9eZb2NjY9T1j/xka2NJMVsrLt2IRV25lCQLIYRZMSpRTJgwgc8//5yyZcvi6emJnV3W0T5F8Q6yT55o+O63s+wOuU6G5n8X8Ku5lmD+2JZSdCeEMAtGbek+//xzHj58yIgRI/TOV6lUnD9/Pk8DKwxWB5/jj2PXsky/GhUvRXdCCLNhVKLo0aNHfsdR6KSkZXDs7J1s51+NkqI7IYR5MCpRFMXnTeQkNi6VB49Ssp2vKHAtKo76tUwzAksIIQqK0SfZ09LS2LJlC8ePHycuLo5SpUrRuHFj3n777SJ5faKUoy2vOdlxP5tkoVJBVVdHE0clhBCmZ1SiSEhIYNCgQZw/f57XXnsNFxcXLly4wPbt2/npp59Yt26dTsV1UWBnY0WzeuX1PrgIoJoMlRVCmAkLYxotXLiQmzdvsmrVKo4ePcpvv/3GsWPH+O6774iKimLx4sX5HWeBGNKlLp2bVcXKQrfyvJprCSm6E0KYDaOOKPbs2cOHH35I8+bNdaa3aNGCMWPGsHr1aqZMmZIvARYkS0sLRvSsz7td6nLjbjyPE1KljkIIYXaMShRxcXE6hXHPqlGjBvfvZ3+X1aLAzsaKyuVKEBtng62NZUGHI4QQJmVUoqhatSrHjh2jadOmWeYdO3aM8uXL53lghcWTJxpWB58jJCKKmEfJuDzz3GxLS6PO3AkhxCvNqETRr18/Zs6ciY2NDW+99RYuLi7ExMQQHBzMDz/8wEcffZTfcRaY1cHndC5o34tN1r4e1q1eQYUlhBAmY1Si6NOnDxERESxdupRvv/1WO11RFHr16sXQoUPzLcCClJKWQUhElN55IRFRDPSrjZ3cxkMIUcQZtZVTqVTMnDmTd999lxMnTvD48WNKlixJo0aNsr12URTExqUS8yhZ77z7j5KJjUvFtbQkCiFE0ZarrVyNGjWKdGJ4XilHW1ycinEvNmuyKO1UjFKOMvpJCFH0ydVYA+xsrGjirv9Jek3cXeW0kxDCLMiWLgdDutQFnl6TuP8omdLPjHoSQghzIIkiB5aWFgzrVo8+7dTylDshhFmSRJEDqaMQQpi7XCWKtLQ0zpw5Q3R0NM2bNyc5OZly5crlV2yFgtRRCCHMndGJ4tdff2XBggU8fvwYlUrFpk2bCAoKIiMjg6VLl+p9POqrTuoohBDCyFFP27dv54svvuDNN99k6dKlKMrT50d36tSJ0NBQnSK8osSYOgohhCjqjEoUK1euxN/fn8DAQFq3bq2d3q1bN8aMGcPOnTvzK74ClVlHoY/UUQghzIVRieLq1au0b99e77z69esTHR2dp0EVFlJHIYQQRl6jKFWqFDdv3tQ77/r16zg5OeVpUIWJ1FEIIcydUYnC19eXRYsWUaNGDby8vICn93+6efMmy5cvp23btvkaZEHKrKMY6Feb2LhUSjnaypGEEMKsGLXF+/jjjwkPD2fQoEE4OjoC8MEHHxAdHU3VqlWL9G3GhRDC3BmVKBwcHPjll1/4/fff+fvvv4mNjaVEiRIMGTKEnj17FsmhsZmk4E4IYe6MShTTp0+nR48e9OrVi169euV3TIWKFNwJIcydUbvEW7ZsIS4uLr9jKXRyKrhLScswcURCCGF6RiWK2rVrExERkd+xFDpScCeEEEaeemrevDlLlizh0KFD1K5dG3t7e535KpWKjz/+OF8CLEjy4CIhhDAyUSxZsgSAsLAwwsLCsswvqokis+Du2WsUmaTgTghhLoza0l28eDG/4yi0pOBOCGHucr1LfOXKFeLj43F2dqZy5cr5EVOh8mzB3eWbj7h2N46q5RxJf6KR4bFCCLNgdKLYsWMHs2fPJiYmRjutTJkyTJgwgS5duhj1HhqNhmnTphEZGYmNjQ0BAQFUqVIFgJiYGMaNG6dte+HCBcaPH4+/v3+2y5hKcnIaQ2ftIz4xTWd6x2ZVGNHNQxKGEKJIMypRHDp0iPHjx1O/fn1GjhyJi4sL0dHRBAcH88knn+Dk5ESLFi1yfJ+9e/eSlpbGhg0bCA8PZ/bs2SxbtgwAFxcX1q5dC8CpU6dYuHAhffr0MbiMqfyfniQBsOvYdWwsLaWeQghRpBmVKL799lvatGmT5bkT77zzDqNGjWLFihVGJYqwsDBtuwYNGugdcqsoCjNnzmT+/PlYWloatUx+uvcwiTg9SSLT0dO35AFGQogizait24ULFwgKCtI7z9/f3+gRTwkJCTg4OGhfW1pakpGRgZXV/8LYv38/tWrVonr16kYvo4++0VnGeH650/8mGmz/IC6Nw8fCcC7x6iaKF/2sXmXSZ/Mgfc4bRm3dSpYsSVJSkt55iYmJWFpaGrUyBwcHEhP/t+HVaDRZNvjbtm1j0KBBuVpGH29vb6NielZYWFiW5SpVS2JryJ5sl3nN0YYWzbxf2SMKfX0u6qTP5kH6/GLL62PUVVhvb2+WLVuW5TYecXFxLFu2DB8fH6OC8PLy4tChQwCEh4ejVquztImIiNDeytzYZfJTGWd7HIvbZDv/jfoVX9kkIYQQxjBqCzdu3Dh69OhBu3btaNGiBaVLl+b+/fscPnyYJ0+e8PXXXxu1Ml9fX44ePUrfvn1RFIXAwECCg4NJSkrC39+fhw8f4uDggEqlMriMqa2a8ma2o56knkIIUdQZlSgqVarEL7/8wpIlSwgJCeHx48eULFmS5s2bM3r0aGrUqGHUyiwsLJgxY4bOtGeXdXZ25vfff89xGVMrVsyG9TM6ce9hEqf+e48KpR2oWclJjiSEEGbB6C1djRo1WLhwofZ1eno6FhYWRl+fKArKONvTpK4r5/59wJHw2wBYW6t4zbEYoCI5NQN15VKUdJB7QAkhig6jE8XSpUsJDQ1lzZo1APzzzz+MHTuWESNG8N577+VbgIVFWloG44MOcS0qPse21VxLMH9sS2zkiEMIUQQYdTF71apVLF26lFq1ammnVa5cmS5durBgwQJ+/fXXfAuwsJi4+LBRSQLgalQ8ExcfzueIhBDCNIza5d24cSMffvghw4cP105zdXXl888/x9nZmR9//JE+ffrkW5AF7XFCKteicvfgpqtRcTxOSJXTUEKIV55RRxR3797Fw8ND7zxPT09u3ryZp0EVNtei4tAouVtGUch1chFCiMLIqERRrly5bAsxzpw5Q+nSpfM0qMKmqqsjFqqc2z1LpXq6nBBCvOqMOvX09ttvs3z5cmxtbWnfvj2vvfYasbGx7N27l2XLlvF///d/+R1ngSrpYEtVV0f+vWP8EUI1V0c57SSEKBKMShTDhw/n33//ZcGCBTrFdYqi0LlzZ0aOHJlvARYW8z5okatRT/M+yPkmiUII8SowKlFYWloyf/58Ro4cSWhoKLGxsZQoUQIfHx/c3NzyO8ZCwcbGisUT2vI4IZVz/z4gKSUd0K2jiEtKpXRJe8o623PnQSJp6U+wsbaiVAlbklIyKOVoK0V6QohXTq62WjVq1NBWUqempvLo0aN8CaowK+lgSzOP8jrTnjzRsDr4HCERUdyLTc52WRcnO5rWK8+QLnXlYUdCiFeGUVur9PR0vvnmG3777TcAjh49SrNmzWjdujUDBgwwy4TxrNXB59h2+F+DSQIg5lEK2w7/y+rgcyaKTAghXp5RiWLx4sV899132tt9z5o1i9dee43Jkydz+/Zto28KWBSlpGUQEhGVq2VCIqJIScvIp4iEECJvGZUoduzYwbhx43jnnXe4fPkyly9fZsSIEQwePJiPPvqI/fv353echVZsXCoxjwwfSTzv/qNkYuNS8ykiIYTIW0YliujoaOrXrw/AwYMHUalU2seTurq6Eh9v3K0tiqJSjra4OBXL1TKlnYpRylGGzgohXg1GJYrSpUtz69Yt4OmjSmvWrImLiwvw9GFC5cqVy78ICzk7GyuauLvmapkm7q4y+kkI8cowamvVsmVLZs2aRXBwMP/88w/jx48HYPbs2fz0009FvuAuJ5kPL8rNqCchhHhVGJUoPvvsMxRFITQ0lHfeeUd7W/ETJ07g7+/P6NGj8zXIws7S0oJh3eox0K82sXGp2NtZERufInUUQogiwaitlo2Njd6nzG3evFnnsaXmzs7GCtfSTz/S52/fUdLBlpS0DKLuJ2JvZ6VNHPD0grgkESFEYZXrLZNGo8HX15fly5frPJ9CZO/5gjwLC9BowM7GEpUKklOfUKZUMZq4u0oxnhCi0Ml1olAUhdu3b5OWlpYf8RRJmQV5mTSap/9PSXuinXYvNlnbZli3eiaNTwghDJFd13yW24I8KcYTQhQ2kijyWW4L8qQYTwhR2OQ6UahUKho2bEjx4sXzI54iJ7cFeVKMJ4QobHKdKCwsLFi7di1Vq1bNh3CKntwW5EkxnhCisJEtkgk8X5D3/KinlNQnuDwz6kkIIQoTSRQmoK8gT18dBTwd/fRsTUVKWobUWQghClS2W57M23QYa8GCBS8dTFGXXUFemVIW2jqLmEfJuDgVo1Hdp/fPOnHurnaa1FkIIQpCtokiPT2dP//8k2LFilGqVCmDbyLV2S/n+TqLe7HJbD9yVaeN1FkIIQpKtokiKCiImTNnsmXLFr777jvtI1BF3nqROouBfrXlNJQQwmQMnsP47LPPcHNzY+bMmaaKx+xInYUQorAzmCgsLCz47LPPuHHjBpcuXTJVTGZF6iyEEIVdjldF69Wrx/79+1Gr1aaIx+xInYUQorCTLU4h8Gydxf1HyZR+btRT5jSpsxBCFIRsE8WiRYvo27cvZcuWNWU8Zun5OotnayYGd64jdRRCiAKV7amn5cuXEx0drX2tKApTpkzhzp07JgnMHD2tsyiukxD0Tct8AJK+u8wamieEEC8i211URVF0Xms0Gn777TcGDBhA+fLlX2hlGo2GadOmERkZiY2NDQEBAVSpUkU7/8yZM8yePRtFUXBxcWHevHnY2trSvXt3HBwcAKhYsSKzZs16ofW/6p59ANLzRXhAtvOkQE8I8TJydS7j+eSRW3v37iUtLY0NGzYQHh7O7NmzWbZsmfa9p06dSlBQEFWqVGHjxo3cvn2bChUqoCgKa9eufal1FwX6CvOefZ3dPCnQE0K8DJPuaoaFhdGiRQsAGjRoQEREhHbe1atXcXJy4ocffmDAgAE8evSI6tWrc/HiRZKTkxkyZAiDBg0iPDzclCEXGoYK80Iiovj7rP5TgvIgJCHEyzLp1dGEhATtKSQAS0tLMjIysLKyIjY2llOnTvHFF19QuXJlRowYgbu7O87OzgwdOpTevXtz7do1hg0bxq5du7CyMhx6WFjYC8X4osvlt4fxGdyL1V+YFxObTHbHejGxyRw+FoZziew/r8La5/wkfTYP0ue8ketE8TL3dXJwcCAxMVH7WqPRaDf4Tk5OVKlSRXurkBYtWhAREcHgwYOpUqUKKpWKatWq4eTkRExMDK6uhmsPvL29cx1fWFjYCy1nCilpGfxyZL/eZOFSqhiKohDzKEXvvBbNvLMdMVWY+5xfpM/mQfr8YsvrYzBRvP/++1n23IcOHYqlpaXONJVKxeHDh3MMwsvLiwMHDuDn50d4eLhOEV+lSpVITEzk+vXrVKlShdDQUHr16sWmTZu4dOkS06ZNIzo6moSEBFxcXHJcV1GTWZj37HWITJkFe9nNk2G1QoiXke0WpHv37nm+Ml9fX44ePUrfvn1RFIXAwECCg4NJSkrC39+fr776ivHjx6MoCp6enrRu3Zq0tDSmTJlCv379UKlUBAYG5njaqajSV5j3fBGeoXlCCPEiVMrLDmUqhF708OtVOVQ19DCj3DzoKCUtg8PHwgyemnqRGPJKfq2jIP7OBf0Aqlflu52XzK3PL/N7zpTdZ2aeu+avuGcfgJSbeZmerce4F5vML0f2G11zYaiWI6/qNUyxDlMpSn0RhdPL/J6NJYnCDBmqx8ip5uJlljVFfIVNUeqLKJxM8R2TXRozk1M9hqGai5dZ1hTxFTZFqS+icDLVd0wShZkx9KCknB6K9DLLmiK+wqYo9UUUTqb6jkmiMDOGHpSU00ORXmZZU8RX2BSlvojCyVTfMUkUZsbQg5Jyqrl4mWVNEV9hU5T6IgonU33H5Jtqhp6tx4iJTcallPE1F8bUcuRlfK96TUhR6osonF7m92wsqaPIg+VeVVJHYTpSR2F65tZnqaMQ+cLOxgrnElYv9KUypl7jZZliHaZSlPoiCqeX+T3nRK5RCCGEMEgShRBCCIMkUQghhDBIEoUQQgiDJFEIIYQwSBKFEEIIgyRRCCGEMEgShRBCCIMkUQghhDBIEoUQQgiDJFEIIYQwSBKFEEIIgyRRCCGEMEgShRBCCIMkUQghhDBIEoUQQgiDJFEIIYQwSBKFEEIIg4rsM7OFEELknr5nZhfJRCGEECLvyKknIYQQBkmiEEIIYZAkCiGEEAZJohBCCGGQJAohhBAGSaIQQghhkFVBB1DQNBoN06ZNIzIyEhsbGwICAqhSpUpBh5Vn0tPT+fTTT7l9+zZpaWmMHDmSmjVrMnnyZFQqFbVq1eLLL7/EwsKCX3/9lV9++QUrKytGjhxJmzZtCjr8l/LgwQN69OjB6tWrsbKyKvJ9XrFiBfv37yc9PZ1+/frRqFGjIt3n9PR0Jk+ezO3bt7GwsGDmzJlF+u98+vRp5s+fz9q1a7l+/brR/UxJSWHixIk8ePCA4sWLM2fOHJydnXO3csXM7d69W5k0aZKiKIpy6tQpZcSIEQUcUd7atGmTEhAQoCiKosTGxiqtWrVShg8froSEhCiKoihTp05V/vzzT+XevXvKW2+9paSmpipxcXHaf7+q0tLSlFGjRint27dXLl++XOT7HBISogwfPlx58uSJkpCQoAQFBRX5Pu/Zs0cZO3asoiiKcuTIEWXMmDFFts8rV65U3nrrLaV3796Koii56ufq1auVoKAgRVEUZfv27crMmTNzvX6zP/UUFhZGixYtAGjQoAEREREFHFHe6tixIx9++CEAiqJgaWnJuXPnaNSoEQAtW7bk2LFjnDlzBk9PT2xsbChRogSVK1fm4sWLBRn6S5kzZw59+/alTJkyAEW+z0eOHEGtVjN69GhGjBhB69ati3yfq1WrxpMnT9BoNCQkJGBlZVVk+1y5cmUWL16sfZ2bfj67jWvZsiV///13rtdv9okiISEBBwcH7WtLS0syMjIKMKK8Vbx4cRwcHEhISGDs2LF89NFHKIqCSqXSzo+PjychIYESJUroLJeQkFBQYb+ULVu24CYAuvEAAAzVSURBVOzsrP1xAEW+z7GxsURERLBo0SKmT5/OhAkTinyf7e3tuX37Np06dWLq1KkMHDiwyPa5Q4cOWFn970pBbvr57PTMtrll9tcoHBwcSExM1L7WaDQ6f5CiICoqitGjR9O/f3+6dOnCvHnztPMSExNxdHTM8jkkJibqfOleJZs3b0alUvH3339z4cIFJk2axMOHD7Xzi2KfnZycqF69OjY2NlSvXh1bW1vu3r2rnV8U+/zDDz/QvHlzxo8fT1RUFIMHDyY9PV07vyj2OZOFxf/28XPq57PTM9vmen0vH/KrzcvLi0OHDgEQHh6OWq0u4Ijy1v379xkyZAgTJ06kV69eANSpU4fjx48DcOjQIXx8fPDw8CAsLIzU1FTi4+O5cuXKK/tZ/PTTT6xbt461a9dSu3Zt5syZQ8uWLYt0n729vTl8+DCKohAdHU1ycjJNmzYt0n12dHTUbvBLlixJRkZGkf9uZ8pNP728vPjrr7+0bfXd9C8nZn9TwMxRT5cuXUJRFAIDA6lRo0ZBh5VnAgIC2LlzJ9WrV9dO++yzzwgICCA9PZ3q1asTEBCApaUlv/76Kxs2bEBRFIYPH06HDh0KMPK8MXDgQKZNm4aFhQVTp04t0n2eO3cux48fR1EUPv74YypWrFik+5yYmMinn35KTEwM6enpDBo0CHd39yLb51u3bjFu3Dh+/fVXrl69anQ/k5OTmTRpEjExMVhbW7NgwQJcXFxytW6zTxRCCCEMM/tTT0IIIQyTRCGEEMIgSRRCCCEMkkQhhBDCIEkUQjxDxnbkjnxe5kEShcg3AwcOxM3NTee/unXr0rx5cyZNmkR0dHSBxXbr1i3c3Nz4+eefgacbvCVLlrBq1aoCi+lVIp+XeSlaJcii0KlVqxYBAQHa1xkZGVy+fJmFCxdy6tQpgoODsbW1LcAIn0pLS2Px4sWMGTOmoEN5JcjnZV4kUYh8ZW9vT4MGDXSm+fj4YGdnx6RJk9i3bx9+fn4FFJ0Qwhhy6kkUiHr16gFw+/Zt7bQzZ87w3nvv4enpiZeXF6NGjeLatWva+Zmni3bs2MH48ePx8fHB09OTDz/8kJiYGJ3337JlC71798bT0xN3d3c6derE2rVr9cZy69YtPDw8AFiyZAlubm5cvXoVNzc3Vq9erdM2LS2Nxo0bM3fuXL3vdfz4cdzc3Dh48CADBw7Ew8ODNm3asHTpUjQajbadRqNh9erVdO3alfr16+Ph4UG3bt3YsWNHlvfasGED7dq1o0GDBvz+++8A7N+/n4EDB+Lt7Y27uztvvvkmQUFBPHnyRLu8m5sba9euZerUqTRs2BAvLy8mTZpEUlISq1atonXr1nh6ejJ06FDu3Lmj049Dhw7Rt29fPDw8aNy4MZ988on2M9b3eWX6999/GTNmDD4+PjRo0IDBgwdz9uxZnfd2c3NjyZIl2vf/8ssv9X6WovCQRCEKxJUrV4Cnt08GOHXqFO+88w4ZGRnMmzePgIAAbt26Rb9+/XRubgfw5ZdfUrJkSYKCgpgwYQIHDhxgxowZ2vm//PILn376Kc2aNWPZsmUEBQVRoUIFAgICtPfHeVaZMmVYt24dAL169WLDhg1Uq1aNhg0bsnXrVp22e/fu5dGjR/Ts2dNg/yZOnEi1atVYunQpb731FkuWLGHOnDna+QsXLmThwoV069aNlStXMm/ePKytrZkwYQI3btzQea+FCxfy4YcfEhgYSLNmzTh06BCjRo2iWrVqLF68mG+//RYvLy+WLl2qTSSZvvnmG9LT0wkKCmLIkCH89ttv9OzZk4MHDzJt2jS++OILTpw4wfTp07XL7Nq1i/fff58yZcqwePFiJk+ezMmTJxkwYAAJCQl6Py+AGzdu4O/vz40bN5gxYwbz589Ho9EwYMAAzp8/rxPX8uXLadmyJUuXLs3xsxSFwIs8REMIYwwYMEDp/f/au/eQpto4DuDfeZnOS2QKSShI6tFUUHPLLiCNSiooTHhnDKlYFkvUYSvTShHL3B8RVH9oaSB4TYIVdINRZKUYE0Uy6bLyBhWBW6tg5nK/9w/fHTxt80L02vvyfMA/nmfnefY754/z23nO8fz++ovsdjv/Zzab6dGjRySXy2nLli1ks9mIiEipVFJmZqagoIzVaiWZTEbl5eVERDQ+Pk4cx1FBQYHge0pLSykxMZEcDgcREel0OqqurhZsY7FYiOM4unjxomCu1tZWIiKanJwkjuP4Ai9ERHq9njiOoxcvXvB9KpWK9u7d63Gfe3p6iOM4Ki4uFvRXVVVRQkICTUxMEBGRVqulK1euCLYZHBwkjuPoxo0bgrkuXLgg2O7atWsu809PT1NaWhqVlJTwfRzH0e7duwXbyeVySklJIavVyveVlZWRVColIiKHw0GbN2+m3NxcwbjR0VFKSEjgY3Z3vI4fP04ymYzMZjPfNzU1RZmZmaRSqQRx5eTkuBw75s/F7lEwv9XAwAASExNd+lNTU1FVVQV/f39MTk6iv78fSqUSXl5efD2QgIAApKen4+nTp4Kxa9euFbTDw8Nht9tht9shFotx4sQJADO1RoaHhzE2NsYXpJr9Gur5bN++HdXV1dDr9UhISMDHjx/R3d0tuDnvyZ49e1zmam5uRl9fH7Zu3Yrz588DmKkjMTIygtHRUf5q5+cY16xZI2irVCoAgM1mw8jICMbGxjA0NIQfP364jE1NTRW0w8LCEBISInjVdEhICL58+QIAGB4exvv377F//35BXZZVq1YhLi4OT548weHDh93uc3d3N6RSKYKDg/mxIpEIcrkczc3NmJqaglgsBjDz9lPmv4MlCua34jgO586dAzBz0hCLxQgPDxecqKxWK6anp9HU1OT2PoKvr6+g7e/vL2g7381P/zzTPz4+jsrKSnR1dcHb2xtRUVH8q5VpEc/9+/v7Y9euXbh9+zZKSkqg1+shkUiwY8eOeceGh4cL2s4axVarFcBMhbIzZ86gv78fYrEY0dHR/Kuvf44xICBA0P78+TMqKythMBjgcDgQGRmJlJQU+Pr6uoydXZTL03zOAjjATOICgJqaGtTU1LiMjYqK8rjPFosFDx48cPvDwPn5ypUr3cbA/NlYomB+K4lEwt+49iQoKAgikQhKpdLll/hiERHUajUcDgdaW1uRlJQEsVgMm83Gr6UvhkKhQEtLC3p6enDnzh3s3LlzQSe52YWSAGBiYgIAEBoaim/fviEvLw9RUVG4desWYmNj4e3tDZPJ5HKPwZ1jx47h5cuXqKurg0wm4xPnhg0bFr1/P3Mm8OLiYmzatMnlc+cVgTvBwcGQyWQerzhCQkJ+OT5mabBEwSy5wMBAJCYmwmQyCZIKEaGkpARhYWHzJhsns9kMk8kErVYrWKJyFm6Z/eTRbLMrhs0WHx+PpKQk1NfX482bNwtadgIAg8GA9PR0vn3v3j34+flBKpXi3bt3MJvNKC8vR3x8/IJjdDIajcjKyhKUen3+/DnMZvO8Y+cTHR2NsLAwjI6OQq1W8/3fv3+HRqOBTCZDXFyc2+O1bt06vH79GnFxcYKEotPpYLFYoNPpfik2ZumwRMH8EbRaLfLy8lBQUIDs7Gz4+Pigo6MDBoNB8LTQfEJDQxEREYH29nZERERgxYoV6O3tRUNDA0QiEWw2m9txvr6+CAgIQF9fH4xGI6RSKb8ko1AoUFFRgZiYGJf/CfGkra2Nv8fS1dWF9vZ2FBUVISgoCKtXr0ZwcDCuXr0KPz8/SCQSdHZ2oqWlBQA8xuiUnJyM+/fvIzk5GRERERgaGkJtbe2c+7dQXl5e0Gq1OHnyJHx8fLBt2zbY7XY0Njaiv78fBw4cAOD+eBUWFkKhUODgwYPIzc3FsmXLcPfuXXR0dECj0QiWuJj/FvZ4LPNH2LhxIxobG/H161dotVpoNBp8+vQJly5dQlZW1qLmqq2tRWRkJE6fPo2ioiJ0dnbi7NmzyMjIQG9vr8dx+fn5GBwcxKFDh/Dhwwe+Xy6XAwBfSnYhysrK0NvbC7VajYcPH6KiogJHjhwBMLPUVltbC7FYDK1Wi6NHj2JoaAh1dXWIiYmB0Wicc26dToe0tDTU1NRArVZDr9ejsLAQOTk5GBgYwNTU1ILjdCc7OxuXL1/Gq1evUFBQgNLSUohEIjQ0NGD9+vX8dj8fr9jYWLS1tSEwMBCnTp2CWq3GwMAAqqqqkJ+f/0sxMUuLVbhjmHlcv34d1dXVePz4MZYvXz7nts+ePcO+fftQX1+PjIyMfylChvm92NITw3hw8+ZNmEwmtLa2QqFQzJskGOb/ii09MYwHb9++RVNTE9LT01FcXLzU4TDMkmFLTwzDMMyc2BUFwzAMMyeWKBiGYZg5sUTBMAzDzIklCoZhGGZOLFEwDMMwc/obBkQ/h3kEyY0AAAAASUVORK5CYII=)"
      ],
      "metadata": {
        "id": "PUvPydeyl2QK"
      }
    },
    {
      "cell_type": "markdown",
      "source": [
        "***Test kümesi boyutunun bir fonksiyonu olarak F1-skoru (kesir)***"
      ],
      "metadata": {
        "id": "t2Bm62RcmGra"
      }
    },
    {
      "cell_type": "code",
      "source": [
        "nsimu=101\n",
        "class_report = [0]*nsimu\n",
        "f1=[0]*nsimu\n",
        "test_fraction =[0]*nsimu\n",
        "for i in range(1,nsimu):\n",
        "        X_train, X_test, y_train, y_test = train_test_split(train.drop('Survived',axis=1), \n",
        "                                                    train['Survived'], test_size=0.1+(i-1)*0.007, \n",
        "                                                    random_state=111)\n",
        "        logmodel =(LogisticRegression(C=1,tol=1e-4, max_iter=1000,n_jobs=4))\n",
        "        logmodel.fit(X_train,y_train)\n",
        "        predictions = logmodel.predict(X_test)\n",
        "        class_report[i] = classification_report(y_test,predictions)\n",
        "        l=class_report[i].split()\n",
        "        f1[i] = l[len(l)-2]\n",
        "        test_fraction[i]=0.1+(i-1)*0.007\n",
        "\n",
        "plt.plot(test_fraction[1:len(test_fraction)-2],f1[1:len(f1)-2])\n",
        "plt.title(\"F1-score vs. test set size (fraction)\",fontsize=20)\n",
        "plt.xlabel(\"Test set size (fraction)\",fontsize=17)\n",
        "plt.ylabel(\"F1-score on test data\",fontsize=17)\n",
        "plt.show()"
      ],
      "metadata": {
        "id": "9zgVmAkFmJXT"
      },
      "execution_count": null,
      "outputs": []
    },
    {
      "cell_type": "markdown",
      "source": [
        "        F1-score vs. test set size (fraction)\n",
        "\n",
        "![xaxax.png](data:image/png;base64,iVBORw0KGgoAAAANSUhEUgAAAYwAAAEfCAYAAABSy/GnAAAABHNCSVQICAgIfAhkiAAAAAlwSFlzAAALEgAACxIB0t1+/AAAIABJREFUeJzsnXdcU/f6xz/ZAZJAUNxgFQ11DxTrpFVoVURFsAxH79Xb4Wh7HR22atVaq1ZtHa2rrf1pr7fW1brQKmrdiCgqVuxVUXHhgJAwkpDk/P7Ac8gkJ5AE0n7fr5cv4azvcw7J9znP91kciqIoEAgEAoHgAG5tC0AgEAgE74AoDAKBQCCwgigMAoFAILCCKAwCgUAgsIIoDAKBQCCwgigMAoFAILCCKAwb7NixA2FhYQ7/HTp0yOb5RqMRI0eOxMSJEz0sOcEWWq0W33//vUfGys3NRWpqqkfGssWjR4+wfft2l12P/i788MMPLrtmddi1axf69OmDkpISZtuOHTvw8ssvo3379ujVqxdu3brlcbnUajV+/PFHs21jxoxBWFgYVCqVW8fW6XSIiorCf/7zH7eOYwrfYyN5IREREYiIiLC7v0WLFja3z58/H5cuXcKAAQPcJRrBCUaPHo3c3FyMGzfOrePk5OQgISEBycnJGDRokFvHssXTp08xcOBAvPDCC4iPj3fJNdu0aYPJkyejc+fOLrledSgoKMCCBQswbdo0+Pn5AQBu3LiBjz/+GBKJBCkpKeByuWjSpInHZXvllVcQFBSE0aNHM9vi4uIQEREBkUjk1rGFQiGmTp2KWbNmYcCAAWjUqJFbxwOIwqiSiIgIvP3226yP12g0mDVrFnbt2uVGqQjO8vTpU4+MU1RUhPLyco+MZYuysjKzN3BX0KZNG7Rp08al13SWL774AhKJBHFxccy2q1evwmg0IiUlBVOmTKk12Z4+fYqgoCCzbSNGjPDY+IMGDcK6deuwYMECrFixwu3jkSUpF3Hq1CnExMQwpjOBQKg5Dx8+xK5du5CSkgI+v/L9VqfTAQDkcnltiVYn4HA4GDVqFH777TfcvHnT7eMRheEidu3ahZKSEixYsABz586t1jX0ej1WrVqF2NhYdO7cGRERERg/fjxOnz5tdSxtpvfv3x8dO3bEK6+8gi+//NLqDfPRo0eYPXs2IiMj0b59e0RGRmL27Nl49OiR2XEffvghwsLCcOnSJQwePBgdOnRAUlIS6Moxt2/fxvTp09GrVy+0b98egwYNwtq1ax2+UV+5cgVhYWGYOnWqzf2DBg1C9+7dmQngxIkTeO2119CzZ0907NgRsbGxWLt2LbPfGe7evYuwsDDcu3cParUaYWFh+PDDD5n9xcXFWLJkCaKiotC+fXv07dsXn3zyiU2LZNOmTRgxYgS6dOmCrl27IiUlxcxXsXLlSowdOxYAsHHjRoSFhSE9Pb1K+Rxdk0an02Ht2rXM36Vnz56YNm0a8vLymGN27NjBLIGmpaUhLCwMO3bsqHL8PXv2ICkpCd27d0eXLl0QHx+PzZs3w7RakKUPY+XKlQ59e6ZcuXIFEydORI8ePdCxY0cMGzYM//3vf8G2ItHGjRthMBgQGxvLbOvfvz9mzJgBAPj8888RFhaGlStXMn/v5cuXY/78+ejcuTN69OjBPNOCggIsWrQIgwYNQqdOndCpUyfExMRgzZo10Ov1VmNv374dI0eORJcuXdC7d29MmDABOTk5AID09HTmXnNychgZANs+DKPRiM2bN2P48OHo2LEjwsPD8c9//hMnT540G5O+h5UrVyItLQ0JCQno2LEjevbsiZkzZ6KgoMBKzkGDBoHP53vEz8SbM2fOHLeP4mVcvXoVaWlpiIiIQI8ePVidExAQgKlTp6Jz585QqVTYuHEjWrZsiZiYGNbjzp07F99//z1CQ0MRHR2NkJAQnDhxAtu3b0e3bt3QrFkzAMDjx4/x6quv4vjx42jbti0GDBiAsrIy/PLLL7h06RKGDBkCLpeLO3fuYOTIkcjIyEDHjh3Rv39/GI1G7N+/H3v27EF0dDT8/f0BAIcOHUJOTg6OHDkChUKB3r17o0WLFujZsyeuXLmC5ORk5OTkIDIyEn379kVBQQF27tyJy5cvIyYmBlyu7XePBg0aIDU1FZcvX8Y//vEPs7fEq1evYvXq1Rg2bBiio6Nx7tw5/Otf/4JGo8HAgQPRtWtX3Lt3D7t378ajR4+q5RMSiUS4evUqAGDChAno0aMHWrZsCbVajZSUFBw8eBDt2rVDVFQU/Pz8sHv3bqSmpmLQoEHMevm6deuwaNEiNGjQAAMHDkRYWBgyMzOxY8cOBAcH4/nnn2fGy8nJQadOnTBy5EhERERAJpPZlIvtNcvLy/H6669j69atCA4OxsCBAxEUFIQDBw5g586diIyMRL169QBUrGlfvHgRLVq0wOjRo9GjRw+r5RKavXv3Ytq0aRCLxRg4cCA6dOiAnJwc7Nq1C1wul/Hd0d+Fvn37Mn6Mpk2bMv49+h+Px8Pdu3fRpUsXJCQkAAB+//13jBs3Dg8ePEBUVBR69OiB27dvY/v27Xj06BH69+/v8O/38ccfo2nTphg/fjyzjaIoiEQi5Obmok+fPhg6dCjzrDdu3Ijc3Fxcv34dCQkJEIlESEpKAgAkJCTg5MmTCA8PR2RkJIKDg3H58mUcPXoUGo3GbGVg9uzZWLFiBfh8Pl555RWEhIQgLS0NO3bswIsvvoj69etDJpPh7NmzqF+/PsaNG4eIiAg0a9YMO3fuxL179/DGG29AJBLBaDRiypQp+O677+Dj44OBAwciODgYZ86cwbZt2yCXy9GxY0cAYOaOkpISbNy4Ee3atcOLL76IgoIC/P777zh//jzzfGmEQiFOnjyJ9PR0/Otf/wKHw3H4XKsNRbBi+/btlEKhoEaPHk2tWLHC5r+8vDy75+fl5VEKhYKaMGEC6zHVajX1/PPPU6NGjTLbfunSJUqhUFBvv/02s+29996jFAoFtWHDBrNjZ82aRSkUCurAgQMURVHU2LFjKYVCQf38889mx/3nP/+hFAoFNXbsWGbbBx98QCkUCmry5MlmxxqNRmrIkCFUhw4dqMuXL5vtW7BgAaVQKKgff/yxyntbvXo1pVAoqNTUVLPtX3zxBaVQKKj09HSKoijq7bffphQKBXXnzh3mGJ1ORw0bNoxq06YNpVarqxzHHi+99BIVHh5utm3OnDk2ZT906BClUCiod955h9kWERFBRUVFUeXl5cy2Bw8eUO3bt6dGjBjBbDtz5gylUCio+fPnO5SJ7TXXr19PKRQKavHixWbnX7p0iWrXrh0VHx/PbHPmcxcXF0d17tzZ7Jmq1Wqqd+/e1AsvvEAZjUaKoiq/C5afNVNyc3Opbt26Ub1796YePnxIURRFlZaWUi+88ALVs2dPs++KwWBg/s5Hjx6tUsbbt29TCoWC+uijj6z22ZKLvv+wsDDq6tWrZsevXbvW5nfh/v37VPv27anevXsz206dOkUpFAoqJSXF7PlkZmZSYWFh1JtvvslsUygU1NChQ82uOXr0aEqhUFBFRUUURVHUzp07KYVCQY0bN44qKSlhjrtz5w7Vu3dvqm3btsxnnr4HhUJB7du3jzlWp9NRMTExlEKhoK5fv271POjvYnZ2tvWDdCFkSaoKzp49i1WrVtn8d+/ePZeOZTQaQVEUHjx4gMePHzPbO3TogEOHDmHp0qUAKpYnDh48iOeeew7/+Mc/zK7x5ptv4q233kJQUBAePHiAM2fOoFu3bhg5cqTZcSkpKejQoQPOnDmDu3fvmu17+eWXzX6/ePEi/vzzTyQkJKB9+/Zm+959910IBAKHSx+xsbHgcDjYt2+f2fbU1FQ0btwY3bt3Z54BAFy+fJk5RiAQYP369UhPT4dEIqlyHLbo9Xr88ssvaN26NUaNGmW2b8CAAejatSsOHjyI4uJiABVvtAUFBWZLQI0aNUJqaio2b95cLRnYXnPbtm2QyWRWjt0OHTpg4MCBuHz5Mv73v/9Va3yNRmN2rkQiwbZt25CWlsb6LbW4uBgTJkxAWVkZli9fjoYNGwIADh8+jIKCAowfP56xjAGAy+Vi2rRpAOAw/PfKlSsAgFatWjl1b82bNzez+gCgT58+mDt3LoYPH262vXHjxggODjZb6tm7dy8AYNq0aWafua5du2Lq1Kl46aWXnJJn586dAIA5c+bA19eX2R4cHIwJEyYwn0dTgoODzSLtBAIBevbsCQA25x76GdHPzF2QKKkqmDx5slNRUjVBJpNh8ODB2Lt3L1566SV06dIF/fr1w0svvWT2hblz5w5KS0tthjk2bdqUmVgOHz4MAOjWrZvN8bp27YrLly8jJyfH7Att+jNQ+QG8c+cOs0Zrip+fH65duwaKouxOMk2bNkV4eDh+//13lJSUwM/PDxcvXsTdu3fx+uuvM+eNHDkShw4dwpQpU7B8+XL07dsX/fr1wwsvvAChUGj32TlLbm4uSktLYTAYbN6TVquFwWDAtWvXEB4ejsTERKxbt47xIfTr1w+RkZHo0KFDtWVgc82SkhLk5uYiKCgIq1evtrrGkydPAFQsG7Vu3drp8T/55BMkJSUhLCyMGT88PNzu8qIlRqMR06ZNw82bN/HJJ58gPDyc2ZednQ2g4vNj6xnzeDzGH2APehJ31rFt+RkGgLZt26Jt27YoKSnBxYsXcfv2bdy6dQuXL1/G7du3YTAYmGNzcnLA4/Fs/n3feOMNp2Shr9ewYUMEBwdb7aOfmeWzeO6556yOlUqlAGDTn0c/I1s+DldCFIaHsfXliYqKQps2bbBo0SK0b98eO3bswNmzZ3H27FksWbIE7du3x/z589GmTRsUFRUBgMO3bfrtmP6QWdKgQQMAFaHApojFYrPfacfd8ePHcfz4cbvjlZSUVCnT0KFDce7cORw5cgRDhgxh3uJMnZmRkZHYuHEjvvvuO5w6dQqbNm3Cpk2bEBAQgMmTJ2PMmDF2r+8M9D3dvHkTq1atsnsc/aynTp2K5s2b46effsKlS5dw8eJFrFy5Ei1atMAnn3zCvPk5A5tr0n/Dx48fs5LTGZKSklCvXj1s3LgRmZmZuHbtGtavX4+GDRviww8/xODBgx1eY9myZTh69Cji4+ORkpJitk+tVgOofFuvjtz0NSw/k46wlf+g1WqxbNkybNmyBWVlZQCAhg0bonv37pDL5WZWvUqlgkgkgkAgcGpcexQXF6N+/fo299n7Htp6QarK6qMtl+p8FpyBKAwPY+uL37RpU7Rp0wYCgQDjxo3DuHHjcP/+fZw8eRL79+/HiRMn8OabbyItLY1xxNqLty8tLYWvry9zXH5+vs3j6EkzICCgSnnpD+Jnn31m5WxzhoEDB2L+/PlITU1FTEwM9u/fD4VCYRVVQztRS0tLce7cORw9ehQ7d+7E/PnzERISgsjIyGrLQEM/m2HDhmHx4sUOj+dwOEhISEBCQgKePn2KU6dO4eDBg/jtt98wYcIEHD58GIGBgU7JwOaa9LPv1q2bW7J5o6OjER0dDZVKhfT0dBw+fBi7d+/GtGnT0KpVKygUCrvn7tmzB+vXr0fHjh1hK26Glv2HH36olkIFwARk0IqjJixcuBCbN2/GK6+8glGjRiEsLIz57A8aNMhMYfj6+kKr1UKv15sFaQAVuS4+Pj5Oje3n52f3e0hP8I6+h46gv8/OKldnIT4MD3Pt2jWrfyNGjEBeXh6WLVuGI0eOAACaNGmCkSNH4rvvvsMLL7yA/Px83L17Fy1atIBAIMClS5esrp2fn48uXbpg1qxZTLLV+fPnbcqRkZEBDofjcH2YntDpJQZTysvLsXDhQmzatMnhffv7+yMyMhKnTp3CmTNnkJ+fb2ZdAMD//d//4auvvgJQ8aXt168fZs+ejU8++QQAkJmZ6XAcNrRo0QJCoRBXrlyxGd75ww8/4JtvvkFhYSEKCwuxcuVKZh26Xr16iI2NxYoVKzBixAiUlZXhjz/+AFD1G6ApbK8plUrRpEkTXL9+3eoNFAB++eUXJpzUmfF1Oh1Wr17NhGHKZDJER0fj888/x4QJE2A0GnHhwgW752dnZ+Pjjz9GvXr1sHLlSptvw1V9bpRKJT777DP8+uuvVcpJR3gVFhayuq+q2LNnD+rVq4fly5ejR48ezASt0Whw//59AGA+CwqFAgaDgfm7mjJx4kR069aNsVLY8Pzzz0OtVuPPP/+02nfu3DkAzvtpLKGfUePGjWt0HUcQhVFHEIvFWL9+PZYvX262RqnT6fD48WMIhUIEBQVBJBLhlVdewY0bN/Dzzz+bXWPNmjUAgJ49e6JJkybo0aMHsrOzrRyzW7duxfnz59GjRw+H5QS6d++OZs2aYdu2bVaTyLp167BhwwbWjrahQ4eitLQUCxcuBIfDsVIYJ06cwJo1a5CVlWW2nXbyVbf0g0AgMIuzF4lEGDx4MK5fv44NGzaYHZueno7Fixdj+/bt8Pf3h5+fHzZu3Igvv/wSSqXS7Fh6oqHlot9GHeWmOHPNuLg4KJVKLFmyhAkKAIDr169j3rx52LBhAzP5sR1fKBRiz549WL58uZnTHXD8rJ88eYJJkybBYDBgxYoVdj8/0dHRkEgk+Pbbb5Gbm2u274svvsDGjRtx586dKuWkLZzr169XeRwbRCIRtFqtWW6EwWDAZ599xihj+rkNHToUAPDll1+aKeoLFy7g7Nmz6NKlC2NlCAQCh8+bzvz+7LPPUFpaymzPy8vD119/DYFA4FT4vS3o4AVLZ7+rIUtSdYSgoCC89tpr2LBhA4YMGYLIyEhwuVwcP34cN27cwMSJExkfwfvvv4/MzEzMmjULv/32G1q3bo3Lly8jIyMDUVFRzPrzvHnzMGrUKMydOxcHDx5EWFgY/vzzT5w8eRINGjTAp59+6lAuHo+HRYsW4fXXX8fo0aMxYMAABAcHIzs7G2fOnEGzZs3sJuVZ8uKLL0ImkyEnJwcRERFWb0Nvv/020tPTMXbsWAwcOBANGzbE9evXceTIEYSGhjJfZKAioezevXuIi4uz6eQ0pUGDBrh16xamT5+OPn36YPjw4fjggw9w4cIFLFq0CGlpaejYsSPy8/Px22+/gc/nY8GCBeByuRAKhXjnnXcwf/58DBkyBNHR0RCLxcjIyMDly5cxbNgwtGzZEgCYCKHU1FT4+voiLi7OpjPamWu+8cYbOHHiBDZt2oTMzExERERApVJh//79KCsrw5IlS5jPhVwuh1AoRHp6Oj7//HNER0fbDXqYOnUqJk2ahLi4OAwcOBD+/v7M3zQiIgK9e/e2ed57772Hhw8folevXrh48SLOnDljZaXRf5P58+dj+vTpiIuLQ1RUFBo0aICMjAxcunQJHTp0cFjbKyQkBC1atHCJZRkbG4vvv/8e8fHxiIqKgl6vx4kTJ5Cbm4vAwEAUFBRAqVSiQYMG6NOnD+Lj47F9+3YMGzYMffv2RUlJCfbu3Qs/Pz/Mnj2buW6DBg0Yp39kZKTN3JJhw4bh8OHDOHDgAIYOHYp+/fqhtLQUaWlpKC4uxsyZMxESElKj+zt//jwCAgLQrl27Gl3HESRxzwbVSdwzpbqJez179kRQUBCuX7+O9PR0ZGdno1GjRpgyZYpZCK1EIkFMTAxKSkpw7tw55ks7evRozJo1CzweD0DFumhMTAxKS0tx/vx5nD17FuXl5Rg+fDiWLl1qNmHTiXtJSUlWyV5NmjRBVFQUlEolzp49i4yMDFAUhaFDh2LRokV2k8Ms4fF4yMvLw5UrV/DWW29ZfbgbNmyI3r17Iz8/HxcuXMDp06eh0WgQFxeHzz//3CwJbsGCBdi5cyeioqIcKoxWrVohKysL586dg1qtxvDhw+Hj44PY2FgYjUZcunQJp06dQmFhIXr27InFixebRaF16tQJoaGhyM3NRUZGBs6fPw+pVIo33ngDU6ZMYaKKZDIZ+Hw+Ll68iPPnz+P5559H27ZtbcrE9pp8Ph+xsbEQCATIycnByZMn8eDBA3Ts2BGfffaZWYgnj8dDUFAQLl68iIyMDDRq1Mhu8cyWLVuiS5cuuHv3LjIzM3H27FmmzMScOXOYZSbLxL0VK1ZArVYjLy8PJ0+eZIIzTP/Rf5PWrVujV69eyM/PR3p6Os6fPw+xWIzk5GTMmzePVZj0gwcPcPToUQwdOtRsnd9WQmFV37uIiAjw+Xz8+eefOH36NB48eIDmzZvjk08+QWhoKI4fP47Q0FDmM9m/f3/Uq1cP165dw4kTJ3D79m307t0bS5YsMYtgat68ObKyspCRkQGhUIgBAwZYJe5xOBy88sorkMvluH79Ok6dOoW7d++iU6dOmDt3rlmAQVX3QD/fmJgY5oUCqAiKWLp0KYYNG8YqGbImcChbi7gEAoFQB3jw4AGio6Mxfvz4Wi0yWJdZv349li1bhn379tmtoO0qiA+DQCDUWRo3boxhw4Zh586dtVoJuK5iNBqxbds2DBw40O3KAiAKg0Ag1HHeffddaDQabNmypbZFqXPs2rULjx49Yu1HrClEYRAIhDpNgwYN8NFHH+Gbb75xeb8Pb0an02HFihWYNm2azSxyd0B8GAQCgUBgxV8yrNZVCV4EAoHwd8O0Jpglf0mFAVR901WRmZlZ7XNrCyKzZ/A2mb1NXoDI7CnsyezoZZv4MAgEAoHACqIwCAQCgcAKojAIBAKBwAqiMAgEAoHACqIwCAQCgcAKojAIBAKBwAqPKgyj0YjZs2cjMTERY8aMwe3bt83279q1C3FxcYiPjzfr4bB27VokJiZixIgR2Lp1qydFJhAIBMIzPJqHcejQIeh0OmzZsgVZWVlYuHChWXP7xYsXY8+ePfD19UVMTAxiYmKQk5ODCxcu4L///S/Kysrw/fffu0++s7dx7boargip/s/+HPwvz3ansFbNAjB6UJuaD0IgEAgexKMKIzMzE3379gUAdO7c2ap9Y1hYGNRqNfh8PiiKAofDwYkTJ6BQKDBp0iQUFxfj/fffZz2Ws2w9mI/HKj1eCKtZprhOb8RPB+/b3Z+Z8witAksg4LNrqckGb8xuJzK7H2+TFyAye4rqyOxRhVFcXGzWNIXH45k1Wm/dujXi4+Ph4+OD6OhoyGQyFBYW4v79+1izZg3u3r2LCRMmYP/+/Q77F1cn87Lx+dO4X/AIbdt3go+o+o/mwZMSAPfxUngzTEzoZLZv2ebzOH35Adq06wB/iajaY5jyV8o0rct4m8zeJi9AZPYUXpHpLZFIzKpNGo1GRlnk5OTg6NGjSEtLw+HDh1FQUIDU1FQEBASgT58+EAqFaNmyJUQiEQoKCtwin1wqBgAUqjQOjqyagmfn1w/wgVjIN/vnK6643zKtvqpLEAgEQp3Dowqja9euOHbsGAAgKyuLafIOAFKpFGKxGCKRCDweD4GBgVCpVAgPD8fx48dBURTy8/NRVlZm1qrRlchlFW/8hWptja6jfHZ+gNTagvAREoVBIBC8E48uSUVHR+PkyZNISkoCRVFYsGABdu/ejdLSUiQmJiIxMREpKSkQCAQICQlBXFwchEIhMjIykJCQAIqiMHv2bKZntathLAx1zSwM+vxAmdhqn88zC0OjNdRoDAKBQPA0HlUYXC4X8+bNM9sWGhrK/JycnIzk5GSr89g6umsKbWEUuGhJilZApohpC0NHLAwCgeBdkMQ9E+gJXumiJSm5jSUpsajCOtKQJSkCgeBlEIVhgsstDFtLUsSHQSAQvBSiMEyo9GHUzMIoVGshFvJshuaKRbQPgygMAoHgXRCFYYKPiA8hnwOlqqZLUhqb1gU9BgCU6YjTm0AgeBdEYVggEfNQUIMoKYORglKttem/ACoVBrEwCASCt0EUhgUSHy5UxVoYjFS1zleVaGGkbEdIAYBYWOH0JlFSBALB2yAKwwKJDw9GClAVV29ZiomQkjmyMMiSFIFA8C6IwrBAIq6wAKobKVVVDgZQ6fQmUVIEAsHbIArDAqlPxSOpbqRUocp+DgZgsiRFFAaBQPAyiMKwgLYwqluAkC4LYi9Kis701hAfBoFA8DKIwrBAUlMLo4osbwDgcjkQC3kkSopAIHgdRGFYIPF5ZmFUM7SWtkxsFR6kEYv4KCNObwKB4GUQhWFB5ZJU9S0MLgeQVdEcyUfIJz4MAoHgdRCFYYGfiAsup2YWhkwiAo9rvyOgWMQjPgwCgeB1uERhXLlyxRWXqRNwuRz4S0Q1sDA0CLQTUkvjI+JDo9WDoqqXHEggEAi1Aat+GIWFhVi8eDHS09NRXl7OTHQURaG0tBQajQZXr151q6CeRC4V4/6TYqfPK9PqUaY1IMBO0h6NWMSHkQJ0eiNEAvc0gyIQCARXw8rCWLhwIXbv3o2wsDD4+Pigfv366NatG7hcLrRaLebPn+9uOT2KXCaCRmdw2s9AZ3k7tDCEpJ4UgUDwPlgpjBMnTmDy5MlYvXo1EhMT0bhxY3z11VdITU1Fq1atcP36dXfL6VGYMudO5mJU9sFwZGGQ5D0CgeB9sFIYRUVF6Nq1KwCgVatWjM9CIpFg3LhxOHz4sPskrAXoCd/ZXAzawgiwk4NBQ5ooEQgEb4SVwvD390dJSQkAICQkBI8fP4ZKpQIANG3aFPn5+e6TsBaobKTknIVBH19VDgZg2kSJ5GIQCATvgZXC6NatGzZs2ACVSoWQkBD4+flh//79AICMjAzIZDK3Culpqtuq1VHhQZrKJkrEwiAQCN4DK4UxadIk5OTkYOLEieDxeBg1ahTmzp2LmJgYrFq1CgMHDnS3nB6FnvCV1VySslcWhIb2YRCnN4FA8CZYhdUqFAqkpqbi2rVrAIApU6bAz88P586dw+DBg/Hmm2+6VUhPU2MLw8GSFPFhEAgEb4SVhZGRkQGxWIxevXox29544w2sW7cOY8aMwYEDB9wmYG1Q6cNwzsIoVGshFvKYJSd7iEmbVgKB4IWwUhhjx47FjRs3bO77448/MGPGDJcKVdv4iPjwEfGgdDLbW6nWOLQu6OsDQJmOOL0JBIL3YPdV+P3338fDhw8BVGR0z5kzBxKJxOq4W7duoX79+qwGMxqNmDNnDq5duwahUIj58+ejefPmzP5du3aSZmHGAAAgAElEQVRhw4YN4HK5iI+PR0pKCgAgLi6OGbtZs2b4/PPP2d9hNQmQilHgRJSUwUhBqdbi+ef8HB7rQywMAoHghdhVGFFRUfjuu+8AABwOB+Xl5dBqzd+4uVwu2rZti9dee43VYIcOHYJOp8OWLVuQlZWFhQsXYvXq1cz+xYsXY8+ePfD19UVMTAxiYmIgFotBURQ2bdpUnfurNnKpCA+fluD9lcdZHW80UjBSjiOkAJOueyRKikAgeBF2FcbLL7+Ml19+GQDQv39/fPHFF3j++edrNFhmZib69u0LAOjcuTOys7PN9oeFhUGtVoPP54OiKHA4HOTk5KCsrAzjxo2DXq/H1KlT0blzZ1Zj1UTORlI9cgDk3C5gfR6PC8jFpQ7HfqoqBwDcvZePzExdteU0pSb3W1sQmd2Pt8kLEJk9RXVkZhUl5SiTW6/Xg893fKni4mKzZS0ej2d2buvWrREfHw8fHx9ER0dDJpNBLBZj/PjxGDlyJG7duoXXX38d+/fvdzheeHg4izuzJjMzE+Hh4QgPB6ZU6wqOKVBpgD0H4CcNqLacptAyexNEZvfjbfICRGZPYU9mR0qElcKgKAq//vor0tPTodNVvhEbjUaUlZUhKysLZ86ccXgdiUTCZIzT59MTf05ODo4ePYq0tDT4+vrivffeQ2pqKgYMGIDmzZuDw+GgRYsWCAgIwOPHj9G4cWM2otdJmCUp4sMgEAheBCuFsWrVKnz99deQSqXQ6/UQCATg8/koKCgAl8tFYmIiq8G6du2KI0eOYPDgwcjKyoJCoWD2SaVSiMViiEQi8Hg8BAYGQqVSYdu2bfjzzz8xZ84c5Ofno7i4GEFBQdW72zqCmK5WS3wYBALBi2ClMH799VcMGzYMCxcuxPLly/Hw4UMsXLgQly9fxuuvv45WrVqxGiw6OhonT55EUlISKIrCggULsHv3bpSWliIxMRGJiYlISUmBQCBASEgI4uLiAAAzZsxAcnIyOBwOFixYwGr5qy7D5XIgFvJIlBSBQPAqWM28Dx8+RGxsLDgcDtq2bYvU1FQAQIcOHfDWW29h27ZtGDVqlMPrcLlczJs3z2xbaGgo83NycjKSk5Otzlu6dCkbMb0KsYiPMlJ8kEAgeBGsEvfEYjF4vIp195CQENy9e5fxZbRr1w55eXnuk/Avio+QT3wYBALBq2ClMNq0aYPffvsNAPDcc8+Bw+Hg3LlzAIC7d+8yyoTAHrGIR3wYBALBq2C1JPXPf/4TkyZNglqtxpIlSxAVFYUPP/wQAwYMQGpqKrp37+5uOf9yiIV8aLR6Jt+EQCAQ6jqsLIz+/ftj7dq1aNeuHQBg7ty5UCgU2LlzJ8LCwjBz5ky3CvlXxEfMh5ECdHpjbYtCIBAIrGAdbtSvXz/069cPQEUHvm+//dZtQv0doEuca7R6iARkSY9AINR97CqM3Nxcpy7UokWLGgvzd4JuolSm1cNfUnXDJQKBQKgL2FUYgwYNcmpt/erVqy4R6O8CaaJEIBC8DbsKw7SEeFFREZYsWYIePXogJiYGQUFBKCwsxKFDh3Ds2DF89NFHHhH2r0RlEyWSi0EgELwDuwqDzrIGgHfeeQexsbFWfSiGDh2KTz/9FAcOHMCrr77qPin/glQ2USIWBoFA8A5YRUkdO3YMQ4YMsbmvf//+Xlnat7ahfRikPAiBQPAWWCkMmUyGa9eu2dx34cIFBAYGulSovwPEh0EgELwNVmG1sbGxWLFiBbhcLgYMGAC5XI4nT55g3759WLt2LSZNmuRuOf9yiEmbVgKB4GWwUhj//ve/8eDBAyxcuBCLFi0y25eSkoK33nrLLcL9lan0YRCnN4FA8A5YKQyBQIBly5Zh8uTJyMjIgFKpRGBgIHr27IlmzZq5W8a/JHQTJWJhEAgEb8GpxhItW7ZEy5Yt3SXL3woSJUUgELwNVk5vguvxIXkYBALByyAKo5agnd4kSopAIHgLRGHUErQPgygMAoHgLRCFUUuI6Wq1xIdBIBC8BFYKY+zYsbhx44bNfTk5OYiNjXWpUH8HuFwOxEIeiZIiEAheg90oqXPnzoGiKADA2bNnkZGRgYKCAqvjjhw5Qnp6VxOxiI8y4vQmEAhegl2FsWXLFuzevRscDgccDgdz5861OoZWKIMHD3afhH9hfIR84sMgEAheg12F8fHHH2Po0KGgKApvvPEGZsyYYZWDwePxIJPJ0LZtW7cL+ldELOKhqERb22IQCAQCK+wqjICAAPTt2xdARW+MF198EXK53GOC/R0QC/nQaPWgKMqpZlUEAoFQG7ByesfFxYHH4+HBgwcAAJ1Oh9WrV2PWrFk4ffo068GMRiNmz56NxMREjBkzBrdv3zbbv2vXLsTFxSE+Ph6bN2822/f06VNERkbadb57Iz5iPowUoNMba1sUAoFAcAgrhXHhwgW89NJL+M9//gMA+PTTT7F8+XIcOHAA48ePx8GDB1kNdujQIeh0OmzZsgXTpk3DwoULzfYvXrwYGzZswH//+19s2LABRUVFAIDy8nLMnj0bYrHYmXur89AlzkmkFIFA8AZYKYwVK1agdevWSExMRGlpKXbv3o2kpCScPXsWCQkJWLt2LavBMjMzmWWuzp07Izs722x/WFgY1Go1dDqd2TLNokWLkJSUhAYNGjhzb3UeuomSpeNbqdZi3ndncPeRujbEwo+pV7HnxM0qj8m+8QRTvjyKt5ccwdtLjuD9lcfx4EkJ6zFO56jx00HbPVYIBELdhFXxwUuXLmHZsmUIDg7GwYMHodVqMXToUADAoEGDsGvXLlaDFRcXQyKRML/zeDzo9Xrw+RVitG7dGvHx8fDx8UF0dDRkMhl27NiBwMBA9O3bF+vWrWN9YzXpAuipDoIlKiUA4GzmJTStJ2S2Z90sQcYfhZDyy9CvvYzVtVwls5GisDXtHvz9eGjsU2j3uH3nCnH9bglEAg6MFFCup/DroXPo3lpi9xxTTucUQ3v5GloHFrtEbk/hbd0lvU1egMjsKaojM+tqtSKRCABw/Phx+Pr6olOnTgCA0tJS1ktFEokEJSWVb6FGo5FRFjk5OTh69CjS0tLg6+uL9957D6mpqdi+fTs4HA5Onz6Nq1ev4oMPPsDq1asRFBRU5Vjh4eFsb82MzMzMap/rLLeK/ocz1/5Ao2YtEN62kdl2oBC+0noID+/o8DqulLmoWAsjdQ9luqqf4cHsDAAlWP/xy7jzUI2Za05BGtAQ4eHPOxzDaKRQ/NMuABx07drVaxz+nvxsuAJvkxcgMnsKezI7UiKsFEarVq2wdetWiMViHDhwAL179waPx0NhYSG+/fZbtGvXjpWQXbt2xZEjRzB48GBkZWVBoVAw+6RSKcRiMUQiEXg8HgIDA6FSqRi/CQCMGTMGc+bMcagsvAW5rEIJF6o0ZtsL1Vqz/z0JPaZGZ0CZVs9U1bU+TgMulwOZnwiBsnJmGxuKy8phNAIAhXK9EUIBzxWiEwgEN8NKYbz77ruYNGkS9u3bB7FYzHTYGzx4MMrLy/Hdd9+xGiw6OhonT55EUlISKIrCggULsHv3bpSWliIxMRGJiYlISUmBQCBASEgI4uLiqn9nXoBcWmGZWSoGWoEUqNhNwK7EdMxClQY+QbaXmApVWgRIhOBxOZBLRcw2NpgqyDKtnigMAsFLYKUwevXqhV27duHy5cvo0qULGjduDAD44IMPEBERgSZNmrAajMvlYt68eWbbQkNDmZ+Tk5ORnJxs9/xNmzaxGsdbkMsqFIalYqAViLIWLAyliZVQqNaiiT2FodYw+/x8BBDwuawtDNPjNDoD/GsgL4FA8BysfRjBwcEIDg6GXq/H48ePIZfLMXz4cHfK9peHfjO3VAz0hMp2AnYlBSZWgr3xy7R6aHQGBD5TeBxOhZXBdgnN9DgSUkwgeA+sy5vn5OTg9ddfR9euXREZGYlr165hxowZrENqCdZIfSuWdKx8GM9+1+gMKNWUe1QmUyVhb0mMlo9WeBU/i6FUa5j6YlWOYbEkRSAQvANWCiM7OxtJSUnIy8tDSkoKMyn4+/vjq6++wtatW90q5F8VLpeDAKkIBSZv3NpyA0o0lZOop5ellCYWhr2xaQshwFRhyETQGyioSx0rOFMLgygMAsF7YKUwlixZgo4dO2Lv3r2YPn06ozA+/PBDJCQkmEUyEZxDLhNDqap8M7ecpD3t+C5gYWHQ2+klKcDEgc9CXtPrkgZSBIL3wEphXLx4Ea+99hp4PJ5VzPzgwYOtakIR2COXiqDTGxmrgp5w6Raung6tLVRpHY5NL1vRSqLiZ5HZvqpQmlkYpB8IgeAtsFIYfD4fer3tN0G1Wg2BQOBSof5O0G/ptKKgJ9wWTfzNfvcUhWoNGtXzg4+IZ7Y8ZQo94dN5JBU/2w4RtjcGDbEwCATvgZXC6NGjB1avXg2VSsVs43A40Ov12LRpE7p16+Y2Af/qBFhEStFRSi2bPlMYLHMbXIFGp0epRo8AqQgBUrHZ8pQpBaoqLAxWS1ImFoaGKAwCwVtgFVY7bdo0JCYmIjo6Gt27dweHw8GaNWtw/fp1PHz4ED/99JO75fzLQk+6BRYWBqMwPGhh0EorUCZGud6Iq7lPYTBS4HHNlyFpK8IsSoqlhaErN6CkrBw8LmAwAmXEwiAQvAZWFkaLFi2wfft2REZGIisrCzweDxkZGWjdujV+/vlnsxIfBOcIpMuDWCTrtWhSUXTQkxYGPZZcKkKAVAQjVVFbyvo4DXxEfIhNyoZYKj67Y9BKSUqXdic+DALBW3AqcW/x4sU29z18+BCNGjWyuY9QNZbRRfSE27i+BD4inkctDMaZLRNDW25g5DKNhqo4TmtmXQDWS2uOxgiU8PG4SE98GASCF8HKwmjTpg0uXbpkc9+5c+cwaNAglwr1dyLAIrqoUK2FkM+Fn5gPuVTs0Sgp04S8QDtLTAYjBVWxllmCohHwuZD6Ch0qONqKoS0MkodBIHgPdi2M7777DmVlZQAAiqKwdetWHDt2zOq4CxcuQCgUWm0nsMNy7V+p0iBAJq4otyET40HuUxgMRvB4rJPyq02lb0IMnYmFYUpF+XNYWRhARdTU0yJHS1LPLAyiMAgEr8OuwtBoNFi1ahWAiogoe9ncPj4+mDx5snuk+xsgEvDgJ+ajUKWB0UihUK1F6+AAABWTMkUBRSU6q2Uhd1BoEi6r0xvMtjHHqCqXrSyRS0W481ANXbnBbgVaxsKQEB8GgeBt2FUYkyZNwuuvvw6KotCpUyf8+OOP6NjRvJkPl8tlGiARqo9cVrH0pC7VwWCkmMlYbpKj4QmFYRouqys3VoxtscRkK0KKhpZXqdaiQaCvzTHo68l8eRAKeCRKikDwIqqc7emlprS0NDRo0IAk6LkJuVSMu4+K8VhZsQRI+zUqs6c948dQqjUQCnjwFfPt9rgotJGDQcNESqk19hXGs+tJfHjwEfFItVoCwYtgZR40bdrU3XL8raEn51v3iwBUZn87U5/JFRSoKqKfOBwOZBIRuJwqLAyZDQuDRSOlQrUGAj4XYgEHYiGfKAwCwYtwvyeV4BB6Kefm/YpMenripSdlexnXrsRopKAsrgyX5XE58JeI7FoYtpbIKh349uUtVGkYpeQj4qNMR3wYBIK3QBRGHYCepG/eK3r2u7mFYa+mkytRl+pgNPGf0OPbszACbPkwHFgYjFJ6NoZYyEOZVs+qhwaBQKh9iMKoAzAWBq0wZOYWhid8GAW2miLJRNDoDGahr4VqDbhcDmR+1goj0IGFUVxWDr2BYsYQi/gwGimU640uuw8CgeA+iMKoA9ATKD0x05aFzK/Cj+CJnhiFJnWkKuWy9qEUqrQIkAit6ktVHF+1hWHpMPcRkVwMAsGbYB0Te/ToURw+fBilpaU2lxCWLl3qUsH+TljmNPhLzP0Inui6R0/mAaYVaE0snCZBkmc/a5ifLfHzEUDA59q1MExLjwDFjMLQ6Azwd8ldEAgEd8JKYXz77bdYsmQJRCIRAgMDrZooWf5OcA7TZSCZnxACfqXhJ5eJce9xMSiKcutzrrQwzPt0A5UWTqmmHBqdwW5OCIfDgVwqshvVVaAyzeEoZho1kUgpAsE7YKUwNm/ejJiYGHz++eekDIgbkPpWLPEYjJRVQpxcKsLNe0Uo0+rhK3ZfHozNLnoy8zpXyiqS9phzpGLcuKeE0UiBa7FspVSb+Em0ZEmKQPA2WPkwnjx5gldffZUoCzfB5XIqk/Us3t4DTbKn3QlT2tyGhUGPXVWEFHOOTAS9gUJxWbn1GEwOx7MoKaIwCASvgpXCaNWqFenb7WaYciB2yoa72/FdqNaAw6n0n1TIZD52QRU5GMw5VSQbWnbqq/RhEIVBIHgDrBTG9OnTsWbNGvz+++9QqVTQ6XRW/9hgNBoxe/ZsJCYmYsyYMVZKaNeuXYiLi0N8fDw2b94MADAYDJgxYwaSkpKQnJyMP//808lb9A6YZD2LkhvMBOx2C0MDmZ8QfJOquJZj21q2sqSynIm1wlBaWChiIW1hkOQ9AsEbYOXDmDlzJgoKCvDWW2/Z3M/hcPDHH384vM6hQ4eg0+mwZcsWZGVlYeHChVi9ejWzf/HixdizZw98fX0RExODmJgYZGRkAAB++uknpKen48svvzQ7569CoEXBQcvt7m6kVKjWooHcvP6Tj4gPHxGPSRxUVlEWhKaqVq2Fag2kvpVOfR/RM6c3sTAIBK+AlcIYMWKESwbLzMxE3759AQCdO3dGdna22f6wsDCo1Wrw+XwmKigqKgovvvgiAOD+/fuQyWQukaWuYVlw0HL75v05+PX3GwCHgxEvtkJM7xYuG1uj06NUo7fpzA6QinHroQrj5/8GdanumYyOLYx1Oy/jx9SrZvueKMvQrKGU+Z3xYWgcKwylWotFmzIwPrY9Wj0r/+6I1FO5uHanEO8mdmEVYVaqKccn607bXf7T6nQQpf7Gauzq0ql1EN5J7OLWMQiE6sJKYbiq30VxcTEkksoYfh6PB71ez5RIb926NeLj4+Hj44Po6GhGOfD5fHzwwQc4ePAgVqxYwWqszMzMastZk3OrSwBPh+YNhEDpfWRm5jPbteVGNKsvhLrMAK1Oh6ISA/Ydz0EjcYHZ+TWRuaC4YsI2lpdYXSesMQ+lZVxodToI+UBjuQh5uVdx/7btCVijMaCxXIBSnRFai6VKqS8PrRtymDHu3LoBALh5Ow+ZmaoqZcy+XYrsGwXYcfA8BnRil7Xxy5F83C8oR7fmBvgIHa++3n6kRc7tQogEHIjtHG95T66kuMyAQxl30LOlwSrCrLrUxme5phCZPUN1ZGaduKfT6bBjxw6kp6dDpVJBLpejR48eGDZsGOvoKYlEgpKSEuZ3o9HIKIucnBwcPXoUaWlp8PX1xXvvvYfU1FSm/euiRYswffp0vPrqq9i7dy98fW2Xz6YJDw9ne2tmZGZmVvvcmjIk2vb2Xi9U/jx2zn6UU3wzGWsq89XcAgAP0eq5JggPb2e2rzqXjezt+JjMzEx07tAO/5f2O+SBDRAe3r7K4++V3ABQALGfHOHh7N7Adft+A1CO5i2fR7CJZWOPsov3ADzGazHtEdu3pU2Z3fnZWPh/GTh56T5aPd++SiuOLbX5Wa4uRGbPYE9mR0qEldO7uLgYSUlJmDNnDs6ePYunT5/i1KlTmDVrFl599VUUFxezErJr165Mm9esrCwoFApmn1QqhVgshkgkAo/HQ2BgIFQqFX755ResXbsWQEV3Pw6HAy7371vRRC4Vu7zceYFZBrbnEDvhw6CXidg6/ymKYvI+2EaYMVFcVfho3Amb8vAEQm3CysL48ssvkZeXh2+//RZ9+vRhth8/fhzTp0/HypUrMWPGDIfXiY6OxsmTJ5GUlASKorBgwQLs3r0bpaWlSExMRGJiIlJSUiAQCBASEoK4uDjo9XrMmDEDo0aNgl6vx0cffQSx2LMTW10iQCbCzfsViXx0WGpNUdLhsi54q3UGZxL3LCO1HKEurSh0aHquI5QmPc1rgwCzRElSLIVQ92A14xw8eBDvvvuumbIAgL59+2Ly5Mn4/vvvWSkMLpeLefPmmW0LDQ1lfk5OTkZycrLZfqFQiOXLl7MR829BoLQyaspHZLumk7MwCXkefrOmw2rZ9PVmkgdZvn2bKhYlSyVjK3nRkzB/W2JhEOoorNZ2VCqV2cRuSmhoKJ48eeJSoQj2Ycp1uHBSsVXa3BPQtaTYWBi0jMpiLQxGx/0zTJftClg+qwIWeSbuhE0DKgKhNmGlMJ577jmcOnXK5r5Tp06hSZMmLhWKYJ+AKhLjqout0uaegMfjQijgoYyFD4O2MIxGCuoSx5FKpstQbJ+VUqWFWMhz2VKfs3i6hzuB4CysvhnJycn49NNPIRQKMWTIEAQFBeHx48fYvXs3fvjhB/z73/92t5yEZzCJfC60MJRqDYSC2pkofUQ8h9VqDQYjikrMFUBV9awAyx4eLJ3eao3HHf+mMBaGh3q4EwjOwmqGePXVV5GdnY2vv/4a33zzDbOdoigkJCRg/PjxbhOQYI5c6vpliwKVlumz7WnEQr5DhaEs1sK0BUuhSosWDoxacwvDsXI1GCmoirVoUt/P4bHuwt9PCA6HWBiEugsrhcHhcPDpp5/iH//4B86ePYuioiL4+/sjIiLCrm+D4B5c7cOg+2yHhchdcj1n8RHx8VhZVuUx9ATqI+KjTKtnpSzp5+Mj4rN6VqpiLYyU50OLTeHxuPCX2O8nQiDUNk6tQYSGhhIFUcu42sJQlehgNFIOl3jchVjIQ5lWX2WDKHoCbdnUH1duPmWVV0E/n+cay3D1VgHK9UazxlSW1Jbj3xK5VISHT0scH0gg1AJ/3ww4L8VHxIdYyHOZhUFPrJ52eNOIRXwYjRTK9Ua7x9AWRsumFbkJbHqD0IUO6YKKjs4prOUcDBq5VIwyrYH0CCHUSYjC8ELkMrHLLIxCFl303Amb5D36Xls2kT37nYXCUGkhl4msugbaQ8kozlq2MJ6N74k+7gSCsxCF4YXIpSIUscxHcAS93BNQS2/WlU2U7Cfv0dbUc439weE4LvWhKzeguKwccqnIpNxG1efQuRq19RxoLPuoEwh1CaIwvBC5TAwjVeGorSmVORi158MAUGWkFG0d1A/wgb+fyGHmttKkFWxV/TlsjVHrPgxiYRDqME4pDJ1Oh3PnzmHv3r0oKirCw4cP3SUXoQpcmeDFpoueO2G1JKXSgsvlQOonRIBU5DBz2zRjm62FQVsxteXLoXFH2DSB4CpYR0n9/PPPWLp0KYqKisDhcLBt2zasWLECer0eX3/99d+6IKCnMZ9UalakrrbrJ4lZ+jACJELwuBzIpSLceqCCRqtnzrU6XlXpl2Hb4rZQrQGXA8gktR8lBZAlKULdhJWFsWfPHsyePRsDBgzA119/DepZFtWgQYNw7tw5s2Q+gvsJlLF7a2ZDoVoDDgfwr6WJstKHYVthUBSFQrWWWVqi/1dWsRxHL1mZL0k5sDDUWvhLROC5qHFRdaEtHLIkRaiLsFIY69atQ2JiIhYsWMC0SwWA4cOHY/LkyUhNTXWXfAQbBLB8a2ZDoUoDmZ8QfF7tuLPoirVldirWlmn10OoMjKXA5g28wMTCkPoKwOdxHIYhF6o0tR5SC5jWCiMKg1D3YDVL5Obm4uWXX7a5r1OnTsjPz7e5j+AeXOvD0NbqROnjoImSZdhvIAsntmluCYfDQYC06jDkMq0eGp3B4+XdbeErFkAs5JElKUKdhJXCkMvlyMvLs7nv9u3bCAgIcKlQhKqhJ82aTioanR6lGn2tRgYxPgyNHYWhqlxeAkz8N1Xcu9JCycifOcopynYYMqNg6oCFAVTcI9seHgSCJ2GlMKKjo7F8+XJkZGQw2zgcDvLy8rBmzRr079/fbQISrJFJROByar7ObRp+Wlv40EtS9iwMlfnkX9mVzv69F6g0EPC58PMRPDtXDL3BiJKy8qrHqAMWBlCxLKVUuybPhkBwJayipKZMmYKsrCyMHTsWMllFtu3bb7+N/Px8PPfcc6S8uYfhcTnwl4hqbGFYTsa1AeP0tuPDKFSbWxiBLEqAVyyzVVbflZsoGYmv0P4YdcTCCKTzbEpqd7mQQLCElcKQSCT46aef8Ouvv+L06dMoLCyEVCrFuHHjEB8fT0JqawG5VIwHT4trdA3Lybg2EDvwYVgWBXTkv6EoCkq1BqFNK5dJTbOngxtK7Y9RRywM+h6VtexfIhAsYaUw5s6dixEjRiAhIQEJCQnulonAggCZCDfvF9WoSF1hHajQ6ihxz7IooI+ID6GAZ9eJrS4th95gXn1X7mAZS1lHCg/SyE18VC2a1CzPhkBwJax8GDt27IBKpXK3LAQnCHRBRnBhHfBh0GG19pakLB3YHA4HgTKR3TBZW9V3aUVgz5Fc13wYldnpJLSWULdgpTDatGmD7Oxsd8tCcAJXNFKq7Uq1QGUtKXsWRoFKU1HS3SSrWy4VQ2mn+KItq4l+VvZKihTUMR8G22RDAsHTsFqS6tOnD1atWoVjx46hTZs28PX1NdvP4XAwZcoUtwhIsE2AyTp3dac5eu2+Nusn8XhcCAU8u1FSSrXWqjCiXCaC0UhBXaKzavxky2pyZI0pVVqIhbXT09wWrsyzIRBcCatvyKpVqwAAmZmZyMzMtNpPFIbnMc3FaOLr4GA7KNUaCAW1P1H6iHg2q9UaDEYUlWjRtIHEbLtpLS0rhWHDwghwUICwQK2p1WU5S+QsIsEIhNqA1UyRk5PjbjkITmI6aVZXYRSozMNPawuxkG9TYSiLtaAo6yUz0zX+Fk3Mz7FlYQgFPPj5CGy+sRuMFFTFWjSp71fT23AZ/s/ybIiFQahrOP1qeePGDajVagQGBiIkJMSpc41GI+bMmYNr165BKBRi/vz5aN68ObN/165d2LBhA7hcLuLj45GSkoLy8o5ApmEAACAASURBVHJ89NFHuHfvHnQ6HSZMmIABAwY4K/ZfDrO+CQ2dP99opKAs1iIsRO5iyZzHR8THY2WZ1fbKXh3mb/9VrfFX5paYn2PPUa4q1sJI1a7j3xIelwOZREQsDEKdg7XC2LdvHxYuXIjHjx8z2xo0aIDp06cjNjaW1TUOHToEnU6HLVu2ICsrCwsXLsTq1auZ/YsXL8aePXvg6+uLmJgYxMTE4NChQwgICMAXX3wBpVKJ4cOHE4UBy85s1slojlCX6mA0UlZLOrWBWMhDmVYPiqLMrJ3KboC2LQxbiYu0EgmQCi3OESMvvxjleiME/MpYD8s8j7qCXCrCw6eltS0GgWAGK4Vx7NgxTJs2DZ06dcKECRMQFBSE/Px87N69G++//z4CAgLQt29fh9fJzMxkjuvcubNV5FVYWBjUajX4fD4zeQwcOBCvvPIKgIqkLB6P5+w9/iXxEfEhFvJw4c/H+OMmB/xfzAtANgz0xaLJfSEU2H5edWmiFIv4MBoppMxKhenqWLneCMDaWqB//+m3a9h59LrZvpKyckh9BRDwze+bVjpj5uyHaQVzvYGyOUZtI5eJkXvfuu/H9btKfLbhLLQ2ggQ4HA5ei2mLl3s0t9rnDlZtzcKpS/dt7qsf4IPFk/va7VlSFcs2Z+Lc1eoXNOXxuHh7ZGdEtGvE6vgDZ27h1OUHmD2uB3i1VLXZW2D11/zmm2/w0ksvWfW9GDVqFCZOnIi1a9eyUhjFxcWQSCodmDweD3q9Hnx+hRitW7dGfHw8fHx8EB0dzZQhoc995513WJchseWcZ0tNzvUk4a188b979FJOZYipWmPE9btFOHQsAw0DBDbPvf6gQmGUFRfU2v3S47aop8f9AAFgURzQR8BBkL8QXM0DZGZWWrZ6A4XWTcQoKtHD9L4rzuHj+WCx1T01k2nQMEBgXYBQAARKBPDDU1bPwVPPyqiryOI/fjoTgdLKr+mpq2o8UZbB348HEb9S81EAHheV47dTOajHf+IReX/PvAe9kUKgxHwaKdYYkXtfhd9+z0DTes5ZvxRF4diFe+ByOJBLnH851BuBArUW+49ng6e5x+qcfccf4+ZDLQ6fyLC6F7Z4y5xhSnVkZvV0rl69ihUrVtjcl5iYyDpCSiKRoKSkhPndaDQyyiInJwdHjx5FWloafH198d577yE1NRWDBg3CgwcPMGnSJKSkpLBe/goPD2d1nCWZmZnVPtfT0GJayrzl4DX8uD8HjZq1RNewBjbPVWbcAfAE7cJaIjzcM2+kppjKHB4OjHPy/B4Rzh0fHg4kD3VyEAs8+dnIfvgHsm7+D02bt0LbFvWY7Vn3sgEUYfa/ekNh4n+iKAojPtgNiitmZHSnvNpyAzSb76KzIgifvtnLbN/2w//DD3v/QKOmLRDO8i2f5vipDBiMQLd2DTFzXA+n5Soq1mL0J/vBF8tY3/v3hw8D0KJpiPmzZos3zRk09mR2pERY2V/+/v4oLbW9nlpSUsJ6mahr1644duwYACArKwsKhYLZJ5VKIRaLIRKJwOPxEBgYCJVKhSdPnmDcuHF47733SFkSlgQ4yGwGTB3Ktb8kRbDGXmImnflu6dep7Pvhmcgqywx8UypLsTjvtC/WVGT8V9e3JvWtaOXrTMAA/YxJVJpjWFkY4eHhWL16NXr37m22TKRSqbB69Wp069aN1WDR0dE4efIkkpKSQFEUFixYgN27d6O0tBSJiYlITExESkoKBAIBQkJCEBcXh8WLF0OlUuGbb75hlsTWr19PCh5WQSCLLPC6VqGVYI7cTrJh5d/NekINlIlw857KKnjAHdgqwULDto+6LYrLDHavywYul4MAqYj12OV6I9SlOgCAkkSlOYSVwpg6dSpGjBiBqKgo9O3bF/Xr18eTJ09w/PhxGAwGLFu2jNVgXC4X8+bNM9sWGhrK/JycnIzk5GSz/TNnzsTMmTNZXZ9QARNBVZWFUcfqJxHMsddZsECltenUB+i+H0oUl5VDaqOMuyupjGCzoTBq0OCruIwOdKj+51IuFeHOQzUrxWnaU6aAWBgOYaUwgoOD8dNPP2HVqlU4c+YMioqK4O/vjz59+mDSpElmkz6h9mFyNBxYGBxORZIYoe4ht5OdrlRrbE7SgHlGu9sVRlVLUiZla5ylckmq+pZvgFSM63eLUKrRM0207GFqwZG8F8ewDgkIDQ3Fl19+yfxeXl4OLpdLwlzrIP4SETgcxxaGzE8IPgkjrJME2KgnVa43QF1ajpZNbZc8r2wupUWIc75mp6EtVFtLR7QfoVoWhoZekqr+i4xp2RxHCsNUqREfhmNYzxZff/01/vnPfzK/nz9/Hr169cKGDRvcIhih+vB5XMj8hA59GMR/UXfxFQsgFvLMJl3L3iCWVBYtdP+bcmWCpPXE7qwfwRR1me3cG2dwxsIxf77EwnAEK4Xx7bff4uuvv0br1q2ZbSEhIYiNjcXSpUvx888/u01AQvWQS8V2o6Q0Oj1KNfo6kbRHsI/l39Be5jtNQA2czc5S6QOzr7yUKo113osDaKd3TSoQOKM4TZ8V6T/iGFYKY+vWrXj33Xfx0UcfMdsaN26MmTNnYuLEidi4caPbBCRUD7lUhBKNHtpy68ZEShsF+gh1jwCpCMpiHdP3w15tLZpAmf2SKa6mQK2BkM+Fn9j2qrZcJoZOb0SJxrmOkMUaAyQ+ArsVCthQ6XR3rABoJewn5tvtsUKohJXCePjwITp27GhzX5cuXZCXl+dSoQg1p6oS2ZUF+oiFUZcJlIlhNFJQlZjnCdj7u1V2FnT/m7JSpUGATGw3CokJrXVSeRWXGWscueeow6IptBXSsmkA02OFYB9WCqNRo0Z2MwAvXbqE+vXru1QoQs2pah2XieUnFkadxvJvyPT6sLcMVIOEOWegKx0HVvHCYVZNmSXlegPKdMYa+9Yc9XA3pVCtBZ/HQbOGkme/Ez9GVbCKkho2bBjWrFkDkUiEl19+GfXq1UNhYSEOHTqE1atX41//+pe75SQ4SVWx8LaaDBHqHgEmS0wtmvg7tDAEfB4kPgJWSzE1QV2qg95AVfnCYV5NmR2OnPpsof0fbMYuVGkQIBGhnkmEmWWPFUIlrBTGm2++iZs3b2Lp0qVmSXoURSEmJgYTJkxwm4CE6lFVm09bTYYIdQ+mtayKnYVRsU/EaimmJtgrT2ImRzXazFb61mr2IiMW8uEr5ju0biiKQqFai+cay0gfdZawUhg8Hg9LlizBhAkTcO7cORQWFkIqlaJbt24ICwtzt4yEalClD8PBmyqhbmA5iRWqNeDzuJBUkVtQ2ffDOtjBVbDpBR9YxefP0XVdEe4tl4odWhglZeUo11csgVXVY4VQiVO1fENDQ5msbq1WC6VS6RahCDWnqjc8V34xCe7D8m9YqNZCLqu6pW5N6jixhc0LR0A1ckIKXWRh0Ne497gYeoPRbnKq6XieDBjwZlg5vcvLy/HVV1/hl19+AQCcPHkSvXr1wosvvojRo0cTxVEHCazCxFaqNRAKePC1ExJJqBuYWokURaFQpWWWqeyfU/2yHGxRsgiakNuphVXldf+/vTMPi+q8/vh3FpgBGQQSG7NponWQgLIZErVoGoPaupXQQERxiYnyJEYjamtD9GekNVQf42OtdXsaNbYqaiwSNErcQlVCFETrlribaMwiDMywDcOc3x94rwzMcsFZQM/neXge5y7v/XIZ77nnvOc9R/BcnPAiI4xRbpBWgLMlE+UPMpIMxvLly7F27Vqxl8UHH3yAhx56CHPmzMGNGzckFx9k3IePSglvL4XVkEBpRS0CNfbfVBnP07GDN2SyhoeYoboOpnqzwwVtrZlsbimlEtKyVV4KdFArWxaSEuZGnOBhBEhYk1LaqABngFBOh0NSdpFkMHbv3o20tDSMGTMGFy9exMWLF5Gamorx48fjnXfewYEDB1ytk2khMpkMgVbKM4gpkTzh3eZRKOTo6KdCWUXN3TCig7+bO96UpZbGb2l/jjInz2EA9u+DrtHvoVDI0bGD6xMG2juSDMYPP/yA8PBwAMChQ4cgk8nElqyPPvoo9Hq96xQyrSbIXw2dvhbmRqtX9VVGmM10T6UXGPchGH2h8rC9tQ8N++/E4l34piwlSwpo+P5VVBphqjdLHlcuBzS+9gsGSkFST5gmJf5bW//qQUKSwXj44Yfx3XffAQAOHDiAX/7yl+jUqROAhs55nTu7uDQm0yoCNCrUm0lsEAM0nvBmg9EeCNSoUV1rwve3G8LBAQ48DDEU48IHX2lFjaRKxy0tc16qr4GfWuGUUOndulp2QlJNPKVAjQpVNSbUGFtWzuRBQpLBGDBgAD744ANMmjQJxcXFGDmyoTlyZmYmli9fjt/+9rcuFcm0DmuZUo7qETFtC+Ht9/KN8obPEucwXNnboUxfK+mFI6AFK8+FSX0/tXPK7dvqJ9IYXZO5GCHcx5lStpH010lPT8eQIUPw/fffY8yYMWKZ86+++gpJSUl46623XCqSaR1BVlZ72+uUxrQ9BANw+WaDwXBk6DW+XlAqZC5bgFZbV4/K6jpJiz6bLjy0hzCpr/FxTn8dWx0LG1Oqb+iXIRQ65LUYjpGUV+nt7d2stSoAfPLJJ5xp04YJsFKEzZm57ozrER5iV25WAHA8byCTyRpNNvs5XY+uBYs+W1LbSniR8XOSwRCaONnzMMoqLD2l1qQCP2i02P8zm80YNGgQLly4wMaijWNt4k/4z+uMXHfG9QgPMeOdMvVSHtRB/iqUVdS2uBeFFMTvjwQPoyWLCIVjnBWSctTEqc5khr7KaPF7uCNhoL3T4r8OEeHGjRswGrkMcFtHzMm3aMLDHkZ7orGB0Ph6wUvp+A08UKOGqd6MaqMLDEYLQpr2CmDaGtdZHgZwJ8PMRhMna5le7kgYaO9wQ+f7GHHVbxMPQyZr6PvNtH0avwFLnXcSHoJCf2xn0pI6ZC3JkrrrYTjPYARoGpo4VVlp4mRtLYmUifIHHTYY9zEdhdWrTTwMKSmRTNug8RtwkESvUDAyQrtTZyJ4qFJCUsI8giQP447B0Pg473tpLelDQCdmC6qaHc9zGLZp8V9HJpPh2WefRYcOHVyhh3EiSoUc/h28m81hcNHB9oOPSgmVt5DFI+3vJrwpG6qlLZhrCcKbuZSFn47mESzGdVFICrDu4ZRaCa2J5XR4tbdNWmww5HI5Nm7ciKeeesoFchhnE6hRi1lSNUYTqmpMvGivHSGTycTJWKn9S4TjXBKSaoGHIWjR2ZhHsBj3znfUmSEpez0uyqx4GDKZTEwYYKzj1riE2WzGvHnzkJSUhJSUFFy7ds1if05ODuLj45GQkIBNmzZZ7Dt58iRSUlLcKfe+IFCjQmWNCbV19Y0a1LCH0Z4Q3ualGnrhOL0LQlKl+hp4K+WSKx0HalQwmsyotDKPYDFuRS38fBrWkDiLu+sqrDQRs1G3KlCjhs5Qi3qz8xMG7gfcWt963759MBqNyMrKQklJCTIzM7Fy5Upx/6JFi5CbmwtfX18MGzYMw4YNQ8eOHbF27Vrk5OTAx8fHnXLvCxqXyC6TUGWUaXsIyQvSDYbgYTg/JKWrqEGAv1pySn3jlef2Gj/p9DVOz9wLtLIOScBWaC1Ao4LZTNBXGrnemhVsGoyZM2e2aKAlS5Y4PKaoqEgsWhgREYHTp09b7A8ODoZer4dSqQQRiV/KLl26YPny5fjDH/7QIk3M3YfMlMz9wJ2wAK/ybl+IISmpcxh3Hrz/u1qF383OcaqWejMhuGug5OMFLVMXH7BrZOrNhKcf63jP+qxde8ehi8j+4lKz6ynkMmh8vS22C6G28Qv2QqqvQ0SQbblhdd9Tj/ljyfSBUMjvjnbuSik+3FyEBZP74dGHrc8Fm82E2cvzcem7cnFbbMTjmDkmWqIq12DTYNTV1SEvLw8+Pj4IDLT/BZH6tmEwGODnd3f1qUKhgMlkglLZIKNHjx5ISEiAj48P4uLi4O/vDwAYMmSIWPxQKkVFRS063lnnegpbmh9WGfHUIyrU1zcYCy+lDB3oZxQVeb7p1f10n13JYxojIrr5olp3DUVF1yWd0y/ED9/+5IK1UjIg9DGZ5PsQ5FWHpx9RwVTvIMQjA4I7N3hEzrrHZiJEdPPF7Qrr4bCnO6tw4kSxxbbOvrXo+gtvmJ3gnN3Wm3Dpu3LkHzkGf9+7czMHT5Xj1u0q7DpQhMju1g2GoaYe31zXwVclx0MaJW7p6vDl6Rtw5tevVfeZ7LBgwQKKiIigixcv2jtMMgsXLqRdu3aJn2NjY8V/nzt3joYMGUIVFRVkMploxowZtHv3bnH/t99+S6+88oqk6xw/frzVGu/lXE/Bmt1De9Pc3vQS3V+a1/znFA1Py6YL18sstv99WwkNT8umrfu+tjnm5Rs6Gp6WTf/YXkJEROkrD9PwtGwy1plcqtnR/bc76Z2eno7g4GBkZGS01ohZEBUVhfz8fAANZdG1Wq24T6PRQK1WQ6VSQaFQICgoCBUVFU65LsMwjLuxlaUlTLjbSzduWlW6rdS5sjvpLZfLkZ6ejunTp+Obb76xeMC3hri4OBw5cgSvvvoqiAgLFy7Ep59+iqqqKiQlJSEpKQnJycnw8vJCly5dEB8ff0/XYxiG8RS2srQEA2JvQWPTEiyNkwd+EejrdK1ScZgl1atXL6e1YJXL5c2q3nbv3l389+jRozF69Gir5z7xxBPYunWrU3QwDMO4GltZWoKXYK9kStOq0tZ623gCrg/BMAzjAqz1V6c7jaIA+zWrmlaVbishKZsGY9myZfjhhx/cqYVhGOa+QawW3cgwCI2iAPt9QppWlW4rhRFtGoxVq1ZZGAwiwp/+9CfcvHnTLcIYhmHaM/4dvCGXyyxCT40f+NW19aiutZ7y27SqdJsPSVGT2i9msxnZ2dkoKytzuSiGYZj2jlwuQ4CfysKTaPrAt+VllFXUWFSVDmpUscGTtGgOo6kRYRiGYWwT6K9CaaPuh3er8nrd+WzdYyjT11qs7O/g4wUvpdzjlXR50pthGMZFBGrUMNbdDT0JHka3xxvKoFjLlLJWVVomkzV0EGyrISmGYRjm3ri7FsNy7YVgMOw1d2paVTpQo3ZZr3aptKqBEsMwDOOYpumwgjHofsdgWO3VYaOqdIBGBVO9GYbqOpfpdYTdhXuTJ08WCwMKTJo0CQqFZZMTmUyG//73v85XxzAM044JErr+CWsv7hgIoTKvtTkMsd94Ew+jccvZplV23YVNg8FlORiGYe6NAOEhL5YDaWgU9YughvIe1j0MobmTpYcR2Mj4dO3sMsl2sWkwPvjgA3fqYBiGue9ouuCuoVGUGj4qJdTeCquT2GJZkCb9TwLstJx1FzzpzTAM4yKCGs1h1Jnqoa+qE41IwyR284e/MBHetANhkJ2Ws+6CDQbDMIyLCGjkYTQvWa5CuZX+4bY8DFvl0t0JGwyGYRgXofZWwletRJm+VsyQCmjkYZgJqKi09Bh0+hp4eyngq7acMbhb/ZY9DIZhmPuShgV3NXdDTZq7HgbQPFOqtKIWgRpVsyUMARrvO/vZw2AYhrkvCdCoUVFpxM+6agBAkP9dDwOwDDGZzQSdobZZhhQAeCkV0Ph6eXS1NxsMhmEYFxLkrwYRcPX7hpbToodhpWR5RaURZjM1W4MhEOhvfaLcXbDBYBiGcSGCYbh8oxwAECB4GFaaIomL9qx4GMJ2Q3Ud6kz1LtNrDzYYDMMwLkQwDIKHIWZJWelx0TSTytZYngpLscFgGIZxIYJhqDOZoVTIxNLmjUt9CAjhpgCNDYOh8WxfDDYYDMMwLqTxeooAjVrMfvL3U0Eus0yTFddg+NsOSTU+zt2wwWAYhnEhjR/+QY3+rZDL0NFPZeEtCHMYQbY8DA5JMQzD3L809jCard7WqC1buFZI9DA4JMUwDHP/4d/BG3J5QxiqabpsgL8K1bWNO/LVQCYDOvpxSIphGOaBQy6XIcBPWKzXtKCg5eK9sooa+HfwhlJh/dEsFjN8EDwMs9mMefPmISkpCSkpKbh27ZrF/pycHMTHxyMhIQGbNm2SdA7DMExbJ9DfusFoWh6kTF/bLGzVmA4+XvBSyj1WgNBuxz1ns2/fPhiNRmRlZaGkpASZmZlYuXKluH/RokXIzc2Fr68vhg0bhmHDhqGwsNDuOQzDMG2dBiNQbrVPNwD8VFYFfZUGVTUmm4v2gIbupoEaFUrLa1Bb13zxnkIus+mdOAO3GoyioiLExsYCACIiInD69GmL/cHBwdDr9VAqlSAiyGQyh+cwDMO0de72wLDuYSzZVNxom20Po2EMNb6+Xobfz8ltts9HpcCytF/j0Yc73Ktkq7jVYBgMBvj5+YmfFQoFTCaT2De8R48eSEhIgI+PD+Li4uDv7+/wHFsUFRW1Wue9nOspWLN7aG+a25te4P7U3C3IiL49/VDx42UU/Xzl7g6jGWFdfVBjNAMA5DIZngqssTteeFc56uuseyE+KgUuXziLm9ccexmtuc9uNRh+fn6orKwUP5vNZvHBf/78eRw6dAj79++Hr68vZs+ejc8++8zuOfaIjo5ulcaioqJWn+spWLN7aG+a25te4P7WPNzG9l/1bdn1oqOBlJad0gxbmh0ZEbdOekdFRSE/Px8AUFJSAq1WK+7TaDRQq9VQqVRQKBQICgpCRUWF3XMYhmEY9+FWDyMuLg5HjhzBq6++CiLCwoUL8emnn6KqqgpJSUlISkpCcnIyvLy80KVLF8THx0OpVDY7h2EYhnE/bjUYcrkcCxYssNjWvXt38d+jR4/G6NGjm53X9ByGYRjG/fDCPYZhGEYSbDAYhmEYSbDBYBiGYSTBBoNhGIaRBBsMhmEYRhIyIiJPi3A27XGlKMMwTFvA3iLE+9JgMAzDMM6HQ1IMwzCMJNhgMAzDMJJgg8EwDMNIgg0GwzAMIwk2GAzDMIwk2GAwDMMwknBrtdq2gtlsxvz58/H111/D29sbf/7zn9G1a1eLY6qrqzFx4kT85S9/saio6ykcac7NzcWGDRugUCig1Woxf/58yOWefR9wpHnv3r1Ys2YNZDIZRowYgfHjx3tQbQNSvhsAMHfuXHTs2BGzZs3ygEpLHGlev349tm3bhqCgIADA+++/j27dunlKLgDHmk+dOoXMzEwQETp16oTFixdDpbLd69qTen/66SekpaWJx547dw4zZ860WnnbnTi6xzk5OVi3bh3kcjkSEhKQnJzseFB6ANm7dy/98Y9/JCKiEydOUGpqqsX+U6dOUXx8PPXr148uXrzoCYnNsKe5urqaBg0aRFVVVURENGPGDNq3b59HdDbGnmaTyURxcXFUUVFBJpOJBg8eTLdv3/aUVBFH3w0ios2bN1NiYiItXrzY3fKs4kjzzJkz6X//+58npNnEnmaz2UwjR46kq1evEhHR1q1b6dKlSx7RKSDle0FEVFxcTCkpKWQymdwpzyqONPfv35/KysqotraWXnrpJdLpdA7HfCBDUkVFRYiNjQUARERE4PTp0xb7jUYjVqxY4fG3sMbY0+zt7Y0tW7bAx8cHAGAymTz6NiZgT7NCocDu3buh0Wig0+lgNpvh7e3tKakijr4bxcXFOHnyJJKSkjwhzyqONJ85cwZr1qzB6NGjsXr1ak9IbIY9zVeuXEFAQADWr1+PsWPHQqfTefz/oqN7DABEhIyMDMyfPx8KhcLdEpvhSHNwcDD0ej2MRiOICDKZzOGYD6TBMBgM8PPzEz8rFAqYTCbxc3R0NB599FFPSLOJPc1yuRwPP/wwAGDjxo2oqqpC//79PaKzMY7us1KpRF5eHkaNGoWYmBjR4HkSe5p//PFHrFixAvPmzfOUPKs4us/Dhg3D/PnzsWHDBhQVFeHgwYOekGmBPc1lZWU4ceIExo4di3Xr1uHLL79EQUGBp6QCcHyPAeDAgQPo0aOHx42bgCPNPXr0QEJCAoYNG4YXXngB/v7+Dsd8IA2Gn58fKisrxc9msxlKZdueznGk2Ww2469//SuOHDmC5cuXS3pbcDVS7vPgwYORn5+Puro6ZGdnu1tiM+xp3rNnD8rKyjB58mSsWbMGubm52LFjh6ekitjTTEQYP348goKC4O3tjYEDB+Ls2bOekipiT3NAQAC6du2K7t27w8vLC7GxsVbf6N2JlO9yTk4OEhMT3S3NJvY0nz9/HocOHcL+/ftx4MABlJaW4rPPPnM45gNpMKKiopCfnw8AKCkpgVar9bAixzjSPG/ePNTW1uIf//hHm3hTB+xrNhgMGDt2LIxGI+RyOXx8fDw+SQ/Y1zxu3Djs2LEDGzduxOTJkzF8+HC8/PLLnpIq4ug+Dx8+HJWVlSAiFBYWIiwszFNSRexpfvLJJ1FZWYlr164BAI4fP44ePXp4RKeAlGfG6dOnERUV5W5pNrGnWaPRQK1WQ6VSQaFQICgoCBUVFQ7HfCCLDwrZA9988w2ICAsXLsTZs2dRVVVlEZtOSUnB/Pnz21SWlDXNYWFhSEhIQJ8+fUTPYty4cYiLi2uzmpOSkpCVlYXt27dDqVQiODgYc+fO9XjsV+p3Y8eOHbh8+XKbypKypTk7OxsbN26Et7c3+vbti2nTpnlaskPNBQUFWLJkCYgIkZGReO+999q03tLSUkycOBE7d+70qM7GONK8efNmfPLJJ/Dy8kKXLl2QkZHhcB7xgTQYDMMwTMvxfAyAYRiGaRewwWAYhmEkwQaDYRiGkQQbDIZhGEYSbDCYNos78zE496P18L17cGCDwdhlzpw5CA4OdvjjTEpLSzFz5kwUFxc7dVxbfPbZZ5gzZ849jWEymRAcHIylS5c6SZVjKisrMWTIEJw6dQoAoNPpkJqaioiICERHR+PYsWMuvb7ZbMbf/vY3rF+/Xty2dOlSBAcHN1sF7Qw++uijNpES/CDTtpc3Mx7nzTffxKuvvip+3rRpE3bu3ImsrCyXkWYGRwAAC2ZJREFUXfPkyZPIzc11W7XPtWvXSiqLYA+lUomsrCx07tzZSaock5mZiejoaPTu3RsAsHXrVhw8eBDz5s2DVqtFaGioS69fXV2NFStWYPr06eK20aNH49e//rVLKieMGzcO27Ztw86dOzFq1Cinj884hg0GY5cuXbqgS5cu4ud9+/YBaChmxljiznty/vx5bN++HZ9//rm4raysDHK5HGPGjHGbjqZ07tzZZUZTqVRiypQpWLx4MYYOHdomCmw+aHBIinEqly5dwptvvok+ffogIiICEydOxJkzZyyOOXz4MF555RVERkYiOjoar732GkpKSgAA27ZtQ2pqKgBgzJgxmDBhgs1r2RtHqp4BAwbgzJkzKCgoQHBwMI4fP271WjU1NZg3bx4GDhyIsLAwvPTSS1i6dCnq6uoANA9JzZo1y2b4Lj09XRy3pKQEEyZMEH+HqVOn4vr16w7v88qVKxEdHY0nnngCQMOb/UcffQSz2Yzg4GBMmDBB1LRixQokJiaid+/eyMjIANBgcKZNm4a+ffsiNDQU/fr1w5w5c6DT6Syuk5ubi4SEBISHhyM2Nhbz589HRUUFrl27JpbBWLZsGZ555hkA1kNSp0+fxhtvvIHnn38ekZGReO2118QwGgBcu3YNwcHB2Lt3L2bMmIHo6GhERUVhxowZ+Pnnny30DB48GAaDAdu3b3d4jxgXcM9F15kHisWLF5NWq7W678qVKxQdHU2jRo2i3bt3U15eHo0ZM4bCw8Pp3Llz4jG9evWiGTNm0NGjR+nAgQP0+9//nqKioqi8vJxu375N//znP0mr1dKWLVts9iNxNI5UPWfOnKGhQ4dSQkICnThxgvR6vdXrvfvuuxQTE0M7duygwsJCWr16NYWEhNCyZcuIiKiuro60Wi19+OGHRER07do1OnHihMXPhAkTKDQ0lI4fP05ERMeOHaPQ0FAaN24c7du3j3Jzc2n48OHUt29funXrls2/gV6vp9DQUPrXv/4lbrtw4QKlpaVRSEgInThxgi5evChqCg0NpVWrVtEXX3xBJ0+epFu3blFUVBSNGzeO9u/fT0ePHqXly5dTSEgIvfvuu+KYmzZtIq1WS7Nnz6ZDhw7R9u3bKSYmhiZMmEC1tbVUUFBAWq2W5s6dSyUlJURE9OGHH5JWq6W6ujoiIjp69Cg988wzNHbsWMrLy6M9e/ZQYmIihYWFUVFRERERXb16lbRaLfXp04cyMjLoyJEj9PHHH1NYWBhNnz692e//9ttvU2Jios37w7gONhhMi7BnMNLS0ui5556zaMQiNGeZPHkyERHt3LmTtFotnTx5Ujzm8uXLtGjRIrp58yYRER04cIC0Wi0dO3bMpg4p40jRQ0QUHx9P48ePt/t7x8XF0euvv26xbf369fSf//yHiJobjKZs2bKFtFotffLJJ+K2pKQkGjp0KBmNRnFbWVkZRUdH0/vvv29Ti3B/Tp06ZbE9MzOTQkJCxM+CpjFjxlgc98UXX1BycrJoWAVef/11GjRoEBER1dfX0/PPP09vvPGGxTE5OTk0ePBgunXrFhkMBtJqtbRixQpxf1ODER8fT4MHDxY/EzU0/Bo4cCAlJSUR0V2D0dQ4zJ49m3r16tXs91+7di2FhIRQRUWFzXvEuAaew2CcxpEjRxATE4MOHTpY9OoYOHAgtm7dCpPJhMjISKjVarzxxhsYMmQIYmNj0b9/f8yePbtF15IyjhQ9Uidnn3/+eWRlZSE5ORkvvvgiXnjhBcktZQsKCrBgwQK89tprYnXbyspKMRwlk8lEfX5+fnj22Wdx+PBhm+N9++23ACCGoxwREhJi8XnAgAEYMGAATCYTLl++jOvXr+PChQu4cuWKGGK7dOkSSktLMXjwYItzR4wYgREjRoi/gz0MBgPOnDmD1NRUi/usVqsxdOhQbNiwATU1NeL2ppVeO3fujNraWpjNZotKxk8++STq6+tx8+ZNp2foMfZhg8E4BSKCTqfD3r17bWbnlJeX48knn8TGjRuxZs0afPrpp8jKyoJarcaoUaOQnp4ueSLT0Tje3t6S9Dz00EOSrvfee+/hscceQ05ODhYvXozFixejR48eSE9PR9++fW2ed/XqVUyfPh2/+tWvLIyZTqcDEWHdunVYt25ds/PUarXNMYUy1L6+vpK0Nz3ObDZj6dKl2LRpEwwGAzp16oSwsDD4+PjAaDQCaJhAByA25moN5eXlAIBOnTo129epUyeYzWYLo9O0LL9QebmpwRCO0+v1rdbGtA42GIxTkMlk0Gg06NevH15//XWrxwipq71798bf//531NXV4eTJk2Ka7uOPP44pU6ZIvqajcaTqkYK3tzdSU1ORmpqKH374Afn5+Vi1ahWmTp2Ko0ePWi3LXl5ejilTpqBTp05YsmSJxUNPuHZKSorVFFF7DbACAwMBNBgOaw9jR6xevRofffQR/u///g9DhgxBx44dAQBTp04VJ6MFfaWlpRbnVldX46uvvkLv3r0dlsIWxv3pp5+a7fvxxx8hl8vRsWNHGAyGFukXDKZwHxj3wVlSjNOIiYnBxYsX0bNnT/Tq1Uv8ycnJwaZNm6BUKrF9+3b07dsXOp0OXl5e6NOnDzIyMuDr64sbN24AgKRGSlLGkaIHgMMeHPX19Rg5ciQWLVoEAHjkkUfwyiuvIDk5GQaDwWrjGZPJhOnTp0On02HVqlUWrTKBhgY2ISEhuHTpkoW2sLAwrF+/Hnv27LGpRwhFff/99w7vkzWOHTuGbt26ITExUXyo6/V6FBcXw2w2AwC6d++OgIAAMY1a4ODBg5g8eTJu3brl8L75+fkhNDQUe/bssciaqq2txZ49exAZGdmq9Ro3b96EQqFw65oXpgE2GIzTePvtt3Hjxg1MmjQJeXl5OHr0KNLT0/Hxxx/j6aefhkwmw3PPPYeamhq8+eab2L9/PwoKCpCeno7q6mr85je/AXD3zfTQoUM4f/681WtJGUeKHqDhbfry5cv48ssvrT78FQoFoqKi8PHHH2PNmjUoLCxEdnY2NmzYgJiYGKtv+QsXLkRhYSFmzZoFnU6HkpIS8efcuXMAgJkzZ6KwsBDTpk3DwYMHkZ+fj7feegu7du1Cz549bd7nmJgYqNVqmynAjggPD8eFCxewcuVKfPXVV8jOzkZycjJKS0tRXV0NAPDy8sK0adOwf/9+zJ07F4cPH8a2bduQkZGBF198ESEhIVCpVFCpVCgqKrK5qnzWrFn49ttvMXHiROzbtw95eXkYP348bt++jbS0tFbpLyoqQnR0NDp06NCq85l7wNOz7kz7wl6WFBHR2bNnacqUKRQVFUXh4eE0cuRI2rp1q8Uxx48fp/Hjx1NMTAz16tWLXn75ZcrLyxP319XV0dtvv01hYWE0YsQIm9dyNI5UPfn5+TRgwAAKDQ2lXbt2Wb1WbW0tLVmyhAYNGkRhYWHUr18/Sk9Pp9LSUlFz4yyp2NhY0mq1Vn9eeuklcdyCggIaO3YsRUREUGRkJCUmJtLnn39u83cWmDZtGqWkpFhss5Ul1TRzq6amhhYsWED9+/enXr16UVxcHGVmZoqZXGfPnhWPzc7OphEjRlBoaCgNHDiQMjMzqbKyUty/atUqio6OpvDwcLp161azLCkiosLCQho7diyFh4dTVFQUTZo0ySK7TciSavp3sTaWwWCgyMhI+ve//+3wHjHOhzvuMUw75Pz584iPj8euXbvQrVs3T8txG5s3b8bKlSvx+eef80pvD8AhKYZph/Ts2RO/+93vsHr1ak9LcRtGoxHr1q3DO++8w8bCQ7DBYJh2Snp6OoqLiy3KbNzPbNiwAVqtVlzLwrgfDkkxDMMwkmAPg2EYhpEEGwyGYRhGEmwwGIZhGEmwwWAYhmEkwQaDYRiGkcT/A1bF4GYpcXNuAAAAAElFTkSuQmCC)"
      ],
      "metadata": {
        "id": "YC_Gfru6mRPV"
      }
    },
    {
      "cell_type": "markdown",
      "source": [
        "***Test/eğitim bölünmesinin rastgele tohumunun bir fonksiyonu olarak F1-skoru***"
      ],
      "metadata": {
        "id": "f__6O7ACmfzr"
      }
    },
    {
      "cell_type": "code",
      "source": [
        "nsimu=101\n",
        "class_report = [0]*nsimu\n",
        "f1=[0]*nsimu\n",
        "random_init =[0]*nsimu\n",
        "for i in range(1,nsimu):\n",
        "        X_train, X_test, y_train, y_test = train_test_split(train.drop('Survived',axis=1), \n",
        "                                                    train['Survived'], test_size=0.3, \n",
        "                                                    random_state=i+100)\n",
        "        logmodel =(LogisticRegression(C=1,tol=1e-5, max_iter=1000,n_jobs=4))\n",
        "        logmodel.fit(X_train,y_train)\n",
        "        predictions = logmodel.predict(X_test)\n",
        "        class_report[i] = classification_report(y_test,predictions)\n",
        "        l=class_report[i].split()\n",
        "        f1[i] = l[len(l)-2]\n",
        "        random_init[i]=i+100\n",
        "\n",
        "plt.plot(random_init[1:len(random_init)-2],f1[1:len(f1)-2])\n",
        "plt.title(\"F1-score vs. random initialization seed\",fontsize=20)\n",
        "plt.xlabel(\"Random initialization seed\",fontsize=17)\n",
        "plt.ylabel(\"F1-score on test data\",fontsize=17)\n",
        "plt.show()"
      ],
      "metadata": {
        "id": "igXaR7rVmhp5"
      },
      "execution_count": null,
      "outputs": []
    },
    {
      "cell_type": "markdown",
      "source": [
        "            F1-score vs. random initialization seed\n",
        "![xaq.png](data:image/png;base64,iVBORw0KGgoAAAANSUhEUgAAAY4AAAEfCAYAAABWPiGaAAAABHNCSVQICAgIfAhkiAAAAAlwSFlzAAALEgAACxIB0t1+/AAAIABJREFUeJzsXXd4VFX6fmfutEwahCZVikykQ0IRFFAElo5YgETQXXb52VBs2FZZC4sUFxsroiC7grBUFcSI0qRDEumQYCBAAiGdTCbTZ+7vjzvnzr0zdyZ3wkyI4bzPw0Pmzpl7zrnlfOf73q8oWJZlQUFBQUFBIRPKmz0ACgoKCoo/FqjgoKCgoKAICVRwUFBQUFCEBCo4KCgoKChCAhUcFBQUFBQhgQoOCgoKCoqQUK8Ex6ZNm5CYmFjtv+3bt0v+3u1245FHHsHTTz9dyyOnqOsYP348EhMTb/Yw/DB16lQkJibCaDSG/Nv8/HwkJib6Pe8nTpzAvn37qm0nF6+99hoSExNx9uxZ/lhiYiLGjx9fo/OFgtzcXKSlpYmO1VbffzQYjUYkJiZi6tSp1bZV1cJ4ah19+/ZF3759A37frl07yeNz5szBiRMncP/990dqaBQUYcWECRPQt29faLXakH8bFxeHGTNmoH379vyx3bt346mnnsKrr76Ke+65J2C7G8WMGTPQuHHjsJ1PCllZWXj44YeRkpKCkSNH1mrf9R31VnA8++yzsttbrVa89dZb2Lx5cwRHRUERfjz44IM1/m1cXJzfe1JWVga3211tuxtFuM8nhYqKCjgcjpvSd31HvTJV1QQHDhzA6NGjsXnzZn6HRUFBQUERGLe84Ni8eTOqqqowd+5cvPPOOzU6h9PpxOLFizF27Fj07NkTffv2xV//+lccPHjQr21ZWRnmzp2LIUOGoHv37vjTn/6EDz/8EFVVVaJ2RUVFmD17NgYPHoyuXbti8ODBmD17NoqKikTtiP34xIkTGDVqFLp164bJkyeDZJK5dOkSXn75ZQwYMABdu3bFyJEjsXTpUsmdmBCnT59GYmIiXnzxRcnvR44ciT59+sButwMA9u3bh8cffxz9+/dH9+7dMXbsWCxdupT/PlQcPnwYiYmJWL16NV588UV0794d99xzDzIzMwEAV65cwT/+8Q8MHToU3bp1Q69evfDggw9izZo1ovMQ3uvgwYNYvnw5hg8fjq5du2Lo0KFYsmQJXC6XqL3VasWiRYv4+zNx4kSkp6cHHOePP/6IyZMno2fPnujVqxcmT56MrVu3+rVLTEzE3//+dxw5cgSpqano0aMH7rnnHixatAgulws5OTn461//il69emHgwIF47733YLFYqr1OvhwHuW6bNm3Chg0bMHbsWHTr1g2DBg3C/PnzRef05S5ee+01vP766wCA999/H4mJicjPzw/IcZw7dw6zZs3in9GkpCRMnjwZ27Ztq3bcQp6BnD/Yv02bNoXU76efforHHnsMAPD1118jMTERhw8f9uuboLKyEgsWLMDQoUPRtWtXDBgwAC+99BJyc3NF7UJ9nqRA1psRI0agW7du6N+/P2bMmIHTp0/7tS0uLsbbb7+NQYMGoWvXrhgyZAgWLlwIk8nk19ZkMuGDDz7g5zBw4ED84x//QGlpqV/b/Px8fl3o1asXZsyYgatXr1Y7doJ6aaoKBQ8//DDefPNNxMTEID8/v0bneO+99/C///0Pffv2xaBBg1BZWYkff/wRf/3rX7FixQr069cPAPcQTJo0CVeuXEG/fv3wpz/9CWfOnMHnn3+O48ePY9myZVCpVLh8+TJSUlJQUlKCAQMGYOTIkcjOzsbatWuxc+dOrFmzBq1btxaN4amnnkK3bt1w9913Q6/XQ6FQ4PTp03j88cdhtVoxfPhwtGjRAhkZGVi0aBHS09OxdOlSMAwjOacuXbqgQ4cO2LVrF6xWK3Q6Hf/d2bNnceHCBUycOBEajQYZGRl48skn0bBhQ4waNQparRYHDhzAokWLcOnSJcydO7dG1xUA/v3vf0Ov12PKlCnIyclBly5dkJ+fj4cffhgWiwXDhg1D8+bNUVhYiG3btuHtt9+Gy+XClClTROdZuHAhcnNzMWLECNx3333YunUrPvroI1itVrzwwgsAOOeI6dOn48iRI+jevTuGDRuGkydPYtq0aYiKivIb2/z58/HVV1+hSZMmGDNmDACOI3jxxRdx5swZzJo1S9T++PHj+P7773HvvfciJSUFP//8M5YuXYrS0lL8/PPP6Nq1K1JSUrBnzx6sWrUKDMPgjTfeqNF1W7VqFc6dO4fhw4dj4MCB+OWXX/DVV1+hqKgI//rXvyR/M3ToUBiNRuzYsQP33HMPevbsibi4OEni/cSJE5g6dSo0Gg2GDx+OhIQEXLp0CTt27MBzzz2Hzz//HPfdd5+ssRIOxRdVVVX4z3/+A7Vajc6dO4fUb9++fTFhwgR8++236NGjBwYOHIiWLVtK9l9eXo6UlBTk5uaiZ8+euP/++5GXl4cff/wRu3fvxldffYUePXqIfiPneQqE559/Hnv27MF9992HoUOHoqSkBD/++CP27duHTZs28VzS1atXkZKSgsLCQtx3333o0KEDzp49i2XLluHAgQP45ptvoNfrAXCCLzU1FefOnUP//v0xfPhw5OfnY926ddi7dy/+97//oWnTpgCAa9euYfLkySgpKcGQIUPQokUL7N27F3/7299k3S8AAFuPsHHjRtZgMLBTpkxhP/nkE8l/eXl5AX+fl5fHGgwG9qmnnpLdZ2VlJXvnnXeyjz76qOj4iRMnWIPBwD777LP8sVmzZrEGg4FdsWKFqO1bb73FGgwGdtu2bSzLsuxjjz3GGgwGdt26daJ233zzDWswGNjHHnuMP/bqq6+yBoOBnTFjhqit2+1mx4wZw3br1o09efKk6Lu5c+eyBoOBXbVqVdC5LVmyhDUYDGxaWpro+MKFC1mDwcAePnyYZVmWffbZZ1mDwcBevnyZb2O329nx48eznTp1YisrK4P2I4VDhw6xBoOB7dGjB1tUVCT6jlyv/fv3i44fP36cNRgM7KRJk/hj5JlITk5mL168yB/Py8tju3Tpwg4YMIA/tmHDBtZgMLCvv/4663K5+OPz589nDQYDazAY+GPp6emswWBgH3jgAba0tJQ/Xlpayo4ZM4Y1GAzskSNH+OPk98J7f/78ef74vHnz+OOVlZVsUlIS279//2qv05QpU1iDwcBWVFSIrlunTp3Y3377jW9nNBrZu+66i+3cuTNrMpn4a+D7vJPrJRynVLtp06axnTt3ZnNyckTj2bp1K2swGNgXX3yRP0ae0TNnzoiux7hx4wLOy+VysU888QRrMBjYDRs21Khfci3mzJkjauvb9+uvv84aDAb2ww8/FLXbvXs3m5iYyA4fPpx1Op2i6yPneZJCdnY2azAY2FdeeUV0PC0tze85mD59OpuYmMju2rVL1Pa///0vazAY2Pnz5/PH3n77bcl3evv27azBYGCfe+45/tgrr7zCGgwGdtOmTfyxqqoq/lmaMmVK0DmwLMvWS1PVkSNHsHjxYsl/V65cCWtfbrcbLMuioKAAxcXF/PFu3bph+/bt/O7Obrfjl19+Qdu2bfHnP/9ZdI4nnngCTz75JJo0aYKCggIcOnQIvXv3xiOPPCJql5qaim7duuHQoUN+2tHw4cNFn48fP45z587h4YcfRteuXUXfzZw5E2q1WqT+S2Hs2LFQKBT48ccfRcfT0tLQvHlz9OnTh78GAHDy5Em+jVqtxpdffonDhw8jJiYmaD/BkJSUhCZNmoiOjRs3DnPnzsWAAQNEx7t37w6dTiepmg8fPhy33347/7lVq1bo0KEDSkpKYLPZAABbt26FQqHASy+9BKXS+2o8//zziI2NFZ2PXLtXXnkFCQkJ/PGEhAS89NJLAICNGzeKfqPRaJCamsp/bt++PRo2bAgAmDZtGn88JiYGHTp0QGlpKaxWa6BLExR9+vRBr169+M+xsbHo1asXnE4nrl27VqNzCvHnP/8ZCxcuRIcOHUTHiXYtdQ9CwUcffYRdu3YhNTUVDz30UMT6tdvt2Lp1K1q2bInnnntO9N3gwYMxfPhwXLx4ERkZGaLv5DxPUiDvSm5ursjcNHToUGzfvh0vv/wyAM5UvWfPHgwePBj33nuv6BxTpkxB8+bN8e233wLgTOXfffcdOnbsiEcffVTU9v7770dSUhJ++eUXmEwm2O12/Pzzz+jYsSMmTJjAt9Pr9XzfclAvTVUzZsyoNc+JuLg4jBo1Clu3bsV9992HXr16YdCgQbjvvvtwxx138O0uX74Ms9mMnj17+p2jZcuWvHq7c+dOAEDv3r0l+0tKSsLJkyeRlZWFVq1a8ceFfwPg7aWXL1/Gp59+6nee6OhoZGdng2VZKBQKyb5atmyJ5ORk/Prrr6iqqkJ0dDSOHz+O/Px8TJ8+nf/dI488gu3bt+OFF17Axx9/jIEDB2LQoEG46667oNFoAl47OfCdF8Bdm969e+P69es4e/YsLl++jNzcXBw7dgw2m03Szty2bVu/Y0QY2O12aLVaZGVloUWLFmjUqJGonUajQZcuXXDo0CH+WFZWFpRKJZKTk/3OS45lZWWJjjdv3tzveuj1elgsFj/hSNxr7Xa7yEwoF8HmWx2/JQcDBw4EwJlfs7Ky+HtAOCg5tv5A2Lp1K5YuXYrk5GQ/U124+83NzYXVakVSUpJos0CQnJyMbdu2ISsrixdOgLznSQqJiYno1asXjh49irvvvps3b993330i8/OZM2fAsiyuX78u+f6q1WoUFBSgsLAQRqMRZrMZLpdLsi15J7Kzs9GgQQOYzWa/zSQAdO3aFWq1WnLcvqiXgiMSkLohQ4cORadOnTB//nx07doVmzZtwpEjR3DkyBF88MEH6Nq1K+bMmYNOnTqhoqICAKrdfZNdiO8Ol4DYKX13or6LC7FL7927F3v37g3YX1VVVdAxjRs3DhkZGdi1axfGjBnDE79jx47l2wwePBhff/01li9fjgMHDmDlypVYuXIlGjRogBkzZsgKKAoEqRewoqIC77//Pn744Qc4HA4oFAq0bNkSd911F86cOSN5HikBRgQf63EkMBqNfkKDID4+XvTZZDJBq9VKnjc2NhZRUVF+5LYUTwJA9ssaCuTM90Zw9epVzJkzBzt37gTLslAqlWjbti2Sk5MD3gM5OH36NN544w00bdoUH3/8sd+1CXe/NX3fanp9FQoFli9fjmXLlmHLli3Ys2cP9uzZgzlz5mDAgAF477330KpVK/79PXbsGI4dOxbwfNevX+fncOHCBSxevDhg24qKCn6M0dHRft8zDCPbOkAFh0xI3ZCWLVuiU6dOUKvVmDZtGqZNm4arV69i//79+Omnn7Bv3z488cQT2LFjB3+jfL2nCMxmM/R6Pd+usLBQsh15oBo0aBB0vIQ0++c//4mHH35Y3iQlMGLECMyZMwdpaWkYPXo0fvrpJxgMBr8oahJ0aTabkZGRgd27d+Pbb7/FnDlz0KZNGwwePLjGY/DFrFmz8Ouvv2Ly5MkYP348DAYD/8Bv2bKlxueNi4tDZWWl5Hdms1n0OTo6GhaLBUajEXFxcaLvbDYbrFYrb4aqb2BZFk888QRycnLwxBNPYOjQoejYsSN0Oh1KSkqwfv36Gp23tLQUzzzzDL9z9tXCItFvuN63UPucOXMmZs6cidzcXOzfvx9btmzBgQMH8MILL2D9+vX8+/v0009j5syZQc9HNNvx48djwYIFQdueP38eACSfc5ZlZXnyAdQdVzays7P9/j344IPIy8vDokWLsGvXLgBAixYt8Mgjj2D58uW46667UFhYiPz8fLRr1w5qtRonTpzwO3dhYSF69eqFt956C506dQIA/Pbbb5LjSE9Ph0KhEJnBpEAW9lOnTvl953A4MG/ePKxcubLaecfHx2Pw4ME4cOAADh06hMLCQpG2AQD//e9/8dFHHwHgBNagQYMwe/Zs/OMf/wAA3owQDhiNRvz666/o2rUr3nnnHSQlJfFCIz8/HzabrcY76i5duqCgoMDPLdHlconSZQDAnXfeCUB6bpmZmWBZttp7VBcRyGwpRHZ2Ns6dO4dhw4bhhRdeQLdu3XiNlyxMod4Du92OGTNmoKCgALNnz5Y06Ybar5y5tG/fHlqtFidPnpR0HSeu2OG6l1lZWZg/fz6vRbRr1w5TpkzB6tWr0bZtW5w4cQJ2uz3o+wsAn3zyCb744gvY7Xa0a9cOGo0Gp0+flrzu//nPf/DZZ5+hvLwcbdq0QWxsLI4ePerXLicnRzanRgXHDUKn0+HLL7/Exx9/LHrw7HY7iouLodFo0KRJE2i1WvzpT3/C+fPnsW7dOtE5Pv/8cwBA//790aJFC/Tr1w+nTp3C6tWrRe3Wr1+P3377Df369cNtt90WdFx9+vRBq1atsGHDBr+H5IsvvsCKFSsk/calMG7cOJjNZsybNw8KhcJPcOzbtw+ff/65n0pNHBFatGghqx85UKvVUCqVMBqNoutttVrx3nvvAai5DZ+QhfPmzROdY/ny5SgpKRG1JRHbixYtQllZGX+8rKyM3/X9EfMhqVScESLYNSRmGuG8Ac5sQubudDpD6vfdd9/Fb7/9htTUVEycODEs/cqdy+jRo1FUVIRPPvlE9N2ePXuQlpaG22+/HUlJSSHNJxDsdju++uorfPbZZ6JF3mQyoaKiAk2aNIFGo0Hr1q3Rp08f7NmzBz/99JPoHN999x3+/e9/Y+/evdBoNNBqtRg1ahRycnKwYsUKUdvDhw9jwYIF2LhxI+Lj46FWqzFmzBhcvnxZ1NZutwd005YCNVXdIJo0aYLHH38cK1aswJgxYzB48GAolUrs3bsX58+fx9NPP83viF955RVkZmbirbfe4j0bTp48ifT0dAwdOhSjRo0CwL1Ejz76KN555x388ssvSExMxLlz57B//340bdqUXyCDgWEYzJ8/H9OnT8eUKVNw//33o3Xr1jh16hQOHTqEVq1aBQzu88W9996LuLg4ZGVloW/fvmjevLno+2effRaHDx/GY489hhEjRqBZs2bIycnBrl270KFDB4wbN45vu2nTJly5cgUTJkyQJL6rQ1RUFIYNG4Zt27bhkUcewd133w2z2Yxdu3ahpKQE8fHxqKyshNvtliQ7g2HUqFHYtm0bfvrpJ+Tm5qJ///7IycnBoUOH0LJlS5FHXp8+ffCXv/wFK1aswLhx4/iYhV27dqG4uBjTp0/nvc7+SGjWrBkAYM2aNaioqJDkp9q2bYvu3bsjPT0dqampSEpKQnl5ObZv3w673Y6oqCiUl5fL7nPz5s1Yv3494uPj0apVKyxZssRP8HTq1IkPypTbL5lLWloa9Ho9JkyYgI4dO/r1P2vWLPz222/48ssvkZ6ejl69eiEvLw87d+5EdHQ0Fi5cKEt7kQMS9Ltt2zZMmDABd911F5xOJ7Zv347y8nL885//5NuSdWDmzJkYNGgQOnbsiNzcXOzevRsNGjTgNXoAePXVV3H06FHMnz8fO3bsQPfu3VFYWIiff/4ZKpUKc+fO5d+HF154AQcPHsS8efOwb98+dOjQAQcPHsT169dl5zyjGkcYMGvWLLz99tuIiYnBt99+i3Xr1iE6Ohrz5s0T2SebNWuG9evXY9KkScjOzsbXX3+Nq1ev4qmnnsKHH37It2vbti02btyIiRMnIicnB6tWrcLFixcxdepUfPfdd2jTpo2scfXu3Rvr16/HiBEjkJGRwfc3depUrF27lif+qoNGo8GIESMAwE/bALiXYdWqVbj77rtx6NAhrFixAtnZ2XjsscdEQUoA8O23396wW/TcuXPx+OOPo7KyEqtWrcLevXvRrVs3rFmzBg888ACsVisfJRwqFi1ahJdffhl2ux1r1qxBcXExFi9ezJumhHjttdewcOFCtGzZElu2bEFaWhratWuHTz/9NCTXxrqEPn364NFHH0VFRQW++eYb3gQkhFKpxGeffYYHH3wQ+fn5WLlyJTIyMjBo0CBs3LgRd999Ny5evIjLly/L6vPSpUsAOPJ2wYIF+Oijj/zc6Ldv3x5yvy1btsTzzz8PhUKBb775RtJMDHAu1OvWrcO0adNQXFyMVatW4eTJk3jggQewadMmv+C/G8WCBQvw0ksvweVyYe3atdi0aRNat26NJUuWiPjI9u3bY9OmTZg4cSK/XmRnZ2P8+PHYsGGDyHwmnENhYSF/bYYMGYJ169aJPMLi4+OxZs0aTJ48mQ8sbty4Mf7zn//I9oJUsOFwsaCgoKCguGVANQ4KCgoKipBABQcFBQUFRUiggoOCgoKCIiRQwUFBQUFBERLqpTtuOAPOKCgoKG4lSOVf80W9FByAvMkTZGZmhtS+PuFWnfutOm+Azp3OPXgbOaCmKgoKCgqKkEAFBwUFBQVFSKCCg4KCgoIiJFDBQUFBQUEREqjgoKCgoKAICVRwUFBQUFCEBCo4KCgoKChCAhUc9RA5edfxv1+yw1JbmoKCgsIXVHDUQ2zZdwHf/JSF4nJ59YMpKCgoQgEVHPUQdocLAGDz/E9BQUERTlDBUQ/hdLlF/1NQUFCEE1Rw1EM4XRy34XBSwUFBQRF+UMFRD0E0DSo4KCgoIgEqOOoheFMVFRwUFBQRABUc9RBEYDgox0FBQREBUMFRD0FNVRQUFJEEFRz1EIQcp6YqCgqKSIAKjnoIXuNw0TgOCgqK8IMKjnoIaqqioKCIJKjgqIcgJipqqqKgoIgEqOCoh+ADAKlXFQUFRQRABUc9hIOaqigoKCIIKjjqIVxUcFBQUEQQVHDUQ9AkhxQUFJEEFRz1DCzL0iSHFBQUEUWtCg63243Zs2dj0qRJmDp1Ki5duiT6fvPmzZgwYQIeeughrF69WvRdaWkpBg8ejPPnz9fmkP9wIEIDoIKDgoIiMlDVZmfbt2+H3W7H2rVrcezYMcybNw9Llizhv1+wYAF++OEH6PV6jB49GqNHj0Z8fDwcDgdmz54NnU5Xm8P9Q0JonqKCg4KCIhKoVY0jMzMTAwcOBAD07NkTp06dEn2fmJiIyspK2O12sCwLhUIBAJg/fz4mT56Mpk2b1uZwaxUXrlTg70v2o9xoDdiGZVm8/98j+OngxYBthIIj3BzHzow8vLv8EFzu2qllfuFKBV75dC8Ky8y10h8FBYU8hEXjOH36NLp06VJtO5PJhJiYGP4zwzBwOp1QqbhhdOzYEQ899BCioqIwbNgwxMXFYdOmTUhISMDAgQPxxRdfyB5TZmZmSHMItX24sfe0ESdyjNjw0xEkdYiWbGOxu3HgRAEKi8vQRFMq2cZk8aYZKSwqkTUvuXNP21uCrHwr9uxPR5yekfWbG8GBs5U4e7ECP+3ORNfb9WE//82+5zcTdO63JsI1d1mCo7y8HAsWLMDhw4fhcDjAstyOk2VZmM1mWK1WnD17ttrzxMTEoKqqiv/sdrt5oZGVlYXdu3djx44d0Ov1mDVrFtLS0rBx40YoFAocPHgQZ8+exauvvoolS5agSZMmQftKTk6WMzUA3MUMpX0kkFWcBcAIJqoRkpOlhXBphQXAVURHxwYcb3G5Bfi2AAAQGxdf7bxCmfsPRw8BsKJT5y64rZG0cAsncsqyAVSgze1tkZzcOqznrgv3/GaBzp3OPVgbOZBlqpo3bx62bNmCxMREREVFoXHjxujduzeUSiVsNhvmzJkjq7OkpCTs2bMHAHDs2DEYDAb+u9jYWOh0Omi1WjAMg4SEBBiNRnzzzTdYtWoVVq5ciU6dOmH+/PnVCo0/IhxOTlPIL6oM2Mbm4NoEM0FFkuMgY7Q7aid5Ipmvi7oVU1DUKcjSOPbt24cZM2bgySefxPLly5GRkYGPPvoIJpMJqampyMnJkdXZsGHDsH//fkyePBksy2Lu3LnYsmULzGYzJk2ahEmTJiE1NRVqtRpt2rTBhAkTbmhyfyTYPYt8fqEpYBub/WYLDu589loi3b3zrR1OhYKCQh5kCY6KigokJSUBAO644w7897//BcCZnqZNm4YlS5bg1VdfrfY8SqUS7777ruhYhw4d+L9TUlKQkpIS8PcrV66UM9w/JMguvrCsCnaHCxq1P4fAL6TOwAtpJMlxPuuuo3YEh9VONQ4KiroIWaaq+Ph4npto06YNiouLYTQaAQAtW7ZEYWFh5EZ4i4Ds5t0scLWkSrINERzBkhfWjsZRS6YqIihryYuLgoJCHmQJjt69e2PFihUwGo1o06YNoqOj8dNPPwEA0tPTERcXF9FB3gqwCXiDvEJpnkOOzV+ojURMcNQax+EEQDUOCoq6BlmC45lnnkFWVhaefvppMAyDRx99FO+88w5Gjx6NxYsXY8SIEZEeZ72H0PyTH0hwUI6DgoKiDkAWx2EwGJCWlobs7GwAwAsvvIDo6GhkZGRg1KhReOKJJyI6yFsBQvNPfpE0QU524MEEhyOCHAcRHA7qVUVBcUtDlsaRnp4OnU6HAQMG8Mf+7//+D1988QWmTp2Kbdu2RWyAtwrIoqzVMMgL4JLLcxwyyfFwaxzk3LWmcTgox0FBURchS3A89thjAZMLnjlzBq+//npYB3UrgnhStWoagytFJrglFkurDFOVqxZMVbWmcVCvKgqKOomApqpXXnkF165dA8BFiL/99tuidCEEFy9eROPGjSM3wlsEDqcbGpUSrZrE4nx+BYrKzX7R2aGS405XeBf42uY4rJTjoKCokwiocQwdOhQ2mw02mw0KhQIOh4P/TP45HA507twZ//znP2tzzPUSnMahROtmnHCW4jnkkOOOCGkcXJ2Pm+OOSzUOCoq6hYAax/DhwzF8+HAAwJAhQ7Bw4ULceeedtTawWw12pxtqFYNWTWMBcKlHendqJmpDNA43C7jcLBilwu884gBAVpRl+EYgqvNRSwGAZL7B4lYoKChqH7K8qnbu3Bn0e2GGW4qawe5wIT5Gg1YejSNPIvUI2YEDnIBglP7R5b7aiNPFCaQbhUOgZdhqgeNwu1k+XsRFTVUUFHUKslZ7lmXx/fff4/Dhw7Db7fxxt9sNi8WCY8eO4dChQxEb5K0Ah9MFtYpBi8bRUCoVkkGAwgXb6XQhwYksAAAgAElEQVRDK5GWxFdwOJzhEhy1WyBKaA5zuqnGQUFRlyBLcCxevBj//ve/ERsbC6fTCbVaDZVKhbKyMiiVSkyaNCnS46z3sDs4clytYnBbgl6S47DanfzfgXgOQo6rGCWcLnfYFnlhf7UROS7UrqjGQUFRtyDLHff777/H+PHjceTIETz++OMYMmQIDhw4gPXr1yMuLg533HFHpMdZr+FyueFys3xiw9bNYlFptqPCZBO18zVVSYEcj9KqgrYLFbWtcciZKwUFxc2BLMFx7do1jB07FgqFAp07d8bRo0cBAN26dcOTTz6JDRs2RHSQ9R1kISaCo1VTac8qkakqwC6cFxw6lejc4RojUDteVcK5Uo2D4o8Cl5u9JbwAZQkOnU4HhuEWtTZt2iA/P5/nOrp06YK8vLzIjfAWAImLUKu42yH0rBIiJI1Dw92vyJiqalnjoBwHhUyUXLdg4hs/YGfGzVmT/rniMN5Ysv+m9F2bkCU4OnXqhJ9//hkA0LZtWygUCmRkZAAA8vPzeaFCUTMQjyWNh8RuGKcFABir7KJ2vuS4FIgmotNGTuNw1LrGQQUHhTxcLDDCYnPhwpWKm9L/5WuVuFhgvCl91yZkkeN/+ctf8Mwzz6CyshIffPABhg4ditdeew33338/0tLS0KdPn0iPs16DLJIaNSfHCT9htjrF7QS78ECxDbXBcdS6xkFNVRQyYazieMHacBmXgsPphsXmDFv8VF2FLI1jyJAhWLp0Kbp06QIAeOedd2AwGPDtt98iMTERb775ZkQHWd9BAuqIqUqvUwMALDZfweH9HGgXTjSRqDBrHM5a5ziqnysFhS+Ili70QKxNOJxusKw3XU59heyovUGDBmHQoEEAuIqAy5Yti9igbjWQhZiQ416NwyFqFxI5zguO8DzAjlrmOKwijoNqHBTyUGHiBIftJi3c5P0zWx38O1gfEXBmubm5IZ2oXbt2NzyYWxV2P42Duy1CjcPpcouERSCOgyzw+rBzHC7JvyMFcRwH1Tgo5IFoHDfTVAX4WwvqGwIKjpEjR4Zkozt79mxYBnQrgizEWj+Nw/vw+QbdBeI4XLVAjtcKxyFDu6Kg8AXPcdwEjUOYCNSXn6xvCCg43n//ff7viooKfPDBB+jXrx9Gjx6NJk2aoLy8HNu3b8eePXvwxhtv1Mpg6yu87ric4FAxSmhUStGuxfdFqM4dV6dlgrYLFeICUbWrcdAAQAq54E1VN0HjED6nt6zGMWHCBP7v5557DmPHjhUJEwAYN24c3nvvPWzbtg0TJ06M3CjrOQg5TryqAI4gF+5afF+EQEFxjgiR4+IAwNrVOKipikIueFPVTdA4hO9Ifdc4ZHlV7dmzB2PGjJH8bsiQIcjMzAzroG41kEVSmIwwSqsS7VoIWaxiOPNhde644ec4xLmqWDay5iPqjktRE9xMjkP4jtR3jUOW4IiLi0N2drbkd0ePHkVCQkJYB3WrgQ8AFGgcUToVLDavVxVxxY2J0gAIFgBITFWRExwsG/nFnLz4CgXgopHjFDLgcrMwWYjGUfsLt8hU5eMRWd8gy19s7Nix+OSTT6BUKnH//fejYcOGKCkpwY8//oilS5fimWeeifQ46zUI2azx0zhccLtZKJUKfiHV61S4brIFtPu7XFx7cq5wBwCqGAWcLtaTBl7WvqNGIH74UVoV1TgoZMFktoMowjfdVFXPNQ5ZguP5559HQUEB5s2bh/nz54u+S01NxZNPPhmRwd0qIBqHWsRxcLfGandCr1PzL0J0FBccGEggOFxuqBglVJ5FPdy5qvQ6NYxVdtgdbuh1YTm1JITzrfRJvUJBIQVhih6bx5xam9Hbt5KpSpbgUKvVWLRoEWbMmIH09HRcv34dCQkJ6N+/P1q1ahXpMdZ7ELJZI9jBC11y9To1r3FUJzicTjfUjILXBsJtqtLrVJzgiLBnFT9fnRrlRls1rSkoxIKDZblnViNR7CxSEL6T9Z0cDym0sX379mjfvn2kxnLLws7nqvI+5L5pR/w1jsCR4yqVEmqGCI4wRY47vRqH8HOkQOYbpVVRjoNCFvzq1zhctSo4biWNI3JGagrZ4OtxCDgOvU/aEeJVFVOdxuFrqgobx+HVAIDIVwG0OVzQahioVUqwLEd8UlAEA9E4lB7rVG3zHGJ33PpNjlPBUQdAFmG1j1cVIKFxeBbugF5VTjcYRsmbqgK1CxVEw4mOCq+3ViDY7C5o1QwYzypAYzkoqgMRHI0aRAGo/USHQu2eahwUEYeUV5XeJ+2IbI7DzUaI4yBeXWrReCIFm90JrYYB4zG50ehxiupQ4Uk30sQjOGpb4xCajynHEUa43W68/fbbyM7OhkajwZw5c3D77bfz32/evBkrVqyAUqnEQw89hNTUVDgcDrzxxhu4cuUK7HY7nnrqKdx///21OeyIwy4Vx6H11Ti4/4ngCBgA6ORMVWpPca3wmaq85DjgjXaPFGwOF2L1Gj7gkZqqKKoD0TiaNNADKKv1IECqcfjgsccew/nz5yW/y8rKwtixY2V1tn37dtjtdqxduxYvvfQS5s2bJ/p+wYIFWLFiBdasWYMVK1agoqICmzdvRoMGDbB69WosW7YM7733nqy+/kggi7Iwcpzs7ANpHIFSjhByXKVSiM4drjHyHEekvarsLuiCaBy/55XXOTuyw+lCTv71attduFKBSnNkXYwvXzOizGgN+3mvFpv8SGhfmK0O/J5X7nfc7WZxJrc0YmZOXnA0rF7jKLlu8SvNfKOgKUcAZGRkID09Henp6Thy5Aj/t++/zZs3y645npmZiYEDBwIAevbsiVOnTom+T0xMRGVlJex2O++DPWLECMycORMAl32yPpap5b2qJNxxfTkOueQ4EULh4jgcLh+vqghqHCzLeshxFVRKwtV4BWVphQUvfrQHa36WzmZws5B24CJe+PDXoGVLzVYHXvr4V6zYcjpi42BZFq8u3oeP/3c0rOd1utx48eM9WLLpRNB2a37Oxosf7fETXMd/L8ari/dhz9H8sI6LwFhlh0bNID6Gy64QTONYuCoDb31+IKz930peVQFNVWvXrsWWLVugUCigUCjwzjvv+LUh+YpGjRolqzOTyYSYmBj+M8MwcDqdUKm4YXTs2BEPPfQQoqKiMGzYMMTFxYl++9xzz+H555+X1Veo+bNuZr6t0nJuoTl54hiUHjI4r5jb1V24lI/MzEoUFJZyxy9xmt+1wmK/MXNpnVlYzFU4deI4d+6y8mrnJmfu5Z4xlhRdAQCcyzkPvfuarPmFCoeL5aqoWUy4zloAAMdOnEBCDPecFF7nNI2ci1eRmVnzGI9w3/PjZ7ld9sGMkyi/FiXZpszkhNPF4mJ+UcSeOYeLhcniQH5h4Htfk74rLS5UWRy4mO//7Alx4VIZAOBw+jE0baDmj5+8aOb+P3seDZTFIfdfHYrLKqFTA9cKuGc0KzsHattVv3aZmZkoKK7A9SoXMjIywhYkmHPBxP9tsTmRnpEBZR0rHxuuZy6g4Pj73/+OcePGgWVZ/N///R9ef/11vxgOhmEQFxeHzp07y+osJiYGVVVV/Ge3280LjaysLOzevRs7duyAXq/HrFmzkJaWhpEjR6KgoADPPPMMUlNTZZvFkpOTZbUDuIsZSvtw43/790DF2NGnT2/+WOMCI/DLLsQ3aITk5B5IO34YgAXJPbviq192Ib5BQ78xO11uYM0VNGwQhz59koF1V6CPjg06N7lzX3tgLxQKGwwdOwBHMtGiVRskJ7et6ZSDotJsB9ZeQdPGCYjVa4DcS+jUqTNaNY0FwJmp8GMhdPq4Gt+3SNzzHWcyAFShRavbkZzcWrINp41cgy4qJmLP3PVKG4ArgEIl2UdN536xwAigAApGG/T33HUww5B4Jzq0auAdl/sycKAMDRs1Q3KyvDUjFNg2/IAWTWJguKMdtqYf9Tyjt4vakLm7vk8Dy7rQtVtPPq/bjaLAcgGA11TZpWsPXkOvC5Bz3+UKloBXrEGDBrxZ6f3338e9996Lhg0bhjBMfyQlJWHXrl0YNWoUjh07BoPBwH8XGxsLnU4HrVYLhmGQkJAAo9GIkpISTJs2DbNnz0b//v1vqP+6CrvTLeI3AK87rjlgAKC/qcjJ55NSglEqoFQqwsdxuNxQM0poPQS+I4LEo9XmLWzFEHJcwOnU1SprpIhQsHHxpkdH5MZO+gj39ZEzP8BLEvs+o+RzJO6bzeGC1e5CfLQGWo03XU8gCK9RuASHt6QBA4vNBYvNWacERzgh64pNmDABRqMRBQUFaN68Oex2O5YvX46rV69i1KhRshf0YcOGYf/+/Zg8eTJYlsXcuXOxZcsWmM1mTJo0CZMmTUJqairUajXatGmDCRMmYMGCBTAajfjss8/w2WefAQC+/PJL6HQRTJRUy7A7XCKPKsDrjmsRkOOMUgGd56WQIsfJi6nyEMpqlTJsXlVOpxtqlZc7iaTHCllUtRqGj4AXF5Ly1nWuSyDkbDBilIw5kq6ipA+z1RnWfE1y5gd4749vdgNnBO+b0VPAKS5ay1fSDHSNHU639xmyOXFj22HxeQEgNloLi80Ms9WJRvFhOnkdgyzBcfToUfztb39DSkoKXn75Zbz33ntYv3494uLisHHjRnz88ccYNmxYtedRKpV49913Rcc6dOjA/52SkoKUlBTR92+++SbefPNNOcP8w0JS45Agx7UaJmhEODlG2qgZZfjIcc8YyUsZyQBA8sJrNQwYDzkudMetqxoHqT4nT+OInOAgfbjcbFjzNZH5We1OPmuzFLyCw0fj8NzDSHgcEW0oLkYDrSb45kZ4f8IpxMi846M1KCoz17nnM5yQ5Y77ySefoGPHjpg0aRLMZjO2bNmCyZMn48iRI3j44YexdOnSSI+zXsPhcIk8qgCAYZTQahjeVGW1O6FVM7w2ISUQiOeRWqhxhCtXFcmB5dGMIplyhLzw3Hy5xUm4CNXFus4sywp25IEXI969OpIah2hhDN81IvNj2eBmIHJ//ARHBAU+GVt8tKZajUN4f8I5FjLfuGiNXz/1DbIEx4kTJ/DUU0+hdevW2L9/P2w2G8aNGwcAGDlyJHJyciI6yPoOe4BdYZRWxReEIbmbGKUCCoU0x0GSARJegBMc4TJVuaBmlHx0e61rHBIcR10SHBabU5ZAI99ZI2qqEggOW/gWL7KrB4IvuLzG4fOM8NcnAoKjooqYqkLVOMI3FjJvIjhueY0DALRaLQBg79690Ov16NGjBwDAbDbXK77hZsAhwXEAHM8hMlV5hIuKUUoKDoeAHCf/hzMAUKXy5sCKZN1xr8ahktQ4hKaQcGlUNwphSm+5pqpIld8V9m8Jp8Zh8s4x2IIbiOMgptRwjokfGzFVyeA4hGMP5+JOnsW4aK1fP/UNsjiOO+64A+vXr4dOp8O2bdtw9913g2EYlJeXY9myZejSpUukx1lvwbKsJMcBcJ5VJIjK5nDxxLiKUYoC4gjI4io0VVWaw1fISa1S8ppRRE1VAo2DzEmK4wC4lzM+5uYHhYoERzCNw6MBuN1czI1aFX4/f2HZ0nDu7uUKR3J/fHk4r6kqAuQ40ThiNPx7crM0DhKAeMtrHDNnzsTOnTuRkpICu93OV/wbNWoUfv/9dzz33HMRHWR9BlkYfTkOANBr1bDaXZ6dtZtXwVWMEk6JGhVOX3I8jKYqh8erShPm5IlSIGac6jgOoO68nLI1DsFCFSmCXCgswnl95ApHXtj7ueOyYR+T79hEpqoAGoclUhqHH8dRN57NSECWxjFgwABs3rwZJ0+eRK9evdC8eXMAwKuvvoq+ffuiRYsWER1kfQafGTcAxwF4C9SQNmqVIig57nXHZcKywJPdsYpRQl0bGofHHVenYVBlCcxxAHVHcAjzNwXjFYSLus3u5FPIhBPChTGci1dFlbw5BvKqIoLEYnMF9cqqCbzuuBr+PQloqhKMPZwEtvMW4jhkR760bt0arVu3htPpRHFxMRo2bIgHHnggkmO7JcDX4pDSODxBgKR0KtlJMQE4DqcPOa5ilHC52Rt+SXkTmEDjqC1TlTTH4e27ruzq5O7GhYtJpDQOSwQ0DqHXWHXnDUSOC01XVnt4g+N4jUOvAaPkygoECrKMxPUBhOQ44Thuca8qgEsJMn36dCQlJWHw4MHIzs7G66+/Tl1xbxB8vfEgGkd5JcdzVEeOkxdVyHEAN17Lwpu9t7bJcensuM46qHEIF9VgvILIVBUhzyoR+Rumxctqd8nO/up0cfNy+AYARrAmt7HKhpgoNf+8aNWMLHI8rByHr6mqjjybkYAswXHq1ClMnjwZeXl5SE1N5b1B4uPj8dFHH2H9+vURHWR9hiyNo1KscXDeUvIix4Eb5yOEGodCoYAmjPEhUpDWOASmKiHHUUc0DmKqahCjhcXmDOgxJdI4IiQ4RORvmBYv4fx8+/BFwABAp7DQUXh34xVVdn7BBrhnRw45HtY4Dl9TVR15NiMBWYLjgw8+QPfu3bF161a8/PLL/Evx2muv4eGHH8Y333wT0UHWZziCaRwewXHdIziIt4iaUfIxG0L4kuOqMAkOXuPwpLRXqxmem4kERBoHHznu744LhDdO4UZANI5mjfSeALnqg88ip3EIAtzCtHgJ58f1IX1ekqEZkCLHI6MpEjNavEeoARw/JssdN8xeVUqlguet6oo2HAnIEhzHjx/H448/DoZh/PLejBo1CpcuXYrI4G4F8NX/JDSOgKYqueQ4E17BQYpD1Z7GofJGygcwVdUljkOpVPBlSwMtGrXNcYTr+hDBcVtCtF8fQoi4qCCCI5z3rcrKpUARaRxqlTx33DBuPBwel3WG4dzWb3lTlUqlgtMpfREqKyuhVtfPDJC1AUcQryq9lruu131MVYwyODmuEkSOA4DDdWMLFBESJNZErWYiy3FIuOO6Apmq6sjLaayyI06v4bMXS5liWJYVLZgR0zhsTv5ZCdf14QUHr3FIL7jCTUqgyPFwjgsAjCYS/Cc2VVnt0kGWZOxaDRN2UxXZ6Oh1qrDxS3URsgRHv379sGTJEhiNRv6YQqGA0+nEypUr0bt37yC/pggGuzMwxxHly3Hw7rhKuFn/OtzCtOqA11R1o4kOiemBjFGjUka0AiDZKQYqHVsXS3Qaq2yIjdbwWqLUuOxOt+ieRSq1utnqRKM4nefv8CxeJDKbCI5AC65IcNQSOS6M4SDQqhnejdwXZqsTSgXH14Q3ANDFvyNRgqwP9RGyBMdLL72Eq1evYtiwYZg5cyYUCgU+//xzjBs3DqdPn5Zdla8+g2VZbN57HnmFodUx5svGSmochOPwmKoE5DgQuN5BuMlxXuNgiOAITDyGA2QnrhFqHIIF92Z7VWVfKsPBkwX8Z5fLDZPFgbhojTcdvsS4iD2deEbL1ThKKyzYuu8C3O7qU5SwLAuLzYn4GC0YpSLo9SkqM+Ongxf9duUulxvf/XpeVBed5zg8pqpAC26gQE3us7cf33HtPXoFuVcDl9wNBq/g8HIcwfJVWWxORGlViNap/cZRWmHBjwdya5QOhgTJApzGUVc2NZGALMHRrl07bNy4EYMHD8axY8fAMAzS09PRsWNHrFu3TlSQ6VZFQWkVvvzuFL7fcz6k3/EBgCFoHIEy5EqlVRcerym8HIfnvOoIcxwOJzQqJZRKhbTGIdq51r45YMUPZzD/63Re6JssDrAsl2oiSkdMVf6LBrGnx3lIXLmJDrfsvYDPvz2JUxdKqm1rc3DBdVE6FaK0qqB29u/3nse/Nxz3VPbzIjO7CMs3n8IP+3L5Y2RxbhinDWq/F2sc0ilHADG3YLI4sPCbDKxMO1vt/KRgsnBji9F7TebefFVS94ETHFE6TisQCuTNey5gycYTOJ8fuhBzeoqdAZzGYbW7/KwC9QUhBQAuWLBA8rtr167htttuC9ug/ogwmbkXIVQvDV/+QAi9j9mD1zhU/kFxgH9a9bB7Vam8PvJOFwuXmwUTxuhfAlJ7BABUQbLjAjdH47BYnXC5WVwpNqFdi3jeVTUuWutXR8X3dwDQMFaL65U22Vob2ThcvlaJ7nc0CT42T796rYqzswe5PuSZLTfa0E6Q/IEEnF6+5hUowjnqtaqAz3lQwSHwjBP+vsJkA8t65xkqeM9EweYrqMZhdaJBLHevSIp4EoxIHFFq8lw5nG7E6D0ah4eftNqcPO9VnyBL4+jUqRNOnDgh+V1GRgZGjhwZ1kH9ESGs1BcKvAGAUl5V4gdOV42pSiqtOnDjHAfZ4fsGFkZK67AKMgEzdTBynNzj/CITALGNncTeSBGjZJdOYiHkmqrIok36CwbyHEZpPRqHjGqEwlQigJfPEPZnrLJDqQBiotSenbocclyagwPE8SVkfkbTjQkO4eYrWL4qi83BCVYJIU/Ss9fEFCs0VQXbQNQHBNQ4li9fDovFAoCzm65fvx579uzxa3f06FFoNBq/47caiOodqqdMsFxVZBEi0Kq92XGBwKU5ve64ntoZN2iqcvpoHGSsDqcbugjcepvDhWideK4ijsMz7+hqdtSRAhFc+R4+S1hESO9TK14IMtaGHuJa7uJEzi+HPyP96nVq6HVqWIpMAcvHEqEijHoXfr5SbOK1SmOVHbHRGiiVCuh1Kp5384VQqAfi4ACxxkH68x2HXHjLCXjnGCi1utPFEeZROhVvChaWeCVjqMmmyOH0mqr458DqABAV8rnqOgIKDqvVisWLFwPgPKgCRYdHRUVhxowZkRndHwg1LQnq4OM4/AWHTusjOKrROBwRI8fFgoNPOxIhgtxmdyHBs7gG0jjUKiWidOqb4itPtMQ8z45cWEQo2E7TLDBVAfI3GWQxC1nj0KngdrOilPyitrbggsPhdKOozIzmjaNRYbKjQayGP3egRIXCzYz/88nypLHw+pD+rHYXV7AsxFK30hqHJ7W6zzW2eTZqeg8HBEByLKEGuLrdnOmWjIHXPG81jeOZZ57B9OnTwbIsevTogVWrVqF79+6iNkqlEiqVbJqkXsNb2S20B4U8oGoJUxWjVEDn8UcHhILDs5j6+cmL3WbDzXGoBF5V4TivFFiWFS0evMbhw3GoVUpEaQPvfCMJB2+qIhqHwP7vsZVLcQBkEWkQWzONo8xoRZXFEdRmznMcwoXR6pQUHNVpHAA3x6YJepgsdrS5LZY7N7HfSyQqDKpxON2I0WtgtjpFJjRhf0aTHU0ahrZDF6bEIeA1Dp9rbPOYz6K0Ksl7Vem5l6FqHL5jCOaWXR8QlOPQaDTQarXYsWMHevToAY1GI/pHhYYXwkp9ocARJHIcEJurvJHjMt1xg9QnD2mMPi9FJOuOO11cNl9vsKN0BUAVo+TJ30hV0gsEonFcKeJMOcIiQvyCIUmOc+bMBiFoHA6nS7RrJcIqEAhvERXAhi8aj+d4hQ+3IPycV2iCyWwHy3rjJIItikHJcZcbWjXjCbzzciTC/oxVofMcvhoxEJjj8Gocar97ZXe4YLFx7UMNcPXdXEUFMVnWB8gix1u2bEmjw6uBuYbkuC1IHAfgfUkB78ugrjaOwzdyPFwcB9c/0Tgika9KmKcKkDbLkWqEUVoVnC42okWlfMGy3v7sTjeKy82iWhDBTBRkEWnIu+NWv6gQoUQoiurMVSKNQxd810sWbymNw9tfpV+AXbA5BgsAdLncUDEK6H1Ie5HGUQOew3fRBoQah3iMdodQ4yDz8L8OoT7bvsJLL9D26iNkp1WnCI6aaxz+uyUhogSmAJ2gHgcggxwPk/eT7xiJB5g9Al5VxO/eW3tEIuWIx1R1M+zIvkIqv8gkWli9u3F/ryOyiMRGa6BiFLI2GeTct98WB6B6gtws4DiISUnq+rjdLL+7lhIcrZrGQqlU+M2PnDvQHAPlFAM4jkPFKP2iqoX9V9RIcPhnX9Bpq9E4tGJTnu84Qn1nfN8RPp6njiThDDeo4AgTyEsUsjuuIzA5Dnh3LkqFIJVIABOUr6kqXClHSK4rnuMgXlWR0DjsYo1DSrviBYc2cLBdpEBMGIQUziushLHKBq2Ggc6TlFGjUkoHAAoW9WD1IoQgZpwu7RsBCEXjUAdd4IXajtA8RExjjeJ0aN4oGnmFlfwYSPZZuRqHVJJDYmI026T7r4mpypfbA4JwHETj0Kn8POCEJrNQNY5AHEd9Jcep4AgTyAPi8MlHVB3IQiRFjgPeB1Cr8WYmJqYo/xfTkx3XN3I8zF5VfBXASGgcJE+VZ96MhDsu5/bI8KaY2nw5iaBv3TQGACc4fGtBRAVwExaakbSawNlbhSC74NZNYxCrV1fPcQj6CGo2ExHCdj56WqhdtGoaA5PFwWs5N8JxkEqUnIlRDZvdxaddv3FTlWdjI8Fx+Ebn25xejcN34yE2VdWMq1T5uONSUxVFUIiznsp/WMiuPZALIlkcSQwH4F3AA9U78DNVhTmOg3AdkciQ66txSJeOdUOlUggi62vPHEAWlNubx4lMOULBodeqA2gcXuJaG6RehBBe4l2LVk1jUVBqDroREPYRlKgXHHOzQJVVbOePi9agdTPOi+r0hVL+GCCMUQguOITPp0vwbPKLqt1rKiPPLOGLQoEkOR4gjsMm4Dh8Nx4iwXGjpqog174+QLZb1O7du7Fz506YzWZJL5Z//etfYR3YHw2+dRbk1lO2B0k5AnhNVRqN9/tAAYC+gVDhjhxX+XAcjgh4Vdl8XI8Zn5QjXKEgN9Qq5qaYA8g11uvUaN5Ij4sFFbDZXYgXJNiL0qpwXSIK2mJzQsVw9bC1akbW7rrCs5DGx3AawNmLZSgoMaGNh/OQ6oOMIdiu11fYVphsiNVrBKlFNGiawGXCzbpUxo3BM8eoINyJOKeYf0wHwyhEJjStmjPrtW0eh4sFxhsix9VCcpzEcfg8o3aBV5XvxqNCZLILkRz3MVXx/FI91ThkCY5ly5bhgw8+gFarRUJCgl8UqlRU6hVZg+cAACAASURBVK2GmtZZcDjdUCjEUa9C8KYqgUZCzDe+moTLT+MIT7yF74sZUY3Dx6tKqVRAqfAuPLw9W7BzrVWOg+eklGjVNBZXiqsAQNJU5RsgR5LrKRQKj8Yhx6vKGyNCNIC8osCCg1wLzlRFCNrAGodCAbCsf/R2XIy3P0Ki86Yqnhvw1/QC1ePgzaiMUrTTJ+7WLZvE1Fxw+GxsABkah64ajSNkU5V4DDfDjFqbkCU4Vq9ejdGjR+P999+n6UUCQOiXHgpBbnO4oFb5V1YkIC+/VqBxqKsJAGR4Et3DhdxoPY5AXlW1oHEA3HxIHi6hPftmahwaNYNWTWNw+DR3XCQ4POPyDZCz2Jy8tw1JFEkI40Dw5RwAb6oTKXBajbJajYwImMYNolBcbvEXHIL+CHhTVRBX00AcB08eM0rR7wm30jBWi5gotV/eLDnwdRcHvB6I/gGA/l5VkhxHiO+M02dzdUsHABKUlJRg4sSJVGgEgchUFYrG4XAFDP4DvPZknaSpyp/jUCoV/C6OvEhS1QJDge9uKpJxHMTbR6hhqRgFLxSFtmR9kBTmkYKw1C/ZkQNc8B9BIFLabHXyiyYRjNUJXynOIZhnldnq5Bctcb4kMcjYSClYYhKrEMWkqPnULxo1wzssBAtuCxQ57hQ8Q8LfC2Ng4qI1NTZVCZ97IFgAoFfjIB5wvMYh4FdC9Rj0NVUxSoVfoGN9gizBcccdd9C64kEg9IkHQtM47E63ZGZcAilTVaDIcYfP7jVsuap8I8cjmB3XW/3PqwwzSiVvhhPuXL0EZG2S48QLjhHtyIVFhKQEGimwRMasC5BLyRfGKjuiPYtck4Z6qFVK5AXxrLLYnLzACLbrJcdIRT9iEiP/E9fb1s1iPPMTk/+kL1+QZ0WpVEAqb5VKcN8sVqfINBYfo4Wxyh5yJgDf5x7wuoz7BwBy4/AKV7VA47B5BXoNyXGhucw30LE+QZbgePnll/H555/j119/hdFohN1u9/snB263G7Nnz8akSZMwdepUP2G0efNmTJgwAQ899BBWr14t6zd1Ab4RwKFqHIGIccC7a9TKIMedTjdvxgLCJzj8IsfVteBV5TNfX41DuHOtXVOVmOMgkDJV+TpMkAJLQOA4A18Yq2y8UGKUCrRsEoP8IlPAaoAWq8NP4wjmGtwsgQgOf1MVALT2zNGXw+H6kiDHPfcnSsNImqoYRiEQPA4Bh8NpHG43iypLaBsBpyCdOYGKUULFKPzdcR0c70SuvzAY0VhlR0KcDgpFDchxCXOZb7xKfYIsjuPNN99EWVkZnnzyScnvFQoFzpw5U+15tm/fDrvdjrVr1+LYsWOYN28elixZwn+/YMEC/PDDD9Dr9Rg9ejRGjx6Nw4cPB/1NXYDvriIUwWF3uhEfxANLUuMIUo+DEey8VGGO4yCcSUQ5Dh9yHOAWGy/HITBV3YS0DjaBxhEdpUZCnBZlRhvioyVMVYJxCQssAcHrRRCwLJcHq0MrPX+sdbNYXCwwoqTCgqYN9X7thRqHWsWV3g3mVdWsEWeq8hUcsXpuPkSriq9GMBKQ+xOlVaHKU/CKEWgfvk4NREgQwUHGEKOXbxZ3SAgOAJJBljYnyzsoAJwQvG6y8te6WYIepRXWkAN5fTkOgLsGJRW1n4SzNiBLcDz44INh6SwzMxMDBw4EAPTs2ROnTp0SfZ+YmIjKykqoVCq+hkB1vwknvvv1PEwWO6aM6CQ6fia3FD/uv4hnJ/WUjLcgLxCxxfuqx8HgcLqCmqq85Lj3VknFNgBc4RwpUxVpV1phweebTmD6+G68qyXALThLvz2JpMSm6NvFv5Kj725KbnZcl5vFotWZGNyrleR5pRCIHCcvpshUVU0iuV9/y8eFKxX485jOsjz/bA4XFnydgTIjV4cGCgUeGNQBg5Na8W0cAq8qAGjVNBZlRpukxiE0oQnTnQPyNA6z1QmnixWdmyzks5ceRJSWgYpR4m/juyLx9gTY7C64WXF+syitdOp5cqx5I3+NI1qn4p+dVs2IxuE1xRH7vRR3QkxVUToVUMF5+jFKRtJUZbY5RSnphYKjhUShwyOnr+HXo/l4MTVZxGc4XAEEh4aRiBx3Q68T3yuLzQWTxQGXm0V8jBYalTJkV3Mpzy69zhvoyARwgLheacOn645hysg70a5FvKy+dv+Wj4tXK/DnMV1CGmM4IUtwhKvehslkQkyM1y7MMAycTiefZbdjx4546KGHEBUVhWHDhiEuLq7a3wRCZmZmSGPLzMzEj/sKUWJ0olMTs+i7LUfKkZlThTYNrOjQXOf32/wSTt3Wa5Uwml04l5OLeEWxrH5tdhfsVkvA8VrtbjSJVyFaYeTbXCzi+svLu4LMTC9RWmWxQqnwzt3tsRWXlVcgMzMTh7IqcehUBRpoLLjrTq+ZZefeI9i6/xp+zy0AY73iN4brFUYoFMCxo78BAEoruUXn6rXCoNe5rNKJPUevoaS0TPK8UriUXw4AuJCTjcpiTmg6HXbYHG5kZmbiSim30JSWFiP7DPf3taJSyXH87+ci5JfYkdjEDK2EcPb9TV6xDUfOFEOpBBiFAg4Xi293nEIMW8i3ybnAXe/8vEvIVBajbSMXyq9rcPXyORRf4Razomuci+6ZrBxo7AUAgKtl3FgrK8qQmZmJ0hKupvWJU2dQWez/TAHc9QMAh7WSH2s0bIjWKVFUXgWW5cyV6376DaN6N0SlhVvsrGZve0bhQkWl2W+uV64WcfO49DsYJVBQxI2r5LoJGpWCb29zuNGykRqNosTnUCtZlFdU+Z23qJgLFnQ5uGc0PfM36NRKXPI8s8XFhbis4eaeeykfFVXcmC9dyIbxOvfeZR4/g6pS/9TqG/eV4sxlC3q1dqFhjPf9N1us0KiU/s+A2wVTlUN03OZwQ6PyHnNYuXu1ez/32W4xAnCh0hT4nZTChVyOd8q7lItMz/Nit3LPyv5DGYjWSZujz+RZcORMKWLVZgzsIu1i7Yt1Pxchz/NcB3OskUKo62IgyA4AtNvt2LRpEw4fPgyj0YiGDRuiX79+GD9+vGxvq5iYGFRVVfGf3W43LwCysrKwe/du7NixA3q9HrNmzUJaWlrQ3wRDcnKy3KkhMzMTycnJuC3jAArKitG1u1iz2HbyCIAq6OJvQ3JyB7/fM+eKABSjaaNYGM3XcVvzlkhOvqPafl0uN9yr89GwQVzQ8d7dX/w5+lIZsL0YTZo2Q3Kyd9eh3PITonUq0blU665CF6VHcnIyDuceB1CB+IRmSE7uxM/99vaJAK5BExUtOY5Ve3ZDo3bx35VctwBbriE+PiHouM/nXwdwDTp9rOz7Qa51/769eII2esdOOCqtSE5Ohu5CKbCtCK1aNke/vp2g3HAVGq30uL/4eTsAO9p37IzbPCYZAnLPhXCdvgagGI+P6owJ996B8bM2Q6ePEbXLM+UAuI5Ewx1I7tocUtOyqK5g8+EMNGveCsnJ7QEAmpwSAEVo26YlkpPvxMWK3/HrqTO4vW0HJHeW1sa4wLtraN+mBX+fkwGM/5OnH5sTE9/YCjvL3d8rxSYABWjZvCmSk3sCABrs2oXicrNoDpmZmYiKjgNgRr8+SVi5eyecrBJJSUmwrr2Cli3jRe0H3OU/trify2GxOf2uYdrxwwAsaJwQj6tlJejWrQfiojVQ/V4MbC9G61Yt0at7c+DnXYhr0BhVThMAC+6+qzecmnz8cvQomt7WGsnJt/v1uTnzIAALEu/sLPJoU3xXiJhond9Y4nbtQvF1C3+cZVnY1+SjUXPv87jzbAbOXb2ChKa3AyhC+9tb4Or1q3C53CGtIZeMvwOoQGJiR/5+HrxwDFn5l9Dujk6i8QpR7roMoBSNm97Gv5PVYcXOnQDs6NCxi8hyUB2knnmpNnIgS1yZTCZMnjwZb7/9No4cOYLS0lIcOHAAb731FiZOnAiTqfrKZACQlJTEl589duwYDAYD/11sbCx0Oh20Wi0YhkFCQgKMRmPQ34QbRB2vDFDYJr9Qep41rezmrTceWsWzYOS4r3eJilHyanRekbjUKQH5HIhkdjilvbWqswOT84XCQZCU3kIbt1pAjguJeoWCpOiWJlNDLUkqDLZTKDgC1dfxIVipXwKp5ItkjL7u1cGuoS9R7YsorQqNG0Tx99W3D9JGqmYJH2GuYRAfzXkz8aaxmOo3gqQWii94U5XHHOX08YZTMQpRAaUKkx16j2mM9BvofgnzwYn6DMRx+KR1sTvdfqY8MpZrpSSQUwuNmqlxPQ4hxyE0vQVCTbJqB6rcWJuQpXF8+OGHyMvLw7Jly3DPPffwx/fu3YuXX34Zn376KV5//fVqzzNs2DDs378fkydPBsuymDt3LrZs2QKz2YxJkyZh0qRJSE1NhVqtRps2bTBhwgSoVCq/30QK5MGtMNnQuIFXVSYLSiD/eb6WtKeym68nRyAQcjlQSvVACFSPw5ccJ+cmDzURfL5BVkZPmolAroO+L6aw5ngwEDt6KF5Pxiou9YXQhs0wCt4d19c1OFBCQafLDZNFut5EIPAxDJ7nQCqflL2awluANHksTAVCzg0EXzCEMQ6B0LppDI6eK4bZ6vDrA+AWeDfL9SMsRWy2OqDVMGAYJeKiNbhwtQKlFZZq+/POUQ2r3cWT3wROp4/g8Hx2CSPHBRyQscrOpzIhBHyg1OpEMPo6ZThdbtGCTcAFWbp5jsHCR9V7nVHIWK6Vmfm5a9TK0NOqS3AcZCMa7PkjPFgogoO8pzUJlgwXZAmOX375BTNnzhQJDQAYOHAgZsyYga+++kqW4FAqlXj33XdFxzp08Jp+UlJSkJKS4vc7399ECvEBdgjkcyD/eT+NQyaxxkchB3HHlYJUHW7ufKzfC6RWccRypdnO508KWePwIR/57LjVaRye6xKKS2KFye63cKkYJZxu4o7rk4VUq0KphOdKpVmYcVXeC+a7w9eq/clVhxyNQyLwTpi1lju3dC4l8XjEMRVSaNUsFkfPFSO/yCRKN+IdizftiFBwCGNKyHzJxkhIhFc3R4vNiRhBKVuH0w2lwnt9nD4CX8Uo+XGYPXEcHVrGi/oNdL/I8ymMsXC7WThdrKRLu1ag1ekZJb9Ii68P93ch0ThiNNComNDTqkskWvRqHIGfP/KOyF0ziOccd96bp3HI2uoajUbRAi9Ehw4dUFJSEtZB3SxIqZZuN8ubrq5X2mAy+98sby3pUE1VpPpfaBqHlJstSf6n8vVnVzFwuNwiM1sgwRFI4+DiQ7znZRglGKVCvsYhM3uty83CZPYXHAyjgNvNcnN0imsvRGk5X3lfU0xNUnWTdmQHrNWoAmocwbRESY3DZ7crS+OoxlQFeNO75xdVSmocgWpyCKPYiYZFNkbxsjQOaVdoh9MFlYrhNzdEYAgjxxmlAjoNg7IKK5wuN2I9/VVn2iHPp3BR9616KYRvvipfzzbh39dKvRqHWqWEy836ZZ8OhpqaqswhmqrsgrINdV5wtG3bFgcOHJD87sCBA2jRokVYB3WzQHY8QhXQZHFAGGslZa4iLyUxVcl9COTsXqXg62YLeOtV+L5AaoYzVQm1Jd/U1cQ0YHe4JF8WKRuyRq2sNrqWvKhy64JXea617w5bpfRyOqSoFJ+FVKeG28362aRFVeVkpuquEASjAdLunLI4Donki2ZfU5Vaul6E1ByCCQ4ShJhXKNA4tF4NIGD6E5uTd2cmz71X45AhOAIkOuR2/0p+ASUmKq8btYIfV1E5t1jHx3jTtasYhWRqdeFOW2hGkgq8I9D68Ej8PRBqHJ77wY/Fw3EAoQW4SqV2j6+GswEEHIdMjUMoqOu84EhJScGKFSvw6aefIjc3FybT/7d33vFRVXn//9zpk0wmjYQOUiMCAgmgIriCD6u4upZFUBREsQGiggUU10IRfj5SQ1f3cUVX8FFXYXF91hUXGyLEgoCoFCEESAKpk0ym3t8fd86dc9vMnclMEsJ5v16+JJPJvefccr7n2104evQoVq5ciddeew233HJLssfZJKg554iaSXb5aq076+Uah848Dj27VzVMspcSULaNJRAfB1kUTEYDauq9ksxjWpXWcnjKNRmzDnWeLCp6+4LTJb1pwu1jg9p9D2Q7anrxiUXjEJy34cXd4w1IhF7cGofcVCW2NtV+VsI+l0imKhWNw6amcVD9N4I8PN6AKGCUpiodznGNJECfPwCzyaBIUpX3irFbTeJmhwgujuM061XRO201jUPtfsjLusiTMIGwBhgei0U8ViwJruFxhAWYuBFVKbFPEE1VOjebtKCOdNxko8vHMW7cOOzbtw+rV6/GmjVrxM95nsfYsWMxZcqUpA2wKVFTLcm/e3fJwIGjFaoah+gcd8ZoqopT41DLHPcHecnvxO+aDPAHgqLAI/Oob/CJkUv0fOs9fkXWrs+vdD5aTNEdiPLM6Wjz1Nphi/MNhgWQotOax49MKuIxnnakpCETSRakd6xkERK1xAh+KaPRAIvZKPHt0A2WAH0JgDV1HhgMHFJt2q9phkOoKltc6hJDPuXOcUBW/sTPS75HrndJGen0F93HYVfRqoCwdko2GuR+ySs32ykHNX2/nalWlFdK86gA6bOkrnGoO8cBSuMgpioV5zgAcdOgN8GVRv5cCnPRr3HIo/c0v99CNA5dgoPjOMyfPx+TJ0/GN998g+rqaqSnp2Po0KGavo9zkUiCo2/3bBw4WqHqICc305lqhYHTr3Z6ZVnIepHbj4EIGoeRaBy1SHdY0DHHgQNHKyRlHej5ym3W4Zaf0oXSbI7eT8ItWTj9EZ289DjkCxetcWj1dpYvYPGYqmpcHuRQZTxoGzkRHHr9Uik2k2rJkZiiqmSCTA2O49Ap14FfiqtQW68ejgtIr0+4mZHwO2JSIYU60/WE42oUOvT5g7BZTVE1DnrXny4RHBb8dqpGYR6ld9q0CUltwSbIr7FW1Bl9bo7jwiV1YoisUhNgNosRFpMhso8jtKHQu2ZIe7W3cMFB6NGjR6sSFHKcZCF1KRedTrkOpDssqrkc9ANptRh1h+NGss9GQgzHVel9oGaqCgZ5lFbU46Ju2eLiXe0Kl3Wg5ytfCLRMARaTAbV1UUxVKgtnJGrq1E1VYR+HiqlKw4ZfHaNz3B8Ioq7Bjx7UueU2ckC/X0rIn6CiqmQRT/o0Di+y09Wzymk6t03DwWOVOFJSJZ6boLbA0+1TAaWg1heOS5zjch9HSOOQRf7Jo47oMTplggMQouJISXfhPErBB4S1j0gaB9nNuzXyXMLnFq6DGG4eQ2SVmuAgpjet8GIg9jwOt0RwNJ+pKratbivHaDTAYTermjmcqULP59KKOoXtU4yJN3CwmpWROFrEG1VlMHDgOJmpSowjl+5OicmA5wXhJw8RDPI8aqhIMTXTA6AikHQkSblVTDWR0DJVhTUOXvGCarXoJMIwxWbSJThqVc6tVvrc6w/AwEGSu6BGik1aUtvdEG6wBFCtTTWeFZKHosdsRBzkR0pqQuemTDEqocFiMyOb1FQFCM+WnrbHYgCAisZB+zjkznET5Rwn0HPUMu/Q56HfP7F4okYCIKBiqqKjqmxKASb6OGLSONQFmDPVitoICzwZk26No4WYqpjgkCF3zsk7ogV54OSZOsnfuD1+SW9w/aaq+DQOjuNCpcajq+y0b6Jz2zTFi+nx8RJHuTxKRuuFsJqN8PkDEaOl1PIYIiGGwzo0fBy0xmEMlcXWWMCIYOyY44DL7RWdn1pUqwgONa3A6w/CbNbu2EiwW01ighwZH71gRdM4SB6Knt0/cZCT50Et3FRV41ARHM5Ui6TdrRba4biCP0wMGVfJ45CPkb7fYY1YuthKNA6JjyO6xhHROa6i+YhRVTFoHHRrXBpnqgVuT0DT0R5rOC6t4dXWeTXL6ycbJjhkyJvJqHVgk0dW0V3X1Eo5a0EeerUCfNGge1QA4agQtQRAQufcsOAgC2VdgzShTm0hkB+H/EyK7GmhlscQiXBUldzHERYccs0qRcNkUl3nhc1iRJsMO3geqvk3NLRmSVDzQ0Tr2EggmlADlctC77LNoXwGrWcl3OAouuDoTPUFMZsMknulVuJd3szIZDSIDng9gkpyXOoeB4M8AkEeJso5rpY5Lvy9lnM8usbh86lsmCJFVck0DrXMcfrc5P7Gkj3u8wdgNHAKoRupjEogFN1GxqgnZD1ciduAIA+xOkJTwwSHDGeqBYEgjzpZH2JJz2dZZBXdA8EWj8YRY1QVQEq4K53jaiVHCIKfRloGod4j/F3bLHvoZ70+DhJ5EqEsOG2qikHjUEZVhUxVQV7hF9KK7qmp84pd5ehjRzs3vfuV71gB4Z7p0RDlO323TOMA1EuaiOPRUW6EkJuVouo7oH+uV9E46HwPIjD1Cg41pztd8t4s93FoaBxy05iW4KA3Bl61qKo4neMkAk44t3ANzHG0RtYq7R4pskoudPW0eCbXm7yvzeXniElweL1e7NmzB9u2bUN1dTVOnz6drHE1G3IfQE2dR6yvQ3Z2JyiNIxDk0eANwG4NZwR7Q93eouHTUfdICxPVowLQzqAN29SF3bd8fqLgCFWPVYuSAZQ7OrPYzEn7YXc3xKZx1NR5YTEZJP3VhTlpO8e18glIRJKoYUWJea9WWajDNnKpmUSPT4ouOyJvsCQe32zUzPnRk/xHIJ0B6fOGx6HmHKd6ZoQgO+N0HT4VrePSQt0oj6qSPUe0f4XepZPz18hNVSrnAZS1y2iU4bhK5zj9M9k0xBtVpS44tMuoyN8JPZYKsXOjrAFXU6M7qurtt9/GkiVLUF1dDY7j8M4772DlypXw+/1YvXo1bLbo0R/nAuLC6vKiQ5tw7SSO49Amww6rxSjROIgpQh4t4/VJi8qpIVbHjdHHAYTzMwhqRdaAsCDplOuAwcBRC6lU42gXKs+s5RxXy+MQ5qD+sPM8L9M4oqvU1Rrhp8QRLTjHA5LxqO2oGzx+eH0BRXOgSKgt1Foahx7nMa1xqDVYAqJoHKROlc6FvFOuA7+dqtHWOCTOcaJxKM00jdE4aKEur+Dsk21s5Dkk4jg0TDvScGLKOR7BVKWmcRg4pZCxW02oqg0344pH41BrXwuEhZFaSLj8nfD4AnAoviX7G9IrPvS+6g01TzS6trr/+Mc/8Mwzz+Cqq67C6tWrRVvcmDFjsGfPHklS4LmOvKJlTZ1XvPkG0vO5PNzzWR6poRbCqYVYHTduH4fSVKX0cQjj6ZQTTg4zGQ1iFFF9KHa/nYbGoVa8DaAdiOrzJD22M0KmIj3huLVUf20aNY0jvHNVRlWFa05ZNAtXylErKKhW+jxax0YCXXYkXOBQKnDUiigS1Jz1kSCRVfJzEJ9HVI0jRsEhFiqkFj91waGRx6HhU9E0VdFRVSp5HJFKjpBw3HqPH1azQbExkY+F3N+YfBwBZUuDSPMBlO9ELBpHu2bWOHStWBs2bMD48ePxwgsv4MorrxQ/v/HGG/Hggw/in//8Z7LG1+TQphyfPwC3xy95uDvnpsHrC4i1bciLY5fH51MPAc8LO2X5fyTfIy6NQ8M5rpbHAQCdQ5E38rIOosaRTTQOWVSVhiZDjlvf4IfPr6xxRR7wrFAeQjRTldcXgNsTUHUGE7NHIMArfC5qbVrpREK1+mNqqPkU1JzjXn9Q1/0i43LV+0QhHU3joJ+Tqlr1nBYtyP2Vn4N8Jt2xKzUOotnoccYDEAsVSkxIgXCghVnmHCfFKeU+DrlGFQ7ekN4viWaj4hw3Ryhy6PYIz2h9gx8Ws/J74lgc0jyOmHwcmqYqbcEh1+71bDbJ+9lObPkrvU56HOyJQJep6ujRo5g9e7bq7wYMGIDCwsKEDqo5cVKqpVomc7g2kAvtslMVIX5WWSQHACz6627s/PGU5jnj0TjMGuG4cuc43Rub4Ey1iIKvroEIjsg+DrVwXAB4dMVn4nkWTR+O3l0yheOEXorsdBuOlFRHdY5HsumLyWTBoMJ0plZQkC5W2DhTlfReBgJBBIN8TBrHi2/sUXxGsFlMYg0mo4HD8k3fYfueYsl3omXbE0jEX4qK4JDnlIgah1XplNaTN6J1XL9E45A5x4NyjUNaJ4tgNhlht5oUJhiJxkFrgOLGRlvj+GR3MT7ZLVzX3AylmTFVNpZoUVUNXj9mLd+Ba4d1w3XDu4e+qx40kR5h40LmZAslDdObiGCQx+xVn+PiXjmYOKaP5G9MRg7Z6cQ5Hr5O3+w/jRWbv8NLD12B9m2kHS8TjS7BkZmZieLiYtXfHTt2DBkZGQkdVHNCmzZokwdBdJCX1WJwn7ZU/ZtwVBUg3aXuO3wWdqsRF3bNUpyvTYZdsqjrxWjkVJ3j8p3XFfmdUOnyoKBPbniOjnBZB6JxkFIb8l2QlgnsikGdcLy0Fn5/EFUuD46erMGvxVWi4CCCgjzg0TSOSILDaAhrHHJBZjEbkZZiQWlFuL4RHSEVrasc/Td2q0ny8odNHcK99EYwi8jJv7AtLr+4g7hDNJkMuDK/k+Q7tLnPbjVh94FS2K0mXNhVuIad2qbpyhwHgK7tnPjTyJ4YotKGNjvdjgNHz8LjCwjmMeLjoATZ7/I74eSZOgy9qK2u8wHCTr1Ow8dBNjBqZdUBoEfHdPxxRHdcNaSL4rjOVIuknwog1YRpv5qWKRUAspw2XD+iuySY5YJs5XN4/Yju6NYhXcxUJxqlVoLr6bP1KC51Ye+hMxLBoeZniWiqoqpqnzpbJ6lX5fb4cfBYJXgeEsFB8oHUjrvnYClq6rwxNU6LF12CY/To0VixYgV69OiB/Px8AILJo7i4GOvWrcOoUaOSOsimhPZxqJkviMZRHCo9EtY4QlFVskiOQJCHy+3FRd2yMe/+YQkbp8LHoWFS6pjjwLQ/DZB8JrbIrfei3hOEySgU0iNtRmm0oqq6d0zHM1OEZtQ//FKOp9d/JYmEIYIi3SFEzUR7mCM1LaJ3YfcZBAAAIABJREFUrz5/EBwHSSRO57YOHPytAl5fABazUSKE6GCHSFTXeRRCS252FGuL6dA4spw2zLlzSMTv0KYwry+A2novLunbDk/ffUnU48sxGDhMvq6v6u86t03D/iNncbLchW4d0kWNgw7eaJNhx4xxA2M6p91mRnlVuIkWHeGkVVad3Euj0YB7b+yvelxnqgVHT9aA53nRH+H2+GE0cDAaOA0fh/KecByH+2TnUOupPaBXDgb0yhF/DkcMavifQs85Hamn1YWQ9BqRt6MGpFW1T52tk2w2tbr8uT1+2G1mVcFxotQFjgM65CRX2wB0+jhmzpyJDh06YNKkSRg2TFj8ZsyYgTFjxsBut+ORRx5J6iCbEtrGKu/PAAAd2qTCwAkaBxDeNcid42T34Kr3guf126r1YjYJCUDEt6FV5FANOkS13hMA6bFtt5qUCYAq5aIVx1PZ1RNBkWozR+wLTlALhyXIfRxmo9TB2Sk3DUEeOBXK6KdNjDaLKSRMtH0cPM+L4bs08kAHr47KuLFAbzJIpB7JFUokYv5RaLPj8fGwhUrkNIYUq0nSw4WuXqDlHFdbXOWkO6zwB4LSkjWhcGaL2QifxFQlTWBNBNGq48p72YcLgSrHYDIakGo3q4aDk3ctQ6VzKKlzphZdlmI1hbRjg+S5PlFWi5zMFDHxMZnoOoPD4cCmTZvwwQcfYOfOnaisrERaWhruvvtu/OlPf2o1obgA1UyGMlXR/RDMJiPaZaeKGoeyJah0lxo2m+i3HeshXAsoCKPBqFnkUA3aHFfvCaJ9m3AjHbmJwC8Lf1VDbfdDlxG320wJ9XHIX1DiGC4uq0XX9k5FX490h3qPB0KDNwCfP6i4R2GNQBh7pPIW8UAfn1QjiMdsGQ1iXiWVnb0+XtWJHit0yLEjxSL1ccid4yHNQ085E/p5ovNF7FYT/AFet8YRL0Tj0HJWywWH2M5YYwxaPUbq5YKD1jhC74sQfBIMVWrgxesgFlAMbbhcbh8qaz0ouDAXTYGup+f555/HzTffjLFjx2Ls2LHJHlOzQkcdaS1mndumYdf+06h2eRTtKOW7VK3mRI2F3tFZzEbNWjlqkLFU1DTA4+PFn+1WE8oqpL0Q9LyYapEwtEDV6gtOI2/bShP2cQRVnZB0Fzz6WHSIaYlKHxX5uTVNVT6pjyPW/ila0McnizoRgomEDugAhCKHZLFqDHShQ0eKRWKqMslbx4bCVaPV+AKkgoMEbdQ3+JGTYUeD1y/ROCL5OOJF1Dg0oqqISba2XqiBpuUHJDhTLSirqJeY3gCqjw/pHEprHJLwcg+y0+1iiDtdY4y0vCV+HBIkkWx0Xe333nsPNTU1yR5Li8GZakWNy6O56NOlRxSd3WRVT2PJAI4FsSeHX2oKUOu9LEfeKpTstFNsQpSPavHECC8miYRR6+thD6nVan3BadTMgoTwIsSrdiMkLwsxH9bUecFxEPuNOFMsQtRKFJu1pqlK5uNI1CJFV98lZqRkaBxt0u2wWYyiVuPx8ZJmRvEiL3RIPytqpiqzSZ9pTK7B8jwPd4NPDF6QaBwxmMD0Ei1zPDwuwRStFbJOSE+1SsoYEYjGkRlB46DPJ/atp0KZSagxefaTYepUQ9fV7tOnD/bt25fssbQYnKkW1DX4UVmr7rAN73BrlQmAsl2qWmRWIjBr2JAjLfAE4pMgCwmtcQBaZSQiH1duDqKT3rT6gtNEjKqizHJ+lW6EORl2WMxGcfGtqfPAYbeINnyxXpWGg1zr3GTnSaKqyLWwJkrjoKK2TpTVIstpRaq98Qu6HIOBQ8dcB06Wu+DzB+EP8Kphu7EiLztCh0oryqr71RPk1JCX6fD4Qpn3NpPQ616SkJkEU5VOHwf5d7QxyMv8EMIahzBfuo+PWkKrvNYWLWCLk7jxUEPX0zN8+HCsWrUKn332Gfr06YOUlBTJ7zmOw8yZM5MywOaA3BCyI09LkZuqwjZ1N7VAAspdarVK1dVEINqQA/E7x+U9pskc6hv84pz1OjXlkTD0Q06XvdBadEnUSZqqxhGeq88fVCyuBgOHTlRGP53tT8+vps6DnEy74vhanQcNBg4WKru7MZn+apBrUVPnQVmlGxf3bJOQ46rROTcNh09U49gpwXKQSB8H2Tz5KR+QvKw6MVXpQa5x0Dttd4NfsgGJVHIkXizRoqok/Xq8yDSEiiNGMFWR73agbjFJWk1XcY5LElpJeSBZdV/6uORdbipTla6nZ9WqVQCEUDa1cLbWKjhOnXEhxWZS7CQ6ibkcLrE7XTSNI5k+DkDZ7yAS9PyAsDakVjBQ747OmWqFzx8MFfMzSwrKafUFp6l2eZBqN6uO3yRpHRtQHUuntg4cOVmNssp61NZ5xaJ/9Hy1OrFpdR4EpGXyybVIWFRVaJNxuKRamEMSzQzEz/FLcSUAabmReAn7OIR77SN+NpNR4Rz3BXhFcqoW8vpO9CaEdLQMBIIwhtoiA+H+LIkgNo3DA0doIxNV41BJarRZjOLa4ZHlcdDnoD8TS6RQmnRxWa0k/DzZ6Hp6Dh48mOxxtCiIacMf4NEmQ3kjUu1mZDmtOFFai7ZZgvPOZlUPx42lr0IsyDNzAxE6ockhDxfRVshOW61bnB4fB31MEgkj0Tg0Sp/TqIXDEsRKqxpRVUBYmB/8rQJBWfizM0ppda0GUgBgs1IaRyOqGatBNhmHTwiCI5m7RXJ9fjkuCI5EmKqUPg5a45A/n/pKtQBKjYPeaYtJk/4g7EZDxOq48WI0cDAZOU2NQ26qysmIHLKe7lA3VdU3CCHGak291ExV9bLQf3KdzlS7UXq2Dn26ZeucYeOJ+WofPnwY33//PY4fP56M8bQI6EVHqzppp9w0lFW6UVHTIImJV4TjxtBXIRZEjUPmHNcTm282GWWtOyP4OGIwVQFqL7tJ9bg0JI9Cyw8kLkJ+Hv4Ar6qVEPPh/qMVAKR+KS0bMyGSVmg1G+GVO8cT7OMgvcKTqXF0Dh2bCI5EmKrk7WOlJUeUPjh5W2Mt5D4OucYBhO9FMqKqhOOpt0bmeV5SDqWmzhs1MEVeOJVAQmvVaqLRzvFqmY9DXpTx4LFKBPmmc4wDMZRV//DDD7F48WKUl5eLn+Xm5uKxxx7D9ddfn5TBNRf0AqJmcweEm7T30BmcPOMSnVuAsutYTZ0HFrMx4Uk5mqYqnS+QM9UiLu5EG0qxKjUDvS+mwi4dqqljNhk1+4IT6hr8CAR5TT8QCcclWpzaWEiuwv4jZyXjkYxNwzmu1XkQEBb3s9VuAHQCYKKiqkgRPuFZSabG0b6NUFaf2ML1lIaPhnxDQCcAkg2MPw7nuMNuhoGjSv9TZk+yMSPn0qsRx4rcCU9we/zwB4Rw5qpaD6pdtHNcfUMhb2VAqG/wC60a9GocMuc40WTIM99UjnFAp+D47LPP8Oijj2LAgAGYOnUqcnJyUFpaiq1bt+KJJ55ARkYGRowYkeyxNhlqi44c8pLzsj4L8t2D3FGbKLSc43rDEukYcFHjiNKcJxLhTnuhBlENfrGInlZfcEIkHwMQ3smRa6omODrkCBn98kgxAFFLq9fUeWHgINqqaaxmoQAdz/OiqSphGodZ2huc1EpKBmaTAe2zU1BSXieer7HQwRSAtOQIx3GSsjg+DU1RDYOBQxqVNKeqcfilfqdEhuMKc1DXOMiYOuemoarWE6qiHSWqSqWyQiAQhNcXQIrVpAjhB2RFO0MbG7fCOS68c8WlycsB0kLX07NmzRqMHDlS0Xfj9ttvx7Rp07B+/fpWJThoM4dWxjetFtIx8YoEwDpvUlRILVNVrCGP9L+jNeeJfDx5JIxPFBhafcEJkXwMQNjH4Y6gcZhNRrTNThXLjqjNL5LgSEu1qGY1W81G8LxwHXwJ1jjIswIIz5Oe5LjG0Ck3TRQc8kq98SDXOOTaqdnESU1VMSzuzlQLqmqlO21ScgQIJ+dp9fpuLBZZDxMCeYY65Trw4+EzoXDcyPk9as8fLQyNBg5mk0EiOMK/N2prHIr8sqbTOHTdyZ9++gnjx49X/d348eNx4MCBhA6quYlF4wCkjkayqHi8ATR4he5vzpQkaBxUGQ4g7ByPxVQFAFYzF27DalMu8HprAcnVcbfHL16XaM7xaH4gcm7SbVErgqazrHQ8IS1FEOxaPTlIl0c16I1AwjPHKcHRFGGU9DkS6uMIPS/y3T9pbxwM1XKKTXBY4XILmdl0Mil5VsnGzK/R67uxWMyRNY6cTDssJgOq67xRIxpTbYJwkFRWkFXVljf1qvf4YLUYkeGwKTQvct1pM7rVYkROhjLUPFnouuLp6emor69X/V1dXR2MCQyFawnoERxZTpv48tEvIcdxoQY9ftTWheK0E1ynCgjvbsLhjvqd4wCVu2ENPwJqbVj1JwCGd1V0TR3hHJGd49FMVWRODR5SE0h9jrRmRx/LaDQgLcWsqnGQ6sVa/hWxJ4c3QPWIT2zJEfnYkwV9jmRoHHJ/gzFkqgoEIzuP1XCmWsTMbDqZ1KLi40iO4DBISpsQ6CrOTodVcI5HeUfkzdMAuqp2OBrTI0sATAmVT6+p8witmGVRVSajAamh+9gxx5FwrSsSuq54QUEB1q5dqyg7UlNTg7Vr12Lw4MFJGVxzQUpoANoZ3xzHiS+i/CUku4dIZTQaC3EY+2Vlq/W+RGKZEWt48aLzLQixO8c9Yo9tcjw1gUSjVkySRtQ4RFOVhsZB2Xjlwlqr0Fy06sU2K6VxhMwjCUsAlJiqzj2NgwR8iAmAsmeQdKmMx4FNmz5ps47Y694X9nEksjIugfg45GVy6CrOzlQLanX4OMj3pUVAlRUnPD5pNWC71YS0VAv8AWEjJs8cB8LvTFNGVAE6fRyzZs3CzTffjP/6r//CiBEj0KZNG5w5cwaff/45AoEAli5dqutkwWAQzz33HH7++WdYLBYsWLAAXbt2BQCUl5dj1qxZ4nd/+uknPProoxg7dizmzJmDkpISGAwGzJ8/Hz169IhjqrHhTLWE2sZqawud26bh1+IqxUtoC+0ekpX8B4RfQkWjnBizc9U0DjqiQ29iYarNDIOBQ7VLukOk/68VVRXtOpG6XOTF0XpBO7VVN1UJP1tx6mw9gkFesjOLdm46vDrReRw2iamqqTWOxkdVGQycpIeLPBnPbDTA6w/EVICTICn9T0VVyZPzfMkyVYnBJ9KimvJeL0dKAmINqsiCw4pjp2tFX49axQm69Lrb40ebdBuVA+KVhLiHj2vBqTN1TZYxTtAlODp37oxNmzZh1apV+Prrr1FdXY309HQMHz4c06dP172Q//vf/4bX68XmzZvx/fffY/HixVi7di0AICcnBxs3bgQAfPfdd1i2bBnGjRuHTz/9FH6/H5s2bcKXX36J5cuXN0mrWmeq0FUuUuJeWOOQvoRWizHUCCqkcSTDVCXmNkjLVuvNzlUTHGKUjMxUpcf5aDBwcKZYFDtE4bjKvuDVLg9+OylosL+FymBE83G4SVSVxhzJrt1sMkgWZXLsYFBQ9x2Uzyla2Xs6oVN0jifIx2EyGmDgBO2VVIFNJik2M7KcNlTUNCTEVAVA0sNFvvM2mTjUe4IxB24AUtMnvTuXFyD0+4MJmwsN3XdcTXCkO6xijhcJ144oOBzhhk6ZTpv4LtDtGEitqkAgCI83ALvVLG5cSSVuoZ97eDzknWmRGgcA9OjRA8uWLRN/9vl8MBgMMfk3ioqKxOirgQMHqhZO5Hke8+fPx0svvQSj0Yhu3bohEAggGAzC5XLBZEp+kxJA6Ih2uKQaGREW/QvaOwEoo4FImYqkahykiFzIfuz1BcQOaXpoE2rp6kwJ3z+bxQiOk5qqPN6A7oUyLdWCqlrpDhFQ12Tmvfo1fjleJf5s4KB5reXOcS2Th8NuRpsMO0xGThGhRBaiylqPRHBU1UY2J0o0jgRXx+U4Do4UC7KctqSYW9S4oIMTVbUNCdE4AGkPF7lJijjHw9pwbD4OQGqqoqOqvD7ax5F4HyudaEjXRqMrKRNhUFEjtAyIdA+JybvK5UGm06Zox2CzmIQS7YGgKEBSbNIWsfWU35BA3uOu7ZyNmG3s6F6FV69ejT179uB//ud/AADffvstHnroITzwwAO46667dB3D5XLB4QhLRqPRCL/fLxEG27dvR69evdC9e3cAQEpKCkpKSjBmzBhUVlZi3bp1us6lVlMrlu8PvoBHj+xsHDywV/uPeB43XZaJHEul5O+9HjcavAEcPHQMAHD6xG8o8p2KaTzROH5cCFY4cvQYisxncby0GumpRt3z5nkeYy/PQre2VsnfWEwczlTUoKioCEGeR0l5LbIcJl3HNfAe1NZ78d1eIcqu8mwZioqKwPM8DAag/Gw1ioqKEAjyOHSiChmpRgzqLuy0c9JN+Gm/+rVuCC0SRCCVl55GUZF6sMaNQwWtQz7eQIOg1Xz29Q+4sJNd/M43+4XP66pOoaioCnLKQjHyBw7+grJQqO+B/fskmlpj+NNl6bCauZif13i5vCeHi9q1wYF9PyTkeEG/B3VuH4qKinC2QshK37f3B5hNHDwNbnh8AXy/90cAQFVVhe55lp4UFuOffj2K8rMNMBqAvT98j5Ji4b4fOnwE6VwZPF4/PB53TNdPz3dra4Rnoei7H5DpCK9PJ8sqwHHAwQN74aoSno1jJUJS9NGjh2Fwl6gez+8Wvvv5rr2o6JKCnw8JP58qOY4iQznc9cLPu74pEp93d10NKs8Igmrv/l9QXVsPIycd/4Vt/XCOyEbZiV9QdiIxc9eDLsHxyiuvYPXq1bjjjjvEz7p06YLrr78eS5YsQWpqKsaNGxf1OA6HA3V1deLPwWBQoUFs2bIFkyZNEn9+7bXXMHz4cDz66KM4deoU7rzzTmzduhVWa2TzT0FBgZ6pARAuZizfpxmiEhewpWgnjpeXwWzPAFCLIfn90CXBOwKv5RTwxTdo36ETeuZ1gttzAv175MY0j8GDlXNP23YGnNGAgoIClFXWw+cvQa+uObqO+6993+BY2SmkZ3cCcAY9u3dBQUFPAEDqB2UwmK0oKChASbkLwWAJ8vt0wMzb8qMe1+MLAP97UjTHde3SCQUFvVS/qzVKn/UUPvnhG1jT2qKgoJc47//8XASgBiOHDUL7NkpzUZnnKP713V506nwBfikrBtCAIYMHJawSQHxPXeNozPMuJ2f3lzhZcQYDBg7Cu7t2AvBg6JACGAwc0r/6HKVVlbjwwj7A1tNo1zYXBQUDdB03PbcKb/5nBxzpbWA4XY4Um/BON5hPAjsr0L5DZxQUdEdgUwkynGm656N37juPfI8fjh5D3oUXSfwHL3/8CdJTOQwZPBhnvEfx6Y974QmYAHjRt8+F6NtdvV4Un1KKf333NcypuSgoyMOvFT8DqEa/i3pjYO9cbD+wBz+XlKBP3/4hDe40OnbIxcV5udiy6xtktumAQLAW2Vkpcd87PXPXK1h0bZv+93//Fw8//DCeeuop8bP27dvj6aefxrRp0/D666/rOll+fj4+++wzAMD333+P3r17K76zb98+5OeHFxOn04m0NOHGpaenw+/3IxBQLz7WUiB28fJKwfaZ6JLqABWOGwhSJZUbb+e020yiTTnWUs1knqUVyuxku80sHrc4xm5lJpn5LR5TUbj5Vq3k8xNlLphNBuRmpaj9WTir1xegEgBbV/h5Y6BDcuXJeCajAQGqD0ss2d0SU1WDTzR70lFVkXp9NxZ52C+hps4j5k84RR+HoB1FGof8+ZOXSKcrTtBl5Om6XW4VU1VzoeuKnz59GhdffLHq7wYNGoTi4mJdJxs9ejQsFgtuvfVWLFq0CE8++SS2bt2KzZs3AwAqKirgcEgzaCdPnoz9+/djwoQJuPPOOzFz5kxFP5CWhig4qgS1miSgJRK6+mgi+1WnWMOVbcV2lDqPS1720lApE1KjSvh3OPpGFBw6HXpyx3w8C0W77FSYjJzY7AkQzHUlZbXomOPQ9A3RL7TXHxAc2k0YL9/SocuOyCOc5KVi4omqIj4OsmASoU13qkx0nSrhPFInPCA4rV1unzg28n+fjojG3MwUSbMxeQAJXa9KzBC3mUQ/SnmlOxTinvi1JB50ia927dqhqKgIl112meJ3e/fuRZs2+hrQGAwGzJs3T/IZHZGVlZWFDz74QPL71NRUrFixQtfxWwrkIThT5UZaill3pFMs0CVHiGbQKREah9UklNfwB1Ec43GJA/A00TioaBch+sYHnuep8eoTSELdIy6usE6CyWhA+zapKC6rFWPzz1Y3wO0JoGMEAUbuJYmqsiQoh6O1INU4pDkVZEEni6QxBue4zSo4wqtdnlCPF+E8JIfG5w8krU4VAEVpEwBwuX3g+XAwjDziMtKGRt5sTB5AQkfvhTUOs/KdaiEah65R3HDDDVi3bh2sVit+//vfIzs7G5WVlfj3v/+NtWvX4p577kn2OM8pyEPgD/BJa6xiokxVxWWJ0zjsVBLgibJacBzQIUef4CBzJcUTpaYqE4K8sKM6UVYLk5FDOw3zkBpCFnLjopo65aahuNQltgQu1qFRSUuOBJiZSgZddsTvl2sc4fI7QOwLvDPVIu60FRqHLyhm8idD45AXUwSUVZTl73a057JTrtBsrLzKra1xeANwe8IZ4imh/CjyTiUj9DgedI3i/vvvx5EjR7BkyRJJsh/P8/jDH/6AqVOnJm2A5yJ0KYlk+DcAiJ0H/QFhB5+ZZlWt7hordJvXE6Uu5Gam6O6xLS/mRj/kdMn24lIX2rdxxKSJmQwcSHpUvOGXndumYeePp0SBocc3JE0ADCYsa7y1INE4FKYqacZ/rAu8kGAnNLkiJhozlceRjH7jBHnYL6BMFpW3lI4qOEIadnFprejjIEEWtC+NTvQj+VFVIaF1TmkcRqMRL730EqZOnYo9e/agsrISaWlpGDx4MPLy8pI9xnMOupREsjWOOrcP5ZX16N8jMf2qyWJfXulGlcuDwX3a6v5buepOP+TkxS8pc8Ht8cfsyKeFTPwaR8hBWVqLdnbo0tQkGocvINYGYgjQGwKfPyi5PsTHIebfxKhx0OV+6EQ5QDAhiSVOkmGqkpU2Aajkv9C4TEYDHHYzXG6f+HMkyDN/oswFd4PgtyH+MolzXKaNOB1hwZGIzo2JIKZR9OjRQ/RJeDweVFUp494Z0j4LSRMcoZfy2Oka8Ans/kUeVtIpLpbjyucqMVXJjqvX4U6gk8fiTZbrTPWKb9cVOFHqCpnitLO2bVSvBJ8vAHMSqgCcy9A9XBQ+DlnGf6z3jdbWyfNDm5CSqXGES5tQpiqVhF5nqkUUHNFNVeT5q1VESNGarby0CH2+RPSKTwS6rrjP58Py5cvx/vvvAwC+/PJLDBs2DFdeeSXuuOMOJkBk2JpC4wi9hMdOJ86/AYQ1g1+KieDQf1z5XCWmqtC/w8dteo2DOMGJpnGirBY5mSkRczLoaBevnznH5dhlGofEVGWSZfzH4BwHpBos2WnTYbLJ6v4nnIcIKNpUpewUST/z0Z7LDm3CzcbqPT7J+0FrtvJabxLBYW0ZUVW6rnhhYSFefvllMXlv0aJFyM7OFosP6i1yeL4gNVUlZ4cq772cqCJ5Yc2gKubj2izhkhDymjry4+qNqCIQnw4Qv+CwW01ok2FHcakLbm8QlbWeqCHBYrSLx5+08hbnMnQPF3lBwLCPIz6NI11lp03344i162UsmE0RfBwOWuMIv9/R5mcxG9E2K1ViqiKETVV+RTmSdOocLcVUpeuKf/jhh5g1axZuv/12HDp0CIcOHcIDDzyAO++8E4888gi2b9+e7HGeU9DO5GS0jQXCZdUJidM4hAfzTJU7ruOS+cqjPxTH1RmpRaBDORuzw+yc60BFTQNKzoZagEYRYEQQEnOE3kCB8wWyuLkafIpkvEQ4x8PnCTnHTWEfR7hVbeLvSbi3OeXjUGk4Rp53k9Ggq4Njp7YO1NR54ZUVZ5SYqmQFEM9ZU1VpaSkGDBBKBfznP/8Bx3FiscL27dujtrY20p+fdzSlcxwQXt7s9MT0q6Z3QekOS8zjF/uXy3ZG9M85mXbYYtw50bu5xuwwiaZz8AQRjJEFGGnr6QoV8kuGPf1chixuZDdukggOWQOuRvg4yE7baBByepLu4yCmqghRVfS/zRrNxeTQvj36nbBRpiriHCcmVKkAPYcER5s2bXDihFBBa/v27ejZsydycnIACKVD2rVrl7wRnoNIw3GT6xwHEtuvmt4FxaPFkDa5So0jbJuN1TEOSOfbmIWCmKbCgiP6WKxmI2rrhV1gokqqtxbIQkZ242YVAS9qHHHkcYjnoZ4ns8koRFXF2IMmFkhUlUTjqPPAajFKfGJOMcJK33Oh1RPFSgVh1Df4YbcaxYgrui1DS8nj0HXFr7jiCixatAhTpkzBt99+iz/+8Y8AgMWLF6OwsBDXXnttUgd5rkFrHMloGwtIX9BE1uKny4TEc1yxs6CsNAK9U4rnuLRzvDGmKiIoXO6g7rHYLEamcWhA7jNxHJtUnOPuBDjH6efHYjY0XR4H5RyvrlP2pidakd4xaHVhpIMw5BFXTklYcstwjusSX3PnzgXP89izZw9uv/12sYz6N998g/Hjx2P69OlJHeS5htqOJNEYDBw4DuB5/cUC9UDv7OI5rpapSqLJxHFcUwKiqoRzS/uS6xHsVosRwVAHUaZxSCE9XIgZh743xA8XT60qQL5g0oJDaOtKtIHkhOOq53HINxpEuOkdg1bfd3mRQ7oHSEs0VekahcViUdSYAoB33303YSaS1oRVjCziknajhfpNBvj8wYT2q6ajNuIxKYU7C2r7OPQWN6ShixA2xhma4bCKSVt6BSOdl5OotrGtBY4TnnFRcEg0w5CPI07nOJ2ZTe+0LSYD6hv8ih7niSRc2kQQHA1ePzzegCTCCaBNVfrG4EixICPNiqpaj6rG0eAVwnFzMu3SGvv3AAAdYUlEQVSKcwAtR3DEfMWDwSCuuuoq/Prrr0xoaEB2D85Ua1KvEVH9E2mqaqxJidhj5dEf0uM2TuOI1eRBw3GcOC+986NNj8xUpcRuNYVDbk1KH0e0lr9akMxscg7xuCaicSTPx2GW5XFodfNMj9FUBYQ3ZCkq4bj1Hh+8voCqqcpsMrSY5y/mUfA8j5KSEni93mSMp1VAdg/JMlMRTEYDjAZOtQFRvFgtRhg44f9tMuzR/0BGNFNVWoo5rhBlozExGgcQNsHpFWB0sAMzVSlJkTiuVcJx4yw5Aqg/TxazAV5fkn0cVNgvoC046EVdL8Rcaqe0KPIuk1bG9DW1WUywWowtxjEOxCE4GNGxmI3ITLOiSwJ9D2rkZKagd5fMhO64OE4QRHldMuPqOyFEeAlZsjRmkyCI8rpmxaWFkTkaYuirrkVe1ywAwIVdM3V9n9Y4mOBQQgdUmFWCGBriKKtO6NIuDTmZdsnCbDYZ4fMHww2ikuocF7Ql0lc8I01qqkqxmZDusCAzTX84fJ8LhOevfbb0HbFZjGLlZvnGq3PbNMX3m5OWI8JaEQYDhxWPXpn0ZLH59w9DMixh/+/BEXH3EOnazokNT/4XclS0laWPXBF3WXIiLBKxSIwe2gVcw2lcGHqBoyERHC3EVNCSkJuRCCTb39sIk9Ijt+YruvBZZNFayRAcJqMQfELOTRowyVsMcByH5TOvjMn3cGV+J+R1yVQcy2oxoqKGaBzS6Knn770sKe96vMQsODiOw5AhQ5Ca2nKkX0sklh1IvCTLFNbYEOJ2GjujxlwTsugkQrsyGDhkp+l/9OkNgJlpHApof5bJxKn+G4hvgU9VaRVAtIF6sbhg4u8Jx3GCLyXkHCctX9UCO2I16XIcp9rjRgjCUNc4km32jpWYBYfBYMDGjRuTMRYGQxNi5mgO5yDTOCIj0TioRDi5kE+USZU8A3UNpJx5crbiFpMhrHGUuWAwcGjfJnGBKHLo56wl+TPUYG8B45yALDrNIjho5zgrcqggmnNc6+d4ETWOBmKqSs49sZgN8PgC4HkexaW1aJ+dktTnj37OWkrYrRZMcDDOCUTBkYTQy2hYqYRO1gFQidTHoZ3hnyjNgAgOonEkazEXSpsEUO3ywuX2JTRfSo1zSePQHN2jjz4a04GWLFnS6MEwGFo0q6mKaRwRoR25EsFhSJLGETpHWONIzjNhMRtQ7fFTnSKTZ6YCpIKjpfTd0EJTcPh8PvzrX/+C3W5HZmbksEWWCMhINmQRSkbTnmjYrLRznGkccmiNw6SSOR7+ObE+jvoGfS1b4z+PET5/gOpNn2SNg9qgtJS+G1pojm7lypWYP38+3nvvPbz88stiy1gGozkQNY7mMFVRLzTrx6FEr4+jsfk3BNFUpbNla7xYzUZ4fUGcKA1FVCVbcNAaRws3VUW84nPnzkVeXh7mz5/fVONhMFQJO8ebfuFmJUcio+njkPUfT5RlwtxEpiqzyYBAkMex0zUAgI4xNh+LlVbjHDcYDJg7dy6OHz+OX375panGxGAoaDE+DqZxKNDSOKRCJHHmbHIPAqGSxcnzcQjnOVJSjSynTTWnJJHQQRjnrHOc0L9/f9YaltHsiD6OZomqYhpHJOiSI/T9odsbJ/K+yXNpkufjEI5bW+/DxT3Tk3IOmlajcTAYLQUjy+Nosdi1fBySLPIECg4znWTIJS04h77XyfZvAOENCsdJe/q0RDTv5ooVK1BaWtqUY2EwNDE1a+a4tDIrQ0qKRq0qszFZGkfTaID0vY6nh0yskL7jNosprgKjTYnmVV+3bp1EcPA8jyeffBInT55skoExGDTNqXHYJKYqpnHI0eMcT2Q0HB0SrbfXd1znoeaS7OQ/IKzZtnT/BhBBcPA8L/k5GAzi/fffR2VlZdIHxWDIMYV2YM3i4zCHTQjJqot0LkN6uADyPA7tnI7G0HQaR/g8dMvhZEFMVee04FBDLkwYjKaiWX0coRfaYjayZFcVSPtYQN5znKP+nSSNowkER4rNhCxn8qtdkw1KS3eMA03cjyMYDOK5557Dzz//DIvFggULFqBr164AgPLycsyaNUv87k8//YRHH30Ut912G9avX4/t27fD5/Phtttuwy233NKUw2a0AJrTx0EWEFYZVxu7zYy6Br/k/nAcB5ORgz/AJ9Y5rtKeNhmQ8wjNyZK/YRA1jhZebgRoYsHx73//G16vF5s3b8b333+PxYsXY+3atQCAnJwcsVz7d999h2XLlmHcuHHYtWsXvvvuO7z11ltwu934y1/+0pRDZrQQxH4czbB4m4wGmIwc829EQE3jAIRr5w8EErrA0yakZG4kyP1uCv8GQPpxtPyscSDORk7xUlRUhBEjRgAABg4ciH379im+w/M85s+fj5deeglGoxFffPEFevfujenTp8PlcuGJJ56I+/yMc5fmLKsOCGYEFlGlDbHLqwkOIJBQ35RWkmGiIfc72cUNCUTjOOdNVffddx9MJulXpkyZAqMskoHjOHz++edRT+ZyueBwhG+C0WiE3++XnGP79u3o1asXunfvDgCorKzEyZMnsW7dOpw4cQJTp07FRx99FFWAFRUVRR1PY77fmjgX5l5V40OK1YBgfTmKilwJOWYs826faYLdwp8T10oPiZ5HdooP7TLN+OH77yTvJs8LHfTq62oTds6qOr/474aG+qS964E6L1JtBqTwZ5vkvjd4g0izG2DnEnet5CTquJqC46abbkrICWgcDgfq6urEn4PBoEIwbdmyBZMmTRJ/zsjIQPfu3WGxWNC9e3dYrVZUVFQgOzs74rkKCgp0j6uoqCim77cmzqW5j76ST5itOdZ55+cLgSGtwTmejHteUCBYC+TXx77tDOoaGpCZmZGwc1bVeoAPPgIAZKY7k/auFwC44ep4Rhg/wy5N3DMuR8/c9QoWTcGxaNGi2Ealg/z8fHz66ae49tpr8f3336N3796K7+zbtw/5+fnizwUFBXj99ddx1113oaysDG63GxkZGQkfG6Pl05yLdmsQGMlG7RoRn1QiTUq0ybC1lYA5V56zJjWmjR49Gl9++SVuvfVW8DyPF154AVu3bkV9fT3Gjx+PiooKOBzSCIaRI0di9+7dGDt2LHiexzPPPKMwlTEYjJaJGNSQUB8Hqx3W3DSp4DAYDJg3b57kM7rPR1ZWFj744APF3zGHOINxbhIWHInbSQv1qQCeZ5n8zQUT1wwGI2kQU1UiNQ6OC4dGs0z+5oEJDgaDkTSSVSrGIvpOmMbRHDDBwWAwkoaocSTYF0Ec5MzH0Tywq85gMJJGMpzjQFjTYIKjeWBXncFgJI1kOMeBcNmR5qiWzGCCg8FgJBGiESS6GCEzVTUv7KozGIykQUqrGxPuHGemquaEXXUGg5E0khGOC1CaDBMczQK76gwGI2mYxXL4zMfRmmBXncFgJA2xHD7TOFoV7KozGIykkSxTFfNxNC/sqjMYjKSRNOc4iapiBU+bBSY4GAxG0kheOG7Ix8E0jmaBXXUGg5E0TElyjjMfR/PCrjqDwUgaRHAk3lQV8nGwqKpmoeV3RWcwGOcsQy5qi1+OVyKvS2ZCj3tJ33Y4dqoGPTuzbqDNARMcDAYjaXTrkI6n774k4cft3SUzKcdl6IPpeQwGg8GICSY4GAwGgxETTHAwGAwGIyaY4GAwGAxGTDDBwWAwGIyYYIKDwWAwGDHBBAeDwWAwYoIJDgaDwWDEBMfzPN/cg0g0RUVFzT0EBoPBOCcpKCiI+p1WKTgYDAaDkTyYqYrBYDAYMcEEB4PBYDBiggkOBoPBYMQEExwMBoPBiAkmOBgMBoMRE0xwMBgMBiMmzivB8cMPP2DixIkAgGPHjuG2227DhAkT8OyzzyIYDAIA3n77bdx8880YN24cPv300+YcbsKg5/3TTz9hwoQJmDhxIqZMmYIzZ84AaJ3zBqRzJ2zduhXjx48Xfz4f5n727FlMnToVt99+O2699VYcP34cwPkx959++gnjxo3DbbfdhieffLLVvus+nw+PP/44JkyYgLFjx+KTTz5J3jrHnyds2LCBv+666/hbbrmF53mev//++/mvv/6a53me//Of/8z/61//4svKyvjrrruO93g8fE1Njfjvcxn5vG+//Xb+wIEDPM/z/FtvvcW/8MILrXLePK+cO8/z/P79+/lJkyaJn50vc589eza/bds2nud5fufOnfynn3563sx92rRp/H/+8x+e53l+1qxZ/CeffNIq5/7OO+/wCxYs4Hme5ysrK/nf/e53SVvnzhuNo0uXLigsLBR/3r9/P4YOHQoAuOKKK/DVV19h7969GDRoECwWC9LS0tClSxccPHiwuYacEOTzXrp0Kfr06QMACAQCsFqtrXLegHLulZWVWLp0KZ566inxs/Nl7t9++y1KS0sxefJkbN26FUOHDj1v5t6nTx9UVVWB53nU1dXBZDK1yrlfc801ePjhhwEAPM/DaDQmbZ07bwTH1VdfDZMp3GKd53lwHAcASE1NRW1tLVwuF9LS0sTvpKamwuVyNflYE4l83rm5uQCEheSNN97A5MmTW+W8AencA4EA5s6diyeffBKpqanid86HuQNASUkJnE4nXnvtNbRv3x4vv/zyeTP3Cy64AAsXLsSYMWNw9uxZXHLJJa1y7qmpqXA4HHC5XHjooYfwyCOPJG2dO28EhxyDITz1uro6OJ1OOBwO1NXVST6nL3Br4cMPP8Szzz6LDRs2ICsr67yY9/79+3Hs2DE899xzmDVrFg4dOoSFCxeeF3MHgIyMDIwaNQoAMGrUKOzbt++8mfvChQvx5ptv4qOPPsKNN96IxYsXt9q5nzp1CpMmTcINN9yA66+/Pmnr3HkrOC666CLs2rULAPDZZ59h8ODBuPjii1FUVASPx4Pa2locPnwYvXv3buaRJpYPPvgAb7zxBjZu3IjOnTsDwHkx74svvhjbtm3Dxo0bsXTpUvTs2RNz5849L+YOCIXrduzYAQDYvXs3evbsed7MPT09HQ6HA4CgcdfU1LTKuZ85cwZ33303Hn/8cYwdOxZA8tY5U/SvtE5mz56NP//5z1i6dCm6d++Oq6++GkajERMnTsSECRPA8zxmzpwJq9Xa3ENNGIFAAAsXLkT79u0xY8YMAMCQIUPw0EMPtep5RyInJ+e8mPvs2bPx9NNPY9OmTXA4HFiyZAnS09PPi7kvWLAAM2fOhMlkgtlsxvz581vlfV+3bh1qamqwZs0arFmzBgAwd+5cLFiwIOHrHKuOy2AwGIyYOG9NVQwGg8GIDyY4GAwGgxETTHAwGAwGIyaY4GAwGAxGTDDBwWA0knMtvuRcGy+j5cEEx3nAnDlzkJeXp/hvwIABGD16NBYuXIj6+vomHdOoUaMwc+bMJj0nTWFhIfLy8uDxeHT/zYkTJ5CXl4e33noLgLAAr1q1Cq+88kpCj7tr1y7k5eXhs88+030MPTQ0NGDBggXYunWr+NmcOXNw+eWXJ/Q8LZ3mfvZaA+dtHsf5RkZGBtavXy/5rKqqCjt27MDrr7+OiooKLFmypJlG1/TccsstGDFiBCwWi+6/yc3NxebNm8XESa/Xi8LCQjz44IONOq6cvn37YvPmzejRo0fcx1CjpKQEGzduxKJFi8TPpk2bpqgezGBEgwmO8wSTyYSBAwcqPr/yyitRWVmJbdu2Yd68eZI6Tq2Zdu3aoV27djH9jcViUb2GjT2uHIfDEfU8iaJLly5Nch5G64KZqhhwOp3gOE4shgYA27dvx8SJE1FQUIB+/frhqquuwsqVKxEIBMTv5OXl4c0338Tzzz+PSy+9FAMGDMCUKVNw5MgRyfGLioowYcIEDBw4EKNGjcKHH36oGEMwGMTmzZtxww03YMCAARgxYgTmzZuH2tpa8TuFhYUYNWoUduzYgRtuuAH9+/fHmDFjsGPHDhw9ehR33303BgwYgJEjR+KNN96IOGe5SWnOnDmYOHEitm7dimuvvRb9+vXD1Vdfjb///e/i39AmpRMnTuDiiy8GAKxatQp5eXmqxwWA9957D7fccgsGDRqEfv36YcyYMdi4caPm2OSmqlGjRqmaGvPy8vDee+8BADweD5YtW4ZrrrkG/fv3x6BBg3Drrbdi586d4jGvvfZaAMCTTz4p1q1SM1V9/fXXmDhxIoYMGYLBgwdj+vTpOHz4sGJ8O3fuxP33349BgwZh6NChePrppyU1kNT46quvMG7cOOTn5yM/Px+TJ0/Gt99+K/nOkSNH8OCDD2Lw4MEYOHAg7rzzTvz444+S7/A8j9deew3XXHMN+vXrh5EjR2L58uXw+XyS7+l59hixwwTHeYTf7xf/8/l8KC8vx+bNm/H3v/8dV199NVJSUgAINW2mTZuGbt26obCwEGvWrEF+fj5Wr16NDz74QHLMZcuWoaqqCv/93/+N559/Hvv27cNjjz0m/v7gwYOYPHkyjEYjli5digcffBAvvPACSktLJcd59tln8fzzz+Pyyy/HmjVrcO+992LLli2YNGmSZBE+e/Ysnn32Wdx1111YvXo1jEYjZs2ahfvuuw/Dhg3DunXr0KtXL8yfPx979+6N6focOHAAhYWFuO+++7B+/Xp06NABc+bMwc8//6z4bm5uriicxo4di82bN6sec9OmTXjqqacwbNgwrF27FitXrkTHjh2xYMECsYZQNFatWoXNmzeL/23cuBHt27dHhw4dcMUVVwAQhMFbb72Fu+66C6+++iqef/55VFZWYsaMGaitrUXfvn2xbNkyAMDUqVOxatUq1XNt2bIFd955J5xOJ1588UU899xzOHr0KMaPH4+jR49Kvjtr1iz06dMHa9aswV133YV33nlHUs5cTnFxMaZNm4YOHTpg1apVWLp0KdxuN6ZMmYKqqioAwPHjxzF+/HgcP34c8+bNw0svvYRgMIg77rgDBw4cEI+1cOFCvPjiixg9ejTWr1+PCRMm4C9/+Qtmz54tfkfvs8eIHWaqOk84c+YM+vbtq/g8JycHd9xxh1i7CgAOHTqEa6+9FvPmzRM/Gz58OD799FPs2rULN998s/h5ly5dxAUJEHblhYWFKC0tRdu2bbFhwwakpaVhw4YNsNvtAIQy17fddpv4N4cPH8bbb7+NqVOn4pFHHgEAXH755ejWrRvuuecevPvuu5gwYQIAwcE7d+5cjB49GoAgSIi2cM8994jHv/LKK/Hdd9+JWoEeXC4X/va3v4naQ7du3TBy5Ehs375d/IxgsVjEY7dr107TtHTs2DFMmjRJ4ozNz8/HJZdcgl27duGSSy6JOq6LLrpI8vMTTzyB6upqvPXWW2jTpg28Xi9qamrw1FNP4cYbbxS/Z7PZMGPGDOzfvx+XXnqpOIcuXboojgkIWt+LL76IgoICrF69Wvz8sssuw+9//3usWLECy5cvFz+/4YYbxPt12WWXYefOndi+fTvmzJmjOo8ff/wRbrcbkyZNQn5+PgCge/fu2LRpE+rq6pCRkYFVq1aB4zj89a9/RWZmJgDgd7/7Ha677josWbIEr776Ko4dO4Y33ngD06ZNw0MPPQRAeF5ycnIwe/ZsTJo0CQMHDtT17DHigwmO84SMjAwx+qe+vh6vv/46vvjiCzz22GOSxQYA7r77bgCA2+3Gb7/9huPHj+PAgQOipkJDFgACse+TKK1vvvkGw4YNE19c8jcdOnQQfyY77+uvv15yrBEjRiA7Oxu7du0SBYf8nNnZ2QAgWbjJglNTUxP5oshITU2VCAgyF7fbHdNxaMgO2OVy4ejRozh+/Dj27dsHAIprqYf169djy5YtKCwsxIUXXghAEGLk3paXl+PYsWP47bffxJages9z9OhRlJeXY/r06ZLPs7OzMWLECIWGpHbv5WZKmoEDB8Jut+OBBx7ANddcg+HDh+Pyyy/HE088IX7nq6++wuDBg5GWlga/3w8A4DhOND96vV7s3LkTPM/jqquuEr8DACNHjgTHcfjiiy8wcOBAXc8eIz6Y4DhPMJlM6N+/v/jz0KFDMXXqVMyZMwcpKSn4/e9/L/6uqqoKzz33HD7++GMEg0F07twZAwcOhNlsVuQA2Gw2yc+k/j/pbVxVVYWsrCzFeHJycsR/V1dXKz6jv0f7OQCIJbJp6MWB9tXEAn0MQDmXeCguLsZzzz2HL7/8EkajERdccAEKCgoAxJ5P8fHHH2PZsmV4+OGHRY2L8NVXX2HRokX45ZdfkJKSgp49e6J9+/YxnYeYi/TeB7V7H+lcHTp0wBtvvIH169dj69at2Lx5M2w2G66//no8/fTTsNlsqKysxCeffKKqHQNCF8fKykoAkGi+NMQUpefZY8QHExznKRzHYeHChbj22mvx5z//GYMHDxZfssceewwHDx7EunXrMGTIEHGBuOyyy2I+T2ZmJs6cOaP4vLKyEh07dgQg9EsAhN2y0+mUfK+srAw9e/aM+bwtAZ7n8cADDyAYDOJvf/sb+vXrB4vFArfbrekT0eLAgQN44okn8Ic//AFTp06V/K64uBhTp07FiBEjsGLFCnTr1g0cx2HHjh34v//7P93nyMjIACDcBzllZWXi7xtDv379UFhYCJ/Phx9++AFbtmzB5s2b0b59e0yfPh1paWkYMmQI7rvvPtW/z8zMFJ+RV155RXVMROPU8+wx4oM5x89jsrOz8fjjj4vObcLu3btx1VVXYcSIEaLQ+PHHH1FRURHz7vvyyy/HF198Idmt/vzzzzhx4oT4M7Hz04lpAPD555+joqICQ4YMiXluTQHdXU2NiooKHDp0CDfddBPy8/PF3A7SUEnvtSwrK8PUqVPRs2dPvPDCC4rf//jjj2hoaMC9996L7t27ixoXOQ/RAoxGY8TzdOvWDTk5OfjHP/6hmMfnn38u9q6Ol/fffx+XXnopKioqYDabMXjwYMybNw9OpxMnT54EIGjCv/76K/Ly8tC/f3/xv23btuGNN96A2WwWx3HmzBnJd2w2G5YsWSKay/Q8e4z4YBrHec6f/vQnvPPOO/j73/+OcePGYdCgQRgwYAA++ugjDBgwAJ06dcKBAwewdu1acBwXs71/+vTp+PjjjzF58mRMnToVDQ0NWLZsmSRBrkePHhg7diw2bNgAn8+HYcOG4ciRIygsLETv3r0VPpiWgtlsRkpKCr799lvs3r0bgwcPlvw+OzsbnTp1wqZNm9CpUydkZWVhz549eOWVV3RfS6/Xi+nTp6OhoQGzZs3Czz//LBE4WVlZ6Nu3L8xmM5YuXYp77rkHPM/jn//8J95//30AYX8T2anv3LkTPXr0wIABAyTnMhgMeOyxxzB79mxMnz4dt9xyC+rq6rB27VrwPK/wfcTKkCFD4PV6MW3aNNxzzz1ITU3FP//5T9TW1mLMmDEAgBkzZmDcuHGYMmUK7rjjDjidTnz44Yd4++238fDDD4PjOPTq1Qs33XQT5s2bh1OnTmHQoEE4ffq0qMkQM5eeZ48RH0xwnOdwHIdnnnkGY8eOxbx58/DOO+9g8eLFWLBgARYtWoRAIIDOnTtjxowZ+PXXX/HRRx/B6/Xqfvk6d+6MN998Ey+++CIef/xxOBwO3HPPPdi2bZvke/PmzUPXrl3xzjvv4K9//Suys7Pxxz/+EQ8//LDClt6SmDZtGjZs2IB7771XNUdg7dq1WLhwIZ5++mmYTCZ07doVCxYswJYtW7Bnz56oxy8rKxPDiidPnqz4/U033YTFixdj2bJlWLlyJaZPnw6n04k+ffrgb3/7G+69917s3r0bY8aMQVZWFiZOnIh3330XO3bswJdffqk43o033giHw4H169djxowZSElJwdChQ7FixYpGZ7J37NgRr776KlauXIm5c+fC7XajZ8+eWL58OYYPHw4A6NWrF9566y0sX74cc+fOhc/nQ9euXTFv3jyMHz9ePNbChQvRvXt3vPvuu1izZg0yMjJwySWX4JFHHhEDJvQ+e4zYYR0AGQwGgxETzMfBYDAYjJhggoPBYDAYMcEEB4PBYDBiggkOBoPBYMQEExwMBoPBiAkmOBgMBoMRE0xwMBgMBiMmmOBgMBgMRkz8fwVuBFb4/QPXAAAAAElFTkSuQmCC)"
      ],
      "metadata": {
        "id": "WrVvAWIcmiTb"
      }
    }
  ]
}